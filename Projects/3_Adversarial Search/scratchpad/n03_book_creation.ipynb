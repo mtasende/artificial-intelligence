{
 "cells": [
  {
   "cell_type": "code",
   "execution_count": 79,
   "metadata": {},
   "outputs": [
    {
     "name": "stdout",
     "output_type": "stream",
     "text": [
      "Populating the interactive namespace from numpy and matplotlib\n",
      "The autoreload extension is already loaded. To reload it, use:\n",
      "  %reload_ext autoreload\n"
     ]
    },
    {
     "name": "stderr",
     "output_type": "stream",
     "text": [
      "/Users/antelinvestigacionydesarrollo/anaconda3/envs/aind/lib/python3.5/site-packages/IPython/core/magics/pylab.py:160: UserWarning: pylab import has clobbered these variables: ['time']\n",
      "`%matplotlib` prevents importing * from pylab and numpy\n",
      "  \"\\n`%matplotlib` prevents importing * from pylab and numpy\"\n"
     ]
    }
   ],
   "source": [
    "import matplotlib.pyplot as plt\n",
    "import pandas as pd\n",
    "import numpy as np\n",
    "import sys\n",
    "from time import time\n",
    "\n",
    "%pylab inline\n",
    "pylab.rcParams['figure.figsize'] = (20.0, 10.0)\n",
    "\n",
    "%load_ext autoreload\n",
    "%autoreload 2\n",
    "\n",
    "sys.path.append('..')\n",
    "\n",
    "import isolation\n",
    "import sample_players\n",
    "import run_match\n",
    "import my_baseline_player as custom\n",
    "import book as b"
   ]
  },
  {
   "cell_type": "markdown",
   "metadata": {},
   "source": [
    "## I estimate 10s per game. 100 starting positions, 100 secondary starting positions, then 10000 openings. 4 threads, and symmetries that produce x4 data. If I want 12 points per opening, then that would be:"
   ]
  },
  {
   "cell_type": "code",
   "execution_count": 80,
   "metadata": {},
   "outputs": [
    {
     "name": "stdout",
     "output_type": "stream",
     "text": [
      "20.833333333333332\n"
     ]
    }
   ],
   "source": [
    "estimated_seconds = 10000 * 12 * 10/ (4 * 4)\n",
    "estimated_hours = estimated_seconds / 3600\n",
    "print(estimated_hours)"
   ]
  },
  {
   "cell_type": "markdown",
   "metadata": {},
   "source": [
    "### The plan is as follows:\n",
    " - Create a book (or load previously saved)\n",
    " - for each starting action for player 1 (100) and each starting action for player 2 (100) run 3 experiments (DETERMINISTIC BOOK FILLING).\n",
    " - Run epsilon-greedy algorithm to make a STOCHASTIC BOOK FILLING (using the opening book up to its depth [1-epsilon of the time]). Reduce epsilon exponentially to zero."
   ]
  },
  {
   "cell_type": "code",
   "execution_count": 81,
   "metadata": {
    "collapsed": true
   },
   "outputs": [],
   "source": [
    "book = b.load_latest_book(depth=4)"
   ]
  },
  {
   "cell_type": "code",
   "execution_count": 82,
   "metadata": {},
   "outputs": [
    {
     "data": {
      "text/plain": [
       "dict"
      ]
     },
     "execution_count": 82,
     "metadata": {},
     "output_type": "execute_result"
    }
   ],
   "source": [
    "type(book)"
   ]
  },
  {
   "cell_type": "code",
   "execution_count": 83,
   "metadata": {},
   "outputs": [
    {
     "data": {
      "text/plain": [
       "0"
      ]
     },
     "execution_count": 83,
     "metadata": {},
     "output_type": "execute_result"
    }
   ],
   "source": [
    "sum(abs(value) for value in book.values())"
   ]
  },
  {
   "cell_type": "code",
   "execution_count": 84,
   "metadata": {
    "collapsed": true
   },
   "outputs": [],
   "source": [
    "#book  # book -> {(state, action): counts}"
   ]
  },
  {
   "cell_type": "code",
   "execution_count": 85,
   "metadata": {},
   "outputs": [
    {
     "name": "stdout",
     "output_type": "stream",
     "text": [
      "Elapsed time: 11.986933946609497\n"
     ]
    }
   ],
   "source": [
    "agent_names = ('CustomPlayer1', 'CustomPlayer2')\n",
    "agent1 = isolation.Agent(custom.CustomPlayer, agent_names[0])\n",
    "agent2 = isolation.Agent(custom.CustomPlayer, agent_names[1])\n",
    "agents = (agent1, agent2)\n",
    "\n",
    "state = isolation.isolation.Isolation()\n",
    "time_limit = 150\n",
    "match_id = 0\n",
    "\n",
    "tic = time.time()\n",
    "winner, game_history, match_id = isolation.play((agents,\n",
    "                                                state,\n",
    "                                                time_limit,\n",
    "                                                match_id))\n",
    "toc = time.time()\n",
    "print('Elapsed time: {}'.format((toc-tic)))"
   ]
  },
  {
   "cell_type": "code",
   "execution_count": 86,
   "metadata": {},
   "outputs": [
    {
     "name": "stdout",
     "output_type": "stream",
     "text": [
      "<class 'list'>\n",
      "9801\n"
     ]
    }
   ],
   "source": [
    "root = isolation.isolation.Isolation()\n",
    "opening_states = list(b.get_full_states(root, depth=2))\n",
    "print(type(opening_states))\n",
    "print(len(opening_states))"
   ]
  },
  {
   "cell_type": "code",
   "execution_count": 87,
   "metadata": {},
   "outputs": [
    {
     "data": {
      "text/plain": [
       "99"
      ]
     },
     "execution_count": 87,
     "metadata": {},
     "output_type": "execute_result"
    }
   ],
   "source": [
    "len([s for s in opening_states if s.ply_count==1])"
   ]
  },
  {
   "cell_type": "code",
   "execution_count": 88,
   "metadata": {},
   "outputs": [
    {
     "data": {
      "text/plain": [
       "[]"
      ]
     },
     "execution_count": 88,
     "metadata": {},
     "output_type": "execute_result"
    }
   ],
   "source": [
    "[s for s in opening_states if s.ply_count==0]"
   ]
  },
  {
   "cell_type": "code",
   "execution_count": 89,
   "metadata": {},
   "outputs": [
    {
     "data": {
      "text/plain": [
       "9801"
      ]
     },
     "execution_count": 89,
     "metadata": {},
     "output_type": "execute_result"
    }
   ],
   "source": [
    "99*99"
   ]
  },
  {
   "cell_type": "code",
   "execution_count": 90,
   "metadata": {},
   "outputs": [
    {
     "data": {
      "text/plain": [
       "Isolation(board=41523161184596308896791971391072255, ply_count=2, locs=(84, 56))"
      ]
     },
     "execution_count": 90,
     "metadata": {},
     "output_type": "execute_result"
    }
   ],
   "source": [
    "opening_states[0]"
   ]
  },
  {
   "cell_type": "markdown",
   "metadata": {},
   "source": [
    "### Let's generate the corresponding matches"
   ]
  },
  {
   "cell_type": "code",
   "execution_count": 179,
   "metadata": {},
   "outputs": [
    {
     "name": "stdout",
     "output_type": "stream",
     "text": [
      "Generated 29403 matches.\n"
     ]
    }
   ],
   "source": [
    "# Constant parameteres\n",
    "time_limit = 150\n",
    "depth = 4\n",
    "full_search_depth = 2\n",
    "matches_per_opening = 3\n",
    "\n",
    "# Create the agents that will play\n",
    "agent_names = ('CustomPlayer1', 'CustomPlayer2')\n",
    "agent1 = isolation.Agent(custom.CustomPlayer, agent_names[0])\n",
    "agent2 = isolation.Agent(custom.CustomPlayer, agent_names[1])\n",
    "agents = (agent1, agent2)\n",
    "\n",
    "# Get the initial states\n",
    "root = isolation.isolation.Isolation()\n",
    "opening_states = list(b.get_full_states(root, depth=full_search_depth))\n",
    "\n",
    "# Generate the matches\n",
    "matches = [(agents, state, time_limit, match_id) \n",
    "           for match_id, state in enumerate(opening_states)]\n",
    "matches = matches * 3\n",
    "print('Generated {} matches.'.format(len(matches)))\n",
    "\n",
    "# Create or load the book\n",
    "book = b.load_latest_book(depth=depth)"
   ]
  },
  {
   "cell_type": "code",
   "execution_count": 92,
   "metadata": {},
   "outputs": [
    {
     "data": {
      "text/plain": [
       "((Agent(agent_class=<class 'my_baseline_player.CustomPlayer'>, name='CustomPlayer1'),\n",
       "  Agent(agent_class=<class 'my_baseline_player.CustomPlayer'>, name='CustomPlayer2')),\n",
       " Isolation(board=41523161184596308896791971391072255, ply_count=2, locs=(84, 56)),\n",
       " 150,\n",
       " 0)"
      ]
     },
     "execution_count": 92,
     "metadata": {},
     "output_type": "execute_result"
    }
   ],
   "source": [
    "matches[0]"
   ]
  },
  {
   "cell_type": "code",
   "execution_count": 93,
   "metadata": {
    "collapsed": true
   },
   "outputs": [],
   "source": [
    "def active_player(state):\n",
    "    return state.ply_count % 2"
   ]
  },
  {
   "cell_type": "code",
   "execution_count": 94,
   "metadata": {},
   "outputs": [
    {
     "data": {
      "text/plain": [
       "0"
      ]
     },
     "execution_count": 94,
     "metadata": {},
     "output_type": "execute_result"
    }
   ],
   "source": [
    "active_player(matches[0][1])"
   ]
  },
  {
   "cell_type": "code",
   "execution_count": 198,
   "metadata": {},
   "outputs": [
    {
     "data": {
      "text/plain": [
       "[[10, 11, 12, 13, 14, 15, 16, 17, 18, 19],\n",
       " [20, 21, 22, 23, 24, 25, 26, 27, 28, 29],\n",
       " [30, 31, 32, 33, 34, 35, 36, 37, 38, 39],\n",
       " [40, 41, 42, 43, 44]]"
      ]
     },
     "execution_count": 198,
     "metadata": {},
     "output_type": "execute_result"
    }
   ],
   "source": [
    "batch_size = 10\n",
    "x = list(range(10,45))\n",
    "batches = [x[i*batch_size:(i+1)*batch_size] \n",
    "           for i in range(len(x) // batch_size + (len(x) % batch_size != 0))]\n",
    "batches"
   ]
  },
  {
   "cell_type": "code",
   "execution_count": 181,
   "metadata": {
    "collapsed": true
   },
   "outputs": [],
   "source": [
    "l = [1,2,3,445]"
   ]
  },
  {
   "cell_type": "code",
   "execution_count": 184,
   "metadata": {},
   "outputs": [
    {
     "data": {
      "text/plain": [
       "True"
      ]
     },
     "execution_count": 184,
     "metadata": {},
     "output_type": "execute_result"
    }
   ],
   "source": [
    "isinstance(l[3], int)"
   ]
  },
  {
   "cell_type": "code",
   "execution_count": 177,
   "metadata": {},
   "outputs": [
    {
     "data": {
      "text/plain": [
       "[45, 45, 1, 2, 3, 445]"
      ]
     },
     "execution_count": 177,
     "metadata": {},
     "output_type": "execute_result"
    }
   ],
   "source": [
    "l.insert(0,45)\n",
    "l"
   ]
  },
  {
   "cell_type": "code",
   "execution_count": 192,
   "metadata": {
    "scrolled": true
   },
   "outputs": [
    {
     "name": "stdout",
     "output_type": "stream",
     "text": [
      "Results for match 0: CustomPlayer1 wins.\n",
      "[84, 56, <Action.ENE: 11>, <Action.NNE: 25>, <Action.SSW: -25>, <Action.ENE: 11>, <Action.ESE: -15>, <Action.SSE: -27>, <Action.WSW: -11>, <Action.WSW: -11>, <Action.NNE: 25>, <Action.NNE: 25>, <Action.SSE: -27>, <Action.SSE: -27>, <Action.WSW: -11>, <Action.WSW: -11>, <Action.NNW: 27>, <Action.WSW: -11>, <Action.WSW: -11>, <Action.SSW: -25>, <Action.NNE: 25>, <Action.ENE: 11>, <Action.NNE: 25>, <Action.NNW: 27>, <Action.ESE: -15>, <Action.SSW: -25>, <Action.SSW: -25>, <Action.NNW: 27>, <Action.SSW: -25>, <Action.SSW: -25>, <Action.WSW: -11>, <Action.WNW: 15>, <Action.NNE: 25>, <Action.NNE: 25>, <Action.NNE: 25>, <Action.SSE: -27>, <Action.NNE: 25>, <Action.SSE: -27>, <Action.ENE: 11>, <Action.ENE: 11>, <Action.SSE: -27>, <Action.ESE: -15>, <Action.NNE: 25>, <Action.NNW: 27>, <Action.WSW: -11>, <Action.ENE: 11>, <Action.WNW: 15>, <Action.SSW: -25>, <Action.WSW: -11>, <Action.WSW: -11>, <Action.SSW: -25>, <Action.WNW: 15>, <Action.SSW: -25>, <Action.WSW: -11>, <Action.ENE: 11>, <Action.WNW: 15>, <Action.SSW: -25>]\n",
      "State: Isolation(board=41523161203939122082683632224299007, ply_count=0, locs=(None, None)) \n",
      " Action: 84\n",
      "\n",
      "\n",
      "Got an int action: loc_sym = 82\n",
      "Got an int action: loc_sym = 32\n",
      "Got an int action: loc_sym = 30\n",
      "State: Isolation(board=41523161184596308968849565429000191, ply_count=1, locs=(84, None)) \n",
      " Action: 56\n",
      "\n",
      "\n",
      "Got an int action: loc_sym = 58\n",
      "Got an int action: loc_sym = 56\n",
      "Got an int action: loc_sym = 58\n",
      "State: Isolation(board=41523161184596308896791971391072255, ply_count=2, locs=(84, 56)) \n",
      " Action: 11\n",
      "\n",
      "\n",
      "State: Isolation(board=41523121570515051764623174619097087, ply_count=3, locs=(95, 56)) \n",
      " Action: 25\n",
      "\n",
      "\n",
      "Results for match 1: CustomPlayer2 wins.\n",
      "[18, 79, <Action.NNE: 25>, <Action.SSE: -27>, <Action.NNE: 25>, <Action.WSW: -11>, <Action.NNE: 25>, <Action.NNE: 25>, <Action.ESE: -15>, <Action.WSW: -11>, <Action.SSW: -25>, <Action.WSW: -11>, <Action.WSW: -11>, <Action.SSW: -25>, <Action.WNW: 15>, <Action.NNW: 27>, <Action.NNE: 25>, <Action.ESE: -15>, <Action.WSW: -11>, <Action.NNE: 25>, <Action.NNE: 25>, <Action.WSW: -11>, <Action.SSE: -27>, <Action.NNE: 25>, <Action.WSW: -11>, <Action.WSW: -11>, <Action.NNE: 25>, <Action.WSW: -11>, <Action.WSW: -11>, <Action.NNE: 25>, <Action.WNW: 15>, <Action.ENE: 11>, <Action.NNE: 25>, <Action.NNE: 25>, <Action.ESE: -15>, <Action.ESE: -15>, <Action.ENE: 11>, <Action.ENE: 11>, <Action.SSE: -27>, <Action.SSW: -25>, <Action.SSE: -27>, <Action.WNW: 15>, <Action.ENE: 11>, <Action.WNW: 15>, <Action.SSW: -25>, <Action.SSW: -25>, <Action.SSE: -27>, <Action.SSW: -25>, <Action.WSW: -11>, <Action.SSW: -25>, <Action.NNE: 25>, <Action.ESE: -15>, <Action.WSW: -11>, <Action.NNW: 27>, <Action.ESE: -15>, <Action.SSW: -25>, <Action.NNE: 25>, <Action.ENE: 11>, <Action.WSW: -11>, <Action.SSE: -27>, <Action.WSW: -11>, <Action.ENE: 11>, <Action.NNE: 25>, <Action.ENE: 11>, <Action.ESE: -15>, <Action.SSW: -25>, <Action.NNE: 25>]\n",
      "State: Isolation(board=41523161203939122082683632224299007, ply_count=0, locs=(None, None)) \n",
      " Action: 18\n",
      "\n",
      "\n",
      "Got an int action: loc_sym = 18\n",
      "Got an int action: loc_sym = 96\n",
      "Got an int action: loc_sym = 96\n",
      "State: Isolation(board=41523161203939122082683632224036863, ply_count=1, locs=(18, None)) \n",
      " Action: 79\n",
      "\n",
      "\n",
      "Got an int action: loc_sym = 87\n",
      "Got an int action: loc_sym = 27\n",
      "Got an int action: loc_sym = 35\n",
      "State: Isolation(board=41523161203334659172876317636683775, ply_count=2, locs=(18, 79)) \n",
      " Action: 25\n",
      "\n",
      "\n",
      "State: Isolation(board=41523161203334659172867521543661567, ply_count=3, locs=(43, 79)) \n",
      " Action: -27\n",
      "\n",
      "\n",
      "\n",
      "Results for match 2: CustomPlayer1 wins.\n",
      "[81, 29, <Action.NNE: 25>, <Action.NNE: 25>, <Action.ESE: -15>, <Action.NNE: 25>, <Action.SSW: -25>, <Action.SSE: -27>, <Action.SSW: -25>, <Action.SSW: -25>, <Action.SSW: -25>, <Action.WNW: 15>, <Action.WNW: 15>, <Action.NNE: 25>, <Action.NNE: 25>, <Action.ENE: 11>, <Action.WSW: -11>, <Action.SSW: -25>, <Action.NNE: 25>, <Action.SSW: -25>, <Action.WSW: -11>, <Action.WNW: 15>, <Action.NNE: 25>, <Action.WNW: 15>, <Action.NNE: 25>, <Action.NNE: 25>, <Action.SSE: -27>, <Action.WSW: -11>, <Action.WSW: -11>, <Action.ESE: -15>, <Action.NNE: 25>, <Action.SSE: -27>, <Action.WSW: -11>, <Action.NNE: 25>, <Action.SSW: -25>, <Action.ESE: -15>, <Action.SSE: -27>, <Action.NNE: 25>, <Action.ENE: 11>, <Action.WNW: 15>, <Action.SSW: -25>, <Action.WNW: 15>, <Action.NNW: 27>, <Action.WNW: 15>, <Action.SSW: -25>, <Action.WSW: -11>, <Action.ENE: 11>, <Action.SSW: -25>, <Action.WNW: 15>, <Action.NNW: 27>, <Action.SSE: -27>, <Action.ENE: 11>, <Action.WSW: -11>, <Action.ESE: -15>, <Action.NNE: 25>, <Action.ENE: 11>, <Action.SSE: -27>, <Action.ESE: -15>, <Action.ENE: 11>, <Action.ENE: 11>]\n",
      "State: Isolation(board=41523161203939122082683632224299007, ply_count=0, locs=(None, None)) \n",
      " Action: 81\n",
      "\n",
      "\n",
      "Got an int action: loc_sym = 85\n",
      "Got an int action: loc_sym = 29\n",
      "Got an int action: loc_sym = 33\n",
      "State: Isolation(board=41523161201521270443454373874886655, ply_count=1, locs=(81, None)) \n",
      " Action: 29\n",
      "\n",
      "\n",
      "Got an int action: loc_sym = 33\n",
      "Got an int action: loc_sym = 81\n",
      "Got an int action: loc_sym = 85\n",
      "State: Isolation(board=41523161201521270443454373338015743, ply_count=2, locs=(81, 29)) \n",
      " Action: 25\n",
      "\n",
      "\n",
      "State: Isolation(board=41442031563106663761758584332871679, ply_count=3, locs=(106, 29)) \n",
      " Action: 25\n",
      "\n",
      "\n",
      "Results for match 3: CustomPlayer2 wins.\n",
      "[108, 2, <Action.ESE: -15>, <Action.NNE: 25>, <Action.ESE: -15>, <Action.NNE: 25>, <Action.SSW: -25>, <Action.WSW: -11>, <Action.SSW: -25>, <Action.SSW: -25>, <Action.SSW: -25>, <Action.WSW: -11>, <Action.WNW: 15>, <Action.NNE: 25>, <Action.NNE: 25>, <Action.NNE: 25>, <Action.WSW: -11>, <Action.WSW: -11>, <Action.NNE: 25>, <Action.SSW: -25>, <Action.NNE: 25>, <Action.ESE: -15>, <Action.NNE: 25>, <Action.NNW: 27>, <Action.WSW: -11>, <Action.WNW: 15>, <Action.SSE: -27>, <Action.NNE: 25>, <Action.NNE: 25>, <Action.ESE: -15>, <Action.WSW: -11>, <Action.WSW: -11>, <Action.WSW: -11>, <Action.NNE: 25>, <Action.SSW: -25>, <Action.WSW: -11>, <Action.ENE: 11>, <Action.NNE: 25>, <Action.SSW: -25>, <Action.NNW: 27>, <Action.SSW: -25>, <Action.SSW: -25>, <Action.WNW: 15>, <Action.ENE: 11>, <Action.NNE: 25>, <Action.WNW: 15>, <Action.NNE: 25>, <Action.SSE: -27>, <Action.NNE: 25>, <Action.NNE: 25>, <Action.WSW: -11>, <Action.ESE: -15>, <Action.SSW: -25>, <Action.ENE: 11>, <Action.SSE: -27>, <Action.ESE: -15>, <Action.ESE: -15>, <Action.SSW: -25>, <Action.WSW: -11>, <Action.SSE: -27>, <Action.NNE: 25>, <Action.SSW: -25>, <Action.WNW: 15>, <Action.WNW: 15>, <Action.NNE: 25>, <Action.NNE: 25>, <Action.NNE: 25>, <Action.ENE: 11>, <Action.WSW: -11>, <Action.SSW: -25>, <Action.NNE: 25>]\n",
      "State: Isolation(board=41523161203939122082683632224299007, ply_count=0, locs=(None, None)) \n",
      " Action: 108\n",
      "\n",
      "\n",
      "Got an int action: loc_sym = 110\n",
      "Got an int action: loc_sym = 4\n",
      "Got an int action: loc_sym = 6\n",
      "State: Isolation(board=41198642650280695355900476203722751, ply_count=1, locs=(108, None)) \n",
      " Action: 2\n",
      "\n",
      "\n",
      "Got an int action: loc_sym = 8\n",
      "Got an int action: loc_sym = 106\n",
      "Got an int action: loc_sym = 112\n",
      "State: Isolation(board=41198642650280695355900476203722747, ply_count=2, locs=(108, 2)) \n",
      " Action: -15\n",
      "\n",
      "\n",
      "State: Isolation(board=41198632746760381072858277010728955, ply_count=3, locs=(93, 2)) \n",
      " Action: 25\n",
      "\n",
      "\n",
      "Results for match 4: CustomPlayer2 wins.\n",
      "[58, 71, <Action.NNE: 25>, <Action.ENE: 11>, <Action.NNE: 25>, <Action.NNE: 25>, <Action.ESE: -15>, <Action.SSE: -27>, <Action.SSE: -27>, <Action.SSE: -27>, <Action.SSE: -27>, <Action.SSW: -25>, <Action.WNW: 15>, <Action.SSW: -25>, <Action.SSW: -25>, <Action.WNW: 15>, <Action.WNW: 15>, <Action.NNE: 25>, <Action.WNW: 15>, <Action.NNE: 25>, <Action.ENE: 11>, <Action.SSE: -27>, <Action.NNE: 25>, <Action.WSW: -11>, <Action.WSW: -11>, <Action.ESE: -15>, <Action.SSE: -27>, <Action.WSW: -11>, <Action.SSW: -25>, <Action.NNW: 27>, <Action.ESE: -15>, <Action.SSW: -25>, <Action.ESE: -15>, <Action.WNW: 15>, <Action.NNE: 25>, <Action.NNE: 25>, <Action.NNE: 25>, <Action.SSE: -27>, <Action.WNW: 15>, <Action.WNW: 15>, <Action.NNW: 27>, <Action.ENE: 11>, <Action.SSW: -25>, <Action.SSW: -25>, <Action.NNW: 27>, <Action.WNW: 15>, <Action.WSW: -11>, <Action.NNE: 25>, <Action.NNE: 25>, <Action.SSE: -27>, <Action.WSW: -11>, <Action.WNW: 15>, <Action.SSE: -27>, <Action.NNW: 27>, <Action.NNE: 25>, <Action.NNE: 25>, <Action.WSW: -11>, <Action.SSE: -27>, <Action.NNE: 25>]\n",
      "State: Isolation(board=41523161203939122082683632224299007, ply_count=0, locs=(None, None)) \n",
      " Action: 58\n",
      "\n",
      "\n",
      "Got an int action: loc_sym = 56\n",
      "Got an int action: loc_sym = 58\n",
      "Got an int action: loc_sym = 56\n",
      "State: Isolation(board=41523161203939121794453256072587263, ply_count=1, locs=(58, None)) \n",
      " Action: 71\n",
      "\n",
      "\n",
      "Got an int action: loc_sym = 69\n",
      "Got an int action: loc_sym = 45\n",
      "Got an int action: loc_sym = 43\n",
      "State: Isolation(board=41523161203936760611211821249980415, ply_count=2, locs=(58, 71)) \n",
      " Action: 25\n",
      "\n",
      "\n",
      "State: Isolation(board=41523161194265354054294787852331007, ply_count=3, locs=(83, 71)) \n",
      " Action: 11\n",
      "\n",
      "\n"
     ]
    },
    {
     "name": "stdout",
     "output_type": "stream",
     "text": [
      "Results for match 5: CustomPlayer2 wins.\n",
      "[93, 17, <Action.SSE: -27>, <Action.NNE: 25>, <Action.SSW: -25>, <Action.ENE: 11>, <Action.NNW: 27>, <Action.NNW: 27>, <Action.SSW: -25>, <Action.WSW: -11>, <Action.SSW: -25>, <Action.SSW: -25>, <Action.NNW: 27>, <Action.SSW: -25>, <Action.NNE: 25>, <Action.ENE: 11>, <Action.WNW: 15>, <Action.NNW: 27>, <Action.ENE: 11>, <Action.WSW: -11>, <Action.ENE: 11>, <Action.WNW: 15>, <Action.SSW: -25>, <Action.ENE: 11>, <Action.ESE: -15>, <Action.NNE: 25>, <Action.NNE: 25>, <Action.ENE: 11>, <Action.WSW: -11>, <Action.SSW: -25>, <Action.SSW: -25>, <Action.SSW: -25>, <Action.SSE: -27>, <Action.SSE: -27>, <Action.ENE: 11>, <Action.ESE: -15>, <Action.SSE: -27>, <Action.ENE: 11>, <Action.WSW: -11>]\n",
      "State: Isolation(board=41523161203939122082683632224299007, ply_count=0, locs=(None, None)) \n",
      " Action: 93\n",
      "\n",
      "\n",
      "Got an int action: loc_sym = 99\n",
      "Got an int action: loc_sym = 15\n",
      "Got an int action: loc_sym = 21\n",
      "State: Isolation(board=41523151300418807799641433031305215, ply_count=1, locs=(93, None)) \n",
      " Action: 17\n",
      "\n",
      "\n",
      "Got an int action: loc_sym = 19\n",
      "Got an int action: loc_sym = 95\n",
      "Got an int action: loc_sym = 97\n",
      "State: Isolation(board=41523151300418807799641433031174143, ply_count=2, locs=(93, 17)) \n",
      " Action: -27\n",
      "\n",
      "\n",
      "State: Isolation(board=41523151300418734012665138192967679, ply_count=3, locs=(66, 17)) \n",
      " Action: 25\n",
      "\n",
      "\n",
      "Results for match 6: CustomPlayer2 wins.\n",
      "[79, 47, <Action.SSE: -27>, <Action.NNE: 25>, <Action.SSW: -25>, <Action.NNE: 25>, <Action.WSW: -11>, <Action.ESE: -15>, <Action.NNE: 25>, <Action.NNE: 25>, <Action.NNE: 25>, <Action.SSE: -27>, <Action.WSW: -11>, <Action.WSW: -11>, <Action.WSW: -11>, <Action.WSW: -11>, <Action.NNW: 27>, <Action.ESE: -15>, <Action.ESE: -15>, <Action.WSW: -11>, <Action.NNE: 25>, <Action.NNW: 27>, <Action.WSW: -11>, <Action.NNE: 25>, <Action.SSW: -25>, <Action.SSE: -27>, <Action.ESE: -15>, <Action.ESE: -15>, <Action.ESE: -15>, <Action.NNE: 25>, <Action.NNE: 25>, <Action.NNW: 27>, <Action.NNE: 25>, <Action.WSW: -11>, <Action.WSW: -11>, <Action.ESE: -15>, <Action.SSW: -25>, <Action.NNW: 27>, <Action.SSW: -25>, <Action.WNW: 15>, <Action.WNW: 15>, <Action.SSW: -25>, <Action.WSW: -11>, <Action.SSW: -25>, <Action.NNE: 25>, <Action.SSW: -25>, <Action.SSE: -27>, <Action.ENE: 11>, <Action.WNW: 15>, <Action.WNW: 15>, <Action.NNW: 27>, <Action.SSE: -27>, <Action.NNE: 25>, <Action.WNW: 15>, <Action.WNW: 15>, <Action.SSE: -27>, <Action.NNE: 25>, <Action.ESE: -15>, <Action.ESE: -15>, <Action.ENE: 11>, <Action.ENE: 11>]\n",
      "State: Isolation(board=41523161203939122082683632224299007, ply_count=0, locs=(None, None)) \n",
      " Action: 79\n",
      "\n",
      "\n",
      "Got an int action: loc_sym = 87\n",
      "Got an int action: loc_sym = 27\n",
      "Got an int action: loc_sym = 35\n",
      "State: Isolation(board=41523161203334659172876317636945919, ply_count=1, locs=(79, None)) \n",
      " Action: 47\n",
      "\n",
      "\n",
      "Got an int action: loc_sym = 41\n",
      "Got an int action: loc_sym = 73\n",
      "Got an int action: loc_sym = 67\n",
      "State: Isolation(board=41523161203334659172735580148590591, ply_count=2, locs=(79, 47)) \n",
      " Action: -27\n",
      "\n",
      "\n",
      "State: Isolation(board=41523161203334659168231980521220095, ply_count=3, locs=(52, 47)) \n",
      " Action: 25\n",
      "\n",
      "\n",
      "Results for match 7: CustomPlayer1 wins.\n",
      "[32, 79, <Action.NNE: 25>, <Action.SSE: -27>, <Action.NNE: 25>, <Action.SSW: -25>, <Action.NNE: 25>, <Action.SSW: -25>, <Action.ESE: -15>, <Action.WNW: 15>, <Action.SSW: -25>, <Action.NNE: 25>, <Action.SSE: -27>, <Action.WSW: -11>, <Action.WSW: -11>, <Action.NNE: 25>, <Action.WNW: 15>, <Action.WSW: -11>, <Action.WNW: 15>, <Action.NNE: 25>, <Action.NNE: 25>, <Action.SSE: -27>, <Action.ENE: 11>, <Action.SSW: -25>, <Action.ENE: 11>, <Action.WNW: 15>, <Action.SSW: -25>, <Action.WNW: 15>, <Action.WNW: 15>, <Action.NNE: 25>, <Action.SSW: -25>, <Action.SSE: -27>, <Action.WSW: -11>, <Action.SSE: -27>, <Action.NNE: 25>, <Action.ENE: 11>, <Action.SSE: -27>, <Action.ENE: 11>, <Action.NNE: 25>, <Action.SSW: -25>, <Action.NNE: 25>, <Action.WSW: -11>, <Action.WSW: -11>, <Action.WNW: 15>, <Action.WSW: -11>, <Action.WSW: -11>, <Action.SSW: -25>, <Action.NNW: 27>, <Action.ENE: 11>, <Action.ENE: 11>, <Action.WNW: 15>, <Action.NNW: 27>, <Action.ENE: 11>, <Action.SSW: -25>, <Action.ENE: 11>, <Action.ESE: -15>, <Action.ESE: -15>, <Action.SSE: -27>, <Action.ENE: 11>, <Action.WNW: 15>]\n",
      "State: Isolation(board=41523161203939122082683632224299007, ply_count=0, locs=(None, None)) \n",
      " Action: 32\n",
      "\n",
      "\n",
      "Got an int action: loc_sym = 30\n",
      "Got an int action: loc_sym = 84\n",
      "Got an int action: loc_sym = 82\n",
      "State: Isolation(board=41523161203939122082683627929331711, ply_count=1, locs=(32, None)) \n",
      " Action: 79\n",
      "\n",
      "\n",
      "Got an int action: loc_sym = 87\n",
      "Got an int action: loc_sym = 27\n",
      "Got an int action: loc_sym = 35\n",
      "State: Isolation(board=41523161203334659172876313341978623, ply_count=2, locs=(32, 79)) \n",
      " Action: 25\n",
      "\n",
      "\n",
      "State: Isolation(board=41523161203334659028761125266122751, ply_count=3, locs=(57, 79)) \n",
      " Action: -27\n",
      "\n",
      "\n",
      "Results for match 8: CustomPlayer1 wins.\n",
      "[68, 66, <Action.ESE: -15>, <Action.SSE: -27>, <Action.NNE: 25>, <Action.SSW: -25>, <Action.WSW: -11>, <Action.WSW: -11>, <Action.SSE: -27>, <Action.NNE: 25>, <Action.WSW: -11>, <Action.WSW: -11>, <Action.WSW: -11>, <Action.NNE: 25>, <Action.NNE: 25>, <Action.WSW: -11>, <Action.WSW: -11>, <Action.NNE: 25>, <Action.NNE: 25>, <Action.NNE: 25>, <Action.WSW: -11>, <Action.WSW: -11>, <Action.NNE: 25>, <Action.SSW: -25>, <Action.NNE: 25>, <Action.ESE: -15>, <Action.SSE: -27>, <Action.SSW: -25>, <Action.SSW: -25>, <Action.WNW: 15>, <Action.WSW: -11>, <Action.WSW: -11>, <Action.NNE: 25>, <Action.NNE: 25>, <Action.NNE: 25>, <Action.NNE: 25>, <Action.NNE: 25>, <Action.NNE: 25>, <Action.ESE: -15>, <Action.NNE: 25>, <Action.ENE: 11>, <Action.ESE: -15>, <Action.SSW: -25>, <Action.ENE: 11>, <Action.NNW: 27>, <Action.SSW: -25>, <Action.WSW: -11>, <Action.SSW: -25>, <Action.WNW: 15>, <Action.NNW: 27>, <Action.SSW: -25>, <Action.WNW: 15>, <Action.SSW: -25>, <Action.SSW: -25>, <Action.WSW: -11>, <Action.WSW: -11>, <Action.SSE: -27>, <Action.NNE: 25>, <Action.NNE: 25>, <Action.WSW: -11>, <Action.WNW: 15>, <Action.SSE: -27>, <Action.SSE: -27>, <Action.NNE: 25>, <Action.SSE: -27>, <Action.NNE: 25>, <Action.ENE: 11>, <Action.WSW: -11>, <Action.ESE: -15>, <Action.NNE: 25>, <Action.ENE: 11>, <Action.WSW: -11>, <Action.ENE: 11>, <Action.SSE: -27>, <Action.SSW: -25>, <Action.NNE: 25>, <Action.WNW: 15>, <Action.WSW: -11>, <Action.NNE: 25>, <Action.NNE: 25>]\n",
      "State: Isolation(board=41523161203939122082683632224299007, ply_count=0, locs=(None, None)) \n",
      " Action: 68\n",
      "\n",
      "\n",
      "Got an int action: loc_sym = 72\n",
      "Got an int action: loc_sym = 42\n",
      "Got an int action: loc_sym = 46\n",
      "State: Isolation(board=41523161203938826934778452871473151, ply_count=1, locs=(68, None)) \n",
      " Action: 66\n",
      "\n",
      "\n",
      "Got an int action: loc_sym = 74\n",
      "Got an int action: loc_sym = 40\n",
      "Got an int action: loc_sym = 48\n",
      "State: Isolation(board=41523161203938753147802158033266687, ply_count=2, locs=(68, 66)) \n",
      " Action: -15\n",
      "\n",
      "\n",
      "State: Isolation(board=41523161203938753138794958778525695, ply_count=3, locs=(53, 66)) \n",
      " Action: -27\n",
      "\n",
      "\n",
      "Results for match 9: CustomPlayer2 wins.\n",
      "[14, 39, <Action.WSW: -11>, <Action.WSW: -11>, <Action.WNW: 15>, <Action.NNE: 25>, <Action.NNE: 25>, <Action.NNE: 25>, <Action.NNE: 25>, <Action.WSW: -11>, <Action.WSW: -11>, <Action.NNE: 25>, <Action.NNE: 25>, <Action.WSW: -11>, <Action.SSE: -27>, <Action.SSW: -25>, <Action.NNE: 25>, <Action.WSW: -11>, <Action.WSW: -11>, <Action.NNE: 25>, <Action.WSW: -11>, <Action.NNE: 25>, <Action.NNE: 25>, <Action.WSW: -11>, <Action.WSW: -11>, <Action.SSW: -25>, <Action.NNE: 25>, <Action.ESE: -15>, <Action.WSW: -11>, <Action.ESE: -15>, <Action.SSW: -25>, <Action.NNE: 25>, <Action.ESE: -15>, <Action.ENE: 11>, <Action.ESE: -15>, <Action.SSW: -25>, <Action.ENE: 11>, <Action.SSE: -27>, <Action.SSW: -25>, <Action.WSW: -11>, <Action.WNW: 15>, <Action.NNE: 25>, <Action.SSE: -27>, <Action.NNE: 25>, <Action.WNW: 15>, <Action.WSW: -11>, <Action.NNW: 27>, <Action.ESE: -15>, <Action.SSW: -25>, <Action.WSW: -11>, <Action.ENE: 11>, <Action.WSW: -11>, <Action.NNW: 27>, <Action.WNW: 15>, <Action.NNE: 25>, <Action.WSW: -11>, <Action.NNE: 25>, <Action.NNW: 27>, <Action.WSW: -11>, <Action.NNW: 27>, <Action.SSW: -25>, <Action.NNE: 25>, <Action.SSW: -25>, <Action.ENE: 11>, <Action.ESE: -15>, <Action.SSW: -25>, <Action.SSE: -27>]\n",
      "State: Isolation(board=41523161203939122082683632224299007, ply_count=0, locs=(None, None)) \n",
      " Action: 14\n",
      "\n",
      "\n",
      "Got an int action: loc_sym = 22\n",
      "Got an int action: loc_sym = 92\n",
      "Got an int action: loc_sym = 100\n",
      "State: Isolation(board=41523161203939122082683632224282623, ply_count=1, locs=(14, None)) \n",
      " Action: 39\n",
      "\n",
      "\n",
      "Got an int action: loc_sym = 49\n",
      "Got an int action: loc_sym = 65\n",
      "Got an int action: loc_sym = 75\n",
      "State: Isolation(board=41523161203939122082683082468468735, ply_count=2, locs=(14, 39)) \n",
      " Action: -11\n",
      "\n",
      "\n",
      "State: Isolation(board=41523161203939122082683082468468727, ply_count=3, locs=(3, 39)) \n",
      " Action: -11\n",
      "\n",
      "\n",
      "Elapsed time 109.70522999763489 seconds.\n"
     ]
    }
   ],
   "source": [
    "from multiprocessing.pool import ThreadPool as Pool\n",
    "num_processes = 1\n",
    "batch_size = 10\n",
    "\n",
    "# Small test for debugging\n",
    "matches = matches[:10]\n",
    "\n",
    "results = []\n",
    "pool = Pool(num_processes)\n",
    "tic = time.time()\n",
    "for result in pool.imap_unordered(isolation.play, matches):\n",
    "    results.append(result)\n",
    "    winner, game_history, match_id = result\n",
    "    print('Results for match {}: {} wins.'.format(match_id, winner.name))\n",
    "    _, state, _, _ = matches[match_id]\n",
    "    if state.locs[1] is not None:\n",
    "        game_history.insert(0,state.locs[1])\n",
    "    if state.locs[0] is not None:\n",
    "        game_history.insert(0,state.locs[0])\n",
    "    root = isolation.isolation.Isolation()\n",
    "    print(game_history)\n",
    "    b.process_game_history(root,\n",
    "                           game_history, \n",
    "                           book,\n",
    "                           agent_names.index(winner.name),\n",
    "                           active_player=state.ply_count % 2,\n",
    "                           depth=depth)\n",
    "toc = time.time()\n",
    "print('Elapsed time {} seconds.'.format((toc-tic)))"
   ]
  },
  {
   "cell_type": "code",
   "execution_count": 187,
   "metadata": {},
   "outputs": [
    {
     "data": {
      "text/plain": [
       "19"
      ]
     },
     "execution_count": 187,
     "metadata": {},
     "output_type": "execute_result"
    }
   ],
   "source": [
    "sum(abs(value) for value in book.values())"
   ]
  },
  {
   "cell_type": "code",
   "execution_count": 173,
   "metadata": {},
   "outputs": [
    {
     "name": "stdout",
     "output_type": "stream",
     "text": [
      "108791.1 seconds\n",
      "30.21975 hours\n"
     ]
    }
   ],
   "source": [
    "seconds = 29403 * 37 / 10\n",
    "print('{} seconds'.format(seconds))\n",
    "print('{} hours'.format(seconds/3600))"
   ]
  },
  {
   "cell_type": "code",
   "execution_count": 174,
   "metadata": {},
   "outputs": [
    {
     "data": {
      "text/plain": [
       "[<Action.WSW: -11>,\n",
       " <Action.WSW: -11>,\n",
       " <Action.WNW: 15>,\n",
       " <Action.NNE: 25>,\n",
       " <Action.NNE: 25>,\n",
       " <Action.NNE: 25>,\n",
       " <Action.NNE: 25>,\n",
       " <Action.WSW: -11>,\n",
       " <Action.WSW: -11>,\n",
       " <Action.NNE: 25>,\n",
       " <Action.NNE: 25>,\n",
       " <Action.WSW: -11>,\n",
       " <Action.SSE: -27>,\n",
       " <Action.SSW: -25>,\n",
       " <Action.NNE: 25>,\n",
       " <Action.WSW: -11>,\n",
       " <Action.WSW: -11>,\n",
       " <Action.NNE: 25>,\n",
       " <Action.WSW: -11>,\n",
       " <Action.WSW: -11>,\n",
       " <Action.SSE: -27>,\n",
       " <Action.NNE: 25>,\n",
       " <Action.WSW: -11>,\n",
       " <Action.NNE: 25>,\n",
       " <Action.ESE: -15>,\n",
       " <Action.ESE: -15>,\n",
       " <Action.NNE: 25>,\n",
       " <Action.ESE: -15>,\n",
       " <Action.WSW: -11>,\n",
       " <Action.SSE: -27>,\n",
       " <Action.NNE: 25>,\n",
       " <Action.SSW: -25>,\n",
       " <Action.SSE: -27>,\n",
       " <Action.SSW: -25>,\n",
       " <Action.WSW: -11>,\n",
       " <Action.ENE: 11>,\n",
       " <Action.WNW: 15>,\n",
       " <Action.NNW: 27>,\n",
       " <Action.NNE: 25>,\n",
       " <Action.SSW: -25>,\n",
       " <Action.WSW: -11>,\n",
       " <Action.ENE: 11>,\n",
       " <Action.NNE: 25>,\n",
       " <Action.SSW: -25>,\n",
       " <Action.NNE: 25>,\n",
       " <Action.WNW: 15>,\n",
       " <Action.NNE: 25>,\n",
       " <Action.NNE: 25>,\n",
       " <Action.SSE: -27>,\n",
       " <Action.NNE: 25>,\n",
       " <Action.NNE: 25>,\n",
       " <Action.NNE: 25>,\n",
       " <Action.WSW: -11>,\n",
       " <Action.WNW: 15>,\n",
       " <Action.SSW: -25>,\n",
       " <Action.WSW: -11>]"
      ]
     },
     "execution_count": 174,
     "metadata": {},
     "output_type": "execute_result"
    }
   ],
   "source": [
    "game_history"
   ]
  },
  {
   "cell_type": "markdown",
   "metadata": {},
   "source": [
    "## Let's add the symmetry conditions to the game processing"
   ]
  },
  {
   "cell_type": "code",
   "execution_count": 108,
   "metadata": {},
   "outputs": [
    {
     "data": {
      "text/plain": [
       "(Isolation(board=41198632737088974515941243613079551, ply_count=3, locs=(108, 83)),\n",
       " <Action.ESE: -15>)"
      ]
     },
     "execution_count": 108,
     "metadata": {},
     "output_type": "execute_result"
    }
   ],
   "source": [
    "s_a = list(book.keys())[0]\n",
    "s_a"
   ]
  },
  {
   "cell_type": "code",
   "execution_count": 142,
   "metadata": {
    "collapsed": true
   },
   "outputs": [],
   "source": [
    "W, H = 11, 9\n",
    "\n",
    "def h_symmetry(loc):\n",
    "    if loc is None:\n",
    "        return None\n",
    "    row = loc // (W + 2)\n",
    "    center = W + (row - 1) * (W + 2) + (W + 2) // 2 + 1 if row != 0 else W // 2\n",
    "    return 2 * center - loc"
   ]
  },
  {
   "cell_type": "code",
   "execution_count": 143,
   "metadata": {},
   "outputs": [
    {
     "name": "stdout",
     "output_type": "stream",
     "text": [
      "2\n",
      "31\n"
     ]
    },
    {
     "data": {
      "text/plain": [
       "34"
      ]
     },
     "execution_count": 143,
     "metadata": {},
     "output_type": "execute_result"
    }
   ],
   "source": [
    "h_symmetry(28)"
   ]
  },
  {
   "cell_type": "code",
   "execution_count": 144,
   "metadata": {},
   "outputs": [
    {
     "name": "stdout",
     "output_type": "stream",
     "text": [
      "0\n",
      "5\n"
     ]
    },
    {
     "data": {
      "text/plain": [
       "9"
      ]
     },
     "execution_count": 144,
     "metadata": {},
     "output_type": "execute_result"
    }
   ],
   "source": [
    "h_symmetry(1)"
   ]
  },
  {
   "cell_type": "code",
   "execution_count": null,
   "metadata": {
    "collapsed": true
   },
   "outputs": [],
   "source": []
  },
  {
   "cell_type": "code",
   "execution_count": null,
   "metadata": {
    "collapsed": true
   },
   "outputs": [],
   "source": []
  },
  {
   "cell_type": "code",
   "execution_count": null,
   "metadata": {
    "collapsed": true
   },
   "outputs": [],
   "source": []
  },
  {
   "cell_type": "code",
   "execution_count": 118,
   "metadata": {},
   "outputs": [
    {
     "data": {
      "text/plain": [
       "57"
      ]
     },
     "execution_count": 118,
     "metadata": {},
     "output_type": "execute_result"
    }
   ],
   "source": [
    "center = (H // 2) * (W + 2) + W // 2\n",
    "center"
   ]
  },
  {
   "cell_type": "code",
   "execution_count": 119,
   "metadata": {
    "collapsed": true
   },
   "outputs": [],
   "source": [
    "def c_symmetry(loc):\n",
    "    if loc is None:\n",
    "        return None\n",
    "    center = (H // 2) * (W + 2) + W // 2\n",
    "    return 2 * center - loc"
   ]
  },
  {
   "cell_type": "code",
   "execution_count": 120,
   "metadata": {},
   "outputs": [
    {
     "data": {
      "text/plain": [
       "33"
      ]
     },
     "execution_count": 120,
     "metadata": {},
     "output_type": "execute_result"
    }
   ],
   "source": [
    "c_symmetry(81)"
   ]
  },
  {
   "cell_type": "code",
   "execution_count": 122,
   "metadata": {},
   "outputs": [
    {
     "data": {
      "text/plain": [
       "47"
      ]
     },
     "execution_count": 122,
     "metadata": {},
     "output_type": "execute_result"
    }
   ],
   "source": [
    "c_symmetry(67)"
   ]
  },
  {
   "cell_type": "code",
   "execution_count": 158,
   "metadata": {
    "collapsed": true
   },
   "outputs": [],
   "source": [
    "def v_symmetry(loc):\n",
    "    if loc is None:\n",
    "        return None\n",
    "    col = loc % (W + 2)\n",
    "    center = (H // 2) * (W + 2) + col\n",
    "    return 2 * center - loc"
   ]
  },
  {
   "cell_type": "code",
   "execution_count": 159,
   "metadata": {},
   "outputs": [
    {
     "data": {
      "text/plain": [
       "106"
      ]
     },
     "execution_count": 159,
     "metadata": {},
     "output_type": "execute_result"
    }
   ],
   "source": [
    "v_symmetry(2)"
   ]
  },
  {
   "cell_type": "code",
   "execution_count": 160,
   "metadata": {},
   "outputs": [
    {
     "data": {
      "text/plain": [
       "80"
      ]
     },
     "execution_count": 160,
     "metadata": {},
     "output_type": "execute_result"
    }
   ],
   "source": [
    "v_symmetry(28)"
   ]
  },
  {
   "cell_type": "code",
   "execution_count": 161,
   "metadata": {},
   "outputs": [
    {
     "data": {
      "text/plain": [
       "74"
      ]
     },
     "execution_count": 161,
     "metadata": {},
     "output_type": "execute_result"
    }
   ],
   "source": [
    "v_symmetry(48)"
   ]
  },
  {
   "cell_type": "code",
   "execution_count": 162,
   "metadata": {},
   "outputs": [
    {
     "data": {
      "text/plain": [
       "34"
      ]
     },
     "execution_count": 162,
     "metadata": {},
     "output_type": "execute_result"
    }
   ],
   "source": [
    "v_symmetry(86)"
   ]
  },
  {
   "cell_type": "code",
   "execution_count": 163,
   "metadata": {},
   "outputs": [
    {
     "name": "stdout",
     "output_type": "stream",
     "text": [
      "8\n",
      "109\n",
      "6\n",
      "83\n"
     ]
    },
    {
     "data": {
      "text/plain": [
       "(Isolation(board=40225086979634008618633974744344575, ply_count=3, locs=(110, 83)),\n",
       " <Action.WSW: -11>)"
      ]
     },
     "execution_count": 163,
     "metadata": {},
     "output_type": "execute_result"
    }
   ],
   "source": [
    "symmetric = b.sym_sa(s_a, loc_sym=h_symmetry, cardinal_sym=b.cardinal_sym_h)\n",
    "symmetric"
   ]
  },
  {
   "cell_type": "code",
   "execution_count": 146,
   "metadata": {},
   "outputs": [
    {
     "name": "stdout",
     "output_type": "stream",
     "text": [
      "\n",
      "+ - + - + - + - + - + - + - + - + - + - + - +\n",
      "|   |   |   |   |   |   | 1 |   |   |   |   |\n",
      "+ - + - + - + - + - + - + - + - + - + - + - +\n",
      "|   |   |   |   |   |   |   |   | X |   |   |\n",
      "+ - + - + - + - + - + - + - + - + - + - + - +\n",
      "|   |   |   |   |   | 2 |   |   |   |   |   |\n",
      "+ - + - + - + - + - + - + - + - + - + - + - +\n",
      "|   |   |   |   |   |   |   |   |   |   |   |\n",
      "+ - + - + - + - + - + - + - + - + - + - + - +\n",
      "|   |   |   |   |   |   |   |   |   |   |   |\n",
      "+ - + - + - + - + - + - + - + - + - + - + - +\n",
      "|   |   |   |   |   |   |   |   |   |   |   |\n",
      "+ - + - + - + - + - + - + - + - + - + - + - +\n",
      "|   |   |   |   |   |   |   |   |   |   |   |\n",
      "+ - + - + - + - + - + - + - + - + - + - + - +\n",
      "|   |   |   |   |   |   |   |   |   |   |   |\n",
      "+ - + - + - + - + - + - + - + - + - + - + - +\n",
      "|   |   |   |   |   |   |   |   |   |   |   |\n",
      "+ - + - + - + - + - + - + - + - + - + - + - +\n",
      "\n"
     ]
    }
   ],
   "source": [
    "print(isolation.DebugState.from_state(s_a[0]))"
   ]
  },
  {
   "cell_type": "code",
   "execution_count": 147,
   "metadata": {},
   "outputs": [
    {
     "name": "stdout",
     "output_type": "stream",
     "text": [
      "\n",
      "+ - + - + - + - + - + - + - + - + - + - + - +\n",
      "|   |   |   |   | 1 |   |   |   |   |   |   |\n",
      "+ - + - + - + - + - + - + - + - + - + - + - +\n",
      "|   |   |   |   |   |   |   |   |   |   |   |\n",
      "+ - + - + - + - + - + - + - + - + - + - + - +\n",
      "|   |   |   |   |   | 2 |   |   |   |   |   |\n",
      "+ - + - + - + - + - + - + - + - + - + - + - +\n",
      "|   |   |   |   |   |   |   |   |   |   |   |\n",
      "+ - + - + - + - + - + - + - + - + - + - + - +\n",
      "|   |   |   |   |   |   |   |   |   |   |   |\n",
      "+ - + - + - + - + - + - + - + - + - + - + - +\n",
      "|   |   |   |   |   |   |   |   |   |   |   |\n",
      "+ - + - + - + - + - + - + - + - + - + - + - +\n",
      "|   |   |   |   |   |   |   |   |   |   |   |\n",
      "+ - + - + - + - + - + - + - + - + - + - + - +\n",
      "|   |   |   |   |   |   |   |   |   |   |   |\n",
      "+ - + - + - + - + - + - + - + - + - + - + - +\n",
      "|   |   |   |   |   |   |   |   |   |   |   |\n",
      "+ - + - + - + - + - + - + - + - + - + - + - +\n",
      "\n"
     ]
    }
   ],
   "source": [
    "print(isolation.DebugState.from_state(symmetric[0]))"
   ]
  },
  {
   "cell_type": "code",
   "execution_count": null,
   "metadata": {
    "collapsed": true
   },
   "outputs": [],
   "source": []
  },
  {
   "cell_type": "code",
   "execution_count": 164,
   "metadata": {
    "collapsed": true
   },
   "outputs": [],
   "source": [
    "def process_game_history(state,\n",
    "                         game_history,\n",
    "                         book,\n",
    "                         winner_id,\n",
    "                         active_player=0,\n",
    "                         depth=4):\n",
    "    \"\"\" Given an initial state, and a list of actions, this function iterates\n",
    "    through the resulting states of the actions and updates count of wins in\n",
    "    the state/action book\"\"\"\n",
    "    OPENING_MOVES = 2\n",
    "    game_value = 2 * (active_player == winner_id) - 1\n",
    "    curr_state = state  # It is a named tuple, so I think it is immutable. No need to copy.\n",
    "    for num_action, action in enumerate(game_history):\n",
    "        if (curr_state, action) in book.keys():\n",
    "            book[(curr_state, action)] += game_value\n",
    "            if curr_state.ply_count <= OPENING_MOVES:\n",
    "                book[b.sym_sa((curr_state, action), \n",
    "                              loc_sym=h_symmetry,\n",
    "                              cardinal_sym=b.cardinal_sym_h)] += game_value\n",
    "                book[b.sym_sa((curr_state, action), \n",
    "                              loc_sym=v_symmetry,\n",
    "                              cardinal_sym=b.cardinal_sym_v)] += game_value\n",
    "                book[b.sym_sa((curr_state, action), \n",
    "                              loc_sym=c_symmetry,\n",
    "                              cardinal_sym=b.cardinal_sym_c)] += game_value\n",
    "        curr_state = curr_state.result(action)\n",
    "        active_player = 1 - active_player\n",
    "        game_value = 2 * (active_player == winner_id) - 1\n",
    "        # Break on depth equal to book\n",
    "        if num_action >= depth - 1:\n",
    "            break"
   ]
  },
  {
   "cell_type": "code",
   "execution_count": null,
   "metadata": {
    "collapsed": true
   },
   "outputs": [],
   "source": []
  }
 ],
 "metadata": {
  "kernelspec": {
   "display_name": "aind",
   "language": "python",
   "name": "aind"
  },
  "language_info": {
   "codemirror_mode": {
    "name": "ipython",
    "version": 3
   },
   "file_extension": ".py",
   "mimetype": "text/x-python",
   "name": "python",
   "nbconvert_exporter": "python",
   "pygments_lexer": "ipython3",
   "version": "3.5.4"
  }
 },
 "nbformat": 4,
 "nbformat_minor": 2
}
