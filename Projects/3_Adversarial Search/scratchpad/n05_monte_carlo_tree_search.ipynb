{
 "cells": [
  {
   "cell_type": "code",
   "execution_count": 1,
   "metadata": {},
   "outputs": [
    {
     "name": "stdout",
     "output_type": "stream",
     "text": [
      "Populating the interactive namespace from numpy and matplotlib\n"
     ]
    },
    {
     "name": "stderr",
     "output_type": "stream",
     "text": [
      "/Users/antelinvestigacionydesarrollo/anaconda3/envs/aind/lib/python3.5/site-packages/IPython/core/magics/pylab.py:160: UserWarning: pylab import has clobbered these variables: ['time']\n",
      "`%matplotlib` prevents importing * from pylab and numpy\n",
      "  \"\\n`%matplotlib` prevents importing * from pylab and numpy\"\n"
     ]
    }
   ],
   "source": [
    "import matplotlib.pyplot as plt\n",
    "import pandas as pd\n",
    "import numpy as np\n",
    "import sys\n",
    "from time import time\n",
    "import os\n",
    "\n",
    "%pylab inline\n",
    "pylab.rcParams['figure.figsize'] = (20.0, 10.0)\n",
    "\n",
    "%load_ext autoreload\n",
    "%autoreload 2\n",
    "\n",
    "sys.path.append('..')\n",
    "\n",
    "import isolation\n",
    "import sample_players\n",
    "import run_match\n",
    "import my_baseline_player as custom\n",
    "import book as b\n",
    "\n",
    "from multiprocessing.pool import ThreadPool as Pool"
   ]
  },
  {
   "cell_type": "code",
   "execution_count": 2,
   "metadata": {
    "collapsed": true
   },
   "outputs": [],
   "source": [
    "class Node:\n",
    "    def __init__(self, state, parent=None, action=None):\n",
    "        self.state = state  # Memory inefficient, but let's do it by now...\n",
    "        if parent is not None:\n",
    "            self.parents = {(parent, action)}\n",
    "        else:\n",
    "            self.parents = set()\n",
    "        self.children = dict()\n",
    "        self.Q = 0\n",
    "        self.N = 0\n",
    "    \n",
    "    def __hash__(self):\n",
    "        return hash(self.state)\n",
    "        \n",
    "    def __eq__(self, other):\n",
    "        return (self.__class__ == other.__class__ and\n",
    "               self.state == other.state)\n",
    "    \n",
    "    def is_fully_expanded(self):\n",
    "        return len(self.unexplored_actions()) == 0\n",
    "    \n",
    "    def unexplored_actions(self):\n",
    "        return list(set(self.state.actions()) - set(self.children.keys()))\n",
    "    \n",
    "    def add_child(self, child_node, action):\n",
    "        self.children[action] = child_node\n",
    "    \n",
    "    def __str__(self):\n",
    "        return '\\n'.join(['{:25}: {}\\n'.format(key, value) + '_'*100 + '\\n' \n",
    "                          for key, value in self.__dict__.items()])"
   ]
  },
  {
   "cell_type": "code",
   "execution_count": null,
   "metadata": {
    "collapsed": true
   },
   "outputs": [],
   "source": [
    "class State:\n",
    "    \"\"\" Mock class to test the functions. \"\"\"\n",
    "    def __init__(self, name):\n",
    "        self.name = name\n",
    "        \n",
    "    def actions(self):\n",
    "        return [1,2,3,4]\n",
    "    \n",
    "    def result(self, action):\n",
    "        return State('{}_{}'.format(self.name, str(action)))\n",
    "    \n",
    "    def terminal_test(self):\n",
    "        return len(self.name.split('_')) >=3\n",
    "    \n",
    "    def utility(self, player_id):\n",
    "        return player_id\n",
    "        \n",
    "    def __str__(self):\n",
    "        return self.name"
   ]
  },
  {
   "cell_type": "code",
   "execution_count": 4,
   "metadata": {},
   "outputs": [
    {
     "name": "stdout",
     "output_type": "stream",
     "text": [
      "root\n"
     ]
    }
   ],
   "source": [
    "root = State('root')\n",
    "print(root)"
   ]
  },
  {
   "cell_type": "code",
   "execution_count": 5,
   "metadata": {
    "collapsed": true
   },
   "outputs": [],
   "source": [
    "root_node = Node(root)"
   ]
  },
  {
   "cell_type": "code",
   "execution_count": 6,
   "metadata": {},
   "outputs": [
    {
     "data": {
      "text/plain": [
       "False"
      ]
     },
     "execution_count": 6,
     "metadata": {},
     "output_type": "execute_result"
    }
   ],
   "source": [
    "root_node.is_fully_expanded()"
   ]
  },
  {
   "cell_type": "code",
   "execution_count": 7,
   "metadata": {},
   "outputs": [
    {
     "data": {
      "text/plain": [
       "[1, 2, 3, 4]"
      ]
     },
     "execution_count": 7,
     "metadata": {},
     "output_type": "execute_result"
    }
   ],
   "source": [
    "root_node.unexplored_actions()"
   ]
  },
  {
   "cell_type": "code",
   "execution_count": 8,
   "metadata": {
    "collapsed": true
   },
   "outputs": [],
   "source": [
    "for a in root_node.unexplored_actions():\n",
    "    new_node = Node(root_node.state.result(a), root_node, a)\n",
    "    root_node.add_child(new_node, a)"
   ]
  },
  {
   "cell_type": "code",
   "execution_count": 9,
   "metadata": {},
   "outputs": [
    {
     "data": {
      "text/plain": [
       "{1: <__main__.Node at 0x1197f02e8>,\n",
       " 2: <__main__.Node at 0x1197f0470>,\n",
       " 3: <__main__.Node at 0x1197f0630>,\n",
       " 4: <__main__.Node at 0x1197f0828>}"
      ]
     },
     "execution_count": 9,
     "metadata": {},
     "output_type": "execute_result"
    }
   ],
   "source": [
    "root_node.children"
   ]
  },
  {
   "cell_type": "code",
   "execution_count": 10,
   "metadata": {},
   "outputs": [
    {
     "name": "stdout",
     "output_type": "stream",
     "text": [
      "N                        : 0\n",
      "____________________________________________________________________________________________________\n",
      "\n",
      "parents                  : {(<__main__.Node object at 0x10f9354e0>, 1)}\n",
      "____________________________________________________________________________________________________\n",
      "\n",
      "state                    : root_1\n",
      "____________________________________________________________________________________________________\n",
      "\n",
      "Q                        : 0\n",
      "____________________________________________________________________________________________________\n",
      "\n",
      "children                 : {}\n",
      "____________________________________________________________________________________________________\n",
      "\n",
      "....................................................................................................\n",
      "\n",
      "N                        : 0\n",
      "____________________________________________________________________________________________________\n",
      "\n",
      "parents                  : {(<__main__.Node object at 0x10f9354e0>, 2)}\n",
      "____________________________________________________________________________________________________\n",
      "\n",
      "state                    : root_2\n",
      "____________________________________________________________________________________________________\n",
      "\n",
      "Q                        : 0\n",
      "____________________________________________________________________________________________________\n",
      "\n",
      "children                 : {}\n",
      "____________________________________________________________________________________________________\n",
      "\n",
      "....................................................................................................\n",
      "\n",
      "N                        : 0\n",
      "____________________________________________________________________________________________________\n",
      "\n",
      "parents                  : {(<__main__.Node object at 0x10f9354e0>, 3)}\n",
      "____________________________________________________________________________________________________\n",
      "\n",
      "state                    : root_3\n",
      "____________________________________________________________________________________________________\n",
      "\n",
      "Q                        : 0\n",
      "____________________________________________________________________________________________________\n",
      "\n",
      "children                 : {}\n",
      "____________________________________________________________________________________________________\n",
      "\n",
      "....................................................................................................\n",
      "\n",
      "N                        : 0\n",
      "____________________________________________________________________________________________________\n",
      "\n",
      "parents                  : {(<__main__.Node object at 0x10f9354e0>, 4)}\n",
      "____________________________________________________________________________________________________\n",
      "\n",
      "state                    : root_4\n",
      "____________________________________________________________________________________________________\n",
      "\n",
      "Q                        : 0\n",
      "____________________________________________________________________________________________________\n",
      "\n",
      "children                 : {}\n",
      "____________________________________________________________________________________________________\n",
      "\n",
      "....................................................................................................\n",
      "\n"
     ]
    }
   ],
   "source": [
    "for n in list(root_node.children.values()):\n",
    "    print(str(n) + '\\n'+'.'*100+'\\n')"
   ]
  },
  {
   "cell_type": "code",
   "execution_count": 11,
   "metadata": {},
   "outputs": [
    {
     "data": {
      "text/plain": [
       "[]"
      ]
     },
     "execution_count": 11,
     "metadata": {},
     "output_type": "execute_result"
    }
   ],
   "source": [
    "root_node.unexplored_actions()"
   ]
  },
  {
   "cell_type": "code",
   "execution_count": 12,
   "metadata": {},
   "outputs": [
    {
     "data": {
      "text/plain": [
       "True"
      ]
     },
     "execution_count": 12,
     "metadata": {},
     "output_type": "execute_result"
    }
   ],
   "source": [
    "root_node.is_fully_expanded()"
   ]
  },
  {
   "cell_type": "code",
   "execution_count": 13,
   "metadata": {},
   "outputs": [
    {
     "data": {
      "text/plain": [
       "[1, 2, 3, 4]"
      ]
     },
     "execution_count": 13,
     "metadata": {},
     "output_type": "execute_result"
    }
   ],
   "source": [
    "new_node.unexplored_actions()"
   ]
  },
  {
   "cell_type": "code",
   "execution_count": 14,
   "metadata": {},
   "outputs": [
    {
     "data": {
      "text/plain": [
       "1"
      ]
     },
     "execution_count": 14,
     "metadata": {},
     "output_type": "execute_result"
    }
   ],
   "source": [
    "import random\n",
    "\n",
    "random.choice(new_node.unexplored_actions())"
   ]
  },
  {
   "cell_type": "code",
   "execution_count": 15,
   "metadata": {
    "collapsed": true
   },
   "outputs": [],
   "source": [
    "import random\n",
    "\n",
    "class Tree:\n",
    "    def __init__(self, root):\n",
    "        self.root = root\n",
    "        self.nodes = {root}\n",
    "    \n",
    "    def expand(self, node):\n",
    "        # Adds the new nodes to the tree, or modifies it adding a new parent,\n",
    "        # if the node already existed from another parent\n",
    "        a = random.choice(node.unexplored_actions())\n",
    "        new_node = Node(node.state.result(a), node, a)\n",
    "        self.nodes |= {new_node}\n",
    "        new_node = next(item for item in self.nodes if item == new_node)\n",
    "        new_node.parents.add((node, a))\n",
    "        node.add_child(new_node, a)\n",
    "        return new_node\n",
    "    \n",
    "    def __str__(self):\n",
    "        return ('\\n' + '.'*100 + '\\n').join(str(node) for node in self.nodes)"
   ]
  },
  {
   "cell_type": "code",
   "execution_count": 16,
   "metadata": {
    "collapsed": true
   },
   "outputs": [],
   "source": [
    "class Name:\n",
    "    def __init__(self, name, other='0'):\n",
    "        self.name = name\n",
    "        self.other = other\n",
    "    \n",
    "    def __hash__(self):\n",
    "        return hash(self.name)\n",
    "        \n",
    "    def __eq__(self, other):\n",
    "        return (self.__class__ == other.__class__ and\n",
    "               self.name == other.name)"
   ]
  },
  {
   "cell_type": "code",
   "execution_count": 17,
   "metadata": {
    "collapsed": true
   },
   "outputs": [],
   "source": [
    "s = {Name('1'), Name('2'), Name('3')}"
   ]
  },
  {
   "cell_type": "code",
   "execution_count": 18,
   "metadata": {},
   "outputs": [
    {
     "name": "stdout",
     "output_type": "stream",
     "text": [
      "sdjknfdsa\n"
     ]
    }
   ],
   "source": [
    "if Name('1','ksajnfaks') in s:\n",
    "    print('sdjknfdsa')"
   ]
  },
  {
   "cell_type": "code",
   "execution_count": 19,
   "metadata": {
    "collapsed": true
   },
   "outputs": [],
   "source": [
    "s |= {Name('1','changed')}\n",
    "s |= {Name('5','kasdnfksal')}"
   ]
  },
  {
   "cell_type": "code",
   "execution_count": 20,
   "metadata": {},
   "outputs": [
    {
     "name": "stdout",
     "output_type": "stream",
     "text": [
      "1\n",
      "0\n",
      "5\n",
      "kasdnfksal\n",
      "3\n",
      "0\n",
      "2\n",
      "0\n"
     ]
    }
   ],
   "source": [
    "for item in s:\n",
    "    print(item.name)\n",
    "    print(item.other)"
   ]
  },
  {
   "cell_type": "code",
   "execution_count": 21,
   "metadata": {},
   "outputs": [
    {
     "data": {
      "text/plain": [
       "'1'"
      ]
     },
     "execution_count": 21,
     "metadata": {},
     "output_type": "execute_result"
    }
   ],
   "source": [
    "next(item for item in s if item == Name('1','changed')).name"
   ]
  },
  {
   "cell_type": "code",
   "execution_count": 22,
   "metadata": {},
   "outputs": [
    {
     "data": {
      "text/plain": [
       "'0'"
      ]
     },
     "execution_count": 22,
     "metadata": {},
     "output_type": "execute_result"
    }
   ],
   "source": [
    "next(item for item in s if item == Name('1','changed')).other"
   ]
  },
  {
   "cell_type": "code",
   "execution_count": 23,
   "metadata": {},
   "outputs": [
    {
     "data": {
      "text/plain": [
       "'changed'"
      ]
     },
     "execution_count": 23,
     "metadata": {},
     "output_type": "execute_result"
    }
   ],
   "source": [
    "next((item for item in s if item == Name('7','changed')), Name('7','changed')).other"
   ]
  },
  {
   "cell_type": "markdown",
   "metadata": {},
   "source": [
    "So, set union favors the item that is already in. It can be used correctly."
   ]
  },
  {
   "cell_type": "code",
   "execution_count": null,
   "metadata": {
    "collapsed": true
   },
   "outputs": [],
   "source": []
  },
  {
   "cell_type": "code",
   "execution_count": 24,
   "metadata": {
    "collapsed": true
   },
   "outputs": [],
   "source": [
    "root_s = State('root')\n",
    "root_n = Node(root_s)"
   ]
  },
  {
   "cell_type": "code",
   "execution_count": 25,
   "metadata": {
    "collapsed": true
   },
   "outputs": [],
   "source": [
    "t = Tree(root_n)"
   ]
  },
  {
   "cell_type": "code",
   "execution_count": 26,
   "metadata": {},
   "outputs": [
    {
     "data": {
      "text/plain": [
       "<__main__.Node at 0x1197fa860>"
      ]
     },
     "execution_count": 26,
     "metadata": {},
     "output_type": "execute_result"
    }
   ],
   "source": [
    "t.expand(root_n)"
   ]
  },
  {
   "cell_type": "code",
   "execution_count": 27,
   "metadata": {},
   "outputs": [
    {
     "name": "stdout",
     "output_type": "stream",
     "text": [
      "N                        : 0\n",
      "____________________________________________________________________________________________________\n",
      "\n",
      "parents                  : {(<__main__.Node object at 0x1197fa1d0>, 2)}\n",
      "____________________________________________________________________________________________________\n",
      "\n",
      "state                    : root_2\n",
      "____________________________________________________________________________________________________\n",
      "\n",
      "Q                        : 0\n",
      "____________________________________________________________________________________________________\n",
      "\n",
      "children                 : {}\n",
      "____________________________________________________________________________________________________\n",
      "\n",
      "....................................................................................................\n",
      "N                        : 0\n",
      "____________________________________________________________________________________________________\n",
      "\n",
      "parents                  : set()\n",
      "____________________________________________________________________________________________________\n",
      "\n",
      "state                    : root\n",
      "____________________________________________________________________________________________________\n",
      "\n",
      "Q                        : 0\n",
      "____________________________________________________________________________________________________\n",
      "\n",
      "children                 : {2: <__main__.Node object at 0x1197fa860>}\n",
      "____________________________________________________________________________________________________\n",
      "\n",
      "....................................................................................................\n"
     ]
    }
   ],
   "source": [
    "for n in t.nodes:\n",
    "    print(n)\n",
    "    print('.'*100)"
   ]
  },
  {
   "cell_type": "code",
   "execution_count": 28,
   "metadata": {
    "collapsed": true
   },
   "outputs": [],
   "source": [
    "import math\n",
    "\n",
    "def ucb(node, c=1):\n",
    "    if node.N == 0:\n",
    "        return float('inf')\n",
    "    return (node.Q/node.N) + c * math.sqrt((2 * math.log(node.N)) / node.N)"
   ]
  },
  {
   "cell_type": "code",
   "execution_count": 29,
   "metadata": {},
   "outputs": [
    {
     "data": {
      "text/plain": [
       "inf"
      ]
     },
     "execution_count": 29,
     "metadata": {},
     "output_type": "execute_result"
    }
   ],
   "source": [
    "ucb(root_node, 1)"
   ]
  },
  {
   "cell_type": "code",
   "execution_count": 30,
   "metadata": {
    "collapsed": true
   },
   "outputs": [],
   "source": [
    "from functools import partial\n",
    "\n",
    "def best_child(node, c=1):\n",
    "    return max(list(node.children.values()), key=partial(ucb, c=c))"
   ]
  },
  {
   "cell_type": "code",
   "execution_count": 31,
   "metadata": {},
   "outputs": [
    {
     "data": {
      "text/plain": [
       "[<__main__.Node at 0x1197fa860>]"
      ]
     },
     "execution_count": 31,
     "metadata": {},
     "output_type": "execute_result"
    }
   ],
   "source": [
    "list(root_n.children.values())"
   ]
  },
  {
   "cell_type": "code",
   "execution_count": 32,
   "metadata": {},
   "outputs": [
    {
     "data": {
      "text/plain": [
       "inf"
      ]
     },
     "execution_count": 32,
     "metadata": {},
     "output_type": "execute_result"
    }
   ],
   "source": [
    "ucb(list(root_n.children.values())[0])"
   ]
  },
  {
   "cell_type": "code",
   "execution_count": 33,
   "metadata": {
    "collapsed": true
   },
   "outputs": [],
   "source": [
    "child = list(root_n.children.values())[0]"
   ]
  },
  {
   "cell_type": "code",
   "execution_count": 34,
   "metadata": {
    "collapsed": true
   },
   "outputs": [],
   "source": [
    "child.Q = 1\n",
    "child.N = 1"
   ]
  },
  {
   "cell_type": "code",
   "execution_count": 35,
   "metadata": {},
   "outputs": [
    {
     "name": "stdout",
     "output_type": "stream",
     "text": [
      "N                        : 1\n",
      "____________________________________________________________________________________________________\n",
      "\n",
      "parents                  : {(<__main__.Node object at 0x1197fa1d0>, 2)}\n",
      "____________________________________________________________________________________________________\n",
      "\n",
      "state                    : root_2\n",
      "____________________________________________________________________________________________________\n",
      "\n",
      "Q                        : 1\n",
      "____________________________________________________________________________________________________\n",
      "\n",
      "children                 : {}\n",
      "____________________________________________________________________________________________________\n",
      "\n"
     ]
    }
   ],
   "source": [
    "print(best_child(root_n))"
   ]
  },
  {
   "cell_type": "code",
   "execution_count": 36,
   "metadata": {},
   "outputs": [
    {
     "data": {
      "text/plain": [
       "<__main__.Node at 0x1198002b0>"
      ]
     },
     "execution_count": 36,
     "metadata": {},
     "output_type": "execute_result"
    }
   ],
   "source": [
    "t.expand(root_n)"
   ]
  },
  {
   "cell_type": "code",
   "execution_count": 37,
   "metadata": {},
   "outputs": [
    {
     "name": "stdout",
     "output_type": "stream",
     "text": [
      "N                        : 0\n",
      "____________________________________________________________________________________________________\n",
      "\n",
      "parents                  : {(<__main__.Node object at 0x1197fa1d0>, 3)}\n",
      "____________________________________________________________________________________________________\n",
      "\n",
      "state                    : root_3\n",
      "____________________________________________________________________________________________________\n",
      "\n",
      "Q                        : 0\n",
      "____________________________________________________________________________________________________\n",
      "\n",
      "children                 : {}\n",
      "____________________________________________________________________________________________________\n",
      "\n"
     ]
    }
   ],
   "source": [
    "print(best_child(root_n))"
   ]
  },
  {
   "cell_type": "code",
   "execution_count": 38,
   "metadata": {},
   "outputs": [
    {
     "data": {
      "text/plain": [
       "{2: <__main__.Node at 0x1197fa860>, 3: <__main__.Node at 0x1198002b0>}"
      ]
     },
     "execution_count": 38,
     "metadata": {},
     "output_type": "execute_result"
    }
   ],
   "source": [
    "root_n.children"
   ]
  },
  {
   "cell_type": "code",
   "execution_count": 39,
   "metadata": {},
   "outputs": [
    {
     "data": {
      "text/plain": [
       "False"
      ]
     },
     "execution_count": 39,
     "metadata": {},
     "output_type": "execute_result"
    }
   ],
   "source": [
    "root_n.is_fully_expanded()"
   ]
  },
  {
   "cell_type": "code",
   "execution_count": 40,
   "metadata": {},
   "outputs": [
    {
     "data": {
      "text/plain": [
       "[1, 4]"
      ]
     },
     "execution_count": 40,
     "metadata": {},
     "output_type": "execute_result"
    }
   ],
   "source": [
    "root_n.unexplored_actions()"
   ]
  },
  {
   "cell_type": "code",
   "execution_count": 41,
   "metadata": {
    "collapsed": true
   },
   "outputs": [],
   "source": [
    "def tree_policy(node, tree):\n",
    "    temp_node = node\n",
    "    while not temp_node.state.terminal_test():\n",
    "        if temp_node.is_fully_expanded():\n",
    "            temp_node = best_child(temp_node)\n",
    "        else:\n",
    "            return tree.expand(temp_node)\n",
    "    return temp_node"
   ]
  },
  {
   "cell_type": "code",
   "execution_count": 42,
   "metadata": {},
   "outputs": [
    {
     "data": {
      "text/plain": [
       "False"
      ]
     },
     "execution_count": 42,
     "metadata": {},
     "output_type": "execute_result"
    }
   ],
   "source": [
    "root_n.is_fully_expanded()"
   ]
  },
  {
   "cell_type": "code",
   "execution_count": 43,
   "metadata": {},
   "outputs": [
    {
     "name": "stdout",
     "output_type": "stream",
     "text": [
      "N                        : 0\n",
      "____________________________________________________________________________________________________\n",
      "\n",
      "parents                  : {(<__main__.Node object at 0x1197fa1d0>, 1)}\n",
      "____________________________________________________________________________________________________\n",
      "\n",
      "state                    : root_1\n",
      "____________________________________________________________________________________________________\n",
      "\n",
      "Q                        : 0\n",
      "____________________________________________________________________________________________________\n",
      "\n",
      "children                 : {}\n",
      "____________________________________________________________________________________________________\n",
      "\n"
     ]
    }
   ],
   "source": [
    "print(tree_policy(root_n, t))"
   ]
  },
  {
   "cell_type": "code",
   "execution_count": 85,
   "metadata": {
    "collapsed": true
   },
   "outputs": [],
   "source": [
    "import random\n",
    "\n",
    "def default_random_policy(state, player_id):\n",
    "    temp_state = state\n",
    "    while not temp_state.terminal_test():\n",
    "        a = random.choice(temp_state.actions())\n",
    "        temp_state = temp_state.result(a)\n",
    "        \n",
    "    return temp_state.utility(player_id)"
   ]
  },
  {
   "cell_type": "code",
   "execution_count": 45,
   "metadata": {
    "collapsed": true
   },
   "outputs": [],
   "source": [
    "# TODO: def default_greedy_policy(state, player_id)"
   ]
  },
  {
   "cell_type": "code",
   "execution_count": 46,
   "metadata": {
    "collapsed": true
   },
   "outputs": [],
   "source": [
    "def backup_negamax(node, reward):\n",
    "    \"\"\" This is a version of backup for multiple parents.\"\"\"\n",
    "    temp_node = node\n",
    "    temp_node.N += 1\n",
    "    temp_node.Q += reward\n",
    "    for parent, _ in temp_node.parents:\n",
    "        backup_negamax(parent, -reward)"
   ]
  },
  {
   "cell_type": "code",
   "execution_count": 47,
   "metadata": {},
   "outputs": [
    {
     "name": "stdout",
     "output_type": "stream",
     "text": [
      "N                        : 0\n",
      "____________________________________________________________________________________________________\n",
      "\n",
      "parents                  : {(<__main__.Node object at 0x1197fa1d0>, 4)}\n",
      "____________________________________________________________________________________________________\n",
      "\n",
      "state                    : root_4\n",
      "____________________________________________________________________________________________________\n",
      "\n",
      "Q                        : 0\n",
      "____________________________________________________________________________________________________\n",
      "\n",
      "children                 : {}\n",
      "____________________________________________________________________________________________________\n",
      "\n"
     ]
    }
   ],
   "source": [
    "print(tree_policy(root_n, t))"
   ]
  },
  {
   "cell_type": "code",
   "execution_count": 48,
   "metadata": {},
   "outputs": [
    {
     "name": "stdout",
     "output_type": "stream",
     "text": [
      "N                        : 0\n",
      "____________________________________________________________________________________________________\n",
      "\n",
      "parents                  : {(<__main__.Node object at 0x1198009e8>, 1)}\n",
      "____________________________________________________________________________________________________\n",
      "\n",
      "state                    : root_1_1\n",
      "____________________________________________________________________________________________________\n",
      "\n",
      "Q                        : 0\n",
      "____________________________________________________________________________________________________\n",
      "\n",
      "children                 : {}\n",
      "____________________________________________________________________________________________________\n",
      "\n"
     ]
    }
   ],
   "source": [
    "print(tree_policy(root_n, t))"
   ]
  },
  {
   "cell_type": "code",
   "execution_count": 49,
   "metadata": {},
   "outputs": [
    {
     "name": "stdout",
     "output_type": "stream",
     "text": [
      "N                        : 0\n",
      "____________________________________________________________________________________________________\n",
      "\n",
      "parents                  : {(<__main__.Node object at 0x1198009e8>, 3)}\n",
      "____________________________________________________________________________________________________\n",
      "\n",
      "state                    : root_1_3\n",
      "____________________________________________________________________________________________________\n",
      "\n",
      "Q                        : 0\n",
      "____________________________________________________________________________________________________\n",
      "\n",
      "children                 : {}\n",
      "____________________________________________________________________________________________________\n",
      "\n"
     ]
    }
   ],
   "source": [
    "print(tree_policy(root_n, t))"
   ]
  },
  {
   "cell_type": "code",
   "execution_count": 50,
   "metadata": {},
   "outputs": [
    {
     "name": "stdout",
     "output_type": "stream",
     "text": [
      "N                        : 0\n",
      "____________________________________________________________________________________________________\n",
      "\n",
      "parents                  : {(<__main__.Node object at 0x1198009e8>, 4)}\n",
      "____________________________________________________________________________________________________\n",
      "\n",
      "state                    : root_1_4\n",
      "____________________________________________________________________________________________________\n",
      "\n",
      "Q                        : 0\n",
      "____________________________________________________________________________________________________\n",
      "\n",
      "children                 : {}\n",
      "____________________________________________________________________________________________________\n",
      "\n"
     ]
    }
   ],
   "source": [
    "print(tree_policy(root_n, t))"
   ]
  },
  {
   "cell_type": "code",
   "execution_count": 51,
   "metadata": {},
   "outputs": [
    {
     "name": "stdout",
     "output_type": "stream",
     "text": [
      "N                        : 0\n",
      "____________________________________________________________________________________________________\n",
      "\n",
      "parents                  : {(<__main__.Node object at 0x1198009e8>, 2)}\n",
      "____________________________________________________________________________________________________\n",
      "\n",
      "state                    : root_1_2\n",
      "____________________________________________________________________________________________________\n",
      "\n",
      "Q                        : 0\n",
      "____________________________________________________________________________________________________\n",
      "\n",
      "children                 : {}\n",
      "____________________________________________________________________________________________________\n",
      "\n"
     ]
    }
   ],
   "source": [
    "print(tree_policy(root_n, t))"
   ]
  },
  {
   "cell_type": "code",
   "execution_count": 52,
   "metadata": {},
   "outputs": [
    {
     "name": "stdout",
     "output_type": "stream",
     "text": [
      "N                        : 0\n",
      "____________________________________________________________________________________________________\n",
      "\n",
      "parents                  : {(<__main__.Node object at 0x1198009e8>, 1)}\n",
      "____________________________________________________________________________________________________\n",
      "\n",
      "state                    : root_1_1\n",
      "____________________________________________________________________________________________________\n",
      "\n",
      "Q                        : 0\n",
      "____________________________________________________________________________________________________\n",
      "\n",
      "children                 : {}\n",
      "____________________________________________________________________________________________________\n",
      "\n"
     ]
    }
   ],
   "source": [
    "print(tree_policy(root_n, t))"
   ]
  },
  {
   "cell_type": "code",
   "execution_count": 53,
   "metadata": {
    "collapsed": true
   },
   "outputs": [],
   "source": [
    "terminal_node = tree_policy(root_n, t)"
   ]
  },
  {
   "cell_type": "code",
   "execution_count": 54,
   "metadata": {},
   "outputs": [
    {
     "data": {
      "text/plain": [
       "True"
      ]
     },
     "execution_count": 54,
     "metadata": {},
     "output_type": "execute_result"
    }
   ],
   "source": [
    "terminal_node.state.terminal_test()"
   ]
  },
  {
   "cell_type": "code",
   "execution_count": 55,
   "metadata": {},
   "outputs": [
    {
     "data": {
      "text/plain": [
       "1"
      ]
     },
     "execution_count": 55,
     "metadata": {},
     "output_type": "execute_result"
    }
   ],
   "source": [
    "terminal_node.state.utility(1)"
   ]
  },
  {
   "cell_type": "code",
   "execution_count": 56,
   "metadata": {},
   "outputs": [
    {
     "name": "stdout",
     "output_type": "stream",
     "text": [
      "root\n",
      "....................................................................................................\n",
      "root_2\n",
      "....................................................................................................\n"
     ]
    },
    {
     "data": {
      "text/plain": [
       "1"
      ]
     },
     "execution_count": 56,
     "metadata": {},
     "output_type": "execute_result"
    }
   ],
   "source": [
    "default_random_policy(root_n.state, 1)"
   ]
  },
  {
   "cell_type": "code",
   "execution_count": 57,
   "metadata": {},
   "outputs": [
    {
     "data": {
      "text/plain": [
       "1"
      ]
     },
     "execution_count": 57,
     "metadata": {},
     "output_type": "execute_result"
    }
   ],
   "source": [
    "default_random_policy(terminal_node.state, 1)"
   ]
  },
  {
   "cell_type": "code",
   "execution_count": 58,
   "metadata": {},
   "outputs": [
    {
     "name": "stdout",
     "output_type": "stream",
     "text": [
      "N                        : 0\n",
      "____________________________________________________________________________________________________\n",
      "\n",
      "parents                  : {(<__main__.Node object at 0x1198009e8>, 1)}\n",
      "____________________________________________________________________________________________________\n",
      "\n",
      "state                    : root_1_1\n",
      "____________________________________________________________________________________________________\n",
      "\n",
      "Q                        : 0\n",
      "____________________________________________________________________________________________________\n",
      "\n",
      "children                 : {}\n",
      "____________________________________________________________________________________________________\n",
      "\n"
     ]
    }
   ],
   "source": [
    "print(terminal_node)"
   ]
  },
  {
   "cell_type": "code",
   "execution_count": 59,
   "metadata": {},
   "outputs": [
    {
     "name": "stdout",
     "output_type": "stream",
     "text": [
      "N                        : 0\n",
      "____________________________________________________________________________________________________\n",
      "\n",
      "parents                  : {(<__main__.Node object at 0x1197fa1d0>, 1)}\n",
      "____________________________________________________________________________________________________\n",
      "\n",
      "state                    : root_1\n",
      "____________________________________________________________________________________________________\n",
      "\n",
      "Q                        : 0\n",
      "____________________________________________________________________________________________________\n",
      "\n",
      "children                 : {1: <__main__.Node object at 0x119800898>, 2: <__main__.Node object at 0x11980a2b0>, 3: <__main__.Node object at 0x11980a048>, 4: <__main__.Node object at 0x11980a208>}\n",
      "____________________________________________________________________________________________________\n",
      "\n",
      "....................................................................................................\n",
      "N                        : 0\n",
      "____________________________________________________________________________________________________\n",
      "\n",
      "parents                  : {(<__main__.Node object at 0x1198009e8>, 4)}\n",
      "____________________________________________________________________________________________________\n",
      "\n",
      "state                    : root_1_4\n",
      "____________________________________________________________________________________________________\n",
      "\n",
      "Q                        : 0\n",
      "____________________________________________________________________________________________________\n",
      "\n",
      "children                 : {}\n",
      "____________________________________________________________________________________________________\n",
      "\n",
      "....................................................................................................\n",
      "N                        : 0\n",
      "____________________________________________________________________________________________________\n",
      "\n",
      "parents                  : {(<__main__.Node object at 0x1198009e8>, 2)}\n",
      "____________________________________________________________________________________________________\n",
      "\n",
      "state                    : root_1_2\n",
      "____________________________________________________________________________________________________\n",
      "\n",
      "Q                        : 0\n",
      "____________________________________________________________________________________________________\n",
      "\n",
      "children                 : {}\n",
      "____________________________________________________________________________________________________\n",
      "\n",
      "....................................................................................................\n",
      "N                        : 0\n",
      "____________________________________________________________________________________________________\n",
      "\n",
      "parents                  : {(<__main__.Node object at 0x1198009e8>, 3)}\n",
      "____________________________________________________________________________________________________\n",
      "\n",
      "state                    : root_1_3\n",
      "____________________________________________________________________________________________________\n",
      "\n",
      "Q                        : 0\n",
      "____________________________________________________________________________________________________\n",
      "\n",
      "children                 : {}\n",
      "____________________________________________________________________________________________________\n",
      "\n",
      "....................................................................................................\n",
      "N                        : 1\n",
      "____________________________________________________________________________________________________\n",
      "\n",
      "parents                  : {(<__main__.Node object at 0x1197fa1d0>, 2)}\n",
      "____________________________________________________________________________________________________\n",
      "\n",
      "state                    : root_2\n",
      "____________________________________________________________________________________________________\n",
      "\n",
      "Q                        : 1\n",
      "____________________________________________________________________________________________________\n",
      "\n",
      "children                 : {}\n",
      "____________________________________________________________________________________________________\n",
      "\n",
      "....................................................................................................\n",
      "N                        : 0\n",
      "____________________________________________________________________________________________________\n",
      "\n",
      "parents                  : {(<__main__.Node object at 0x1197fa1d0>, 3)}\n",
      "____________________________________________________________________________________________________\n",
      "\n",
      "state                    : root_3\n",
      "____________________________________________________________________________________________________\n",
      "\n",
      "Q                        : 0\n",
      "____________________________________________________________________________________________________\n",
      "\n",
      "children                 : {}\n",
      "____________________________________________________________________________________________________\n",
      "\n",
      "....................................................................................................\n",
      "N                        : 0\n",
      "____________________________________________________________________________________________________\n",
      "\n",
      "parents                  : {(<__main__.Node object at 0x1197fa1d0>, 4)}\n",
      "____________________________________________________________________________________________________\n",
      "\n",
      "state                    : root_4\n",
      "____________________________________________________________________________________________________\n",
      "\n",
      "Q                        : 0\n",
      "____________________________________________________________________________________________________\n",
      "\n",
      "children                 : {}\n",
      "____________________________________________________________________________________________________\n",
      "\n",
      "....................................................................................................\n",
      "N                        : 0\n",
      "____________________________________________________________________________________________________\n",
      "\n",
      "parents                  : {(<__main__.Node object at 0x1198009e8>, 1)}\n",
      "____________________________________________________________________________________________________\n",
      "\n",
      "state                    : root_1_1\n",
      "____________________________________________________________________________________________________\n",
      "\n",
      "Q                        : 0\n",
      "____________________________________________________________________________________________________\n",
      "\n",
      "children                 : {}\n",
      "____________________________________________________________________________________________________\n",
      "\n",
      "....................................................................................................\n",
      "N                        : 0\n",
      "____________________________________________________________________________________________________\n",
      "\n",
      "parents                  : set()\n",
      "____________________________________________________________________________________________________\n",
      "\n",
      "state                    : root\n",
      "____________________________________________________________________________________________________\n",
      "\n",
      "Q                        : 0\n",
      "____________________________________________________________________________________________________\n",
      "\n",
      "children                 : {1: <__main__.Node object at 0x1198009e8>, 2: <__main__.Node object at 0x1197fa860>, 3: <__main__.Node object at 0x1198002b0>, 4: <__main__.Node object at 0x119800f60>}\n",
      "____________________________________________________________________________________________________\n",
      "\n"
     ]
    }
   ],
   "source": [
    "print(t)"
   ]
  },
  {
   "cell_type": "code",
   "execution_count": 60,
   "metadata": {
    "collapsed": true
   },
   "outputs": [],
   "source": [
    "backup_negamax(terminal_node, 10)"
   ]
  },
  {
   "cell_type": "code",
   "execution_count": 61,
   "metadata": {},
   "outputs": [
    {
     "name": "stdout",
     "output_type": "stream",
     "text": [
      "N                        : 1\n",
      "____________________________________________________________________________________________________\n",
      "\n",
      "parents                  : {(<__main__.Node object at 0x1197fa1d0>, 1)}\n",
      "____________________________________________________________________________________________________\n",
      "\n",
      "state                    : root_1\n",
      "____________________________________________________________________________________________________\n",
      "\n",
      "Q                        : -10\n",
      "____________________________________________________________________________________________________\n",
      "\n",
      "children                 : {1: <__main__.Node object at 0x119800898>, 2: <__main__.Node object at 0x11980a2b0>, 3: <__main__.Node object at 0x11980a048>, 4: <__main__.Node object at 0x11980a208>}\n",
      "____________________________________________________________________________________________________\n",
      "\n",
      "....................................................................................................\n",
      "N                        : 0\n",
      "____________________________________________________________________________________________________\n",
      "\n",
      "parents                  : {(<__main__.Node object at 0x1198009e8>, 4)}\n",
      "____________________________________________________________________________________________________\n",
      "\n",
      "state                    : root_1_4\n",
      "____________________________________________________________________________________________________\n",
      "\n",
      "Q                        : 0\n",
      "____________________________________________________________________________________________________\n",
      "\n",
      "children                 : {}\n",
      "____________________________________________________________________________________________________\n",
      "\n",
      "....................................................................................................\n",
      "N                        : 0\n",
      "____________________________________________________________________________________________________\n",
      "\n",
      "parents                  : {(<__main__.Node object at 0x1198009e8>, 2)}\n",
      "____________________________________________________________________________________________________\n",
      "\n",
      "state                    : root_1_2\n",
      "____________________________________________________________________________________________________\n",
      "\n",
      "Q                        : 0\n",
      "____________________________________________________________________________________________________\n",
      "\n",
      "children                 : {}\n",
      "____________________________________________________________________________________________________\n",
      "\n",
      "....................................................................................................\n",
      "N                        : 0\n",
      "____________________________________________________________________________________________________\n",
      "\n",
      "parents                  : {(<__main__.Node object at 0x1198009e8>, 3)}\n",
      "____________________________________________________________________________________________________\n",
      "\n",
      "state                    : root_1_3\n",
      "____________________________________________________________________________________________________\n",
      "\n",
      "Q                        : 0\n",
      "____________________________________________________________________________________________________\n",
      "\n",
      "children                 : {}\n",
      "____________________________________________________________________________________________________\n",
      "\n",
      "....................................................................................................\n",
      "N                        : 1\n",
      "____________________________________________________________________________________________________\n",
      "\n",
      "parents                  : {(<__main__.Node object at 0x1197fa1d0>, 2)}\n",
      "____________________________________________________________________________________________________\n",
      "\n",
      "state                    : root_2\n",
      "____________________________________________________________________________________________________\n",
      "\n",
      "Q                        : 1\n",
      "____________________________________________________________________________________________________\n",
      "\n",
      "children                 : {}\n",
      "____________________________________________________________________________________________________\n",
      "\n",
      "....................................................................................................\n",
      "N                        : 0\n",
      "____________________________________________________________________________________________________\n",
      "\n",
      "parents                  : {(<__main__.Node object at 0x1197fa1d0>, 3)}\n",
      "____________________________________________________________________________________________________\n",
      "\n",
      "state                    : root_3\n",
      "____________________________________________________________________________________________________\n",
      "\n",
      "Q                        : 0\n",
      "____________________________________________________________________________________________________\n",
      "\n",
      "children                 : {}\n",
      "____________________________________________________________________________________________________\n",
      "\n",
      "....................................................................................................\n",
      "N                        : 0\n",
      "____________________________________________________________________________________________________\n",
      "\n",
      "parents                  : {(<__main__.Node object at 0x1197fa1d0>, 4)}\n",
      "____________________________________________________________________________________________________\n",
      "\n",
      "state                    : root_4\n",
      "____________________________________________________________________________________________________\n",
      "\n",
      "Q                        : 0\n",
      "____________________________________________________________________________________________________\n",
      "\n",
      "children                 : {}\n",
      "____________________________________________________________________________________________________\n",
      "\n",
      "....................................................................................................\n",
      "N                        : 1\n",
      "____________________________________________________________________________________________________\n",
      "\n",
      "parents                  : {(<__main__.Node object at 0x1198009e8>, 1)}\n",
      "____________________________________________________________________________________________________\n",
      "\n",
      "state                    : root_1_1\n",
      "____________________________________________________________________________________________________\n",
      "\n",
      "Q                        : 10\n",
      "____________________________________________________________________________________________________\n",
      "\n",
      "children                 : {}\n",
      "____________________________________________________________________________________________________\n",
      "\n",
      "....................................................................................................\n",
      "N                        : 1\n",
      "____________________________________________________________________________________________________\n",
      "\n",
      "parents                  : set()\n",
      "____________________________________________________________________________________________________\n",
      "\n",
      "state                    : root\n",
      "____________________________________________________________________________________________________\n",
      "\n",
      "Q                        : 10\n",
      "____________________________________________________________________________________________________\n",
      "\n",
      "children                 : {1: <__main__.Node object at 0x1198009e8>, 2: <__main__.Node object at 0x1197fa860>, 3: <__main__.Node object at 0x1198002b0>, 4: <__main__.Node object at 0x119800f60>}\n",
      "____________________________________________________________________________________________________\n",
      "\n"
     ]
    }
   ],
   "source": [
    "print(t)"
   ]
  },
  {
   "cell_type": "code",
   "execution_count": 91,
   "metadata": {
    "collapsed": true
   },
   "outputs": [],
   "source": [
    "def uct_search(root_state, \n",
    "               tree=None, \n",
    "               default_policy=default_random_policy,\n",
    "               player_id=1):\n",
    "    \"\"\" \n",
    "    If an existing tree is passed with a root_state different from \n",
    "    root state, the search will start in root_state, but will affect the whole\n",
    "    tree (upper nodes included).\n",
    "    The root_state HAS to be unique parent of all its children.\n",
    "    \"\"\"\n",
    "    root_n = Node(root_state)\n",
    "    if tree is None:\n",
    "        tree = Tree(root_n)\n",
    "    edge_node = tree_policy(root_n, tree)\n",
    "    reward = default_policy(edge_node.state, player_id)\n",
    "    backup_negamax(edge_node, reward)\n",
    "    best_root_child = best_child(root_n, 0)  # Greedy, so c = 0\n",
    "    best_root_action_l = [a for p, a in best_root_child.parents if p == root_n]\n",
    "    return best_root_action_l[0], tree"
   ]
  },
  {
   "cell_type": "code",
   "execution_count": 92,
   "metadata": {},
   "outputs": [
    {
     "name": "stdout",
     "output_type": "stream",
     "text": [
      "2\n",
      "iter 0: action 4\n",
      "iter 1: action 1\n",
      "iter 2: action 1\n",
      "iter 3: action 2\n",
      "iter 4: action 3\n",
      "iter 5: action 4\n",
      "iter 6: action 4\n",
      "iter 7: action 3\n",
      "iter 8: action 4\n",
      "iter 9: action 1\n",
      "iter 10: action 3\n",
      "iter 11: action 2\n",
      "iter 12: action 4\n",
      "iter 13: action 4\n",
      "iter 14: action 4\n",
      "iter 15: action 1\n",
      "iter 16: action 2\n",
      "iter 17: action 1\n",
      "iter 18: action 2\n",
      "iter 19: action 1\n",
      "iter 20: action 2\n",
      "iter 21: action 3\n",
      "iter 22: action 4\n",
      "iter 23: action 3\n",
      "iter 24: action 3\n",
      "iter 25: action 2\n",
      "iter 26: action 4\n",
      "iter 27: action 4\n",
      "iter 28: action 1\n",
      "iter 29: action 2\n",
      "iter 30: action 2\n",
      "iter 31: action 3\n",
      "iter 32: action 3\n",
      "iter 33: action 3\n",
      "iter 34: action 3\n",
      "iter 35: action 2\n",
      "iter 36: action 3\n",
      "iter 37: action 3\n",
      "iter 38: action 1\n",
      "iter 39: action 3\n",
      "iter 40: action 3\n",
      "iter 41: action 4\n",
      "iter 42: action 3\n",
      "iter 43: action 4\n",
      "iter 44: action 1\n",
      "iter 45: action 3\n",
      "iter 46: action 1\n",
      "iter 47: action 3\n",
      "iter 48: action 3\n",
      "iter 49: action 2\n",
      "iter 50: action 2\n",
      "iter 51: action 2\n",
      "iter 52: action 2\n",
      "iter 53: action 3\n",
      "iter 54: action 4\n",
      "iter 55: action 3\n",
      "iter 56: action 1\n",
      "iter 57: action 1\n",
      "iter 58: action 3\n",
      "iter 59: action 3\n",
      "iter 60: action 4\n",
      "iter 61: action 1\n",
      "iter 62: action 2\n",
      "iter 63: action 4\n",
      "iter 64: action 3\n",
      "iter 65: action 1\n",
      "iter 66: action 3\n",
      "iter 67: action 3\n",
      "iter 68: action 1\n",
      "iter 69: action 4\n",
      "iter 70: action 3\n",
      "iter 71: action 1\n",
      "iter 72: action 2\n",
      "iter 73: action 3\n",
      "iter 74: action 3\n",
      "iter 75: action 2\n",
      "iter 76: action 4\n",
      "iter 77: action 3\n",
      "iter 78: action 4\n",
      "iter 79: action 3\n",
      "iter 80: action 1\n",
      "iter 81: action 4\n",
      "iter 82: action 2\n",
      "iter 83: action 2\n",
      "iter 84: action 1\n",
      "iter 85: action 3\n",
      "iter 86: action 4\n",
      "iter 87: action 4\n",
      "iter 88: action 1\n",
      "iter 89: action 3\n",
      "iter 90: action 4\n",
      "iter 91: action 4\n",
      "iter 92: action 2\n",
      "iter 93: action 2\n",
      "iter 94: action 3\n",
      "iter 95: action 3\n",
      "iter 96: action 2\n",
      "iter 97: action 2\n",
      "iter 98: action 3\n",
      "iter 99: action 1\n"
     ]
    }
   ],
   "source": [
    "action, tree = uct_search(root_s)\n",
    "print(action)\n",
    "for i in range(100):\n",
    "    action, tree = uct_search(root_s, tree)\n",
    "    print('iter {}: action {}'.format(i, action))\n",
    "    # Place to save the best move so far..."
   ]
  },
  {
   "cell_type": "code",
   "execution_count": null,
   "metadata": {
    "collapsed": true
   },
   "outputs": [],
   "source": []
  }
 ],
 "metadata": {
  "kernelspec": {
   "display_name": "aind",
   "language": "python",
   "name": "aind"
  },
  "language_info": {
   "codemirror_mode": {
    "name": "ipython",
    "version": 3
   },
   "file_extension": ".py",
   "mimetype": "text/x-python",
   "name": "python",
   "nbconvert_exporter": "python",
   "pygments_lexer": "ipython3",
   "version": "3.5.4"
  }
 },
 "nbformat": 4,
 "nbformat_minor": 2
}
