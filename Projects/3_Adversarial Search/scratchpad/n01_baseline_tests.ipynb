{
 "cells": [
  {
   "cell_type": "code",
   "execution_count": 2,
   "metadata": {},
   "outputs": [
    {
     "name": "stdout",
     "output_type": "stream",
     "text": [
      "Populating the interactive namespace from numpy and matplotlib\n",
      "The autoreload extension is already loaded. To reload it, use:\n",
      "  %reload_ext autoreload\n"
     ]
    }
   ],
   "source": [
    "import matplotlib.pyplot as plt\n",
    "import pandas as pd\n",
    "import numpy as np\n",
    "import sys\n",
    "\n",
    "%pylab inline\n",
    "pylab.rcParams['figure.figsize'] = (20.0, 10.0)\n",
    "\n",
    "%load_ext autoreload\n",
    "%autoreload 2\n",
    "\n",
    "sys.path.append('..')\n",
    "\n",
    "import isolation\n",
    "import sample_players\n",
    "import run_match\n",
    "import my_custom_player as custom"
   ]
  },
  {
   "cell_type": "code",
   "execution_count": 11,
   "metadata": {},
   "outputs": [],
   "source": [
    "# Just to avoid the \"no data.pickle\" error\n",
    "\n",
    "df = pd.DataFrame([])\n",
    "df.to_pickle('data.pickle')"
   ]
  },
  {
   "cell_type": "code",
   "execution_count": 13,
   "metadata": {},
   "outputs": [
    {
     "name": "stdout",
     "output_type": "stream",
     "text": [
      "Running 20 games:\n",
      "+++++-+++-+-+-++++++\n",
      "Running 20 games:\n",
      "++++-+-+++-++++++-+++\n",
      "Wins: 32, Games: 40, Ratio: 0.8\n"
     ]
    }
   ],
   "source": [
    "# Custom vs Minimax\n",
    "\n",
    "num_rounds = 10\n",
    "num_procs = 4\n",
    "agent1 = isolation.Agent(custom.CustomPlayer, \"Custom\")\n",
    "agent2 = isolation.Agent(sample_players.MinimaxPlayer, \"Minimax\")\n",
    "wins, num_games = run_match.play_matches(agent1, \n",
    "                                         agent2, \n",
    "                                         num_rounds, \n",
    "                                         num_procs, \n",
    "                                         fair_matches=True)\n",
    "print('Wins: {}, Games: {}, Ratio: {}%'.format(wins, \n",
    "                                               num_games, \n",
    "                                               wins / num_games))"
   ]
  },
  {
   "cell_type": "code",
   "execution_count": 15,
   "metadata": {},
   "outputs": [
    {
     "name": "stdout",
     "output_type": "stream",
     "text": [
      "Running 20 games:\n",
      "++++++++++++-+++-++-+\n",
      "Running 20 games:\n",
      "-----+--+++-++++---+-\n",
      "Wins: 25, Games: 40, Ratio: 0.625\n"
     ]
    }
   ],
   "source": [
    "# Custom vs Custom\n",
    "\n",
    "num_rounds = 10\n",
    "num_procs = 4\n",
    "agent1 = isolation.Agent(custom.CustomPlayer, \"Custom1\")\n",
    "agent2 = isolation.Agent(custom.CustomPlayer, \"Custom2\")\n",
    "wins, num_games = run_match.play_matches(agent1, \n",
    "                                         agent2, \n",
    "                                         num_rounds, \n",
    "                                         num_procs, \n",
    "                                         fair_matches=True)\n",
    "print('Wins: {}, Games: {}, Ratio: {}'.format(wins, \n",
    "                                              num_games, \n",
    "                                              wins / num_games))"
   ]
  },
  {
   "cell_type": "code",
   "execution_count": 16,
   "metadata": {},
   "outputs": [
    {
     "name": "stdout",
     "output_type": "stream",
     "text": [
      "Running 20 games:\n",
      "++-++++-++++++++-++++\n",
      "Running 20 games:\n",
      "--+++++++++++++-++++++++\n",
      "Wins: 35, Games: 40, Ratio: 0.875\n"
     ]
    }
   ],
   "source": [
    "# Custom vs Greedy\n",
    "\n",
    "num_rounds = 10\n",
    "num_procs = 4\n",
    "agent1 = isolation.Agent(custom.CustomPlayer, \"Custom\")\n",
    "agent2 = isolation.Agent(sample_players.GreedyPlayer, \"Greedy\")\n",
    "wins, num_games = run_match.play_matches(agent1, \n",
    "                                         agent2, \n",
    "                                         num_rounds, \n",
    "                                         num_procs, \n",
    "                                         fair_matches=True)\n",
    "print('Wins: {}, Games: {}, Ratio: {}'.format(wins, \n",
    "                                              num_games, \n",
    "                                              wins / num_games))"
   ]
  },
  {
   "cell_type": "markdown",
   "metadata": {},
   "source": [
    "## Let's test the playing time"
   ]
  },
  {
   "cell_type": "code",
   "execution_count": 17,
   "metadata": {},
   "outputs": [
    {
     "name": "stdout",
     "output_type": "stream",
     "text": [
      "Running 20 games:\n",
      "+++-+++-+-+--++-++-+-\n",
      "Running 20 games:\n",
      "--++--+--+---+++-+--+\n",
      "Wins: 20, Games: 40, Ratio: 0.5\n",
      "Total time: 125.86879205703735, Time per game: 3.1467198014259337\n"
     ]
    }
   ],
   "source": [
    "# Custom vs Custom\n",
    "from time import time\n",
    "\n",
    "num_rounds = 10\n",
    "num_procs = 4\n",
    "agent1 = isolation.Agent(custom.CustomPlayer, \"Custom1\")\n",
    "agent2 = isolation.Agent(custom.CustomPlayer, \"Custom2\")\n",
    "\n",
    "tic = time()\n",
    "wins, num_games = run_match.play_matches(agent1, \n",
    "                                         agent2, \n",
    "                                         num_rounds, \n",
    "                                         num_procs, \n",
    "                                         fair_matches=True)\n",
    "toc = time()\n",
    "print('Wins: {}, Games: {}, Ratio: {}'.format(wins, \n",
    "                                              num_games, \n",
    "                                              wins / num_games))\n",
    "print('Total time: {}, Time per game: {}'.format((toc-tic), (toc-tic)/num_games))"
   ]
  },
  {
   "cell_type": "code",
   "execution_count": null,
   "metadata": {
    "collapsed": true
   },
   "outputs": [],
   "source": []
  }
 ],
 "metadata": {
  "kernelspec": {
   "display_name": "aind",
   "language": "python",
   "name": "aind"
  },
  "language_info": {
   "codemirror_mode": {
    "name": "ipython",
    "version": 3
   },
   "file_extension": ".py",
   "mimetype": "text/x-python",
   "name": "python",
   "nbconvert_exporter": "python",
   "pygments_lexer": "ipython3",
   "version": "3.5.4"
  }
 },
 "nbformat": 4,
 "nbformat_minor": 2
}
