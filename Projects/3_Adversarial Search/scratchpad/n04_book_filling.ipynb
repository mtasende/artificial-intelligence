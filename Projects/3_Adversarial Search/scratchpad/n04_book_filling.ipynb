{
 "cells": [
  {
   "cell_type": "code",
   "execution_count": 1,
   "metadata": {},
   "outputs": [
    {
     "name": "stdout",
     "output_type": "stream",
     "text": [
      "Populating the interactive namespace from numpy and matplotlib\n"
     ]
    },
    {
     "name": "stderr",
     "output_type": "stream",
     "text": [
      "/home/miguel/anaconda3/envs/aind/lib/python3.5/site-packages/IPython/core/magics/pylab.py:160: UserWarning: pylab import has clobbered these variables: ['time']\n",
      "`%matplotlib` prevents importing * from pylab and numpy\n",
      "  \"\\n`%matplotlib` prevents importing * from pylab and numpy\"\n"
     ]
    }
   ],
   "source": [
    "import matplotlib.pyplot as plt\n",
    "import pandas as pd\n",
    "import numpy as np\n",
    "import sys\n",
    "from time import time\n",
    "import os\n",
    "\n",
    "%pylab inline\n",
    "pylab.rcParams['figure.figsize'] = (20.0, 10.0)\n",
    "\n",
    "%load_ext autoreload\n",
    "%autoreload 2\n",
    "\n",
    "sys.path.append('..')\n",
    "\n",
    "import isolation\n",
    "import sample_players\n",
    "import run_match\n",
    "import my_baseline_player as custom\n",
    "import book as b\n",
    "\n",
    "from multiprocessing.pool import ThreadPool as Pool"
   ]
  },
  {
   "cell_type": "code",
   "execution_count": 2,
   "metadata": {},
   "outputs": [
    {
     "name": "stdout",
     "output_type": "stream",
     "text": [
      "Generated 29403 matches.\n"
     ]
    }
   ],
   "source": [
    "# Constant parameteres\n",
    "time_limit = 150\n",
    "depth = 4\n",
    "full_search_depth = 2\n",
    "matches_per_opening = 3\n",
    "\n",
    "# Create the agents that will play\n",
    "agent_names = ('CustomPlayer1', 'CustomPlayer2')\n",
    "agent1 = isolation.Agent(custom.CustomPlayer, agent_names[0])\n",
    "agent2 = isolation.Agent(custom.CustomPlayer, agent_names[1])\n",
    "agents = (agent1, agent2)\n",
    "\n",
    "# Get the initial states\n",
    "root = isolation.isolation.Isolation()\n",
    "opening_states = list(b.get_full_states(root, depth=full_search_depth))\n",
    "\n",
    "# Generate the matches\n",
    "matches = [(agents, state, time_limit, match_id) \n",
    "           for match_id, state in enumerate(opening_states)]\n",
    "matches = matches * 3\n",
    "print('Generated {} matches.'.format(len(matches)))"
   ]
  },
  {
   "cell_type": "code",
   "execution_count": 3,
   "metadata": {},
   "outputs": [
    {
     "name": "stdout",
     "output_type": "stream",
     "text": [
      "Processing batch 243 of 295\n",
      "Batch time 278.6398425102234 seconds.\n",
      "Saving: book2018-06-20_07S32S15.097174.pkl\n",
      "rm book2018-06-19_23S29S48.284381.pkl\n",
      "Processing batch 244 of 295\n",
      "Batch time 273.47703528404236 seconds.\n",
      "Saving: book2018-06-20_07S36S49.254472.pkl\n",
      "rm book2018-06-20_07S32S15.097174.pkl\n",
      "Processing batch 245 of 295\n",
      "Batch time 274.8106195926666 seconds.\n",
      "Saving: book2018-06-20_07S41S24.666917.pkl\n",
      "rm book2018-06-20_07S36S49.254472.pkl\n",
      "Processing batch 246 of 295\n",
      "Batch time 275.98363161087036 seconds.\n",
      "Saving: book2018-06-20_07S46S01.283919.pkl\n",
      "rm book2018-06-20_07S41S24.666917.pkl\n",
      "Processing batch 247 of 295\n",
      "Batch time 267.88091468811035 seconds.\n",
      "Saving: book2018-06-20_07S50S29.772492.pkl\n",
      "rm book2018-06-20_07S46S01.283919.pkl\n",
      "Processing batch 248 of 295\n",
      "Batch time 274.3075478076935 seconds.\n",
      "Saving: book2018-06-20_07S55S04.645943.pkl\n",
      "rm book2018-06-20_07S50S29.772492.pkl\n",
      "Processing batch 249 of 295\n",
      "Batch time 269.51369881629944 seconds.\n",
      "Saving: book2018-06-20_07S59S34.753640.pkl\n",
      "rm book2018-06-20_07S55S04.645943.pkl\n",
      "Processing batch 250 of 295\n",
      "Batch time 278.3875455856323 seconds.\n",
      "Saving: book2018-06-20_08S04S13.714880.pkl\n",
      "rm book2018-06-20_07S59S34.753640.pkl\n",
      "Processing batch 251 of 295\n",
      "Batch time 272.3478088378906 seconds.\n",
      "Saving: book2018-06-20_08S08S46.659127.pkl\n",
      "rm book2018-06-20_08S04S13.714880.pkl\n",
      "Processing batch 252 of 295\n",
      "Batch time 286.8205738067627 seconds.\n",
      "Saving: book2018-06-20_08S13S34.069938.pkl\n",
      "rm book2018-06-20_08S08S46.659127.pkl\n",
      "Processing batch 253 of 295\n",
      "Batch time 274.77910137176514 seconds.\n",
      "Saving: book2018-06-20_08S18S09.446953.pkl\n",
      "rm book2018-06-20_08S13S34.069938.pkl\n",
      "Processing batch 254 of 295\n",
      "Batch time 274.8938581943512 seconds.\n",
      "Saving: book2018-06-20_08S22S44.914617.pkl\n",
      "rm book2018-06-20_08S18S09.446953.pkl\n",
      "Processing batch 255 of 295\n",
      "Batch time 273.45258831977844 seconds.\n",
      "Saving: book2018-06-20_08S27S18.958317.pkl\n",
      "rm book2018-06-20_08S22S44.914617.pkl\n",
      "Processing batch 256 of 295\n",
      "Batch time 276.5440468788147 seconds.\n",
      "Saving: book2018-06-20_08S31S56.075442.pkl\n",
      "rm book2018-06-20_08S27S18.958317.pkl\n",
      "Processing batch 257 of 295\n",
      "Batch time 275.5763716697693 seconds.\n",
      "Saving: book2018-06-20_08S36S32.218036.pkl\n",
      "rm book2018-06-20_08S31S56.075442.pkl\n",
      "Processing batch 258 of 295\n",
      "Batch time 276.33995366096497 seconds.\n",
      "Saving: book2018-06-20_08S41S09.148773.pkl\n",
      "rm book2018-06-20_08S36S32.218036.pkl\n",
      "Processing batch 259 of 295\n",
      "Batch time 287.2334053516388 seconds.\n",
      "Saving: book2018-06-20_08S45S56.955801.pkl\n",
      "rm book2018-06-20_08S41S09.148773.pkl\n",
      "Processing batch 260 of 295\n",
      "Batch time 280.4076986312866 seconds.\n",
      "Saving: book2018-06-20_08S50S37.958782.pkl\n",
      "rm book2018-06-20_08S45S56.955801.pkl\n",
      "Processing batch 261 of 295\n",
      "Batch time 277.07029008865356 seconds.\n",
      "Saving: book2018-06-20_08S55S15.597068.pkl\n",
      "rm book2018-06-20_08S50S37.958782.pkl\n",
      "Processing batch 262 of 295\n",
      "Batch time 271.7642912864685 seconds.\n",
      "Saving: book2018-06-20_08S59S47.956062.pkl\n",
      "rm book2018-06-20_08S55S15.597068.pkl\n",
      "Processing batch 263 of 295\n",
      "Batch time 281.2433819770813 seconds.\n",
      "Saving: book2018-06-20_09S04S29.774438.pkl\n",
      "rm book2018-06-20_08S59S47.956062.pkl\n",
      "Processing batch 264 of 295\n",
      "Batch time 277.2353298664093 seconds.\n",
      "Saving: book2018-06-20_09S09S07.607313.pkl\n",
      "rm book2018-06-20_09S04S29.774438.pkl\n",
      "Processing batch 265 of 295\n",
      "Batch time 279.18062567710876 seconds.\n",
      "Saving: book2018-06-20_09S13S47.368708.pkl\n",
      "rm book2018-06-20_09S09S07.607313.pkl\n",
      "Processing batch 266 of 295\n",
      "Batch time 285.34014081954956 seconds.\n",
      "Saving: book2018-06-20_09S18S33.306716.pkl\n",
      "rm book2018-06-20_09S13S47.368708.pkl\n",
      "Processing batch 267 of 295\n",
      "Batch time 273.02638053894043 seconds.\n",
      "Saving: book2018-06-20_09S23S06.931109.pkl\n",
      "rm book2018-06-20_09S18S33.306716.pkl\n",
      "Processing batch 268 of 295\n",
      "Batch time 274.12635803222656 seconds.\n",
      "Saving: book2018-06-20_09S27S41.624270.pkl\n",
      "rm book2018-06-20_09S23S06.931109.pkl\n",
      "Processing batch 269 of 295\n",
      "Batch time 275.3226900100708 seconds.\n",
      "Saving: book2018-06-20_09S32S17.522788.pkl\n",
      "rm book2018-06-20_09S27S41.624270.pkl\n",
      "Processing batch 270 of 295\n",
      "Batch time 271.0670928955078 seconds.\n",
      "Saving: book2018-06-20_09S36S49.186262.pkl\n",
      "rm book2018-06-20_09S32S17.522788.pkl\n",
      "Processing batch 271 of 295\n",
      "Batch time 279.8462162017822 seconds.\n",
      "Saving: book2018-06-20_09S41S29.601359.pkl\n",
      "rm book2018-06-20_09S36S49.186262.pkl\n",
      "Processing batch 272 of 295\n",
      "Batch time 273.0634095668793 seconds.\n",
      "Saving: book2018-06-20_09S46S03.257869.pkl\n",
      "rm book2018-06-20_09S41S29.601359.pkl\n",
      "Processing batch 273 of 295\n",
      "Batch time 270.63951444625854 seconds.\n",
      "Saving: book2018-06-20_09S50S34.466587.pkl\n",
      "rm book2018-06-20_09S46S03.257869.pkl\n",
      "Processing batch 274 of 295\n",
      "Batch time 288.83028268814087 seconds.\n",
      "Saving: book2018-06-20_09S55S23.881496.pkl\n",
      "rm book2018-06-20_09S50S34.466587.pkl\n",
      "Processing batch 275 of 295\n",
      "Batch time 279.7257785797119 seconds.\n",
      "Saving: book2018-06-20_10S00S04.205349.pkl\n",
      "rm book2018-06-20_09S55S23.881496.pkl\n",
      "Processing batch 276 of 295\n",
      "Batch time 278.69209909439087 seconds.\n",
      "Saving: book2018-06-20_10S04S43.488272.pkl\n",
      "rm book2018-06-20_10S00S04.205349.pkl\n",
      "Processing batch 277 of 295\n",
      "Batch time 281.69478130340576 seconds.\n",
      "Saving: book2018-06-20_10S09S25.771286.pkl\n",
      "rm book2018-06-20_10S04S43.488272.pkl\n",
      "Processing batch 278 of 295\n",
      "Batch time 283.440726518631 seconds.\n",
      "Saving: book2018-06-20_10S14S09.794967.pkl\n",
      "rm book2018-06-20_10S09S25.771286.pkl\n",
      "Processing batch 279 of 295\n",
      "Batch time 284.1024227142334 seconds.\n",
      "Saving: book2018-06-20_10S18S54.490086.pkl\n",
      "rm book2018-06-20_10S14S09.794967.pkl\n",
      "Processing batch 280 of 295\n",
      "Batch time 280.1425108909607 seconds.\n",
      "Saving: book2018-06-20_10S23S35.216991.pkl\n",
      "rm book2018-06-20_10S18S54.490086.pkl\n",
      "Processing batch 281 of 295\n",
      "Batch time 278.5319490432739 seconds.\n",
      "Saving: book2018-06-20_10S28S14.337447.pkl\n",
      "rm book2018-06-20_10S23S35.216991.pkl\n",
      "Processing batch 282 of 295\n",
      "Batch time 274.38956093788147 seconds.\n",
      "Saving: book2018-06-20_10S32S49.307766.pkl\n",
      "rm book2018-06-20_10S28S14.337447.pkl\n",
      "Processing batch 283 of 295\n",
      "Batch time 277.63413667678833 seconds.\n",
      "Saving: book2018-06-20_10S37S27.506498.pkl\n",
      "rm book2018-06-20_10S32S49.307766.pkl\n",
      "Processing batch 284 of 295\n",
      "Batch time 273.0120234489441 seconds.\n",
      "Saving: book2018-06-20_10S42S01.111177.pkl\n",
      "rm book2018-06-20_10S37S27.506498.pkl\n",
      "Processing batch 285 of 295\n",
      "Batch time 289.0453989505768 seconds.\n",
      "Saving: book2018-06-20_10S46S50.714052.pkl\n",
      "rm book2018-06-20_10S42S01.111177.pkl\n",
      "Processing batch 286 of 295\n",
      "Batch time 277.37022137641907 seconds.\n",
      "Saving: book2018-06-20_10S51S28.674822.pkl\n",
      "rm book2018-06-20_10S46S50.714052.pkl\n",
      "Processing batch 287 of 295\n",
      "Batch time 269.9294240474701 seconds.\n",
      "Saving: book2018-06-20_10S55S59.188708.pkl\n",
      "rm book2018-06-20_10S51S28.674822.pkl\n",
      "Processing batch 288 of 295\n",
      "Batch time 274.2661488056183 seconds.\n",
      "Saving: book2018-06-20_11S00S34.037923.pkl\n",
      "rm book2018-06-20_10S55S59.188708.pkl\n",
      "Processing batch 289 of 295\n",
      "Batch time 274.76533365249634 seconds.\n",
      "Saving: book2018-06-20_11S05S09.377265.pkl\n",
      "rm book2018-06-20_11S00S34.037923.pkl\n",
      "Processing batch 290 of 295\n",
      "Batch time 273.59490156173706 seconds.\n",
      "Saving: book2018-06-20_11S09S43.551590.pkl\n",
      "rm book2018-06-20_11S05S09.377265.pkl\n",
      "Processing batch 291 of 295\n",
      "Batch time 279.88312673568726 seconds.\n",
      "Saving: book2018-06-20_11S14S24.009173.pkl\n",
      "rm book2018-06-20_11S09S43.551590.pkl\n",
      "Processing batch 292 of 295\n",
      "Batch time 285.2116241455078 seconds.\n",
      "Saving: book2018-06-20_11S19S09.809849.pkl\n",
      "rm book2018-06-20_11S14S24.009173.pkl\n",
      "Processing batch 293 of 295\n",
      "Batch time 276.98991537094116 seconds.\n",
      "Saving: book2018-06-20_11S23S47.388209.pkl\n",
      "rm book2018-06-20_11S19S09.809849.pkl\n",
      "Processing batch 294 of 295\n",
      "Batch time 14.98011040687561 seconds.\n",
      "Saving: book2018-06-20_11S24S02.949324.pkl\n",
      "rm book2018-06-20_11S23S47.388209.pkl\n"
     ]
    }
   ],
   "source": [
    "num_processes = 4\n",
    "batch_size = 100\n",
    "batch_num_file = 'batch_num.txt'\n",
    "\n",
    "# Small test for debugging\n",
    "# matches = matches[:100]\n",
    "\n",
    "# Create or load the book\n",
    "book = b.load_latest_book(depth=depth)\n",
    "\n",
    "# Make some batches to save the results once in a while\n",
    "x = matches\n",
    "batches = [x[i*batch_size:(i+1)*batch_size] \n",
    "           for i in range(len(x) // batch_size + (len(x) % batch_size != 0))]\n",
    "\n",
    "# Get only the unprocessed batches\n",
    "if os.path.exists(batch_num_file):\n",
    "    with open(batch_num_file, 'r') as file:\n",
    "        last_batch = int(file.read())\n",
    "else:\n",
    "    last_batch = -1\n",
    "\n",
    "# Now fill the book!\n",
    "pool = Pool(num_processes)\n",
    "\n",
    "for batch_num in range(last_batch + 1, len(batches)):\n",
    "    tic = time.time()\n",
    "    batch = batches[batch_num]\n",
    "    print('Processing batch {} of {}'.format(batch_num, len(batches)))\n",
    "    for result in pool.imap_unordered(isolation.play, batch):\n",
    "        winner, game_history, match_id = result\n",
    "        # print('Results for match {}: {} wins.'.format(match_id, winner.name))\n",
    "        _, state, _, _ = matches[match_id]\n",
    "        if state.locs[1] is not None:\n",
    "            game_history.insert(0,state.locs[1])\n",
    "        if state.locs[0] is not None:\n",
    "            game_history.insert(0,state.locs[0])\n",
    "        root = isolation.isolation.Isolation()\n",
    "        b.process_game_history(root,\n",
    "                               game_history, \n",
    "                               book,\n",
    "                               agent_names.index(winner.name),\n",
    "                               active_player=state.ply_count % 2,\n",
    "                               depth=depth)\n",
    "    toc = time.time()\n",
    "    print('Batch time {} seconds.'.format((toc-tic)))\n",
    "    b.save_book(book)\n",
    "    with open(batch_num_file, 'w') as file:\n",
    "        file.write(str(batch_num))\n",
    "    b.remove_old_books()"
   ]
  },
  {
   "cell_type": "code",
   "execution_count": null,
   "metadata": {
    "collapsed": true
   },
   "outputs": [],
   "source": []
  },
  {
   "cell_type": "code",
   "execution_count": 4,
   "metadata": {},
   "outputs": [
    {
     "data": {
      "text/plain": [
       "131645"
      ]
     },
     "execution_count": 4,
     "metadata": {},
     "output_type": "execute_result"
    }
   ],
   "source": [
    "sum(abs(value[0]) for value in book.values())"
   ]
  },
  {
   "cell_type": "code",
   "execution_count": 5,
   "metadata": {},
   "outputs": [
    {
     "data": {
      "text/plain": [
       "382239"
      ]
     },
     "execution_count": 5,
     "metadata": {},
     "output_type": "execute_result"
    }
   ],
   "source": [
    "sum(abs(value[1]) for value in book.values())"
   ]
  },
  {
   "cell_type": "code",
   "execution_count": 6,
   "metadata": {},
   "outputs": [
    {
     "data": {
      "text/plain": [
       "27.7695"
      ]
     },
     "execution_count": 6,
     "metadata": {},
     "output_type": "execute_result"
    }
   ],
   "source": [
    "29403*34 / (10*3600)  # Estimated time in hours"
   ]
  },
  {
   "cell_type": "code",
   "execution_count": 7,
   "metadata": {
    "collapsed": true
   },
   "outputs": [],
   "source": [
    "import pandas as pd\n",
    "\n",
    "v = pd.Series([v[0] for v in book.values()])"
   ]
  },
  {
   "cell_type": "code",
   "execution_count": 8,
   "metadata": {},
   "outputs": [
    {
     "data": {
      "text/plain": [
       "<matplotlib.axes._subplots.AxesSubplot at 0x7f81f0530828>"
      ]
     },
     "execution_count": 8,
     "metadata": {},
     "output_type": "execute_result"
    },
    {
     "data": {
      "image/png": "[encoded data removed]",
      "text/plain": [
       "<matplotlib.figure.Figure at 0x7f8218857b38>"
      ]
     },
     "metadata": {},
     "output_type": "display_data"
    }
   ],
   "source": [
    "v.hist(bins=50)"
   ]
  },
  {
   "cell_type": "code",
   "execution_count": 9,
   "metadata": {},
   "outputs": [
    {
     "data": {
      "text/plain": [
       "count    374097.000000\n",
       "mean         -0.000345\n",
       "std           1.359358\n",
       "min        -132.000000\n",
       "25%           0.000000\n",
       "50%           0.000000\n",
       "75%           0.000000\n",
       "max          82.000000\n",
       "dtype: float64"
      ]
     },
     "execution_count": 9,
     "metadata": {},
     "output_type": "execute_result"
    }
   ],
   "source": [
    "v.describe()"
   ]
  },
  {
   "cell_type": "code",
   "execution_count": 10,
   "metadata": {},
   "outputs": [
    {
     "data": {
      "text/plain": [
       "-132"
      ]
     },
     "execution_count": 10,
     "metadata": {},
     "output_type": "execute_result"
    }
   ],
   "source": [
    "v.min()"
   ]
  },
  {
   "cell_type": "code",
   "execution_count": 11,
   "metadata": {},
   "outputs": [
    {
     "data": {
      "text/plain": [
       "(Isolation(board=41523161203939122082683632224299007, ply_count=0, locs=(None, None)),\n",
       " 57)"
      ]
     },
     "execution_count": 11,
     "metadata": {},
     "output_type": "execute_result"
    }
   ],
   "source": [
    "worst = min(((k, v) for k, v in book.items()), key=lambda x: x[1][0])\n",
    "worst[0]"
   ]
  },
  {
   "cell_type": "code",
   "execution_count": 12,
   "metadata": {},
   "outputs": [
    {
     "name": "stdout",
     "output_type": "stream",
     "text": [
      "\n",
      "+ - + - + - + - + - + - + - + - + - + - + - +\n",
      "|   |   |   |   |   |   |   |   |   |   |   |\n",
      "+ - + - + - + - + - + - + - + - + - + - + - +\n",
      "|   |   |   |   |   |   |   |   |   |   |   |\n",
      "+ - + - + - + - + - + - + - + - + - + - + - +\n",
      "|   |   |   |   |   |   |   |   |   |   |   |\n",
      "+ - + - + - + - + - + - + - + - + - + - + - +\n",
      "|   |   |   |   |   |   |   |   |   |   |   |\n",
      "+ - + - + - + - + - + - + - + - + - + - + - +\n",
      "|   |   |   |   |   | 1 |   |   |   |   |   |\n",
      "+ - + - + - + - + - + - + - + - + - + - + - +\n",
      "|   |   |   |   |   |   |   |   |   |   |   |\n",
      "+ - + - + - + - + - + - + - + - + - + - + - +\n",
      "|   |   |   |   |   |   |   |   |   |   |   |\n",
      "+ - + - + - + - + - + - + - + - + - + - + - +\n",
      "|   |   |   |   |   |   |   |   |   |   |   |\n",
      "+ - + - + - + - + - + - + - + - + - + - + - +\n",
      "|   |   |   |   |   |   |   |   |   |   |   |\n",
      "+ - + - + - + - + - + - + - + - + - + - + - +\n",
      "\n"
     ]
    }
   ],
   "source": [
    "from isolation.isolation import Isolation\n",
    "state = Isolation(board=41523161203939122082683632224299007, ply_count=0, locs=(None, None))\n",
    "\n",
    "print(isolation.DebugState.from_state(state.result(57)))"
   ]
  },
  {
   "cell_type": "markdown",
   "metadata": {
    "collapsed": true
   },
   "source": [
    "What about the other symmetrical ones"
   ]
  },
  {
   "cell_type": "code",
   "execution_count": 13,
   "metadata": {
    "collapsed": true
   },
   "outputs": [],
   "source": [
    "s1 = (Isolation(board=41523161203939122082683632224299007, ply_count=0, locs=(None, None)), 56)\n",
    "s2 = (Isolation(board=41523161203939122082683632224299007, ply_count=0, locs=(None, None)), 58)\n",
    "s3 = (Isolation(board=41523161203939122082683632224299007, ply_count=0, locs=(None, None)), 70)\n",
    "s4 = (Isolation(board=41523161203939122082683632224299007, ply_count=0, locs=(None, None)), 44)"
   ]
  },
  {
   "cell_type": "code",
   "execution_count": 14,
   "metadata": {},
   "outputs": [
    {
     "data": {
      "text/plain": [
       "[-54, 1186]"
      ]
     },
     "execution_count": 14,
     "metadata": {},
     "output_type": "execute_result"
    }
   ],
   "source": [
    "book[s1]"
   ]
  },
  {
   "cell_type": "code",
   "execution_count": 15,
   "metadata": {},
   "outputs": [
    {
     "data": {
      "text/plain": [
       "[-54, 1186]"
      ]
     },
     "execution_count": 15,
     "metadata": {},
     "output_type": "execute_result"
    }
   ],
   "source": [
    "book[s2]"
   ]
  },
  {
   "cell_type": "code",
   "execution_count": 16,
   "metadata": {},
   "outputs": [
    {
     "data": {
      "text/plain": [
       "[82, 1190]"
      ]
     },
     "execution_count": 16,
     "metadata": {},
     "output_type": "execute_result"
    }
   ],
   "source": [
    "book[s3]"
   ]
  },
  {
   "cell_type": "code",
   "execution_count": 17,
   "metadata": {},
   "outputs": [
    {
     "data": {
      "text/plain": [
       "[82, 1190]"
      ]
     },
     "execution_count": 17,
     "metadata": {},
     "output_type": "execute_result"
    }
   ],
   "source": [
    "book[s4]"
   ]
  },
  {
   "cell_type": "markdown",
   "metadata": {},
   "source": [
    "### I think I have ply_count=1,2,3,4 in the book but not ply_count=0"
   ]
  },
  {
   "cell_type": "code",
   "execution_count": 18,
   "metadata": {},
   "outputs": [
    {
     "data": {
      "text/plain": [
       "374097"
      ]
     },
     "execution_count": 18,
     "metadata": {},
     "output_type": "execute_result"
    }
   ],
   "source": [
    "len(book.items())"
   ]
  },
  {
   "cell_type": "markdown",
   "metadata": {},
   "source": [
    "### Idea: show a heat matrix for the initial move"
   ]
  },
  {
   "cell_type": "code",
   "execution_count": 19,
   "metadata": {
    "collapsed": true
   },
   "outputs": [],
   "source": [
    "first = {item:value[0] for item, value in book.items() if item[0].ply_count==0}"
   ]
  },
  {
   "cell_type": "code",
   "execution_count": 20,
   "metadata": {},
   "outputs": [
    {
     "data": {
      "text/plain": [
       "99"
      ]
     },
     "execution_count": 20,
     "metadata": {},
     "output_type": "execute_result"
    }
   ],
   "source": [
    "len(first)"
   ]
  },
  {
   "cell_type": "code",
   "execution_count": 21,
   "metadata": {},
   "outputs": [
    {
     "data": {
      "text/plain": [
       "{(Isolation(board=41523161203939122082683632224299007, ply_count=0, locs=(None, None)),\n",
       "  0): 37,\n",
       " (Isolation(board=41523161203939122082683632224299007, ply_count=0, locs=(None, None)),\n",
       "  1): 2,\n",
       " (Isolation(board=41523161203939122082683632224299007, ply_count=0, locs=(None, None)),\n",
       "  2): -56,\n",
       " (Isolation(board=41523161203939122082683632224299007, ply_count=0, locs=(None, None)),\n",
       "  3): -19,\n",
       " (Isolation(board=41523161203939122082683632224299007, ply_count=0, locs=(None, None)),\n",
       "  4): -13,\n",
       " (Isolation(board=41523161203939122082683632224299007, ply_count=0, locs=(None, None)),\n",
       "  5): 32,\n",
       " (Isolation(board=41523161203939122082683632224299007, ply_count=0, locs=(None, None)),\n",
       "  6): -13,\n",
       " (Isolation(board=41523161203939122082683632224299007, ply_count=0, locs=(None, None)),\n",
       "  7): -19,\n",
       " (Isolation(board=41523161203939122082683632224299007, ply_count=0, locs=(None, None)),\n",
       "  8): -56,\n",
       " (Isolation(board=41523161203939122082683632224299007, ply_count=0, locs=(None, None)),\n",
       "  9): 2,\n",
       " (Isolation(board=41523161203939122082683632224299007, ply_count=0, locs=(None, None)),\n",
       "  10): 37,\n",
       " (Isolation(board=41523161203939122082683632224299007, ply_count=0, locs=(None, None)),\n",
       "  13): -1,\n",
       " (Isolation(board=41523161203939122082683632224299007, ply_count=0, locs=(None, None)),\n",
       "  14): 62,\n",
       " (Isolation(board=41523161203939122082683632224299007, ply_count=0, locs=(None, None)),\n",
       "  15): 9,\n",
       " (Isolation(board=41523161203939122082683632224299007, ply_count=0, locs=(None, None)),\n",
       "  16): 17,\n",
       " (Isolation(board=41523161203939122082683632224299007, ply_count=0, locs=(None, None)),\n",
       "  17): -17,\n",
       " (Isolation(board=41523161203939122082683632224299007, ply_count=0, locs=(None, None)),\n",
       "  18): 42,\n",
       " (Isolation(board=41523161203939122082683632224299007, ply_count=0, locs=(None, None)),\n",
       "  19): -17,\n",
       " (Isolation(board=41523161203939122082683632224299007, ply_count=0, locs=(None, None)),\n",
       "  20): 17,\n",
       " (Isolation(board=41523161203939122082683632224299007, ply_count=0, locs=(None, None)),\n",
       "  21): 9,\n",
       " (Isolation(board=41523161203939122082683632224299007, ply_count=0, locs=(None, None)),\n",
       "  22): 62,\n",
       " (Isolation(board=41523161203939122082683632224299007, ply_count=0, locs=(None, None)),\n",
       "  23): -1,\n",
       " (Isolation(board=41523161203939122082683632224299007, ply_count=0, locs=(None, None)),\n",
       "  26): 23,\n",
       " (Isolation(board=41523161203939122082683632224299007, ply_count=0, locs=(None, None)),\n",
       "  27): -23,\n",
       " (Isolation(board=41523161203939122082683632224299007, ply_count=0, locs=(None, None)),\n",
       "  28): 12,\n",
       " (Isolation(board=41523161203939122082683632224299007, ply_count=0, locs=(None, None)),\n",
       "  29): 59,\n",
       " (Isolation(board=41523161203939122082683632224299007, ply_count=0, locs=(None, None)),\n",
       "  30): -85,\n",
       " (Isolation(board=41523161203939122082683632224299007, ply_count=0, locs=(None, None)),\n",
       "  31): -52,\n",
       " (Isolation(board=41523161203939122082683632224299007, ply_count=0, locs=(None, None)),\n",
       "  32): -85,\n",
       " (Isolation(board=41523161203939122082683632224299007, ply_count=0, locs=(None, None)),\n",
       "  33): 59,\n",
       " (Isolation(board=41523161203939122082683632224299007, ply_count=0, locs=(None, None)),\n",
       "  34): 12,\n",
       " (Isolation(board=41523161203939122082683632224299007, ply_count=0, locs=(None, None)),\n",
       "  35): -23,\n",
       " (Isolation(board=41523161203939122082683632224299007, ply_count=0, locs=(None, None)),\n",
       "  36): 23,\n",
       " (Isolation(board=41523161203939122082683632224299007, ply_count=0, locs=(None, None)),\n",
       "  39): -39,\n",
       " (Isolation(board=41523161203939122082683632224299007, ply_count=0, locs=(None, None)),\n",
       "  40): 30,\n",
       " (Isolation(board=41523161203939122082683632224299007, ply_count=0, locs=(None, None)),\n",
       "  41): 39,\n",
       " (Isolation(board=41523161203939122082683632224299007, ply_count=0, locs=(None, None)),\n",
       "  42): 20,\n",
       " (Isolation(board=41523161203939122082683632224299007, ply_count=0, locs=(None, None)),\n",
       "  43): -14,\n",
       " (Isolation(board=41523161203939122082683632224299007, ply_count=0, locs=(None, None)),\n",
       "  44): 82,\n",
       " (Isolation(board=41523161203939122082683632224299007, ply_count=0, locs=(None, None)),\n",
       "  45): -14,\n",
       " (Isolation(board=41523161203939122082683632224299007, ply_count=0, locs=(None, None)),\n",
       "  46): 20,\n",
       " (Isolation(board=41523161203939122082683632224299007, ply_count=0, locs=(None, None)),\n",
       "  47): 39,\n",
       " (Isolation(board=41523161203939122082683632224299007, ply_count=0, locs=(None, None)),\n",
       "  48): 30,\n",
       " (Isolation(board=41523161203939122082683632224299007, ply_count=0, locs=(None, None)),\n",
       "  49): -39,\n",
       " (Isolation(board=41523161203939122082683632224299007, ply_count=0, locs=(None, None)),\n",
       "  52): -98,\n",
       " (Isolation(board=41523161203939122082683632224299007, ply_count=0, locs=(None, None)),\n",
       "  53): 6,\n",
       " (Isolation(board=41523161203939122082683632224299007, ply_count=0, locs=(None, None)),\n",
       "  54): 30,\n",
       " (Isolation(board=41523161203939122082683632224299007, ply_count=0, locs=(None, None)),\n",
       "  55): -94,\n",
       " (Isolation(board=41523161203939122082683632224299007, ply_count=0, locs=(None, None)),\n",
       "  56): -54,\n",
       " (Isolation(board=41523161203939122082683632224299007, ply_count=0, locs=(None, None)),\n",
       "  57): -132,\n",
       " (Isolation(board=41523161203939122082683632224299007, ply_count=0, locs=(None, None)),\n",
       "  58): -54,\n",
       " (Isolation(board=41523161203939122082683632224299007, ply_count=0, locs=(None, None)),\n",
       "  59): -94,\n",
       " (Isolation(board=41523161203939122082683632224299007, ply_count=0, locs=(None, None)),\n",
       "  60): 30,\n",
       " (Isolation(board=41523161203939122082683632224299007, ply_count=0, locs=(None, None)),\n",
       "  61): 6,\n",
       " (Isolation(board=41523161203939122082683632224299007, ply_count=0, locs=(None, None)),\n",
       "  62): -98,\n",
       " (Isolation(board=41523161203939122082683632224299007, ply_count=0, locs=(None, None)),\n",
       "  65): -39,\n",
       " (Isolation(board=41523161203939122082683632224299007, ply_count=0, locs=(None, None)),\n",
       "  66): 30,\n",
       " (Isolation(board=41523161203939122082683632224299007, ply_count=0, locs=(None, None)),\n",
       "  67): 39,\n",
       " (Isolation(board=41523161203939122082683632224299007, ply_count=0, locs=(None, None)),\n",
       "  68): 20,\n",
       " (Isolation(board=41523161203939122082683632224299007, ply_count=0, locs=(None, None)),\n",
       "  69): -14,\n",
       " (Isolation(board=41523161203939122082683632224299007, ply_count=0, locs=(None, None)),\n",
       "  70): 82,\n",
       " (Isolation(board=41523161203939122082683632224299007, ply_count=0, locs=(None, None)),\n",
       "  71): -14,\n",
       " (Isolation(board=41523161203939122082683632224299007, ply_count=0, locs=(None, None)),\n",
       "  72): 20,\n",
       " (Isolation(board=41523161203939122082683632224299007, ply_count=0, locs=(None, None)),\n",
       "  73): 39,\n",
       " (Isolation(board=41523161203939122082683632224299007, ply_count=0, locs=(None, None)),\n",
       "  74): 30,\n",
       " (Isolation(board=41523161203939122082683632224299007, ply_count=0, locs=(None, None)),\n",
       "  75): -39,\n",
       " (Isolation(board=41523161203939122082683632224299007, ply_count=0, locs=(None, None)),\n",
       "  78): 23,\n",
       " (Isolation(board=41523161203939122082683632224299007, ply_count=0, locs=(None, None)),\n",
       "  79): -23,\n",
       " (Isolation(board=41523161203939122082683632224299007, ply_count=0, locs=(None, None)),\n",
       "  80): 12,\n",
       " (Isolation(board=41523161203939122082683632224299007, ply_count=0, locs=(None, None)),\n",
       "  81): 59,\n",
       " (Isolation(board=41523161203939122082683632224299007, ply_count=0, locs=(None, None)),\n",
       "  82): -85,\n",
       " (Isolation(board=41523161203939122082683632224299007, ply_count=0, locs=(None, None)),\n",
       "  83): -52,\n",
       " (Isolation(board=41523161203939122082683632224299007, ply_count=0, locs=(None, None)),\n",
       "  84): -85,\n",
       " (Isolation(board=41523161203939122082683632224299007, ply_count=0, locs=(None, None)),\n",
       "  85): 59,\n",
       " (Isolation(board=41523161203939122082683632224299007, ply_count=0, locs=(None, None)),\n",
       "  86): 12,\n",
       " (Isolation(board=41523161203939122082683632224299007, ply_count=0, locs=(None, None)),\n",
       "  87): -23,\n",
       " (Isolation(board=41523161203939122082683632224299007, ply_count=0, locs=(None, None)),\n",
       "  88): 23,\n",
       " (Isolation(board=41523161203939122082683632224299007, ply_count=0, locs=(None, None)),\n",
       "  91): -1,\n",
       " (Isolation(board=41523161203939122082683632224299007, ply_count=0, locs=(None, None)),\n",
       "  92): 62,\n",
       " (Isolation(board=41523161203939122082683632224299007, ply_count=0, locs=(None, None)),\n",
       "  93): 9,\n",
       " (Isolation(board=41523161203939122082683632224299007, ply_count=0, locs=(None, None)),\n",
       "  94): 17,\n",
       " (Isolation(board=41523161203939122082683632224299007, ply_count=0, locs=(None, None)),\n",
       "  95): -17,\n",
       " (Isolation(board=41523161203939122082683632224299007, ply_count=0, locs=(None, None)),\n",
       "  96): 42,\n",
       " (Isolation(board=41523161203939122082683632224299007, ply_count=0, locs=(None, None)),\n",
       "  97): -17,\n",
       " (Isolation(board=41523161203939122082683632224299007, ply_count=0, locs=(None, None)),\n",
       "  98): 17,\n",
       " (Isolation(board=41523161203939122082683632224299007, ply_count=0, locs=(None, None)),\n",
       "  99): 9,\n",
       " (Isolation(board=41523161203939122082683632224299007, ply_count=0, locs=(None, None)),\n",
       "  100): 62,\n",
       " (Isolation(board=41523161203939122082683632224299007, ply_count=0, locs=(None, None)),\n",
       "  101): -1,\n",
       " (Isolation(board=41523161203939122082683632224299007, ply_count=0, locs=(None, None)),\n",
       "  104): 37,\n",
       " (Isolation(board=41523161203939122082683632224299007, ply_count=0, locs=(None, None)),\n",
       "  105): 2,\n",
       " (Isolation(board=41523161203939122082683632224299007, ply_count=0, locs=(None, None)),\n",
       "  106): -56,\n",
       " (Isolation(board=41523161203939122082683632224299007, ply_count=0, locs=(None, None)),\n",
       "  107): -19,\n",
       " (Isolation(board=41523161203939122082683632224299007, ply_count=0, locs=(None, None)),\n",
       "  108): -13,\n",
       " (Isolation(board=41523161203939122082683632224299007, ply_count=0, locs=(None, None)),\n",
       "  109): 32,\n",
       " (Isolation(board=41523161203939122082683632224299007, ply_count=0, locs=(None, None)),\n",
       "  110): -13,\n",
       " (Isolation(board=41523161203939122082683632224299007, ply_count=0, locs=(None, None)),\n",
       "  111): -19,\n",
       " (Isolation(board=41523161203939122082683632224299007, ply_count=0, locs=(None, None)),\n",
       "  112): -56,\n",
       " (Isolation(board=41523161203939122082683632224299007, ply_count=0, locs=(None, None)),\n",
       "  113): 2,\n",
       " (Isolation(board=41523161203939122082683632224299007, ply_count=0, locs=(None, None)),\n",
       "  114): 37}"
      ]
     },
     "execution_count": 21,
     "metadata": {},
     "output_type": "execute_result"
    }
   ],
   "source": [
    "first"
   ]
  },
  {
   "cell_type": "code",
   "execution_count": 22,
   "metadata": {},
   "outputs": [
    {
     "data": {
      "text/plain": [
       "{0: 37,\n",
       " 1: 2,\n",
       " 2: -56,\n",
       " 3: -19,\n",
       " 4: -13,\n",
       " 5: 32,\n",
       " 6: -13,\n",
       " 7: -19,\n",
       " 8: -56,\n",
       " 9: 2,\n",
       " 10: 37,\n",
       " 13: -1,\n",
       " 14: 62,\n",
       " 15: 9,\n",
       " 16: 17,\n",
       " 17: -17,\n",
       " 18: 42,\n",
       " 19: -17,\n",
       " 20: 17,\n",
       " 21: 9,\n",
       " 22: 62,\n",
       " 23: -1,\n",
       " 26: 23,\n",
       " 27: -23,\n",
       " 28: 12,\n",
       " 29: 59,\n",
       " 30: -85,\n",
       " 31: -52,\n",
       " 32: -85,\n",
       " 33: 59,\n",
       " 34: 12,\n",
       " 35: -23,\n",
       " 36: 23,\n",
       " 39: -39,\n",
       " 40: 30,\n",
       " 41: 39,\n",
       " 42: 20,\n",
       " 43: -14,\n",
       " 44: 82,\n",
       " 45: -14,\n",
       " 46: 20,\n",
       " 47: 39,\n",
       " 48: 30,\n",
       " 49: -39,\n",
       " 52: -98,\n",
       " 53: 6,\n",
       " 54: 30,\n",
       " 55: -94,\n",
       " 56: -54,\n",
       " 57: -132,\n",
       " 58: -54,\n",
       " 59: -94,\n",
       " 60: 30,\n",
       " 61: 6,\n",
       " 62: -98,\n",
       " 65: -39,\n",
       " 66: 30,\n",
       " 67: 39,\n",
       " 68: 20,\n",
       " 69: -14,\n",
       " 70: 82,\n",
       " 71: -14,\n",
       " 72: 20,\n",
       " 73: 39,\n",
       " 74: 30,\n",
       " 75: -39,\n",
       " 78: 23,\n",
       " 79: -23,\n",
       " 80: 12,\n",
       " 81: 59,\n",
       " 82: -85,\n",
       " 83: -52,\n",
       " 84: -85,\n",
       " 85: 59,\n",
       " 86: 12,\n",
       " 87: -23,\n",
       " 88: 23,\n",
       " 91: -1,\n",
       " 92: 62,\n",
       " 93: 9,\n",
       " 94: 17,\n",
       " 95: -17,\n",
       " 96: 42,\n",
       " 97: -17,\n",
       " 98: 17,\n",
       " 99: 9,\n",
       " 100: 62,\n",
       " 101: -1,\n",
       " 104: 37,\n",
       " 105: 2,\n",
       " 106: -56,\n",
       " 107: -19,\n",
       " 108: -13,\n",
       " 109: 32,\n",
       " 110: -13,\n",
       " 111: -19,\n",
       " 112: -56,\n",
       " 113: 2,\n",
       " 114: 37}"
      ]
     },
     "execution_count": 22,
     "metadata": {},
     "output_type": "execute_result"
    }
   ],
   "source": [
    "pos_value = {key[1]:value for key,value in first.items()}\n",
    "pos_value"
   ]
  },
  {
   "cell_type": "code",
   "execution_count": 23,
   "metadata": {},
   "outputs": [
    {
     "data": {
      "text/plain": [
       "{0: 37,\n",
       " 1: 2,\n",
       " 2: -56,\n",
       " 3: -19,\n",
       " 4: -13,\n",
       " 5: 32,\n",
       " 6: -13,\n",
       " 7: -19,\n",
       " 8: -56,\n",
       " 9: 2,\n",
       " 10: 37,\n",
       " 11: 0,\n",
       " 12: 0,\n",
       " 13: -1,\n",
       " 14: 62,\n",
       " 15: 9,\n",
       " 16: 17,\n",
       " 17: -17,\n",
       " 18: 42,\n",
       " 19: -17,\n",
       " 20: 17,\n",
       " 21: 9,\n",
       " 22: 62,\n",
       " 23: -1,\n",
       " 24: 0,\n",
       " 25: 0,\n",
       " 26: 23,\n",
       " 27: -23,\n",
       " 28: 12,\n",
       " 29: 59,\n",
       " 30: -85,\n",
       " 31: -52,\n",
       " 32: -85,\n",
       " 33: 59,\n",
       " 34: 12,\n",
       " 35: -23,\n",
       " 36: 23,\n",
       " 37: 0,\n",
       " 38: 0,\n",
       " 39: -39,\n",
       " 40: 30,\n",
       " 41: 39,\n",
       " 42: 20,\n",
       " 43: -14,\n",
       " 44: 82,\n",
       " 45: -14,\n",
       " 46: 20,\n",
       " 47: 39,\n",
       " 48: 30,\n",
       " 49: -39,\n",
       " 50: 0,\n",
       " 51: 0,\n",
       " 52: -98,\n",
       " 53: 6,\n",
       " 54: 30,\n",
       " 55: -94,\n",
       " 56: -54,\n",
       " 57: -132,\n",
       " 58: -54,\n",
       " 59: -94,\n",
       " 60: 30,\n",
       " 61: 6,\n",
       " 62: -98,\n",
       " 63: 0,\n",
       " 64: 0,\n",
       " 65: -39,\n",
       " 66: 30,\n",
       " 67: 39,\n",
       " 68: 20,\n",
       " 69: -14,\n",
       " 70: 82,\n",
       " 71: -14,\n",
       " 72: 20,\n",
       " 73: 39,\n",
       " 74: 30,\n",
       " 75: -39,\n",
       " 76: 0,\n",
       " 77: 0,\n",
       " 78: 23,\n",
       " 79: -23,\n",
       " 80: 12,\n",
       " 81: 59,\n",
       " 82: -85,\n",
       " 83: -52,\n",
       " 84: -85,\n",
       " 85: 59,\n",
       " 86: 12,\n",
       " 87: -23,\n",
       " 88: 23,\n",
       " 89: 0,\n",
       " 90: 0,\n",
       " 91: -1,\n",
       " 92: 62,\n",
       " 93: 9,\n",
       " 94: 17,\n",
       " 95: -17,\n",
       " 96: 42,\n",
       " 97: -17,\n",
       " 98: 17,\n",
       " 99: 9,\n",
       " 100: 62,\n",
       " 101: -1,\n",
       " 102: 0,\n",
       " 103: 0,\n",
       " 104: 37,\n",
       " 105: 2,\n",
       " 106: -56,\n",
       " 107: -19,\n",
       " 108: -13,\n",
       " 109: 32,\n",
       " 110: -13,\n",
       " 111: -19,\n",
       " 112: -56,\n",
       " 113: 2,\n",
       " 114: 37}"
      ]
     },
     "execution_count": 23,
     "metadata": {},
     "output_type": "execute_result"
    }
   ],
   "source": [
    "filled_vals = dict(zip(range(115),[0]*115))\n",
    "filled_vals.update(pos_value)\n",
    "filled_vals"
   ]
  },
  {
   "cell_type": "code",
   "execution_count": 24,
   "metadata": {
    "collapsed": true
   },
   "outputs": [],
   "source": [
    "W = 11\n",
    "x = list(filled_vals.values())\n",
    "rows = [x[i*(W+2):(i+1)*(W+2)] \n",
    "           for i in range(len(x) // (W+2) + (len(x) % (W+2) != 0))]"
   ]
  },
  {
   "cell_type": "code",
   "execution_count": 25,
   "metadata": {},
   "outputs": [
    {
     "data": {
      "text/plain": [
       "[[37, 2, -56, -19, -13, 32, -13, -19, -56, 2, 37, 0, 0],\n",
       " [-1, 62, 9, 17, -17, 42, -17, 17, 9, 62, -1, 0, 0],\n",
       " [23, -23, 12, 59, -85, -52, -85, 59, 12, -23, 23, 0, 0],\n",
       " [-39, 30, 39, 20, -14, 82, -14, 20, 39, 30, -39, 0, 0],\n",
       " [-98, 6, 30, -94, -54, -132, -54, -94, 30, 6, -98, 0, 0],\n",
       " [-39, 30, 39, 20, -14, 82, -14, 20, 39, 30, -39, 0, 0],\n",
       " [23, -23, 12, 59, -85, -52, -85, 59, 12, -23, 23, 0, 0],\n",
       " [-1, 62, 9, 17, -17, 42, -17, 17, 9, 62, -1, 0, 0],\n",
       " [37, 2, -56, -19, -13, 32, -13, -19, -56, 2, 37]]"
      ]
     },
     "execution_count": 25,
     "metadata": {},
     "output_type": "execute_result"
    }
   ],
   "source": [
    "rows"
   ]
  },
  {
   "cell_type": "code",
   "execution_count": 26,
   "metadata": {},
   "outputs": [
    {
     "data": {
      "text/plain": [
       "[[37, 2, -56, -19, -13, 32, -13, -19, -56, 2, 37],\n",
       " [-1, 62, 9, 17, -17, 42, -17, 17, 9, 62, -1],\n",
       " [23, -23, 12, 59, -85, -52, -85, 59, 12, -23, 23],\n",
       " [-39, 30, 39, 20, -14, 82, -14, 20, 39, 30, -39],\n",
       " [-98, 6, 30, -94, -54, -132, -54, -94, 30, 6, -98],\n",
       " [-39, 30, 39, 20, -14, 82, -14, 20, 39, 30, -39],\n",
       " [23, -23, 12, 59, -85, -52, -85, 59, 12, -23, 23],\n",
       " [-1, 62, 9, 17, -17, 42, -17, 17, 9, 62, -1],\n",
       " [37, 2, -56, -19, -13, 32, -13, -19, -56, 2, 37]]"
      ]
     },
     "execution_count": 26,
     "metadata": {},
     "output_type": "execute_result"
    }
   ],
   "source": [
    "for i in range(len(rows)-1):\n",
    "    rows[i] =rows[i][:-2]\n",
    "rows"
   ]
  },
  {
   "cell_type": "code",
   "execution_count": 27,
   "metadata": {},
   "outputs": [
    {
     "data": {
      "text/plain": [
       "array([[  37,    2,  -56,  -19,  -13,   32,  -13,  -19,  -56,    2,   37],\n",
       "       [  -1,   62,    9,   17,  -17,   42,  -17,   17,    9,   62,   -1],\n",
       "       [  23,  -23,   12,   59,  -85,  -52,  -85,   59,   12,  -23,   23],\n",
       "       [ -39,   30,   39,   20,  -14,   82,  -14,   20,   39,   30,  -39],\n",
       "       [ -98,    6,   30,  -94,  -54, -132,  -54,  -94,   30,    6,  -98],\n",
       "       [ -39,   30,   39,   20,  -14,   82,  -14,   20,   39,   30,  -39],\n",
       "       [  23,  -23,   12,   59,  -85,  -52,  -85,   59,   12,  -23,   23],\n",
       "       [  -1,   62,    9,   17,  -17,   42,  -17,   17,    9,   62,   -1],\n",
       "       [  37,    2,  -56,  -19,  -13,   32,  -13,  -19,  -56,    2,   37]])"
      ]
     },
     "execution_count": 27,
     "metadata": {},
     "output_type": "execute_result"
    }
   ],
   "source": [
    "rows = np.array(rows)\n",
    "rows"
   ]
  },
  {
   "cell_type": "code",
   "execution_count": 28,
   "metadata": {
    "scrolled": true
   },
   "outputs": [
    {
     "data": {
      "text/plain": [
       "<matplotlib.axes._subplots.AxesSubplot at 0x7f81ba9ae748>"
      ]
     },
     "execution_count": 28,
     "metadata": {},
     "output_type": "execute_result"
    },
    {
     "data": {
      "image/png": "[encoded data removed]",
      "text/plain": [
       "<matplotlib.figure.Figure at 0x7f81ba99f940>"
      ]
     },
     "metadata": {},
     "output_type": "display_data"
    }
   ],
   "source": [
    "import seaborn as sns\n",
    "sns.heatmap(rows)"
   ]
  },
  {
   "cell_type": "code",
   "execution_count": 29,
   "metadata": {
    "collapsed": true
   },
   "outputs": [],
   "source": [
    "second = {item:value[0] for item, value in book.items() if item[0].ply_count==1}"
   ]
  },
  {
   "cell_type": "code",
   "execution_count": 30,
   "metadata": {},
   "outputs": [
    {
     "data": {
      "text/plain": [
       "9702"
      ]
     },
     "execution_count": 30,
     "metadata": {},
     "output_type": "execute_result"
    }
   ],
   "source": [
    "len(second)"
   ]
  },
  {
   "cell_type": "code",
   "execution_count": 31,
   "metadata": {},
   "outputs": [
    {
     "data": {
      "text/plain": [
       "count    9702.000000\n",
       "mean        0.017728\n",
       "std         5.311229\n",
       "min       -15.000000\n",
       "25%        -4.000000\n",
       "50%         0.000000\n",
       "75%         4.000000\n",
       "max        13.000000\n",
       "dtype: float64"
      ]
     },
     "execution_count": 31,
     "metadata": {},
     "output_type": "execute_result"
    }
   ],
   "source": [
    "pd.Series(list(second.values())).describe()"
   ]
  },
  {
   "cell_type": "code",
   "execution_count": 32,
   "metadata": {
    "collapsed": true
   },
   "outputs": [],
   "source": [
    "third = {item:value[0] for item, value in book.items() if item[0].ply_count==2}"
   ]
  },
  {
   "cell_type": "code",
   "execution_count": 33,
   "metadata": {},
   "outputs": [
    {
     "data": {
      "text/plain": [
       "55096"
      ]
     },
     "execution_count": 33,
     "metadata": {},
     "output_type": "execute_result"
    }
   ],
   "source": [
    "len(third)"
   ]
  },
  {
   "cell_type": "code",
   "execution_count": 34,
   "metadata": {},
   "outputs": [
    {
     "data": {
      "text/plain": [
       "count    55096.000000\n",
       "mean        -0.003122\n",
       "std          1.825351\n",
       "min         -8.000000\n",
       "25%         -1.000000\n",
       "50%          0.000000\n",
       "75%          1.000000\n",
       "max          6.000000\n",
       "dtype: float64"
      ]
     },
     "execution_count": 34,
     "metadata": {},
     "output_type": "execute_result"
    }
   ],
   "source": [
    "pd.Series(list(third.values())).describe()"
   ]
  },
  {
   "cell_type": "code",
   "execution_count": 35,
   "metadata": {},
   "outputs": [
    {
     "data": {
      "text/plain": [
       "309200"
      ]
     },
     "execution_count": 35,
     "metadata": {},
     "output_type": "execute_result"
    }
   ],
   "source": [
    "fourth = {item:value[0] for item, value in book.items() if item[0].ply_count==3}\n",
    "len(fourth)"
   ]
  },
  {
   "cell_type": "code",
   "execution_count": 36,
   "metadata": {},
   "outputs": [
    {
     "data": {
      "text/plain": [
       "count    309200.000000\n",
       "mean          0.000139\n",
       "std           0.375715\n",
       "min          -6.000000\n",
       "25%           0.000000\n",
       "50%           0.000000\n",
       "75%           0.000000\n",
       "max           6.000000\n",
       "dtype: float64"
      ]
     },
     "execution_count": 36,
     "metadata": {},
     "output_type": "execute_result"
    }
   ],
   "source": [
    "pd.Series(list(fourth.values())).describe()"
   ]
  },
  {
   "cell_type": "code",
   "execution_count": 37,
   "metadata": {},
   "outputs": [
    {
     "data": {
      "text/plain": [
       "32520"
      ]
     },
     "execution_count": 37,
     "metadata": {},
     "output_type": "execute_result"
    }
   ],
   "source": [
    "sum(np.array(list(third.values())) != 0)"
   ]
  },
  {
   "cell_type": "code",
   "execution_count": 38,
   "metadata": {},
   "outputs": [
    {
     "data": {
      "text/plain": [
       "10189"
      ]
     },
     "execution_count": 38,
     "metadata": {},
     "output_type": "execute_result"
    }
   ],
   "source": [
    "sum(np.array(list(fourth.values())) != 0)"
   ]
  },
  {
   "cell_type": "code",
   "execution_count": null,
   "metadata": {
    "collapsed": true
   },
   "outputs": [],
   "source": []
  },
  {
   "cell_type": "code",
   "execution_count": null,
   "metadata": {
    "collapsed": true
   },
   "outputs": [],
   "source": []
  }
 ],
 "metadata": {
  "kernelspec": {
   "display_name": "aind",
   "language": "python",
   "name": "aind"
  },
  "language_info": {
   "codemirror_mode": {
    "name": "ipython",
    "version": 3
   },
   "file_extension": ".py",
   "mimetype": "text/x-python",
   "name": "python",
   "nbconvert_exporter": "python",
   "pygments_lexer": "ipython3",
   "version": "3.5.4"
  }
 },
 "nbformat": 4,
 "nbformat_minor": 2
}
