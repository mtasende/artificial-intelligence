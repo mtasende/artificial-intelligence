{
 "cells": [
  {
   "cell_type": "code",
   "execution_count": 1,
   "metadata": {},
   "outputs": [
    {
     "name": "stdout",
     "output_type": "stream",
     "text": [
      "Populating the interactive namespace from numpy and matplotlib\n"
     ]
    },
    {
     "name": "stderr",
     "output_type": "stream",
     "text": [
      "/Users/antelinvestigacionydesarrollo/anaconda3/envs/aind/lib/python3.5/site-packages/IPython/core/magics/pylab.py:160: UserWarning: pylab import has clobbered these variables: ['time']\n",
      "`%matplotlib` prevents importing * from pylab and numpy\n",
      "  \"\\n`%matplotlib` prevents importing * from pylab and numpy\"\n"
     ]
    }
   ],
   "source": [
    "import matplotlib.pyplot as plt\n",
    "import pandas as pd\n",
    "import numpy as np\n",
    "import sys\n",
    "from time import time\n",
    "import os\n",
    "\n",
    "%pylab inline\n",
    "pylab.rcParams['figure.figsize'] = (20.0, 10.0)\n",
    "\n",
    "%load_ext autoreload\n",
    "%autoreload 2\n",
    "\n",
    "sys.path.append('..')\n",
    "\n",
    "import isolation\n",
    "import sample_players\n",
    "import run_match\n",
    "import my_baseline_player as custom\n",
    "import book as b\n",
    "\n",
    "from multiprocessing.pool import ThreadPool as Pool"
   ]
  },
  {
   "cell_type": "code",
   "execution_count": 2,
   "metadata": {},
   "outputs": [
    {
     "name": "stdout",
     "output_type": "stream",
     "text": [
      "Generated 29403 matches.\n"
     ]
    }
   ],
   "source": [
    "# Constant parameteres\n",
    "time_limit = 150\n",
    "depth = 4\n",
    "full_search_depth = 2\n",
    "matches_per_opening = 3\n",
    "\n",
    "# Create the agents that will play\n",
    "agent_names = ('CustomPlayer1', 'CustomPlayer2')\n",
    "agent1 = isolation.Agent(custom.CustomPlayer, agent_names[0])\n",
    "agent2 = isolation.Agent(custom.CustomPlayer, agent_names[1])\n",
    "agents = (agent1, agent2)\n",
    "\n",
    "# Get the initial states\n",
    "root = isolation.isolation.Isolation()\n",
    "opening_states = list(b.get_full_states(root, depth=full_search_depth))\n",
    "\n",
    "# Generate the matches\n",
    "matches = [(agents, state, time_limit, match_id) \n",
    "           for match_id, state in enumerate(opening_states)]\n",
    "matches = matches * 3\n",
    "print('Generated {} matches.'.format(len(matches)))"
   ]
  },
  {
   "cell_type": "code",
   "execution_count": null,
   "metadata": {},
   "outputs": [
    {
     "name": "stdout",
     "output_type": "stream",
     "text": [
      "Processing batch 1 of 295\n"
     ]
    }
   ],
   "source": [
    "num_processes = 4\n",
    "batch_size = 100\n",
    "batch_num_file = 'batch_num.txt'\n",
    "\n",
    "# Small test for debugging\n",
    "# matches = matches[:100]\n",
    "\n",
    "# Create or load the book\n",
    "book = b.load_latest_book(depth=depth)\n",
    "\n",
    "# Make some batches to save the results once in a while\n",
    "x = matches\n",
    "batches = [x[i*batch_size:(i+1)*batch_size] \n",
    "           for i in range(len(x) // batch_size + (len(x) % batch_size != 0))]\n",
    "\n",
    "# Get only the unprocessed batches\n",
    "if os.path.exists(batch_num_file):\n",
    "    with open(batch_num_file, 'r') as file:\n",
    "        last_batch = int(file.read())\n",
    "else:\n",
    "    last_batch = -1\n",
    "\n",
    "# Now fill the book!\n",
    "pool = Pool(num_processes)\n",
    "\n",
    "for batch_num in range(last_batch + 1, len(batches)):\n",
    "    tic = time.time()\n",
    "    batch = batches[batch_num]\n",
    "    print('Processing batch {} of {}'.format(batch_num, len(batches)))\n",
    "    for result in pool.imap_unordered(isolation.play, batch):\n",
    "        winner, game_history, match_id = result\n",
    "        # print('Results for match {}: {} wins.'.format(match_id, winner.name))\n",
    "        _, state, _, _ = matches[match_id]\n",
    "        if state.locs[1] is not None:\n",
    "            game_history.insert(0,state.locs[1])\n",
    "        if state.locs[0] is not None:\n",
    "            game_history.insert(0,state.locs[0])\n",
    "        root = isolation.isolation.Isolation()\n",
    "        b.process_game_history(root,\n",
    "                               game_history, \n",
    "                               book,\n",
    "                               agent_names.index(winner.name),\n",
    "                               active_player=state.ply_count % 2,\n",
    "                               depth=depth)\n",
    "    toc = time.time()\n",
    "    print('Batch time {} seconds.'.format((toc-tic)))\n",
    "    b.save_book(book)\n",
    "    with open(batch_num_file, 'w') as file:\n",
    "        file.write(str(batch_num))\n",
    "    b.remove_old_books()"
   ]
  },
  {
   "cell_type": "code",
   "execution_count": null,
   "metadata": {
    "collapsed": true
   },
   "outputs": [],
   "source": []
  },
  {
   "cell_type": "code",
   "execution_count": 4,
   "metadata": {},
   "outputs": [
    {
     "data": {
      "text/plain": [
       "1060"
      ]
     },
     "execution_count": 4,
     "metadata": {},
     "output_type": "execute_result"
    }
   ],
   "source": [
    "sum(abs(value[0]) for value in book.values())"
   ]
  },
  {
   "cell_type": "code",
   "execution_count": 5,
   "metadata": {},
   "outputs": [
    {
     "data": {
      "text/plain": [
       "1300"
      ]
     },
     "execution_count": 5,
     "metadata": {},
     "output_type": "execute_result"
    }
   ],
   "source": [
    "sum(abs(value[1]) for value in book.values())"
   ]
  },
  {
   "cell_type": "code",
   "execution_count": 6,
   "metadata": {},
   "outputs": [
    {
     "data": {
      "text/plain": [
       "27.7695"
      ]
     },
     "execution_count": 6,
     "metadata": {},
     "output_type": "execute_result"
    }
   ],
   "source": [
    "29403*34 / (10*3600)  # Estimated time in hours"
   ]
  },
  {
   "cell_type": "code",
   "execution_count": 7,
   "metadata": {},
   "outputs": [],
   "source": [
    "import pandas as pd\n",
    "\n",
    "v = pd.Series([v[0] for v in book.values()])"
   ]
  },
  {
   "cell_type": "code",
   "execution_count": 8,
   "metadata": {},
   "outputs": [
    {
     "data": {
      "text/plain": [
       "<matplotlib.axes._subplots.AxesSubplot at 0x10f744048>"
      ]
     },
     "execution_count": 8,
     "metadata": {},
     "output_type": "execute_result"
    },
    {
     "data": {
      "image/png": "[encoded data removed]",
      "text/plain": [
       "<matplotlib.figure.Figure at 0x1106373c8>"
      ]
     },
     "metadata": {},
     "output_type": "display_data"
    }
   ],
   "source": [
    "v.hist(bins=50)"
   ]
  },
  {
   "cell_type": "code",
   "execution_count": 9,
   "metadata": {},
   "outputs": [
    {
     "data": {
      "text/plain": [
       "count    374097.000000\n",
       "mean          0.000080\n",
       "std           0.060206\n",
       "min          -4.000000\n",
       "25%           0.000000\n",
       "50%           0.000000\n",
       "75%           0.000000\n",
       "max           5.000000\n",
       "dtype: float64"
      ]
     },
     "execution_count": 9,
     "metadata": {},
     "output_type": "execute_result"
    }
   ],
   "source": [
    "v.describe()"
   ]
  },
  {
   "cell_type": "code",
   "execution_count": 10,
   "metadata": {},
   "outputs": [
    {
     "data": {
      "text/plain": [
       "-4"
      ]
     },
     "execution_count": 10,
     "metadata": {},
     "output_type": "execute_result"
    }
   ],
   "source": [
    "v.min()"
   ]
  },
  {
   "cell_type": "code",
   "execution_count": 11,
   "metadata": {},
   "outputs": [
    {
     "data": {
      "text/plain": [
       "(Isolation(board=41523161203939122082683632224299007, ply_count=0, locs=(None, None)),\n",
       " 96)"
      ]
     },
     "execution_count": 11,
     "metadata": {},
     "output_type": "execute_result"
    }
   ],
   "source": [
    "worst = min(((k, v) for k, v in book.items()), key=lambda x: x[1][0])\n",
    "worst[0]"
   ]
  },
  {
   "cell_type": "code",
   "execution_count": 12,
   "metadata": {},
   "outputs": [
    {
     "name": "stdout",
     "output_type": "stream",
     "text": [
      "\n",
      "+ - + - + - + - + - + - + - + - + - + - + - +\n",
      "|   |   |   |   |   |   |   |   |   |   |   |\n",
      "+ - + - + - + - + - + - + - + - + - + - + - +\n",
      "|   |   |   |   |   |   |   |   |   |   |   |\n",
      "+ - + - + - + - + - + - + - + - + - + - + - +\n",
      "|   |   |   |   |   |   |   |   |   |   |   |\n",
      "+ - + - + - + - + - + - + - + - + - + - + - +\n",
      "|   |   |   |   |   |   |   |   |   |   |   |\n",
      "+ - + - + - + - + - + - + - + - + - + - + - +\n",
      "|   |   |   |   |   | 1 |   |   |   |   |   |\n",
      "+ - + - + - + - + - + - + - + - + - + - + - +\n",
      "|   |   |   |   |   |   |   |   |   |   |   |\n",
      "+ - + - + - + - + - + - + - + - + - + - + - +\n",
      "|   |   |   |   |   |   |   |   |   |   |   |\n",
      "+ - + - + - + - + - + - + - + - + - + - + - +\n",
      "|   |   |   |   |   |   |   |   |   |   |   |\n",
      "+ - + - + - + - + - + - + - + - + - + - + - +\n",
      "|   |   |   |   |   |   |   |   |   |   |   |\n",
      "+ - + - + - + - + - + - + - + - + - + - + - +\n",
      "\n"
     ]
    }
   ],
   "source": [
    "from isolation.isolation import Isolation\n",
    "state = Isolation(board=41523161203939122082683632224299007, ply_count=0, locs=(None, None))\n",
    "\n",
    "print(isolation.DebugState.from_state(state.result(57)))"
   ]
  },
  {
   "cell_type": "markdown",
   "metadata": {
    "collapsed": true
   },
   "source": [
    "What about the other symmetrical ones"
   ]
  },
  {
   "cell_type": "code",
   "execution_count": 13,
   "metadata": {
    "collapsed": true
   },
   "outputs": [],
   "source": [
    "s1 = (Isolation(board=41523161203939122082683632224299007, ply_count=0, locs=(None, None)), 56)\n",
    "s2 = (Isolation(board=41523161203939122082683632224299007, ply_count=0, locs=(None, None)), 58)\n",
    "s3 = (Isolation(board=41523161203939122082683632224299007, ply_count=0, locs=(None, None)), 70)\n",
    "s4 = (Isolation(board=41523161203939122082683632224299007, ply_count=0, locs=(None, None)), 44)"
   ]
  },
  {
   "cell_type": "code",
   "execution_count": 14,
   "metadata": {},
   "outputs": [
    {
     "data": {
      "text/plain": [
       "[0, 12]"
      ]
     },
     "execution_count": 14,
     "metadata": {},
     "output_type": "execute_result"
    }
   ],
   "source": [
    "book[s1]"
   ]
  },
  {
   "cell_type": "code",
   "execution_count": 15,
   "metadata": {},
   "outputs": [
    {
     "data": {
      "text/plain": [
       "[0, 12]"
      ]
     },
     "execution_count": 15,
     "metadata": {},
     "output_type": "execute_result"
    }
   ],
   "source": [
    "book[s2]"
   ]
  },
  {
   "cell_type": "code",
   "execution_count": 16,
   "metadata": {},
   "outputs": [
    {
     "data": {
      "text/plain": [
       "[4, 4]"
      ]
     },
     "execution_count": 16,
     "metadata": {},
     "output_type": "execute_result"
    }
   ],
   "source": [
    "book[s3]"
   ]
  },
  {
   "cell_type": "code",
   "execution_count": 17,
   "metadata": {},
   "outputs": [
    {
     "data": {
      "text/plain": [
       "[4, 4]"
      ]
     },
     "execution_count": 17,
     "metadata": {},
     "output_type": "execute_result"
    }
   ],
   "source": [
    "book[s4]"
   ]
  },
  {
   "cell_type": "markdown",
   "metadata": {},
   "source": [
    "### I think I have ply_count=1,2,3,4 in the book but not ply_count=0"
   ]
  },
  {
   "cell_type": "code",
   "execution_count": 18,
   "metadata": {},
   "outputs": [
    {
     "data": {
      "text/plain": [
       "374097"
      ]
     },
     "execution_count": 18,
     "metadata": {},
     "output_type": "execute_result"
    }
   ],
   "source": [
    "len(book.items())"
   ]
  },
  {
   "cell_type": "markdown",
   "metadata": {},
   "source": [
    "### Idea: show a heat matrix for the initial move"
   ]
  },
  {
   "cell_type": "code",
   "execution_count": 19,
   "metadata": {},
   "outputs": [],
   "source": [
    "first = {item:value[0] for item, value in book.items() if item[0].ply_count==0}"
   ]
  },
  {
   "cell_type": "code",
   "execution_count": 20,
   "metadata": {},
   "outputs": [
    {
     "data": {
      "text/plain": [
       "99"
      ]
     },
     "execution_count": 20,
     "metadata": {},
     "output_type": "execute_result"
    }
   ],
   "source": [
    "len(first)"
   ]
  },
  {
   "cell_type": "code",
   "execution_count": 21,
   "metadata": {},
   "outputs": [
    {
     "data": {
      "text/plain": [
       "{(Isolation(board=41523161203939122082683632224299007, ply_count=0, locs=(None, None)),\n",
       "  0): -1,\n",
       " (Isolation(board=41523161203939122082683632224299007, ply_count=0, locs=(None, None)),\n",
       "  1): -3,\n",
       " (Isolation(board=41523161203939122082683632224299007, ply_count=0, locs=(None, None)),\n",
       "  2): 3,\n",
       " (Isolation(board=41523161203939122082683632224299007, ply_count=0, locs=(None, None)),\n",
       "  3): 0,\n",
       " (Isolation(board=41523161203939122082683632224299007, ply_count=0, locs=(None, None)),\n",
       "  4): 3,\n",
       " (Isolation(board=41523161203939122082683632224299007, ply_count=0, locs=(None, None)),\n",
       "  5): 0,\n",
       " (Isolation(board=41523161203939122082683632224299007, ply_count=0, locs=(None, None)),\n",
       "  6): 3,\n",
       " (Isolation(board=41523161203939122082683632224299007, ply_count=0, locs=(None, None)),\n",
       "  7): 0,\n",
       " (Isolation(board=41523161203939122082683632224299007, ply_count=0, locs=(None, None)),\n",
       "  8): 3,\n",
       " (Isolation(board=41523161203939122082683632224299007, ply_count=0, locs=(None, None)),\n",
       "  9): -3,\n",
       " (Isolation(board=41523161203939122082683632224299007, ply_count=0, locs=(None, None)),\n",
       "  10): -1,\n",
       " (Isolation(board=41523161203939122082683632224299007, ply_count=0, locs=(None, None)),\n",
       "  13): 2,\n",
       " (Isolation(board=41523161203939122082683632224299007, ply_count=0, locs=(None, None)),\n",
       "  14): -2,\n",
       " (Isolation(board=41523161203939122082683632224299007, ply_count=0, locs=(None, None)),\n",
       "  15): -1,\n",
       " (Isolation(board=41523161203939122082683632224299007, ply_count=0, locs=(None, None)),\n",
       "  16): 3,\n",
       " (Isolation(board=41523161203939122082683632224299007, ply_count=0, locs=(None, None)),\n",
       "  17): -1,\n",
       " (Isolation(board=41523161203939122082683632224299007, ply_count=0, locs=(None, None)),\n",
       "  18): -4,\n",
       " (Isolation(board=41523161203939122082683632224299007, ply_count=0, locs=(None, None)),\n",
       "  19): -1,\n",
       " (Isolation(board=41523161203939122082683632224299007, ply_count=0, locs=(None, None)),\n",
       "  20): 3,\n",
       " (Isolation(board=41523161203939122082683632224299007, ply_count=0, locs=(None, None)),\n",
       "  21): -1,\n",
       " (Isolation(board=41523161203939122082683632224299007, ply_count=0, locs=(None, None)),\n",
       "  22): -2,\n",
       " (Isolation(board=41523161203939122082683632224299007, ply_count=0, locs=(None, None)),\n",
       "  23): 2,\n",
       " (Isolation(board=41523161203939122082683632224299007, ply_count=0, locs=(None, None)),\n",
       "  26): 0,\n",
       " (Isolation(board=41523161203939122082683632224299007, ply_count=0, locs=(None, None)),\n",
       "  27): 2,\n",
       " (Isolation(board=41523161203939122082683632224299007, ply_count=0, locs=(None, None)),\n",
       "  28): -1,\n",
       " (Isolation(board=41523161203939122082683632224299007, ply_count=0, locs=(None, None)),\n",
       "  29): 0,\n",
       " (Isolation(board=41523161203939122082683632224299007, ply_count=0, locs=(None, None)),\n",
       "  30): 1,\n",
       " (Isolation(board=41523161203939122082683632224299007, ply_count=0, locs=(None, None)),\n",
       "  31): 0,\n",
       " (Isolation(board=41523161203939122082683632224299007, ply_count=0, locs=(None, None)),\n",
       "  32): 1,\n",
       " (Isolation(board=41523161203939122082683632224299007, ply_count=0, locs=(None, None)),\n",
       "  33): 0,\n",
       " (Isolation(board=41523161203939122082683632224299007, ply_count=0, locs=(None, None)),\n",
       "  34): -1,\n",
       " (Isolation(board=41523161203939122082683632224299007, ply_count=0, locs=(None, None)),\n",
       "  35): 2,\n",
       " (Isolation(board=41523161203939122082683632224299007, ply_count=0, locs=(None, None)),\n",
       "  36): 0,\n",
       " (Isolation(board=41523161203939122082683632224299007, ply_count=0, locs=(None, None)),\n",
       "  39): 2,\n",
       " (Isolation(board=41523161203939122082683632224299007, ply_count=0, locs=(None, None)),\n",
       "  40): 0,\n",
       " (Isolation(board=41523161203939122082683632224299007, ply_count=0, locs=(None, None)),\n",
       "  41): 1,\n",
       " (Isolation(board=41523161203939122082683632224299007, ply_count=0, locs=(None, None)),\n",
       "  42): -2,\n",
       " (Isolation(board=41523161203939122082683632224299007, ply_count=0, locs=(None, None)),\n",
       "  43): 5,\n",
       " (Isolation(board=41523161203939122082683632224299007, ply_count=0, locs=(None, None)),\n",
       "  44): 4,\n",
       " (Isolation(board=41523161203939122082683632224299007, ply_count=0, locs=(None, None)),\n",
       "  45): 5,\n",
       " (Isolation(board=41523161203939122082683632224299007, ply_count=0, locs=(None, None)),\n",
       "  46): -2,\n",
       " (Isolation(board=41523161203939122082683632224299007, ply_count=0, locs=(None, None)),\n",
       "  47): 1,\n",
       " (Isolation(board=41523161203939122082683632224299007, ply_count=0, locs=(None, None)),\n",
       "  48): 0,\n",
       " (Isolation(board=41523161203939122082683632224299007, ply_count=0, locs=(None, None)),\n",
       "  49): 2,\n",
       " (Isolation(board=41523161203939122082683632224299007, ply_count=0, locs=(None, None)),\n",
       "  52): -2,\n",
       " (Isolation(board=41523161203939122082683632224299007, ply_count=0, locs=(None, None)),\n",
       "  53): 0,\n",
       " (Isolation(board=41523161203939122082683632224299007, ply_count=0, locs=(None, None)),\n",
       "  54): -2,\n",
       " (Isolation(board=41523161203939122082683632224299007, ply_count=0, locs=(None, None)),\n",
       "  55): 0,\n",
       " (Isolation(board=41523161203939122082683632224299007, ply_count=0, locs=(None, None)),\n",
       "  56): 0,\n",
       " (Isolation(board=41523161203939122082683632224299007, ply_count=0, locs=(None, None)),\n",
       "  57): 4,\n",
       " (Isolation(board=41523161203939122082683632224299007, ply_count=0, locs=(None, None)),\n",
       "  58): 0,\n",
       " (Isolation(board=41523161203939122082683632224299007, ply_count=0, locs=(None, None)),\n",
       "  59): 0,\n",
       " (Isolation(board=41523161203939122082683632224299007, ply_count=0, locs=(None, None)),\n",
       "  60): -2,\n",
       " (Isolation(board=41523161203939122082683632224299007, ply_count=0, locs=(None, None)),\n",
       "  61): 0,\n",
       " (Isolation(board=41523161203939122082683632224299007, ply_count=0, locs=(None, None)),\n",
       "  62): -2,\n",
       " (Isolation(board=41523161203939122082683632224299007, ply_count=0, locs=(None, None)),\n",
       "  65): 2,\n",
       " (Isolation(board=41523161203939122082683632224299007, ply_count=0, locs=(None, None)),\n",
       "  66): 0,\n",
       " (Isolation(board=41523161203939122082683632224299007, ply_count=0, locs=(None, None)),\n",
       "  67): 1,\n",
       " (Isolation(board=41523161203939122082683632224299007, ply_count=0, locs=(None, None)),\n",
       "  68): -2,\n",
       " (Isolation(board=41523161203939122082683632224299007, ply_count=0, locs=(None, None)),\n",
       "  69): 5,\n",
       " (Isolation(board=41523161203939122082683632224299007, ply_count=0, locs=(None, None)),\n",
       "  70): 4,\n",
       " (Isolation(board=41523161203939122082683632224299007, ply_count=0, locs=(None, None)),\n",
       "  71): 5,\n",
       " (Isolation(board=41523161203939122082683632224299007, ply_count=0, locs=(None, None)),\n",
       "  72): -2,\n",
       " (Isolation(board=41523161203939122082683632224299007, ply_count=0, locs=(None, None)),\n",
       "  73): 1,\n",
       " (Isolation(board=41523161203939122082683632224299007, ply_count=0, locs=(None, None)),\n",
       "  74): 0,\n",
       " (Isolation(board=41523161203939122082683632224299007, ply_count=0, locs=(None, None)),\n",
       "  75): 2,\n",
       " (Isolation(board=41523161203939122082683632224299007, ply_count=0, locs=(None, None)),\n",
       "  78): 0,\n",
       " (Isolation(board=41523161203939122082683632224299007, ply_count=0, locs=(None, None)),\n",
       "  79): 2,\n",
       " (Isolation(board=41523161203939122082683632224299007, ply_count=0, locs=(None, None)),\n",
       "  80): -1,\n",
       " (Isolation(board=41523161203939122082683632224299007, ply_count=0, locs=(None, None)),\n",
       "  81): 0,\n",
       " (Isolation(board=41523161203939122082683632224299007, ply_count=0, locs=(None, None)),\n",
       "  82): 1,\n",
       " (Isolation(board=41523161203939122082683632224299007, ply_count=0, locs=(None, None)),\n",
       "  83): 0,\n",
       " (Isolation(board=41523161203939122082683632224299007, ply_count=0, locs=(None, None)),\n",
       "  84): 1,\n",
       " (Isolation(board=41523161203939122082683632224299007, ply_count=0, locs=(None, None)),\n",
       "  85): 0,\n",
       " (Isolation(board=41523161203939122082683632224299007, ply_count=0, locs=(None, None)),\n",
       "  86): -1,\n",
       " (Isolation(board=41523161203939122082683632224299007, ply_count=0, locs=(None, None)),\n",
       "  87): 2,\n",
       " (Isolation(board=41523161203939122082683632224299007, ply_count=0, locs=(None, None)),\n",
       "  88): 0,\n",
       " (Isolation(board=41523161203939122082683632224299007, ply_count=0, locs=(None, None)),\n",
       "  91): 2,\n",
       " (Isolation(board=41523161203939122082683632224299007, ply_count=0, locs=(None, None)),\n",
       "  92): -2,\n",
       " (Isolation(board=41523161203939122082683632224299007, ply_count=0, locs=(None, None)),\n",
       "  93): -1,\n",
       " (Isolation(board=41523161203939122082683632224299007, ply_count=0, locs=(None, None)),\n",
       "  94): 3,\n",
       " (Isolation(board=41523161203939122082683632224299007, ply_count=0, locs=(None, None)),\n",
       "  95): -1,\n",
       " (Isolation(board=41523161203939122082683632224299007, ply_count=0, locs=(None, None)),\n",
       "  96): -4,\n",
       " (Isolation(board=41523161203939122082683632224299007, ply_count=0, locs=(None, None)),\n",
       "  97): -1,\n",
       " (Isolation(board=41523161203939122082683632224299007, ply_count=0, locs=(None, None)),\n",
       "  98): 3,\n",
       " (Isolation(board=41523161203939122082683632224299007, ply_count=0, locs=(None, None)),\n",
       "  99): -1,\n",
       " (Isolation(board=41523161203939122082683632224299007, ply_count=0, locs=(None, None)),\n",
       "  100): -2,\n",
       " (Isolation(board=41523161203939122082683632224299007, ply_count=0, locs=(None, None)),\n",
       "  101): 2,\n",
       " (Isolation(board=41523161203939122082683632224299007, ply_count=0, locs=(None, None)),\n",
       "  104): -1,\n",
       " (Isolation(board=41523161203939122082683632224299007, ply_count=0, locs=(None, None)),\n",
       "  105): -3,\n",
       " (Isolation(board=41523161203939122082683632224299007, ply_count=0, locs=(None, None)),\n",
       "  106): 3,\n",
       " (Isolation(board=41523161203939122082683632224299007, ply_count=0, locs=(None, None)),\n",
       "  107): 0,\n",
       " (Isolation(board=41523161203939122082683632224299007, ply_count=0, locs=(None, None)),\n",
       "  108): 3,\n",
       " (Isolation(board=41523161203939122082683632224299007, ply_count=0, locs=(None, None)),\n",
       "  109): 0,\n",
       " (Isolation(board=41523161203939122082683632224299007, ply_count=0, locs=(None, None)),\n",
       "  110): 3,\n",
       " (Isolation(board=41523161203939122082683632224299007, ply_count=0, locs=(None, None)),\n",
       "  111): 0,\n",
       " (Isolation(board=41523161203939122082683632224299007, ply_count=0, locs=(None, None)),\n",
       "  112): 3,\n",
       " (Isolation(board=41523161203939122082683632224299007, ply_count=0, locs=(None, None)),\n",
       "  113): -3,\n",
       " (Isolation(board=41523161203939122082683632224299007, ply_count=0, locs=(None, None)),\n",
       "  114): -1}"
      ]
     },
     "execution_count": 21,
     "metadata": {},
     "output_type": "execute_result"
    }
   ],
   "source": [
    "first"
   ]
  },
  {
   "cell_type": "code",
   "execution_count": 22,
   "metadata": {},
   "outputs": [
    {
     "data": {
      "text/plain": [
       "{0: -1,\n",
       " 1: -3,\n",
       " 2: 3,\n",
       " 3: 0,\n",
       " 4: 3,\n",
       " 5: 0,\n",
       " 6: 3,\n",
       " 7: 0,\n",
       " 8: 3,\n",
       " 9: -3,\n",
       " 10: -1,\n",
       " 13: 2,\n",
       " 14: -2,\n",
       " 15: -1,\n",
       " 16: 3,\n",
       " 17: -1,\n",
       " 18: -4,\n",
       " 19: -1,\n",
       " 20: 3,\n",
       " 21: -1,\n",
       " 22: -2,\n",
       " 23: 2,\n",
       " 26: 0,\n",
       " 27: 2,\n",
       " 28: -1,\n",
       " 29: 0,\n",
       " 30: 1,\n",
       " 31: 0,\n",
       " 32: 1,\n",
       " 33: 0,\n",
       " 34: -1,\n",
       " 35: 2,\n",
       " 36: 0,\n",
       " 39: 2,\n",
       " 40: 0,\n",
       " 41: 1,\n",
       " 42: -2,\n",
       " 43: 5,\n",
       " 44: 4,\n",
       " 45: 5,\n",
       " 46: -2,\n",
       " 47: 1,\n",
       " 48: 0,\n",
       " 49: 2,\n",
       " 52: -2,\n",
       " 53: 0,\n",
       " 54: -2,\n",
       " 55: 0,\n",
       " 56: 0,\n",
       " 57: 4,\n",
       " 58: 0,\n",
       " 59: 0,\n",
       " 60: -2,\n",
       " 61: 0,\n",
       " 62: -2,\n",
       " 65: 2,\n",
       " 66: 0,\n",
       " 67: 1,\n",
       " 68: -2,\n",
       " 69: 5,\n",
       " 70: 4,\n",
       " 71: 5,\n",
       " 72: -2,\n",
       " 73: 1,\n",
       " 74: 0,\n",
       " 75: 2,\n",
       " 78: 0,\n",
       " 79: 2,\n",
       " 80: -1,\n",
       " 81: 0,\n",
       " 82: 1,\n",
       " 83: 0,\n",
       " 84: 1,\n",
       " 85: 0,\n",
       " 86: -1,\n",
       " 87: 2,\n",
       " 88: 0,\n",
       " 91: 2,\n",
       " 92: -2,\n",
       " 93: -1,\n",
       " 94: 3,\n",
       " 95: -1,\n",
       " 96: -4,\n",
       " 97: -1,\n",
       " 98: 3,\n",
       " 99: -1,\n",
       " 100: -2,\n",
       " 101: 2,\n",
       " 104: -1,\n",
       " 105: -3,\n",
       " 106: 3,\n",
       " 107: 0,\n",
       " 108: 3,\n",
       " 109: 0,\n",
       " 110: 3,\n",
       " 111: 0,\n",
       " 112: 3,\n",
       " 113: -3,\n",
       " 114: -1}"
      ]
     },
     "execution_count": 22,
     "metadata": {},
     "output_type": "execute_result"
    }
   ],
   "source": [
    "pos_value = {key[1]:value for key,value in first.items()}\n",
    "pos_value"
   ]
  },
  {
   "cell_type": "code",
   "execution_count": 23,
   "metadata": {},
   "outputs": [
    {
     "data": {
      "text/plain": [
       "{0: -1,\n",
       " 1: -3,\n",
       " 2: 3,\n",
       " 3: 0,\n",
       " 4: 3,\n",
       " 5: 0,\n",
       " 6: 3,\n",
       " 7: 0,\n",
       " 8: 3,\n",
       " 9: -3,\n",
       " 10: -1,\n",
       " 11: 0,\n",
       " 12: 0,\n",
       " 13: 2,\n",
       " 14: -2,\n",
       " 15: -1,\n",
       " 16: 3,\n",
       " 17: -1,\n",
       " 18: -4,\n",
       " 19: -1,\n",
       " 20: 3,\n",
       " 21: -1,\n",
       " 22: -2,\n",
       " 23: 2,\n",
       " 24: 0,\n",
       " 25: 0,\n",
       " 26: 0,\n",
       " 27: 2,\n",
       " 28: -1,\n",
       " 29: 0,\n",
       " 30: 1,\n",
       " 31: 0,\n",
       " 32: 1,\n",
       " 33: 0,\n",
       " 34: -1,\n",
       " 35: 2,\n",
       " 36: 0,\n",
       " 37: 0,\n",
       " 38: 0,\n",
       " 39: 2,\n",
       " 40: 0,\n",
       " 41: 1,\n",
       " 42: -2,\n",
       " 43: 5,\n",
       " 44: 4,\n",
       " 45: 5,\n",
       " 46: -2,\n",
       " 47: 1,\n",
       " 48: 0,\n",
       " 49: 2,\n",
       " 50: 0,\n",
       " 51: 0,\n",
       " 52: -2,\n",
       " 53: 0,\n",
       " 54: -2,\n",
       " 55: 0,\n",
       " 56: 0,\n",
       " 57: 4,\n",
       " 58: 0,\n",
       " 59: 0,\n",
       " 60: -2,\n",
       " 61: 0,\n",
       " 62: -2,\n",
       " 63: 0,\n",
       " 64: 0,\n",
       " 65: 2,\n",
       " 66: 0,\n",
       " 67: 1,\n",
       " 68: -2,\n",
       " 69: 5,\n",
       " 70: 4,\n",
       " 71: 5,\n",
       " 72: -2,\n",
       " 73: 1,\n",
       " 74: 0,\n",
       " 75: 2,\n",
       " 76: 0,\n",
       " 77: 0,\n",
       " 78: 0,\n",
       " 79: 2,\n",
       " 80: -1,\n",
       " 81: 0,\n",
       " 82: 1,\n",
       " 83: 0,\n",
       " 84: 1,\n",
       " 85: 0,\n",
       " 86: -1,\n",
       " 87: 2,\n",
       " 88: 0,\n",
       " 89: 0,\n",
       " 90: 0,\n",
       " 91: 2,\n",
       " 92: -2,\n",
       " 93: -1,\n",
       " 94: 3,\n",
       " 95: -1,\n",
       " 96: -4,\n",
       " 97: -1,\n",
       " 98: 3,\n",
       " 99: -1,\n",
       " 100: -2,\n",
       " 101: 2,\n",
       " 102: 0,\n",
       " 103: 0,\n",
       " 104: -1,\n",
       " 105: -3,\n",
       " 106: 3,\n",
       " 107: 0,\n",
       " 108: 3,\n",
       " 109: 0,\n",
       " 110: 3,\n",
       " 111: 0,\n",
       " 112: 3,\n",
       " 113: -3,\n",
       " 114: -1}"
      ]
     },
     "execution_count": 23,
     "metadata": {},
     "output_type": "execute_result"
    }
   ],
   "source": [
    "filled_vals = dict(zip(range(115),[0]*115))\n",
    "filled_vals.update(pos_value)\n",
    "filled_vals"
   ]
  },
  {
   "cell_type": "code",
   "execution_count": 24,
   "metadata": {},
   "outputs": [],
   "source": [
    "W = 11\n",
    "x = list(filled_vals.values())\n",
    "rows = [x[i*(W+2):(i+1)*(W+2)] \n",
    "           for i in range(len(x) // (W+2) + (len(x) % (W+2) != 0))]"
   ]
  },
  {
   "cell_type": "code",
   "execution_count": 25,
   "metadata": {},
   "outputs": [
    {
     "data": {
      "text/plain": [
       "[[-1, -3, 3, 0, 3, 0, 3, 0, 3, -3, -1, 0, 0],\n",
       " [2, -2, -1, 3, -1, -4, -1, 3, -1, -2, 2, 0, 0],\n",
       " [0, 2, -1, 0, 1, 0, 1, 0, -1, 2, 0, 0, 0],\n",
       " [2, 0, 1, -2, 5, 4, 5, -2, 1, 0, 2, 0, 0],\n",
       " [-2, 0, -2, 0, 0, 4, 0, 0, -2, 0, -2, 0, 0],\n",
       " [2, 0, 1, -2, 5, 4, 5, -2, 1, 0, 2, 0, 0],\n",
       " [0, 2, -1, 0, 1, 0, 1, 0, -1, 2, 0, 0, 0],\n",
       " [2, -2, -1, 3, -1, -4, -1, 3, -1, -2, 2, 0, 0],\n",
       " [-1, -3, 3, 0, 3, 0, 3, 0, 3, -3, -1]]"
      ]
     },
     "execution_count": 25,
     "metadata": {},
     "output_type": "execute_result"
    }
   ],
   "source": [
    "rows"
   ]
  },
  {
   "cell_type": "code",
   "execution_count": 26,
   "metadata": {},
   "outputs": [
    {
     "data": {
      "text/plain": [
       "[[-1, -3, 3, 0, 3, 0, 3, 0, 3, -3, -1],\n",
       " [2, -2, -1, 3, -1, -4, -1, 3, -1, -2, 2],\n",
       " [0, 2, -1, 0, 1, 0, 1, 0, -1, 2, 0],\n",
       " [2, 0, 1, -2, 5, 4, 5, -2, 1, 0, 2],\n",
       " [-2, 0, -2, 0, 0, 4, 0, 0, -2, 0, -2],\n",
       " [2, 0, 1, -2, 5, 4, 5, -2, 1, 0, 2],\n",
       " [0, 2, -1, 0, 1, 0, 1, 0, -1, 2, 0],\n",
       " [2, -2, -1, 3, -1, -4, -1, 3, -1, -2, 2],\n",
       " [-1, -3, 3, 0, 3, 0, 3, 0, 3, -3, -1]]"
      ]
     },
     "execution_count": 26,
     "metadata": {},
     "output_type": "execute_result"
    }
   ],
   "source": [
    "for i in range(len(rows)-1):\n",
    "    rows[i] =rows[i][:-2]\n",
    "rows"
   ]
  },
  {
   "cell_type": "code",
   "execution_count": 27,
   "metadata": {},
   "outputs": [
    {
     "data": {
      "text/plain": [
       "array([[-1, -3,  3,  0,  3,  0,  3,  0,  3, -3, -1],\n",
       "       [ 2, -2, -1,  3, -1, -4, -1,  3, -1, -2,  2],\n",
       "       [ 0,  2, -1,  0,  1,  0,  1,  0, -1,  2,  0],\n",
       "       [ 2,  0,  1, -2,  5,  4,  5, -2,  1,  0,  2],\n",
       "       [-2,  0, -2,  0,  0,  4,  0,  0, -2,  0, -2],\n",
       "       [ 2,  0,  1, -2,  5,  4,  5, -2,  1,  0,  2],\n",
       "       [ 0,  2, -1,  0,  1,  0,  1,  0, -1,  2,  0],\n",
       "       [ 2, -2, -1,  3, -1, -4, -1,  3, -1, -2,  2],\n",
       "       [-1, -3,  3,  0,  3,  0,  3,  0,  3, -3, -1]])"
      ]
     },
     "execution_count": 27,
     "metadata": {},
     "output_type": "execute_result"
    }
   ],
   "source": [
    "rows = np.array(rows)\n",
    "rows"
   ]
  },
  {
   "cell_type": "code",
   "execution_count": 29,
   "metadata": {
    "scrolled": true
   },
   "outputs": [
    {
     "data": {
      "text/plain": [
       "<matplotlib.axes._subplots.AxesSubplot at 0x11b989080>"
      ]
     },
     "execution_count": 29,
     "metadata": {},
     "output_type": "execute_result"
    },
    {
     "data": {
      "image/png": "[encoded data removed]",
      "text/plain": [
       "<matplotlib.figure.Figure at 0x10e0a8a20>"
      ]
     },
     "metadata": {},
     "output_type": "display_data"
    }
   ],
   "source": [
    "import seaborn as sns\n",
    "sns.heatmap(rows)"
   ]
  },
  {
   "cell_type": "code",
   "execution_count": 33,
   "metadata": {
    "collapsed": true
   },
   "outputs": [],
   "source": [
    "second = {item:value[0] for item, value in book.items() if item[0].ply_count==1}"
   ]
  },
  {
   "cell_type": "code",
   "execution_count": 34,
   "metadata": {},
   "outputs": [
    {
     "data": {
      "text/plain": [
       "9702"
      ]
     },
     "execution_count": 34,
     "metadata": {},
     "output_type": "execute_result"
    }
   ],
   "source": [
    "len(second)"
   ]
  },
  {
   "cell_type": "code",
   "execution_count": 35,
   "metadata": {},
   "outputs": [
    {
     "data": {
      "text/plain": [
       "count    9702.000000\n",
       "mean       -0.004123\n",
       "std         0.206041\n",
       "min        -2.000000\n",
       "25%         0.000000\n",
       "50%         0.000000\n",
       "75%         0.000000\n",
       "max         2.000000\n",
       "dtype: float64"
      ]
     },
     "execution_count": 35,
     "metadata": {},
     "output_type": "execute_result"
    }
   ],
   "source": [
    "pd.Series(list(second.values())).describe()"
   ]
  },
  {
   "cell_type": "code",
   "execution_count": 36,
   "metadata": {
    "collapsed": true
   },
   "outputs": [],
   "source": [
    "third = {item:value[0] for item, value in book.items() if item[0].ply_count==2}"
   ]
  },
  {
   "cell_type": "code",
   "execution_count": 37,
   "metadata": {},
   "outputs": [
    {
     "data": {
      "text/plain": [
       "55096"
      ]
     },
     "execution_count": 37,
     "metadata": {},
     "output_type": "execute_result"
    }
   ],
   "source": [
    "len(third)"
   ]
  },
  {
   "cell_type": "code",
   "execution_count": 38,
   "metadata": {},
   "outputs": [
    {
     "data": {
      "text/plain": [
       "count    55096.000000\n",
       "mean         0.000726\n",
       "std          0.085204\n",
       "min         -1.000000\n",
       "25%          0.000000\n",
       "50%          0.000000\n",
       "75%          0.000000\n",
       "max          1.000000\n",
       "dtype: float64"
      ]
     },
     "execution_count": 38,
     "metadata": {},
     "output_type": "execute_result"
    }
   ],
   "source": [
    "pd.Series(list(third.values())).describe()"
   ]
  },
  {
   "cell_type": "code",
   "execution_count": 39,
   "metadata": {},
   "outputs": [
    {
     "data": {
      "text/plain": [
       "309200"
      ]
     },
     "execution_count": 39,
     "metadata": {},
     "output_type": "execute_result"
    }
   ],
   "source": [
    "fourth = {item:value[0] for item, value in book.items() if item[0].ply_count==3}\n",
    "len(fourth)"
   ]
  },
  {
   "cell_type": "code",
   "execution_count": 40,
   "metadata": {},
   "outputs": [
    {
     "data": {
      "text/plain": [
       "count    309200.000000\n",
       "mean         -0.000032\n",
       "std           0.017984\n",
       "min          -1.000000\n",
       "25%           0.000000\n",
       "50%           0.000000\n",
       "75%           0.000000\n",
       "max           1.000000\n",
       "dtype: float64"
      ]
     },
     "execution_count": 40,
     "metadata": {},
     "output_type": "execute_result"
    }
   ],
   "source": [
    "pd.Series(list(fourth.values())).describe()"
   ]
  },
  {
   "cell_type": "code",
   "execution_count": 41,
   "metadata": {},
   "outputs": [
    {
     "data": {
      "text/plain": [
       "400"
      ]
     },
     "execution_count": 41,
     "metadata": {},
     "output_type": "execute_result"
    }
   ],
   "source": [
    "sum(np.array(list(third.values())) != 0)"
   ]
  },
  {
   "cell_type": "code",
   "execution_count": 42,
   "metadata": {},
   "outputs": [
    {
     "data": {
      "text/plain": [
       "100"
      ]
     },
     "execution_count": 42,
     "metadata": {},
     "output_type": "execute_result"
    }
   ],
   "source": [
    "sum(np.array(list(fourth.values())) != 0)"
   ]
  },
  {
   "cell_type": "code",
   "execution_count": null,
   "metadata": {
    "collapsed": true
   },
   "outputs": [],
   "source": []
  },
  {
   "cell_type": "code",
   "execution_count": null,
   "metadata": {
    "collapsed": true
   },
   "outputs": [],
   "source": []
  }
 ],
 "metadata": {
  "kernelspec": {
   "display_name": "aind",
   "language": "python",
   "name": "aind"
  },
  "language_info": {
   "codemirror_mode": {
    "name": "ipython",
    "version": 3
   },
   "file_extension": ".py",
   "mimetype": "text/x-python",
   "name": "python",
   "nbconvert_exporter": "python",
   "pygments_lexer": "ipython3",
   "version": "3.5.4"
  }
 },
 "nbformat": 4,
 "nbformat_minor": 2
}
