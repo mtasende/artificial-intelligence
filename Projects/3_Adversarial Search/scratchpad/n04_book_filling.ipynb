{
 "cells": [
  {
   "cell_type": "code",
   "execution_count": 1,
   "metadata": {},
   "outputs": [
    {
     "name": "stdout",
     "output_type": "stream",
     "text": [
      "Populating the interactive namespace from numpy and matplotlib\n"
     ]
    },
    {
     "name": "stderr",
     "output_type": "stream",
     "text": [
      "/Users/antelinvestigacionydesarrollo/anaconda3/envs/aind/lib/python3.5/site-packages/IPython/core/magics/pylab.py:160: UserWarning: pylab import has clobbered these variables: ['time']\n",
      "`%matplotlib` prevents importing * from pylab and numpy\n",
      "  \"\\n`%matplotlib` prevents importing * from pylab and numpy\"\n"
     ]
    }
   ],
   "source": [
    "import matplotlib.pyplot as plt\n",
    "import pandas as pd\n",
    "import numpy as np\n",
    "import sys\n",
    "from time import time\n",
    "import os\n",
    "\n",
    "%pylab inline\n",
    "pylab.rcParams['figure.figsize'] = (20.0, 10.0)\n",
    "\n",
    "%load_ext autoreload\n",
    "%autoreload 2\n",
    "\n",
    "sys.path.append('..')\n",
    "\n",
    "import isolation\n",
    "import sample_players\n",
    "import run_match\n",
    "import my_baseline_player as custom\n",
    "import book as b\n",
    "\n",
    "from multiprocessing.pool import ThreadPool as Pool"
   ]
  },
  {
   "cell_type": "code",
   "execution_count": 2,
   "metadata": {},
   "outputs": [
    {
     "name": "stdout",
     "output_type": "stream",
     "text": [
      "Generated 29403 matches.\n"
     ]
    }
   ],
   "source": [
    "# Constant parameteres\n",
    "time_limit = 150\n",
    "depth = 4\n",
    "full_search_depth = 2\n",
    "matches_per_opening = 3\n",
    "\n",
    "# Create the agents that will play\n",
    "agent_names = ('CustomPlayer1', 'CustomPlayer2')\n",
    "agent1 = isolation.Agent(custom.CustomPlayer, agent_names[0])\n",
    "agent2 = isolation.Agent(custom.CustomPlayer, agent_names[1])\n",
    "agents = (agent1, agent2)\n",
    "\n",
    "# Get the initial states\n",
    "root = isolation.isolation.Isolation()\n",
    "opening_states = list(b.get_full_states(root, depth=full_search_depth))\n",
    "\n",
    "# Generate the matches\n",
    "matches = [(agents, state, time_limit, match_id) \n",
    "           for match_id, state in enumerate(opening_states)]\n",
    "matches = matches * 3\n",
    "print('Generated {} matches.'.format(len(matches)))"
   ]
  },
  {
   "cell_type": "code",
   "execution_count": 3,
   "metadata": {},
   "outputs": [
    {
     "name": "stdout",
     "output_type": "stream",
     "text": [
      "Processing batch 1 of 295\n",
      "Batch time 288.5851950645447 seconds.\n",
      "Saving: book2018-06-18_14S48S13.159146.pkl\n",
      "rm book2018-06-18_13S59S32.105677.pkl\n",
      "Processing batch 2 of 295\n",
      "Batch time 291.7291650772095 seconds.\n",
      "Saving: book2018-06-18_14S53S05.682961.pkl\n",
      "rm book2018-06-18_14S48S13.159146.pkl\n",
      "Processing batch 3 of 295\n",
      "Batch time 282.66441011428833 seconds.\n",
      "Saving: book2018-06-18_14S57S48.988173.pkl\n",
      "rm book2018-06-18_14S53S05.682961.pkl\n",
      "Processing batch 4 of 295\n",
      "Batch time 291.0588049888611 seconds.\n",
      "Saving: book2018-06-18_15S02S40.704854.pkl\n",
      "rm book2018-06-18_14S57S48.988173.pkl\n",
      "Processing batch 5 of 295\n",
      "Batch time 287.6183879375458 seconds.\n",
      "Saving: book2018-06-18_15S07S29.161021.pkl\n",
      "rm book2018-06-18_15S02S40.704854.pkl\n",
      "Processing batch 6 of 295\n",
      "Batch time 288.0019919872284 seconds.\n",
      "Saving: book2018-06-18_15S12S17.788571.pkl\n",
      "rm book2018-06-18_15S07S29.161021.pkl\n",
      "Processing batch 7 of 295\n",
      "Batch time 276.0004699230194 seconds.\n",
      "Saving: book2018-06-18_15S16S54.397698.pkl\n",
      "rm book2018-06-18_15S12S17.788571.pkl\n",
      "Processing batch 8 of 295\n",
      "Batch time 278.2626760005951 seconds.\n",
      "Saving: book2018-06-18_15S21S33.262319.pkl\n",
      "rm book2018-06-18_15S16S54.397698.pkl\n",
      "Processing batch 9 of 295\n",
      "Batch time 273.72056794166565 seconds.\n",
      "Saving: book2018-06-18_15S26S07.576494.pkl\n",
      "rm book2018-06-18_15S21S33.262319.pkl\n",
      "Processing batch 10 of 295\n",
      "Batch time 283.5026521682739 seconds.\n",
      "Saving: book2018-06-18_15S30S51.754390.pkl\n",
      "rm book2018-06-18_15S26S07.576494.pkl\n",
      "Processing batch 11 of 295\n",
      "Batch time 291.95772910118103 seconds.\n",
      "Saving: book2018-06-18_15S35S44.296609.pkl\n",
      "rm book2018-06-18_15S30S51.754390.pkl\n",
      "Processing batch 12 of 295\n",
      "Batch time 281.15619111061096 seconds.\n",
      "Saving: book2018-06-18_15S40S26.203639.pkl\n",
      "rm book2018-06-18_15S35S44.296609.pkl\n",
      "Processing batch 13 of 295\n",
      "Batch time 277.8806312084198 seconds.\n",
      "Saving: book2018-06-18_15S45S04.679261.pkl\n",
      "rm book2018-06-18_15S40S26.203639.pkl\n",
      "Processing batch 14 of 295\n",
      "Batch time 285.79615211486816 seconds.\n",
      "Saving: book2018-06-18_15S49S51.079263.pkl\n",
      "rm book2018-06-18_15S45S04.679261.pkl\n",
      "Processing batch 15 of 295\n",
      "Batch time 279.0881099700928 seconds.\n",
      "Saving: book2018-06-18_15S54S30.772754.pkl\n",
      "rm book2018-06-18_15S49S51.079263.pkl\n",
      "Processing batch 16 of 295\n",
      "Batch time 282.10382890701294 seconds.\n",
      "Saving: book2018-06-18_15S59S13.483318.pkl\n",
      "rm book2018-06-18_15S54S30.772754.pkl\n",
      "Processing batch 17 of 295\n",
      "Batch time 285.02061915397644 seconds.\n",
      "Saving: book2018-06-18_16S03S59.095317.pkl\n",
      "rm book2018-06-18_15S59S13.483318.pkl\n",
      "Processing batch 18 of 295\n",
      "Batch time 287.3954041004181 seconds.\n",
      "Saving: book2018-06-18_16S08S47.084287.pkl\n",
      "rm book2018-06-18_16S03S59.095317.pkl\n",
      "Processing batch 19 of 295\n",
      "Batch time 279.9756369590759 seconds.\n",
      "Saving: book2018-06-18_16S13S27.667834.pkl\n",
      "rm book2018-06-18_16S08S47.084287.pkl\n",
      "Processing batch 20 of 295\n",
      "Batch time 281.49118304252625 seconds.\n",
      "Saving: book2018-06-18_16S18S09.729223.pkl\n",
      "rm book2018-06-18_16S13S27.667834.pkl\n",
      "Processing batch 21 of 295\n",
      "Batch time 284.9209818840027 seconds.\n",
      "Saving: book2018-06-18_16S22S55.301178.pkl\n",
      "rm book2018-06-18_16S18S09.729223.pkl\n",
      "Processing batch 22 of 295\n",
      "Batch time 284.9381949901581 seconds.\n",
      "Saving: book2018-06-18_16S27S40.916088.pkl\n",
      "rm book2018-06-18_16S22S55.301178.pkl\n",
      "Processing batch 23 of 295\n"
     ]
    },
    {
     "name": "stderr",
     "output_type": "stream",
     "text": [
      "Process Process-146474:\n",
      "Traceback (most recent call last):\n",
      "  File \"/Users/antelinvestigacionydesarrollo/anaconda3/envs/aind/lib/python3.5/multiprocessing/process.py\", line 255, in _bootstrap\n",
      "    util._exit_function()\n",
      "  File \"/Users/antelinvestigacionydesarrollo/anaconda3/envs/aind/lib/python3.5/multiprocessing/util.py\", line 322, in _exit_function\n",
      "    _run_finalizers()\n",
      "  File \"/Users/antelinvestigacionydesarrollo/anaconda3/envs/aind/lib/python3.5/multiprocessing/util.py\", line 262, in _run_finalizers\n",
      "    finalizer()\n",
      "  File \"/Users/antelinvestigacionydesarrollo/anaconda3/envs/aind/lib/python3.5/multiprocessing/util.py\", line 186, in __call__\n",
      "    res = self._callback(*self._args, **self._kwargs)\n",
      "  File \"/Users/antelinvestigacionydesarrollo/anaconda3/envs/aind/lib/python3.5/multiprocessing/queues.py\", line 191, in _finalize_join\n",
      "    thread.join()\n",
      "  File \"/Users/antelinvestigacionydesarrollo/anaconda3/envs/aind/lib/python3.5/threading.py\", line 1054, in join\n",
      "    self._wait_for_tstate_lock()\n",
      "  File \"/Users/antelinvestigacionydesarrollo/anaconda3/envs/aind/lib/python3.5/threading.py\", line 1070, in _wait_for_tstate_lock\n",
      "    elif lock.acquire(block, timeout):\n",
      "KeyboardInterrupt\n"
     ]
    },
    {
     "ename": "KeyboardInterrupt",
     "evalue": "",
     "output_type": "error",
     "traceback": [
      "\u001b[0;31m---------------------------------------------------------------------------\u001b[0m",
      "\u001b[0;31mIndexError\u001b[0m                                Traceback (most recent call last)",
      "\u001b[0;32m~/anaconda3/envs/aind/lib/python3.5/multiprocessing/pool.py\u001b[0m in \u001b[0;36mnext\u001b[0;34m(self, timeout)\u001b[0m\n\u001b[1;32m    715\u001b[0m             \u001b[0;32mtry\u001b[0m\u001b[0;34m:\u001b[0m\u001b[0;34m\u001b[0m\u001b[0m\n\u001b[0;32m--> 716\u001b[0;31m                 \u001b[0mitem\u001b[0m \u001b[0;34m=\u001b[0m \u001b[0mself\u001b[0m\u001b[0;34m.\u001b[0m\u001b[0m_items\u001b[0m\u001b[0;34m.\u001b[0m\u001b[0mpopleft\u001b[0m\u001b[0;34m(\u001b[0m\u001b[0;34m)\u001b[0m\u001b[0;34m\u001b[0m\u001b[0m\n\u001b[0m\u001b[1;32m    717\u001b[0m             \u001b[0;32mexcept\u001b[0m \u001b[0mIndexError\u001b[0m\u001b[0;34m:\u001b[0m\u001b[0;34m\u001b[0m\u001b[0m\n",
      "\u001b[0;31mIndexError\u001b[0m: pop from an empty deque",
      "\nDuring handling of the above exception, another exception occurred:\n",
      "\u001b[0;31mKeyboardInterrupt\u001b[0m                         Traceback (most recent call last)",
      "\u001b[0;32m<ipython-input-3-d691c8be528a>\u001b[0m in \u001b[0;36m<module>\u001b[0;34m()\u001b[0m\n\u001b[1;32m     28\u001b[0m     \u001b[0mbatch\u001b[0m \u001b[0;34m=\u001b[0m \u001b[0mbatches\u001b[0m\u001b[0;34m[\u001b[0m\u001b[0mbatch_num\u001b[0m\u001b[0;34m]\u001b[0m\u001b[0;34m\u001b[0m\u001b[0m\n\u001b[1;32m     29\u001b[0m     \u001b[0mprint\u001b[0m\u001b[0;34m(\u001b[0m\u001b[0;34m'Processing batch {} of {}'\u001b[0m\u001b[0;34m.\u001b[0m\u001b[0mformat\u001b[0m\u001b[0;34m(\u001b[0m\u001b[0mbatch_num\u001b[0m\u001b[0;34m,\u001b[0m \u001b[0mlen\u001b[0m\u001b[0;34m(\u001b[0m\u001b[0mbatches\u001b[0m\u001b[0;34m)\u001b[0m\u001b[0;34m)\u001b[0m\u001b[0;34m)\u001b[0m\u001b[0;34m\u001b[0m\u001b[0m\n\u001b[0;32m---> 30\u001b[0;31m     \u001b[0;32mfor\u001b[0m \u001b[0mresult\u001b[0m \u001b[0;32min\u001b[0m \u001b[0mpool\u001b[0m\u001b[0;34m.\u001b[0m\u001b[0mimap_unordered\u001b[0m\u001b[0;34m(\u001b[0m\u001b[0misolation\u001b[0m\u001b[0;34m.\u001b[0m\u001b[0mplay\u001b[0m\u001b[0;34m,\u001b[0m \u001b[0mbatch\u001b[0m\u001b[0;34m)\u001b[0m\u001b[0;34m:\u001b[0m\u001b[0;34m\u001b[0m\u001b[0m\n\u001b[0m\u001b[1;32m     31\u001b[0m         \u001b[0mwinner\u001b[0m\u001b[0;34m,\u001b[0m \u001b[0mgame_history\u001b[0m\u001b[0;34m,\u001b[0m \u001b[0mmatch_id\u001b[0m \u001b[0;34m=\u001b[0m \u001b[0mresult\u001b[0m\u001b[0;34m\u001b[0m\u001b[0m\n\u001b[1;32m     32\u001b[0m         \u001b[0;31m# print('Results for match {}: {} wins.'.format(match_id, winner.name))\u001b[0m\u001b[0;34m\u001b[0m\u001b[0;34m\u001b[0m\u001b[0m\n",
      "\u001b[0;32m~/anaconda3/envs/aind/lib/python3.5/multiprocessing/pool.py\u001b[0m in \u001b[0;36mnext\u001b[0;34m(self, timeout)\u001b[0m\n\u001b[1;32m    718\u001b[0m                 \u001b[0;32mif\u001b[0m \u001b[0mself\u001b[0m\u001b[0;34m.\u001b[0m\u001b[0m_index\u001b[0m \u001b[0;34m==\u001b[0m \u001b[0mself\u001b[0m\u001b[0;34m.\u001b[0m\u001b[0m_length\u001b[0m\u001b[0;34m:\u001b[0m\u001b[0;34m\u001b[0m\u001b[0m\n\u001b[1;32m    719\u001b[0m                     \u001b[0;32mraise\u001b[0m \u001b[0mStopIteration\u001b[0m\u001b[0;34m\u001b[0m\u001b[0m\n\u001b[0;32m--> 720\u001b[0;31m                 \u001b[0mself\u001b[0m\u001b[0;34m.\u001b[0m\u001b[0m_cond\u001b[0m\u001b[0;34m.\u001b[0m\u001b[0mwait\u001b[0m\u001b[0;34m(\u001b[0m\u001b[0mtimeout\u001b[0m\u001b[0;34m)\u001b[0m\u001b[0;34m\u001b[0m\u001b[0m\n\u001b[0m\u001b[1;32m    721\u001b[0m                 \u001b[0;32mtry\u001b[0m\u001b[0;34m:\u001b[0m\u001b[0;34m\u001b[0m\u001b[0m\n\u001b[1;32m    722\u001b[0m                     \u001b[0mitem\u001b[0m \u001b[0;34m=\u001b[0m \u001b[0mself\u001b[0m\u001b[0;34m.\u001b[0m\u001b[0m_items\u001b[0m\u001b[0;34m.\u001b[0m\u001b[0mpopleft\u001b[0m\u001b[0;34m(\u001b[0m\u001b[0;34m)\u001b[0m\u001b[0;34m\u001b[0m\u001b[0m\n",
      "\u001b[0;32m~/anaconda3/envs/aind/lib/python3.5/threading.py\u001b[0m in \u001b[0;36mwait\u001b[0;34m(self, timeout)\u001b[0m\n\u001b[1;32m    291\u001b[0m         \u001b[0;32mtry\u001b[0m\u001b[0;34m:\u001b[0m    \u001b[0;31m# restore state no matter what (e.g., KeyboardInterrupt)\u001b[0m\u001b[0;34m\u001b[0m\u001b[0m\n\u001b[1;32m    292\u001b[0m             \u001b[0;32mif\u001b[0m \u001b[0mtimeout\u001b[0m \u001b[0;32mis\u001b[0m \u001b[0;32mNone\u001b[0m\u001b[0;34m:\u001b[0m\u001b[0;34m\u001b[0m\u001b[0m\n\u001b[0;32m--> 293\u001b[0;31m                 \u001b[0mwaiter\u001b[0m\u001b[0;34m.\u001b[0m\u001b[0macquire\u001b[0m\u001b[0;34m(\u001b[0m\u001b[0;34m)\u001b[0m\u001b[0;34m\u001b[0m\u001b[0m\n\u001b[0m\u001b[1;32m    294\u001b[0m                 \u001b[0mgotit\u001b[0m \u001b[0;34m=\u001b[0m \u001b[0;32mTrue\u001b[0m\u001b[0;34m\u001b[0m\u001b[0m\n\u001b[1;32m    295\u001b[0m             \u001b[0;32melse\u001b[0m\u001b[0;34m:\u001b[0m\u001b[0;34m\u001b[0m\u001b[0m\n",
      "\u001b[0;31mKeyboardInterrupt\u001b[0m: "
     ]
    }
   ],
   "source": [
    "num_processes = 4\n",
    "batch_size = 100\n",
    "batch_num_file = 'batch_num.txt'\n",
    "\n",
    "# Small test for debugging\n",
    "# matches = matches[:100]\n",
    "\n",
    "# Create or load the book\n",
    "book = b.load_latest_book(depth=depth)\n",
    "\n",
    "# Make some batches to save the results once in a while\n",
    "x = matches\n",
    "batches = [x[i*batch_size:(i+1)*batch_size] \n",
    "           for i in range(len(x) // batch_size + (len(x) % batch_size != 0))]\n",
    "\n",
    "# Get only the unprocessed batches\n",
    "if os.path.exists(batch_num_file):\n",
    "    with open(batch_num_file, 'r') as file:\n",
    "        last_batch = int(file.read())\n",
    "else:\n",
    "    last_batch = -1\n",
    "\n",
    "# Now fill the book!\n",
    "pool = Pool(num_processes)\n",
    "\n",
    "for batch_num in range(last_batch + 1, len(batches)):\n",
    "    tic = time.time()\n",
    "    batch = batches[batch_num]\n",
    "    print('Processing batch {} of {}'.format(batch_num, len(batches)))\n",
    "    for result in pool.imap_unordered(isolation.play, batch):\n",
    "        winner, game_history, match_id = result\n",
    "        # print('Results for match {}: {} wins.'.format(match_id, winner.name))\n",
    "        _, state, _, _ = matches[match_id]\n",
    "        if state.locs[1] is not None:\n",
    "            game_history.insert(0,state.locs[1])\n",
    "        if state.locs[0] is not None:\n",
    "            game_history.insert(0,state.locs[0])\n",
    "        root = isolation.isolation.Isolation()\n",
    "        b.process_game_history(root,\n",
    "                               game_history, \n",
    "                               book,\n",
    "                               agent_names.index(winner.name),\n",
    "                               active_player=state.ply_count % 2,\n",
    "                               depth=depth)\n",
    "    toc = time.time()\n",
    "    print('Batch time {} seconds.'.format((toc-tic)))\n",
    "    b.save_book(book)\n",
    "    with open(batch_num_file, 'w') as file:\n",
    "        file.write(str(batch_num))\n",
    "    b.remove_old_books()"
   ]
  },
  {
   "cell_type": "code",
   "execution_count": null,
   "metadata": {
    "collapsed": true
   },
   "outputs": [],
   "source": []
  },
  {
   "cell_type": "code",
   "execution_count": 4,
   "metadata": {},
   "outputs": [
    {
     "data": {
      "text/plain": [
       "19665"
      ]
     },
     "execution_count": 4,
     "metadata": {},
     "output_type": "execute_result"
    }
   ],
   "source": [
    "sum(abs(value[0]) for value in book.values())"
   ]
  },
  {
   "cell_type": "code",
   "execution_count": 5,
   "metadata": {},
   "outputs": [
    {
     "data": {
      "text/plain": [
       "31187"
      ]
     },
     "execution_count": 5,
     "metadata": {},
     "output_type": "execute_result"
    }
   ],
   "source": [
    "sum(abs(value[1]) for value in book.values())"
   ]
  },
  {
   "cell_type": "code",
   "execution_count": 6,
   "metadata": {},
   "outputs": [
    {
     "data": {
      "text/plain": [
       "27.7695"
      ]
     },
     "execution_count": 6,
     "metadata": {},
     "output_type": "execute_result"
    }
   ],
   "source": [
    "29403*34 / (10*3600)  # Estimated time in hours"
   ]
  },
  {
   "cell_type": "code",
   "execution_count": 7,
   "metadata": {
    "collapsed": true
   },
   "outputs": [],
   "source": [
    "import pandas as pd\n",
    "\n",
    "v = pd.Series([v[0] for v in book.values()])"
   ]
  },
  {
   "cell_type": "code",
   "execution_count": 8,
   "metadata": {},
   "outputs": [
    {
     "data": {
      "text/plain": [
       "<matplotlib.axes._subplots.AxesSubplot at 0x11a9a6518>"
      ]
     },
     "execution_count": 8,
     "metadata": {},
     "output_type": "execute_result"
    },
    {
     "data": {
      "image/png": "[encoded data removed]",
      "text/plain": [
       "<matplotlib.figure.Figure at 0x11a9a6828>"
      ]
     },
     "metadata": {},
     "output_type": "display_data"
    }
   ],
   "source": [
    "v.hist(bins=50)"
   ]
  },
  {
   "cell_type": "code",
   "execution_count": 9,
   "metadata": {},
   "outputs": [
    {
     "data": {
      "text/plain": [
       "count    374097.000000\n",
       "mean          0.000730\n",
       "std           0.306768\n",
       "min         -17.000000\n",
       "25%           0.000000\n",
       "50%           0.000000\n",
       "75%           0.000000\n",
       "max          28.000000\n",
       "dtype: float64"
      ]
     },
     "execution_count": 9,
     "metadata": {},
     "output_type": "execute_result"
    }
   ],
   "source": [
    "v.describe()"
   ]
  },
  {
   "cell_type": "code",
   "execution_count": 10,
   "metadata": {},
   "outputs": [
    {
     "data": {
      "text/plain": [
       "-17"
      ]
     },
     "execution_count": 10,
     "metadata": {},
     "output_type": "execute_result"
    }
   ],
   "source": [
    "v.min()"
   ]
  },
  {
   "cell_type": "code",
   "execution_count": 11,
   "metadata": {},
   "outputs": [
    {
     "data": {
      "text/plain": [
       "(Isolation(board=41523161203939122082683632224299007, ply_count=0, locs=(None, None)),\n",
       " 48)"
      ]
     },
     "execution_count": 11,
     "metadata": {},
     "output_type": "execute_result"
    }
   ],
   "source": [
    "worst = min(((k, v) for k, v in book.items()), key=lambda x: x[1][0])\n",
    "worst[0]"
   ]
  },
  {
   "cell_type": "code",
   "execution_count": 12,
   "metadata": {},
   "outputs": [
    {
     "name": "stdout",
     "output_type": "stream",
     "text": [
      "\n",
      "+ - + - + - + - + - + - + - + - + - + - + - +\n",
      "|   |   |   |   |   |   |   |   |   |   |   |\n",
      "+ - + - + - + - + - + - + - + - + - + - + - +\n",
      "|   |   |   |   |   |   |   |   |   |   |   |\n",
      "+ - + - + - + - + - + - + - + - + - + - + - +\n",
      "|   |   |   |   |   |   |   |   |   |   |   |\n",
      "+ - + - + - + - + - + - + - + - + - + - + - +\n",
      "|   |   |   |   |   |   |   |   |   |   |   |\n",
      "+ - + - + - + - + - + - + - + - + - + - + - +\n",
      "|   |   |   |   |   | 1 |   |   |   |   |   |\n",
      "+ - + - + - + - + - + - + - + - + - + - + - +\n",
      "|   |   |   |   |   |   |   |   |   |   |   |\n",
      "+ - + - + - + - + - + - + - + - + - + - + - +\n",
      "|   |   |   |   |   |   |   |   |   |   |   |\n",
      "+ - + - + - + - + - + - + - + - + - + - + - +\n",
      "|   |   |   |   |   |   |   |   |   |   |   |\n",
      "+ - + - + - + - + - + - + - + - + - + - + - +\n",
      "|   |   |   |   |   |   |   |   |   |   |   |\n",
      "+ - + - + - + - + - + - + - + - + - + - + - +\n",
      "\n"
     ]
    }
   ],
   "source": [
    "from isolation.isolation import Isolation\n",
    "state = Isolation(board=41523161203939122082683632224299007, ply_count=0, locs=(None, None))\n",
    "\n",
    "print(isolation.DebugState.from_state(state.result(57)))"
   ]
  },
  {
   "cell_type": "markdown",
   "metadata": {
    "collapsed": true
   },
   "source": [
    "What about the other symmetrical ones"
   ]
  },
  {
   "cell_type": "code",
   "execution_count": 13,
   "metadata": {
    "collapsed": true
   },
   "outputs": [],
   "source": [
    "s1 = (Isolation(board=41523161203939122082683632224299007, ply_count=0, locs=(None, None)), 56)\n",
    "s2 = (Isolation(board=41523161203939122082683632224299007, ply_count=0, locs=(None, None)), 58)\n",
    "s3 = (Isolation(board=41523161203939122082683632224299007, ply_count=0, locs=(None, None)), 70)\n",
    "s4 = (Isolation(board=41523161203939122082683632224299007, ply_count=0, locs=(None, None)), 44)"
   ]
  },
  {
   "cell_type": "code",
   "execution_count": 14,
   "metadata": {},
   "outputs": [
    {
     "data": {
      "text/plain": [
       "[6, 118]"
      ]
     },
     "execution_count": 14,
     "metadata": {},
     "output_type": "execute_result"
    }
   ],
   "source": [
    "book[s1]"
   ]
  },
  {
   "cell_type": "code",
   "execution_count": 15,
   "metadata": {},
   "outputs": [
    {
     "data": {
      "text/plain": [
       "[6, 118]"
      ]
     },
     "execution_count": 15,
     "metadata": {},
     "output_type": "execute_result"
    }
   ],
   "source": [
    "book[s2]"
   ]
  },
  {
   "cell_type": "code",
   "execution_count": 16,
   "metadata": {},
   "outputs": [
    {
     "data": {
      "text/plain": [
       "[-4, 92]"
      ]
     },
     "execution_count": 16,
     "metadata": {},
     "output_type": "execute_result"
    }
   ],
   "source": [
    "book[s3]"
   ]
  },
  {
   "cell_type": "code",
   "execution_count": 17,
   "metadata": {},
   "outputs": [
    {
     "data": {
      "text/plain": [
       "[-4, 92]"
      ]
     },
     "execution_count": 17,
     "metadata": {},
     "output_type": "execute_result"
    }
   ],
   "source": [
    "book[s4]"
   ]
  },
  {
   "cell_type": "markdown",
   "metadata": {},
   "source": [
    "### I think I have ply_count=1,2,3,4 in the book but not ply_count=0"
   ]
  },
  {
   "cell_type": "code",
   "execution_count": 18,
   "metadata": {},
   "outputs": [
    {
     "data": {
      "text/plain": [
       "374097"
      ]
     },
     "execution_count": 18,
     "metadata": {},
     "output_type": "execute_result"
    }
   ],
   "source": [
    "len(book.items())"
   ]
  },
  {
   "cell_type": "markdown",
   "metadata": {},
   "source": [
    "### Idea: show a heat matrix for the initial move"
   ]
  },
  {
   "cell_type": "code",
   "execution_count": 19,
   "metadata": {
    "collapsed": true
   },
   "outputs": [],
   "source": [
    "first = {item:value[0] for item, value in book.items() if item[0].ply_count==0}"
   ]
  },
  {
   "cell_type": "code",
   "execution_count": 20,
   "metadata": {},
   "outputs": [
    {
     "data": {
      "text/plain": [
       "99"
      ]
     },
     "execution_count": 20,
     "metadata": {},
     "output_type": "execute_result"
    }
   ],
   "source": [
    "len(first)"
   ]
  },
  {
   "cell_type": "code",
   "execution_count": 21,
   "metadata": {},
   "outputs": [
    {
     "data": {
      "text/plain": [
       "{(Isolation(board=41523161203939122082683632224299007, ply_count=0, locs=(None, None)),\n",
       "  0): 3,\n",
       " (Isolation(board=41523161203939122082683632224299007, ply_count=0, locs=(None, None)),\n",
       "  1): -3,\n",
       " (Isolation(board=41523161203939122082683632224299007, ply_count=0, locs=(None, None)),\n",
       "  2): -5,\n",
       " (Isolation(board=41523161203939122082683632224299007, ply_count=0, locs=(None, None)),\n",
       "  3): 25,\n",
       " (Isolation(board=41523161203939122082683632224299007, ply_count=0, locs=(None, None)),\n",
       "  4): 16,\n",
       " (Isolation(board=41523161203939122082683632224299007, ply_count=0, locs=(None, None)),\n",
       "  5): -2,\n",
       " (Isolation(board=41523161203939122082683632224299007, ply_count=0, locs=(None, None)),\n",
       "  6): 16,\n",
       " (Isolation(board=41523161203939122082683632224299007, ply_count=0, locs=(None, None)),\n",
       "  7): 25,\n",
       " (Isolation(board=41523161203939122082683632224299007, ply_count=0, locs=(None, None)),\n",
       "  8): -5,\n",
       " (Isolation(board=41523161203939122082683632224299007, ply_count=0, locs=(None, None)),\n",
       "  9): -3,\n",
       " (Isolation(board=41523161203939122082683632224299007, ply_count=0, locs=(None, None)),\n",
       "  10): 3,\n",
       " (Isolation(board=41523161203939122082683632224299007, ply_count=0, locs=(None, None)),\n",
       "  13): 9,\n",
       " (Isolation(board=41523161203939122082683632224299007, ply_count=0, locs=(None, None)),\n",
       "  14): 0,\n",
       " (Isolation(board=41523161203939122082683632224299007, ply_count=0, locs=(None, None)),\n",
       "  15): 0,\n",
       " (Isolation(board=41523161203939122082683632224299007, ply_count=0, locs=(None, None)),\n",
       "  16): 3,\n",
       " (Isolation(board=41523161203939122082683632224299007, ply_count=0, locs=(None, None)),\n",
       "  17): -14,\n",
       " (Isolation(board=41523161203939122082683632224299007, ply_count=0, locs=(None, None)),\n",
       "  18): 8,\n",
       " (Isolation(board=41523161203939122082683632224299007, ply_count=0, locs=(None, None)),\n",
       "  19): -14,\n",
       " (Isolation(board=41523161203939122082683632224299007, ply_count=0, locs=(None, None)),\n",
       "  20): 3,\n",
       " (Isolation(board=41523161203939122082683632224299007, ply_count=0, locs=(None, None)),\n",
       "  21): 0,\n",
       " (Isolation(board=41523161203939122082683632224299007, ply_count=0, locs=(None, None)),\n",
       "  22): 0,\n",
       " (Isolation(board=41523161203939122082683632224299007, ply_count=0, locs=(None, None)),\n",
       "  23): 9,\n",
       " (Isolation(board=41523161203939122082683632224299007, ply_count=0, locs=(None, None)),\n",
       "  26): 10,\n",
       " (Isolation(board=41523161203939122082683632224299007, ply_count=0, locs=(None, None)),\n",
       "  27): -12,\n",
       " (Isolation(board=41523161203939122082683632224299007, ply_count=0, locs=(None, None)),\n",
       "  28): 6,\n",
       " (Isolation(board=41523161203939122082683632224299007, ply_count=0, locs=(None, None)),\n",
       "  29): 10,\n",
       " (Isolation(board=41523161203939122082683632224299007, ply_count=0, locs=(None, None)),\n",
       "  30): 5,\n",
       " (Isolation(board=41523161203939122082683632224299007, ply_count=0, locs=(None, None)),\n",
       "  31): 18,\n",
       " (Isolation(board=41523161203939122082683632224299007, ply_count=0, locs=(None, None)),\n",
       "  32): 5,\n",
       " (Isolation(board=41523161203939122082683632224299007, ply_count=0, locs=(None, None)),\n",
       "  33): 10,\n",
       " (Isolation(board=41523161203939122082683632224299007, ply_count=0, locs=(None, None)),\n",
       "  34): 6,\n",
       " (Isolation(board=41523161203939122082683632224299007, ply_count=0, locs=(None, None)),\n",
       "  35): -12,\n",
       " (Isolation(board=41523161203939122082683632224299007, ply_count=0, locs=(None, None)),\n",
       "  36): 10,\n",
       " (Isolation(board=41523161203939122082683632224299007, ply_count=0, locs=(None, None)),\n",
       "  39): 19,\n",
       " (Isolation(board=41523161203939122082683632224299007, ply_count=0, locs=(None, None)),\n",
       "  40): -17,\n",
       " (Isolation(board=41523161203939122082683632224299007, ply_count=0, locs=(None, None)),\n",
       "  41): -3,\n",
       " (Isolation(board=41523161203939122082683632224299007, ply_count=0, locs=(None, None)),\n",
       "  42): -4,\n",
       " (Isolation(board=41523161203939122082683632224299007, ply_count=0, locs=(None, None)),\n",
       "  43): 11,\n",
       " (Isolation(board=41523161203939122082683632224299007, ply_count=0, locs=(None, None)),\n",
       "  44): -4,\n",
       " (Isolation(board=41523161203939122082683632224299007, ply_count=0, locs=(None, None)),\n",
       "  45): 11,\n",
       " (Isolation(board=41523161203939122082683632224299007, ply_count=0, locs=(None, None)),\n",
       "  46): -4,\n",
       " (Isolation(board=41523161203939122082683632224299007, ply_count=0, locs=(None, None)),\n",
       "  47): -3,\n",
       " (Isolation(board=41523161203939122082683632224299007, ply_count=0, locs=(None, None)),\n",
       "  48): -17,\n",
       " (Isolation(board=41523161203939122082683632224299007, ply_count=0, locs=(None, None)),\n",
       "  49): 19,\n",
       " (Isolation(board=41523161203939122082683632224299007, ply_count=0, locs=(None, None)),\n",
       "  52): -14,\n",
       " (Isolation(board=41523161203939122082683632224299007, ply_count=0, locs=(None, None)),\n",
       "  53): 28,\n",
       " (Isolation(board=41523161203939122082683632224299007, ply_count=0, locs=(None, None)),\n",
       "  54): 4,\n",
       " (Isolation(board=41523161203939122082683632224299007, ply_count=0, locs=(None, None)),\n",
       "  55): 16,\n",
       " (Isolation(board=41523161203939122082683632224299007, ply_count=0, locs=(None, None)),\n",
       "  56): 6,\n",
       " (Isolation(board=41523161203939122082683632224299007, ply_count=0, locs=(None, None)),\n",
       "  57): 8,\n",
       " (Isolation(board=41523161203939122082683632224299007, ply_count=0, locs=(None, None)),\n",
       "  58): 6,\n",
       " (Isolation(board=41523161203939122082683632224299007, ply_count=0, locs=(None, None)),\n",
       "  59): 16,\n",
       " (Isolation(board=41523161203939122082683632224299007, ply_count=0, locs=(None, None)),\n",
       "  60): 4,\n",
       " (Isolation(board=41523161203939122082683632224299007, ply_count=0, locs=(None, None)),\n",
       "  61): 28,\n",
       " (Isolation(board=41523161203939122082683632224299007, ply_count=0, locs=(None, None)),\n",
       "  62): -14,\n",
       " (Isolation(board=41523161203939122082683632224299007, ply_count=0, locs=(None, None)),\n",
       "  65): 19,\n",
       " (Isolation(board=41523161203939122082683632224299007, ply_count=0, locs=(None, None)),\n",
       "  66): -17,\n",
       " (Isolation(board=41523161203939122082683632224299007, ply_count=0, locs=(None, None)),\n",
       "  67): -3,\n",
       " (Isolation(board=41523161203939122082683632224299007, ply_count=0, locs=(None, None)),\n",
       "  68): -4,\n",
       " (Isolation(board=41523161203939122082683632224299007, ply_count=0, locs=(None, None)),\n",
       "  69): 11,\n",
       " (Isolation(board=41523161203939122082683632224299007, ply_count=0, locs=(None, None)),\n",
       "  70): -4,\n",
       " (Isolation(board=41523161203939122082683632224299007, ply_count=0, locs=(None, None)),\n",
       "  71): 11,\n",
       " (Isolation(board=41523161203939122082683632224299007, ply_count=0, locs=(None, None)),\n",
       "  72): -4,\n",
       " (Isolation(board=41523161203939122082683632224299007, ply_count=0, locs=(None, None)),\n",
       "  73): -3,\n",
       " (Isolation(board=41523161203939122082683632224299007, ply_count=0, locs=(None, None)),\n",
       "  74): -17,\n",
       " (Isolation(board=41523161203939122082683632224299007, ply_count=0, locs=(None, None)),\n",
       "  75): 19,\n",
       " (Isolation(board=41523161203939122082683632224299007, ply_count=0, locs=(None, None)),\n",
       "  78): 10,\n",
       " (Isolation(board=41523161203939122082683632224299007, ply_count=0, locs=(None, None)),\n",
       "  79): -12,\n",
       " (Isolation(board=41523161203939122082683632224299007, ply_count=0, locs=(None, None)),\n",
       "  80): 6,\n",
       " (Isolation(board=41523161203939122082683632224299007, ply_count=0, locs=(None, None)),\n",
       "  81): 10,\n",
       " (Isolation(board=41523161203939122082683632224299007, ply_count=0, locs=(None, None)),\n",
       "  82): 5,\n",
       " (Isolation(board=41523161203939122082683632224299007, ply_count=0, locs=(None, None)),\n",
       "  83): 18,\n",
       " (Isolation(board=41523161203939122082683632224299007, ply_count=0, locs=(None, None)),\n",
       "  84): 5,\n",
       " (Isolation(board=41523161203939122082683632224299007, ply_count=0, locs=(None, None)),\n",
       "  85): 10,\n",
       " (Isolation(board=41523161203939122082683632224299007, ply_count=0, locs=(None, None)),\n",
       "  86): 6,\n",
       " (Isolation(board=41523161203939122082683632224299007, ply_count=0, locs=(None, None)),\n",
       "  87): -12,\n",
       " (Isolation(board=41523161203939122082683632224299007, ply_count=0, locs=(None, None)),\n",
       "  88): 10,\n",
       " (Isolation(board=41523161203939122082683632224299007, ply_count=0, locs=(None, None)),\n",
       "  91): 9,\n",
       " (Isolation(board=41523161203939122082683632224299007, ply_count=0, locs=(None, None)),\n",
       "  92): 0,\n",
       " (Isolation(board=41523161203939122082683632224299007, ply_count=0, locs=(None, None)),\n",
       "  93): 0,\n",
       " (Isolation(board=41523161203939122082683632224299007, ply_count=0, locs=(None, None)),\n",
       "  94): 3,\n",
       " (Isolation(board=41523161203939122082683632224299007, ply_count=0, locs=(None, None)),\n",
       "  95): -14,\n",
       " (Isolation(board=41523161203939122082683632224299007, ply_count=0, locs=(None, None)),\n",
       "  96): 8,\n",
       " (Isolation(board=41523161203939122082683632224299007, ply_count=0, locs=(None, None)),\n",
       "  97): -14,\n",
       " (Isolation(board=41523161203939122082683632224299007, ply_count=0, locs=(None, None)),\n",
       "  98): 3,\n",
       " (Isolation(board=41523161203939122082683632224299007, ply_count=0, locs=(None, None)),\n",
       "  99): 0,\n",
       " (Isolation(board=41523161203939122082683632224299007, ply_count=0, locs=(None, None)),\n",
       "  100): 0,\n",
       " (Isolation(board=41523161203939122082683632224299007, ply_count=0, locs=(None, None)),\n",
       "  101): 9,\n",
       " (Isolation(board=41523161203939122082683632224299007, ply_count=0, locs=(None, None)),\n",
       "  104): 3,\n",
       " (Isolation(board=41523161203939122082683632224299007, ply_count=0, locs=(None, None)),\n",
       "  105): -3,\n",
       " (Isolation(board=41523161203939122082683632224299007, ply_count=0, locs=(None, None)),\n",
       "  106): -5,\n",
       " (Isolation(board=41523161203939122082683632224299007, ply_count=0, locs=(None, None)),\n",
       "  107): 25,\n",
       " (Isolation(board=41523161203939122082683632224299007, ply_count=0, locs=(None, None)),\n",
       "  108): 16,\n",
       " (Isolation(board=41523161203939122082683632224299007, ply_count=0, locs=(None, None)),\n",
       "  109): -2,\n",
       " (Isolation(board=41523161203939122082683632224299007, ply_count=0, locs=(None, None)),\n",
       "  110): 16,\n",
       " (Isolation(board=41523161203939122082683632224299007, ply_count=0, locs=(None, None)),\n",
       "  111): 25,\n",
       " (Isolation(board=41523161203939122082683632224299007, ply_count=0, locs=(None, None)),\n",
       "  112): -5,\n",
       " (Isolation(board=41523161203939122082683632224299007, ply_count=0, locs=(None, None)),\n",
       "  113): -3,\n",
       " (Isolation(board=41523161203939122082683632224299007, ply_count=0, locs=(None, None)),\n",
       "  114): 3}"
      ]
     },
     "execution_count": 21,
     "metadata": {},
     "output_type": "execute_result"
    }
   ],
   "source": [
    "first"
   ]
  },
  {
   "cell_type": "code",
   "execution_count": 22,
   "metadata": {},
   "outputs": [
    {
     "data": {
      "text/plain": [
       "{0: 3,\n",
       " 1: -3,\n",
       " 2: -5,\n",
       " 3: 25,\n",
       " 4: 16,\n",
       " 5: -2,\n",
       " 6: 16,\n",
       " 7: 25,\n",
       " 8: -5,\n",
       " 9: -3,\n",
       " 10: 3,\n",
       " 13: 9,\n",
       " 14: 0,\n",
       " 15: 0,\n",
       " 16: 3,\n",
       " 17: -14,\n",
       " 18: 8,\n",
       " 19: -14,\n",
       " 20: 3,\n",
       " 21: 0,\n",
       " 22: 0,\n",
       " 23: 9,\n",
       " 26: 10,\n",
       " 27: -12,\n",
       " 28: 6,\n",
       " 29: 10,\n",
       " 30: 5,\n",
       " 31: 18,\n",
       " 32: 5,\n",
       " 33: 10,\n",
       " 34: 6,\n",
       " 35: -12,\n",
       " 36: 10,\n",
       " 39: 19,\n",
       " 40: -17,\n",
       " 41: -3,\n",
       " 42: -4,\n",
       " 43: 11,\n",
       " 44: -4,\n",
       " 45: 11,\n",
       " 46: -4,\n",
       " 47: -3,\n",
       " 48: -17,\n",
       " 49: 19,\n",
       " 52: -14,\n",
       " 53: 28,\n",
       " 54: 4,\n",
       " 55: 16,\n",
       " 56: 6,\n",
       " 57: 8,\n",
       " 58: 6,\n",
       " 59: 16,\n",
       " 60: 4,\n",
       " 61: 28,\n",
       " 62: -14,\n",
       " 65: 19,\n",
       " 66: -17,\n",
       " 67: -3,\n",
       " 68: -4,\n",
       " 69: 11,\n",
       " 70: -4,\n",
       " 71: 11,\n",
       " 72: -4,\n",
       " 73: -3,\n",
       " 74: -17,\n",
       " 75: 19,\n",
       " 78: 10,\n",
       " 79: -12,\n",
       " 80: 6,\n",
       " 81: 10,\n",
       " 82: 5,\n",
       " 83: 18,\n",
       " 84: 5,\n",
       " 85: 10,\n",
       " 86: 6,\n",
       " 87: -12,\n",
       " 88: 10,\n",
       " 91: 9,\n",
       " 92: 0,\n",
       " 93: 0,\n",
       " 94: 3,\n",
       " 95: -14,\n",
       " 96: 8,\n",
       " 97: -14,\n",
       " 98: 3,\n",
       " 99: 0,\n",
       " 100: 0,\n",
       " 101: 9,\n",
       " 104: 3,\n",
       " 105: -3,\n",
       " 106: -5,\n",
       " 107: 25,\n",
       " 108: 16,\n",
       " 109: -2,\n",
       " 110: 16,\n",
       " 111: 25,\n",
       " 112: -5,\n",
       " 113: -3,\n",
       " 114: 3}"
      ]
     },
     "execution_count": 22,
     "metadata": {},
     "output_type": "execute_result"
    }
   ],
   "source": [
    "pos_value = {key[1]:value for key,value in first.items()}\n",
    "pos_value"
   ]
  },
  {
   "cell_type": "code",
   "execution_count": 23,
   "metadata": {},
   "outputs": [
    {
     "data": {
      "text/plain": [
       "{0: 3,\n",
       " 1: -3,\n",
       " 2: -5,\n",
       " 3: 25,\n",
       " 4: 16,\n",
       " 5: -2,\n",
       " 6: 16,\n",
       " 7: 25,\n",
       " 8: -5,\n",
       " 9: -3,\n",
       " 10: 3,\n",
       " 11: 0,\n",
       " 12: 0,\n",
       " 13: 9,\n",
       " 14: 0,\n",
       " 15: 0,\n",
       " 16: 3,\n",
       " 17: -14,\n",
       " 18: 8,\n",
       " 19: -14,\n",
       " 20: 3,\n",
       " 21: 0,\n",
       " 22: 0,\n",
       " 23: 9,\n",
       " 24: 0,\n",
       " 25: 0,\n",
       " 26: 10,\n",
       " 27: -12,\n",
       " 28: 6,\n",
       " 29: 10,\n",
       " 30: 5,\n",
       " 31: 18,\n",
       " 32: 5,\n",
       " 33: 10,\n",
       " 34: 6,\n",
       " 35: -12,\n",
       " 36: 10,\n",
       " 37: 0,\n",
       " 38: 0,\n",
       " 39: 19,\n",
       " 40: -17,\n",
       " 41: -3,\n",
       " 42: -4,\n",
       " 43: 11,\n",
       " 44: -4,\n",
       " 45: 11,\n",
       " 46: -4,\n",
       " 47: -3,\n",
       " 48: -17,\n",
       " 49: 19,\n",
       " 50: 0,\n",
       " 51: 0,\n",
       " 52: -14,\n",
       " 53: 28,\n",
       " 54: 4,\n",
       " 55: 16,\n",
       " 56: 6,\n",
       " 57: 8,\n",
       " 58: 6,\n",
       " 59: 16,\n",
       " 60: 4,\n",
       " 61: 28,\n",
       " 62: -14,\n",
       " 63: 0,\n",
       " 64: 0,\n",
       " 65: 19,\n",
       " 66: -17,\n",
       " 67: -3,\n",
       " 68: -4,\n",
       " 69: 11,\n",
       " 70: -4,\n",
       " 71: 11,\n",
       " 72: -4,\n",
       " 73: -3,\n",
       " 74: -17,\n",
       " 75: 19,\n",
       " 76: 0,\n",
       " 77: 0,\n",
       " 78: 10,\n",
       " 79: -12,\n",
       " 80: 6,\n",
       " 81: 10,\n",
       " 82: 5,\n",
       " 83: 18,\n",
       " 84: 5,\n",
       " 85: 10,\n",
       " 86: 6,\n",
       " 87: -12,\n",
       " 88: 10,\n",
       " 89: 0,\n",
       " 90: 0,\n",
       " 91: 9,\n",
       " 92: 0,\n",
       " 93: 0,\n",
       " 94: 3,\n",
       " 95: -14,\n",
       " 96: 8,\n",
       " 97: -14,\n",
       " 98: 3,\n",
       " 99: 0,\n",
       " 100: 0,\n",
       " 101: 9,\n",
       " 102: 0,\n",
       " 103: 0,\n",
       " 104: 3,\n",
       " 105: -3,\n",
       " 106: -5,\n",
       " 107: 25,\n",
       " 108: 16,\n",
       " 109: -2,\n",
       " 110: 16,\n",
       " 111: 25,\n",
       " 112: -5,\n",
       " 113: -3,\n",
       " 114: 3}"
      ]
     },
     "execution_count": 23,
     "metadata": {},
     "output_type": "execute_result"
    }
   ],
   "source": [
    "filled_vals = dict(zip(range(115),[0]*115))\n",
    "filled_vals.update(pos_value)\n",
    "filled_vals"
   ]
  },
  {
   "cell_type": "code",
   "execution_count": 24,
   "metadata": {
    "collapsed": true
   },
   "outputs": [],
   "source": [
    "W = 11\n",
    "x = list(filled_vals.values())\n",
    "rows = [x[i*(W+2):(i+1)*(W+2)] \n",
    "           for i in range(len(x) // (W+2) + (len(x) % (W+2) != 0))]"
   ]
  },
  {
   "cell_type": "code",
   "execution_count": 25,
   "metadata": {},
   "outputs": [
    {
     "data": {
      "text/plain": [
       "[[3, -3, -5, 25, 16, -2, 16, 25, -5, -3, 3, 0, 0],\n",
       " [9, 0, 0, 3, -14, 8, -14, 3, 0, 0, 9, 0, 0],\n",
       " [10, -12, 6, 10, 5, 18, 5, 10, 6, -12, 10, 0, 0],\n",
       " [19, -17, -3, -4, 11, -4, 11, -4, -3, -17, 19, 0, 0],\n",
       " [-14, 28, 4, 16, 6, 8, 6, 16, 4, 28, -14, 0, 0],\n",
       " [19, -17, -3, -4, 11, -4, 11, -4, -3, -17, 19, 0, 0],\n",
       " [10, -12, 6, 10, 5, 18, 5, 10, 6, -12, 10, 0, 0],\n",
       " [9, 0, 0, 3, -14, 8, -14, 3, 0, 0, 9, 0, 0],\n",
       " [3, -3, -5, 25, 16, -2, 16, 25, -5, -3, 3]]"
      ]
     },
     "execution_count": 25,
     "metadata": {},
     "output_type": "execute_result"
    }
   ],
   "source": [
    "rows"
   ]
  },
  {
   "cell_type": "code",
   "execution_count": 26,
   "metadata": {},
   "outputs": [
    {
     "data": {
      "text/plain": [
       "[[3, -3, -5, 25, 16, -2, 16, 25, -5, -3, 3],\n",
       " [9, 0, 0, 3, -14, 8, -14, 3, 0, 0, 9],\n",
       " [10, -12, 6, 10, 5, 18, 5, 10, 6, -12, 10],\n",
       " [19, -17, -3, -4, 11, -4, 11, -4, -3, -17, 19],\n",
       " [-14, 28, 4, 16, 6, 8, 6, 16, 4, 28, -14],\n",
       " [19, -17, -3, -4, 11, -4, 11, -4, -3, -17, 19],\n",
       " [10, -12, 6, 10, 5, 18, 5, 10, 6, -12, 10],\n",
       " [9, 0, 0, 3, -14, 8, -14, 3, 0, 0, 9],\n",
       " [3, -3, -5, 25, 16, -2, 16, 25, -5, -3, 3]]"
      ]
     },
     "execution_count": 26,
     "metadata": {},
     "output_type": "execute_result"
    }
   ],
   "source": [
    "for i in range(len(rows)-1):\n",
    "    rows[i] =rows[i][:-2]\n",
    "rows"
   ]
  },
  {
   "cell_type": "code",
   "execution_count": 27,
   "metadata": {},
   "outputs": [
    {
     "data": {
      "text/plain": [
       "array([[  3,  -3,  -5,  25,  16,  -2,  16,  25,  -5,  -3,   3],\n",
       "       [  9,   0,   0,   3, -14,   8, -14,   3,   0,   0,   9],\n",
       "       [ 10, -12,   6,  10,   5,  18,   5,  10,   6, -12,  10],\n",
       "       [ 19, -17,  -3,  -4,  11,  -4,  11,  -4,  -3, -17,  19],\n",
       "       [-14,  28,   4,  16,   6,   8,   6,  16,   4,  28, -14],\n",
       "       [ 19, -17,  -3,  -4,  11,  -4,  11,  -4,  -3, -17,  19],\n",
       "       [ 10, -12,   6,  10,   5,  18,   5,  10,   6, -12,  10],\n",
       "       [  9,   0,   0,   3, -14,   8, -14,   3,   0,   0,   9],\n",
       "       [  3,  -3,  -5,  25,  16,  -2,  16,  25,  -5,  -3,   3]])"
      ]
     },
     "execution_count": 27,
     "metadata": {},
     "output_type": "execute_result"
    }
   ],
   "source": [
    "rows = np.array(rows)\n",
    "rows"
   ]
  },
  {
   "cell_type": "code",
   "execution_count": 28,
   "metadata": {
    "scrolled": true
   },
   "outputs": [
    {
     "data": {
      "text/plain": [
       "<matplotlib.axes._subplots.AxesSubplot at 0x11ae5b9e8>"
      ]
     },
     "execution_count": 28,
     "metadata": {},
     "output_type": "execute_result"
    },
    {
     "data": {
      "image/png": "[encoded data removed]",
      "text/plain": [
       "<matplotlib.figure.Figure at 0x118e0c9e8>"
      ]
     },
     "metadata": {},
     "output_type": "display_data"
    }
   ],
   "source": [
    "import seaborn as sns\n",
    "sns.heatmap(rows)"
   ]
  },
  {
   "cell_type": "code",
   "execution_count": 29,
   "metadata": {
    "collapsed": true
   },
   "outputs": [],
   "source": [
    "second = {item:value[0] for item, value in book.items() if item[0].ply_count==1}"
   ]
  },
  {
   "cell_type": "code",
   "execution_count": 34,
   "metadata": {},
   "outputs": [
    {
     "data": {
      "text/plain": [
       "9702"
      ]
     },
     "execution_count": 34,
     "metadata": {},
     "output_type": "execute_result"
    }
   ],
   "source": [
    "len(second)"
   ]
  },
  {
   "cell_type": "code",
   "execution_count": 35,
   "metadata": {},
   "outputs": [
    {
     "data": {
      "text/plain": [
       "count    9702.000000\n",
       "mean       -0.004123\n",
       "std         0.206041\n",
       "min        -2.000000\n",
       "25%         0.000000\n",
       "50%         0.000000\n",
       "75%         0.000000\n",
       "max         2.000000\n",
       "dtype: float64"
      ]
     },
     "execution_count": 35,
     "metadata": {},
     "output_type": "execute_result"
    }
   ],
   "source": [
    "pd.Series(list(second.values())).describe()"
   ]
  },
  {
   "cell_type": "code",
   "execution_count": 36,
   "metadata": {
    "collapsed": true
   },
   "outputs": [],
   "source": [
    "third = {item:value[0] for item, value in book.items() if item[0].ply_count==2}"
   ]
  },
  {
   "cell_type": "code",
   "execution_count": 37,
   "metadata": {},
   "outputs": [
    {
     "data": {
      "text/plain": [
       "55096"
      ]
     },
     "execution_count": 37,
     "metadata": {},
     "output_type": "execute_result"
    }
   ],
   "source": [
    "len(third)"
   ]
  },
  {
   "cell_type": "code",
   "execution_count": 38,
   "metadata": {},
   "outputs": [
    {
     "data": {
      "text/plain": [
       "count    55096.000000\n",
       "mean         0.000726\n",
       "std          0.085204\n",
       "min         -1.000000\n",
       "25%          0.000000\n",
       "50%          0.000000\n",
       "75%          0.000000\n",
       "max          1.000000\n",
       "dtype: float64"
      ]
     },
     "execution_count": 38,
     "metadata": {},
     "output_type": "execute_result"
    }
   ],
   "source": [
    "pd.Series(list(third.values())).describe()"
   ]
  },
  {
   "cell_type": "code",
   "execution_count": 39,
   "metadata": {},
   "outputs": [
    {
     "data": {
      "text/plain": [
       "309200"
      ]
     },
     "execution_count": 39,
     "metadata": {},
     "output_type": "execute_result"
    }
   ],
   "source": [
    "fourth = {item:value[0] for item, value in book.items() if item[0].ply_count==3}\n",
    "len(fourth)"
   ]
  },
  {
   "cell_type": "code",
   "execution_count": 40,
   "metadata": {},
   "outputs": [
    {
     "data": {
      "text/plain": [
       "count    309200.000000\n",
       "mean         -0.000032\n",
       "std           0.017984\n",
       "min          -1.000000\n",
       "25%           0.000000\n",
       "50%           0.000000\n",
       "75%           0.000000\n",
       "max           1.000000\n",
       "dtype: float64"
      ]
     },
     "execution_count": 40,
     "metadata": {},
     "output_type": "execute_result"
    }
   ],
   "source": [
    "pd.Series(list(fourth.values())).describe()"
   ]
  },
  {
   "cell_type": "code",
   "execution_count": 41,
   "metadata": {},
   "outputs": [
    {
     "data": {
      "text/plain": [
       "400"
      ]
     },
     "execution_count": 41,
     "metadata": {},
     "output_type": "execute_result"
    }
   ],
   "source": [
    "sum(np.array(list(third.values())) != 0)"
   ]
  },
  {
   "cell_type": "code",
   "execution_count": 42,
   "metadata": {},
   "outputs": [
    {
     "data": {
      "text/plain": [
       "100"
      ]
     },
     "execution_count": 42,
     "metadata": {},
     "output_type": "execute_result"
    }
   ],
   "source": [
    "sum(np.array(list(fourth.values())) != 0)"
   ]
  },
  {
   "cell_type": "code",
   "execution_count": null,
   "metadata": {
    "collapsed": true
   },
   "outputs": [],
   "source": []
  },
  {
   "cell_type": "code",
   "execution_count": null,
   "metadata": {
    "collapsed": true
   },
   "outputs": [],
   "source": []
  }
 ],
 "metadata": {
  "kernelspec": {
   "display_name": "aind",
   "language": "python",
   "name": "aind"
  },
  "language_info": {
   "codemirror_mode": {
    "name": "ipython",
    "version": 3
   },
   "file_extension": ".py",
   "mimetype": "text/x-python",
   "name": "python",
   "nbconvert_exporter": "python",
   "pygments_lexer": "ipython3",
   "version": "3.5.4"
  }
 },
 "nbformat": 4,
 "nbformat_minor": 2
}
