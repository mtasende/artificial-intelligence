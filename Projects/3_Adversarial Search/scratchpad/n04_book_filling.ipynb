{
 "cells": [
  {
   "cell_type": "code",
   "execution_count": 1,
   "metadata": {
    "collapsed": false
   },
   "outputs": [
    {
     "name": "stdout",
     "output_type": "stream",
     "text": [
      "Populating the interactive namespace from numpy and matplotlib\n"
     ]
    },
    {
     "name": "stderr",
     "output_type": "stream",
     "text": [
      "/home/miguel/anaconda3/envs/aind/lib/python3.5/site-packages/IPython/core/magics/pylab.py:160: UserWarning: pylab import has clobbered these variables: ['time']\n",
      "`%matplotlib` prevents importing * from pylab and numpy\n",
      "  \"\\n`%matplotlib` prevents importing * from pylab and numpy\"\n"
     ]
    }
   ],
   "source": [
    "import matplotlib.pyplot as plt\n",
    "import pandas as pd\n",
    "import numpy as np\n",
    "import sys\n",
    "from time import time\n",
    "import os\n",
    "\n",
    "%pylab inline\n",
    "pylab.rcParams['figure.figsize'] = (20.0, 10.0)\n",
    "\n",
    "%load_ext autoreload\n",
    "%autoreload 2\n",
    "\n",
    "sys.path.append('..')\n",
    "\n",
    "import isolation\n",
    "import sample_players\n",
    "import run_match\n",
    "import my_baseline_player as custom\n",
    "import book as b\n",
    "\n",
    "from multiprocessing.pool import ThreadPool as Pool"
   ]
  },
  {
   "cell_type": "code",
   "execution_count": 2,
   "metadata": {
    "collapsed": false
   },
   "outputs": [
    {
     "name": "stdout",
     "output_type": "stream",
     "text": [
      "Generated 29403 matches.\n"
     ]
    }
   ],
   "source": [
    "# Constant parameteres\n",
    "time_limit = 150\n",
    "depth = 4\n",
    "full_search_depth = 2\n",
    "matches_per_opening = 3\n",
    "\n",
    "# Create the agents that will play\n",
    "agent_names = ('CustomPlayer1', 'CustomPlayer2')\n",
    "agent1 = isolation.Agent(custom.CustomPlayer, agent_names[0])\n",
    "agent2 = isolation.Agent(custom.CustomPlayer, agent_names[1])\n",
    "agents = (agent1, agent2)\n",
    "\n",
    "# Get the initial states\n",
    "root = isolation.isolation.Isolation()\n",
    "opening_states = list(b.get_full_states(root, depth=full_search_depth))\n",
    "\n",
    "# Generate the matches\n",
    "matches = [(agents, state, time_limit, match_id) \n",
    "           for match_id, state in enumerate(opening_states)]\n",
    "matches = matches * 3\n",
    "print('Generated {} matches.'.format(len(matches)))"
   ]
  },
  {
   "cell_type": "code",
   "execution_count": 3,
   "metadata": {
    "collapsed": false
   },
   "outputs": [
    {
     "name": "stdout",
     "output_type": "stream",
     "text": [
      "Processing batch 163 of 295\n",
      "Batch time 275.32950806617737 seconds.\n",
      "Saving: book2018-06-15_08S09S10.649374.pkl\n",
      "rm book2018-06-14_19S13S38.799745.pkl\n",
      "Processing batch 164 of 295\n",
      "Batch time 271.85555124282837 seconds.\n",
      "Saving: book2018-06-15_08S13S42.904798.pkl\n",
      "rm book2018-06-15_08S09S10.649374.pkl\n",
      "Processing batch 165 of 295\n",
      "Batch time 269.90383672714233 seconds.\n",
      "Saving: book2018-06-15_08S18S13.184027.pkl\n",
      "rm book2018-06-15_08S13S42.904798.pkl\n",
      "Processing batch 166 of 295\n",
      "Batch time 282.55953192710876 seconds.\n",
      "Saving: book2018-06-15_08S22S56.123448.pkl\n",
      "rm book2018-06-15_08S18S13.184027.pkl\n",
      "Processing batch 167 of 295\n",
      "Batch time 273.7431254386902 seconds.\n",
      "Saving: book2018-06-15_08S27S30.252834.pkl\n",
      "rm book2018-06-15_08S22S56.123448.pkl\n",
      "Processing batch 168 of 295\n",
      "Batch time 272.64021825790405 seconds.\n",
      "Saving: book2018-06-15_08S32S03.279418.pkl\n",
      "rm book2018-06-15_08S27S30.252834.pkl\n",
      "Processing batch 169 of 295\n",
      "Batch time 269.11245703697205 seconds.\n",
      "Saving: book2018-06-15_08S36S32.779847.pkl\n",
      "rm book2018-06-15_08S32S03.279418.pkl\n",
      "Processing batch 170 of 295\n",
      "Batch time 274.6309711933136 seconds.\n",
      "Saving: book2018-06-15_08S41S07.918355.pkl\n",
      "rm book2018-06-15_08S36S32.779847.pkl\n",
      "Processing batch 171 of 295\n",
      "Batch time 283.4343156814575 seconds.\n",
      "Saving: book2018-06-15_08S45S51.842916.pkl\n",
      "rm book2018-06-15_08S41S07.918355.pkl\n",
      "Processing batch 172 of 295\n",
      "Batch time 279.01168870925903 seconds.\n",
      "Saving: book2018-06-15_08S50S31.339994.pkl\n",
      "rm book2018-06-15_08S45S51.842916.pkl\n",
      "Processing batch 173 of 295\n",
      "Batch time 278.4507739543915 seconds.\n",
      "Saving: book2018-06-15_08S55S10.263443.pkl\n",
      "rm book2018-06-15_08S50S31.339994.pkl\n",
      "Processing batch 174 of 295\n",
      "Batch time 276.5730104446411 seconds.\n",
      "Saving: book2018-06-15_08S59S47.218642.pkl\n",
      "rm book2018-06-15_08S55S10.263443.pkl\n",
      "Processing batch 175 of 295\n",
      "Batch time 282.01160621643066 seconds.\n",
      "Saving: book2018-06-15_09S04S29.616077.pkl\n",
      "rm book2018-06-15_08S59S47.218642.pkl\n",
      "Processing batch 176 of 295\n",
      "Batch time 274.5992205142975 seconds.\n",
      "Saving: book2018-06-15_09S09S04.604346.pkl\n",
      "rm book2018-06-15_09S04S29.616077.pkl\n",
      "Processing batch 177 of 295\n",
      "Batch time 274.57640624046326 seconds.\n",
      "Saving: book2018-06-15_09S13S39.565049.pkl\n",
      "rm book2018-06-15_09S09S04.604346.pkl\n",
      "Processing batch 178 of 295\n",
      "Batch time 268.54624819755554 seconds.\n",
      "Saving: book2018-06-15_09S18S08.496387.pkl\n",
      "rm book2018-06-15_09S13S39.565049.pkl\n",
      "Processing batch 179 of 295\n",
      "Batch time 278.06671166419983 seconds.\n",
      "Saving: book2018-06-15_09S22S46.943634.pkl\n",
      "rm book2018-06-15_09S18S08.496387.pkl\n",
      "Processing batch 180 of 295\n",
      "Batch time 273.5400643348694 seconds.\n",
      "Saving: book2018-06-15_09S27S20.871677.pkl\n",
      "rm book2018-06-15_09S22S46.943634.pkl\n",
      "Processing batch 181 of 295\n",
      "Batch time 275.9147620201111 seconds.\n",
      "Saving: book2018-06-15_09S31S57.173384.pkl\n",
      "rm book2018-06-15_09S27S20.871677.pkl\n",
      "Processing batch 182 of 295\n",
      "Batch time 266.08251309394836 seconds.\n",
      "Saving: book2018-06-15_09S36S23.636526.pkl\n",
      "rm book2018-06-15_09S31S57.173384.pkl\n",
      "Processing batch 183 of 295\n",
      "Batch time 270.12530851364136 seconds.\n",
      "Saving: book2018-06-15_09S40S54.139523.pkl\n",
      "rm book2018-06-15_09S36S23.636526.pkl\n",
      "Processing batch 184 of 295\n",
      "Batch time 272.83096051216125 seconds.\n",
      "Saving: book2018-06-15_09S45S27.351320.pkl\n",
      "rm book2018-06-15_09S40S54.139523.pkl\n",
      "Processing batch 185 of 295\n",
      "Batch time 275.21758365631104 seconds.\n",
      "Saving: book2018-06-15_09S50S02.950622.pkl\n",
      "rm book2018-06-15_09S45S27.351320.pkl\n",
      "Processing batch 186 of 295\n",
      "Batch time 275.54150104522705 seconds.\n",
      "Saving: book2018-06-15_09S54S38.878460.pkl\n",
      "rm book2018-06-15_09S50S02.950622.pkl\n",
      "Processing batch 187 of 295\n",
      "Batch time 270.3671615123749 seconds.\n",
      "Saving: book2018-06-15_09S59S09.634283.pkl\n",
      "rm book2018-06-15_09S54S38.878460.pkl\n",
      "Processing batch 188 of 295\n",
      "Batch time 268.3484318256378 seconds.\n",
      "Saving: book2018-06-15_10S03S38.365695.pkl\n",
      "rm book2018-06-15_09S59S09.634283.pkl\n",
      "Processing batch 189 of 295\n",
      "Batch time 269.04031324386597 seconds.\n",
      "Saving: book2018-06-15_10S08S07.789554.pkl\n",
      "rm book2018-06-15_10S03S38.365695.pkl\n",
      "Processing batch 190 of 295\n",
      "Batch time 263.89397263526917 seconds.\n",
      "Saving: book2018-06-15_10S12S32.066856.pkl\n",
      "rm book2018-06-15_10S08S07.789554.pkl\n",
      "Processing batch 191 of 295\n",
      "Batch time 276.7546067237854 seconds.\n",
      "Saving: book2018-06-15_10S17S09.198910.pkl\n",
      "rm book2018-06-15_10S12S32.066856.pkl\n",
      "Processing batch 192 of 295\n",
      "Batch time 276.5971565246582 seconds.\n",
      "Saving: book2018-06-15_10S21S46.176319.pkl\n",
      "rm book2018-06-15_10S17S09.198910.pkl\n",
      "Processing batch 193 of 295\n",
      "Batch time 275.04528546333313 seconds.\n",
      "Saving: book2018-06-15_10S26S21.610271.pkl\n",
      "rm book2018-06-15_10S21S46.176319.pkl\n",
      "Processing batch 194 of 295\n",
      "Batch time 273.00219082832336 seconds.\n",
      "Saving: book2018-06-15_10S30S54.997944.pkl\n",
      "rm book2018-06-15_10S26S21.610271.pkl\n",
      "Processing batch 195 of 295\n",
      "Batch time 279.7010488510132 seconds.\n",
      "Saving: book2018-06-15_10S35S35.076015.pkl\n",
      "rm book2018-06-15_10S30S54.997944.pkl\n",
      "Processing batch 196 of 295\n",
      "Batch time 271.92375016212463 seconds.\n",
      "Saving: book2018-06-15_10S40S07.376806.pkl\n",
      "rm book2018-06-15_10S35S35.076015.pkl\n",
      "Processing batch 197 of 295\n",
      "Batch time 265.36921668052673 seconds.\n",
      "Saving: book2018-06-15_10S44S33.114296.pkl\n",
      "rm book2018-06-15_10S40S07.376806.pkl\n",
      "Processing batch 198 of 295\n",
      "Batch time 274.25508069992065 seconds.\n",
      "Saving: book2018-06-15_10S49S07.734740.pkl\n",
      "rm book2018-06-15_10S44S33.114296.pkl\n",
      "Processing batch 199 of 295\n",
      "Batch time 277.4633333683014 seconds.\n",
      "Saving: book2018-06-15_10S53S45.575348.pkl\n",
      "rm book2018-06-15_10S49S07.734740.pkl\n",
      "Processing batch 200 of 295\n",
      "Batch time 278.0883331298828 seconds.\n",
      "Saving: book2018-06-15_10S58S24.044006.pkl\n",
      "rm book2018-06-15_10S53S45.575348.pkl\n",
      "Processing batch 201 of 295\n",
      "Batch time 273.19294261932373 seconds.\n",
      "Saving: book2018-06-15_11S02S57.614993.pkl\n",
      "rm book2018-06-15_10S58S24.044006.pkl\n",
      "Processing batch 202 of 295\n",
      "Batch time 279.2306272983551 seconds.\n",
      "Saving: book2018-06-15_11S07S37.223358.pkl\n",
      "rm book2018-06-15_11S02S57.614993.pkl\n",
      "Processing batch 203 of 295\n",
      "Batch time 272.2642045021057 seconds.\n",
      "Saving: book2018-06-15_11S12S09.859725.pkl\n",
      "rm book2018-06-15_11S07S37.223358.pkl\n",
      "Processing batch 204 of 295\n",
      "Batch time 269.7891275882721 seconds.\n",
      "Saving: book2018-06-15_11S16S40.027116.pkl\n",
      "rm book2018-06-15_11S12S09.859725.pkl\n",
      "Processing batch 205 of 295\n",
      "Batch time 275.4452211856842 seconds.\n",
      "Saving: book2018-06-15_11S21S15.839654.pkl\n",
      "rm book2018-06-15_11S16S40.027116.pkl\n",
      "Processing batch 206 of 295\n",
      "Batch time 273.95446276664734 seconds.\n",
      "Saving: book2018-06-15_11S25S50.172382.pkl\n",
      "rm book2018-06-15_11S21S15.839654.pkl\n",
      "Processing batch 207 of 295\n",
      "Batch time 281.89448261260986 seconds.\n",
      "Saving: book2018-06-15_11S30S32.439521.pkl\n",
      "rm book2018-06-15_11S25S50.172382.pkl\n",
      "Processing batch 208 of 295\n",
      "Batch time 268.07592511177063 seconds.\n",
      "Saving: book2018-06-15_11S35S00.894602.pkl\n",
      "rm book2018-06-15_11S30S32.439521.pkl\n",
      "Processing batch 209 of 295\n",
      "Batch time 274.7690167427063 seconds.\n",
      "Saving: book2018-06-15_11S39S36.031882.pkl\n",
      "rm book2018-06-15_11S35S00.894602.pkl\n",
      "Processing batch 210 of 295\n",
      "Batch time 281.1337559223175 seconds.\n",
      "Saving: book2018-06-15_11S44S17.543143.pkl\n",
      "rm book2018-06-15_11S39S36.031882.pkl\n",
      "Processing batch 211 of 295\n",
      "Batch time 270.78243613243103 seconds.\n",
      "Saving: book2018-06-15_11S48S48.701931.pkl\n",
      "rm book2018-06-15_11S44S17.543143.pkl\n",
      "Processing batch 212 of 295\n",
      "Batch time 271.61175870895386 seconds.\n",
      "Saving: book2018-06-15_11S53S20.680335.pkl\n",
      "rm book2018-06-15_11S48S48.701931.pkl\n",
      "Processing batch 213 of 295\n",
      "Batch time 277.4646990299225 seconds.\n",
      "Saving: book2018-06-15_11S57S58.520110.pkl\n",
      "rm book2018-06-15_11S53S20.680335.pkl\n",
      "Processing batch 214 of 295\n",
      "Batch time 287.9426736831665 seconds.\n",
      "Saving: book2018-06-15_12S02S46.832863.pkl\n",
      "rm book2018-06-15_11S57S58.520110.pkl\n",
      "Processing batch 215 of 295\n",
      "Batch time 276.5132510662079 seconds.\n",
      "Saving: book2018-06-15_12S07S23.721892.pkl\n",
      "rm book2018-06-15_12S02S46.832863.pkl\n",
      "Processing batch 216 of 295\n",
      "Batch time 274.0810444355011 seconds.\n",
      "Saving: book2018-06-15_12S11S58.174604.pkl\n",
      "rm book2018-06-15_12S07S23.721892.pkl\n",
      "Processing batch 217 of 295\n",
      "Batch time 276.61869287490845 seconds.\n",
      "Saving: book2018-06-15_12S16S35.168882.pkl\n",
      "rm book2018-06-15_12S11S58.174604.pkl\n",
      "Processing batch 218 of 295\n",
      "Batch time 273.1189479827881 seconds.\n",
      "Saving: book2018-06-15_12S21S08.657225.pkl\n",
      "rm book2018-06-15_12S16S35.168882.pkl\n",
      "Processing batch 219 of 295\n",
      "Batch time 287.4210841655731 seconds.\n",
      "Saving: book2018-06-15_12S25S56.449926.pkl\n",
      "rm book2018-06-15_12S21S08.657225.pkl\n",
      "Processing batch 220 of 295\n",
      "Batch time 285.2137620449066 seconds.\n",
      "Saving: book2018-06-15_12S30S42.040725.pkl\n",
      "rm book2018-06-15_12S25S56.449926.pkl\n",
      "Processing batch 221 of 295\n",
      "Batch time 274.4774823188782 seconds.\n",
      "Saving: book2018-06-15_12S35S16.891673.pkl\n",
      "rm book2018-06-15_12S30S42.040725.pkl\n",
      "Processing batch 222 of 295\n",
      "Batch time 276.9544486999512 seconds.\n",
      "Saving: book2018-06-15_12S39S54.219156.pkl\n",
      "rm book2018-06-15_12S35S16.891673.pkl\n",
      "Processing batch 223 of 295\n",
      "Batch time 279.60647988319397 seconds.\n",
      "Saving: book2018-06-15_12S44S34.208222.pkl\n",
      "rm book2018-06-15_12S39S54.219156.pkl\n",
      "Processing batch 224 of 295\n",
      "Batch time 275.3621940612793 seconds.\n",
      "Saving: book2018-06-15_12S49S09.946120.pkl\n",
      "rm book2018-06-15_12S44S34.208222.pkl\n",
      "Processing batch 225 of 295\n",
      "Batch time 280.02764439582825 seconds.\n",
      "Saving: book2018-06-15_12S53S50.348877.pkl\n",
      "rm book2018-06-15_12S49S09.946120.pkl\n",
      "Processing batch 226 of 295\n",
      "Batch time 275.6539237499237 seconds.\n",
      "Saving: book2018-06-15_12S58S26.377659.pkl\n",
      "rm book2018-06-15_12S53S50.348877.pkl\n",
      "Processing batch 227 of 295\n",
      "Batch time 275.49756264686584 seconds.\n",
      "Saving: book2018-06-15_13S03S02.252695.pkl\n",
      "rm book2018-06-15_12S58S26.377659.pkl\n",
      "Processing batch 228 of 295\n",
      "Batch time 270.0877892971039 seconds.\n",
      "Saving: book2018-06-15_13S07S32.715075.pkl\n",
      "rm book2018-06-15_13S03S02.252695.pkl\n",
      "Processing batch 229 of 295\n",
      "Batch time 276.5703628063202 seconds.\n",
      "Saving: book2018-06-15_13S12S09.648010.pkl\n",
      "rm book2018-06-15_13S07S32.715075.pkl\n",
      "Processing batch 230 of 295\n",
      "Batch time 270.79116320610046 seconds.\n",
      "Saving: book2018-06-15_13S16S40.814134.pkl\n",
      "rm book2018-06-15_13S12S09.648010.pkl\n",
      "Processing batch 231 of 295\n",
      "Batch time 274.44102787971497 seconds.\n",
      "Saving: book2018-06-15_13S21S15.626443.pkl\n",
      "rm book2018-06-15_13S16S40.814134.pkl\n",
      "Processing batch 232 of 295\n",
      "Batch time 270.0722541809082 seconds.\n",
      "Saving: book2018-06-15_13S25S46.072270.pkl\n",
      "rm book2018-06-15_13S21S15.626443.pkl\n",
      "Processing batch 233 of 295\n",
      "Batch time 281.5689117908478 seconds.\n",
      "Saving: book2018-06-15_13S30S28.014051.pkl\n",
      "rm book2018-06-15_13S25S46.072270.pkl\n",
      "Processing batch 234 of 295\n",
      "Batch time 269.4055700302124 seconds.\n",
      "Saving: book2018-06-15_13S34S57.795490.pkl\n",
      "rm book2018-06-15_13S30S28.014051.pkl\n",
      "Processing batch 235 of 295\n",
      "Batch time 263.90270042419434 seconds.\n",
      "Saving: book2018-06-15_13S39S22.063302.pkl\n",
      "rm book2018-06-15_13S34S57.795490.pkl\n",
      "Processing batch 236 of 295\n",
      "Batch time 277.0630564689636 seconds.\n",
      "Saving: book2018-06-15_13S43S59.490300.pkl\n",
      "rm book2018-06-15_13S39S22.063302.pkl\n",
      "Processing batch 237 of 295\n",
      "Batch time 274.05304050445557 seconds.\n",
      "Saving: book2018-06-15_13S48S33.920156.pkl\n",
      "rm book2018-06-15_13S43S59.490300.pkl\n",
      "Processing batch 238 of 295\n",
      "Batch time 273.4706115722656 seconds.\n",
      "Saving: book2018-06-15_13S53S07.756253.pkl\n",
      "rm book2018-06-15_13S48S33.920156.pkl\n",
      "Processing batch 239 of 295\n",
      "Batch time 281.581538438797 seconds.\n",
      "Saving: book2018-06-15_13S57S49.703070.pkl\n",
      "rm book2018-06-15_13S53S07.756253.pkl\n",
      "Processing batch 240 of 295\n",
      "Batch time 271.62187814712524 seconds.\n",
      "Saving: book2018-06-15_14S02S21.699045.pkl\n",
      "rm book2018-06-15_13S57S49.703070.pkl\n",
      "Processing batch 241 of 295\n",
      "Batch time 278.2229573726654 seconds.\n",
      "Saving: book2018-06-15_14S07S00.295464.pkl\n",
      "rm book2018-06-15_14S02S21.699045.pkl\n",
      "Processing batch 242 of 295\n",
      "Batch time 282.1485562324524 seconds.\n",
      "Saving: book2018-06-15_14S11S42.820909.pkl\n",
      "rm book2018-06-15_14S07S00.295464.pkl\n",
      "Processing batch 243 of 295\n",
      "Batch time 280.6694850921631 seconds.\n",
      "Saving: book2018-06-15_14S16S23.865666.pkl\n",
      "rm book2018-06-15_14S11S42.820909.pkl\n",
      "Processing batch 244 of 295\n",
      "Batch time 274.8999276161194 seconds.\n",
      "Saving: book2018-06-15_14S20S59.141978.pkl\n",
      "rm book2018-06-15_14S16S23.865666.pkl\n",
      "Processing batch 245 of 295\n",
      "Batch time 272.5259761810303 seconds.\n",
      "Saving: book2018-06-15_14S25S32.038617.pkl\n",
      "rm book2018-06-15_14S20S59.141978.pkl\n",
      "Processing batch 246 of 295\n",
      "Batch time 267.19723105430603 seconds.\n",
      "Saving: book2018-06-15_14S29S59.602213.pkl\n",
      "rm book2018-06-15_14S25S32.038617.pkl\n",
      "Processing batch 247 of 295\n",
      "Batch time 277.16145515441895 seconds.\n",
      "Saving: book2018-06-15_14S34S37.130258.pkl\n",
      "rm book2018-06-15_14S29S59.602213.pkl\n",
      "Processing batch 248 of 295\n",
      "Batch time 276.9482777118683 seconds.\n",
      "Saving: book2018-06-15_14S39S14.453486.pkl\n",
      "rm book2018-06-15_14S34S37.130258.pkl\n",
      "Processing batch 249 of 295\n",
      "Batch time 273.38933086395264 seconds.\n",
      "Saving: book2018-06-15_14S43S48.216932.pkl\n",
      "rm book2018-06-15_14S39S14.453486.pkl\n",
      "Processing batch 250 of 295\n",
      "Batch time 276.136492729187 seconds.\n",
      "Saving: book2018-06-15_14S48S24.729461.pkl\n",
      "rm book2018-06-15_14S43S48.216932.pkl\n",
      "Processing batch 251 of 295\n",
      "Batch time 278.42778515815735 seconds.\n",
      "Saving: book2018-06-15_14S53S03.535619.pkl\n",
      "rm book2018-06-15_14S48S24.729461.pkl\n",
      "Processing batch 252 of 295\n",
      "Batch time 281.6544237136841 seconds.\n",
      "Saving: book2018-06-15_14S57S45.564023.pkl\n",
      "rm book2018-06-15_14S53S03.535619.pkl\n",
      "Processing batch 253 of 295\n",
      "Batch time 271.816223859787 seconds.\n",
      "Saving: book2018-06-15_15S02S17.743479.pkl\n",
      "rm book2018-06-15_14S57S45.564023.pkl\n",
      "Processing batch 254 of 295\n",
      "Batch time 278.3643865585327 seconds.\n",
      "Saving: book2018-06-15_15S06S56.478644.pkl\n",
      "rm book2018-06-15_15S02S17.743479.pkl\n",
      "Processing batch 255 of 295\n",
      "Batch time 271.52356004714966 seconds.\n",
      "Saving: book2018-06-15_15S11S28.380595.pkl\n",
      "rm book2018-06-15_15S06S56.478644.pkl\n",
      "Processing batch 256 of 295\n",
      "Batch time 282.19506216049194 seconds.\n",
      "Saving: book2018-06-15_15S16S10.951339.pkl\n",
      "rm book2018-06-15_15S11S28.380595.pkl\n",
      "Processing batch 257 of 295\n",
      "Batch time 279.3654000759125 seconds.\n",
      "Saving: book2018-06-15_15S20S50.692458.pkl\n",
      "rm book2018-06-15_15S16S10.951339.pkl\n",
      "Processing batch 258 of 295\n",
      "Batch time 273.4979317188263 seconds.\n",
      "Saving: book2018-06-15_15S25S24.561294.pkl\n",
      "rm book2018-06-15_15S20S50.692458.pkl\n",
      "Processing batch 259 of 295\n",
      "Batch time 278.99152970314026 seconds.\n",
      "Saving: book2018-06-15_15S30S03.929839.pkl\n",
      "rm book2018-06-15_15S25S24.561294.pkl\n",
      "Processing batch 260 of 295\n",
      "Batch time 278.1149823665619 seconds.\n",
      "Saving: book2018-06-15_15S34S42.417981.pkl\n",
      "rm book2018-06-15_15S30S03.929839.pkl\n",
      "Processing batch 261 of 295\n",
      "Batch time 272.94821763038635 seconds.\n",
      "Saving: book2018-06-15_15S39S15.738971.pkl\n",
      "rm book2018-06-15_15S34S42.417981.pkl\n",
      "Processing batch 262 of 295\n",
      "Batch time 269.97024059295654 seconds.\n",
      "Saving: book2018-06-15_15S43S46.083484.pkl\n",
      "rm book2018-06-15_15S39S15.738971.pkl\n",
      "Processing batch 263 of 295\n",
      "Batch time 273.42425632476807 seconds.\n",
      "Saving: book2018-06-15_15S48S19.883809.pkl\n",
      "rm book2018-06-15_15S43S46.083484.pkl\n",
      "Processing batch 264 of 295\n",
      "Batch time 279.88995575904846 seconds.\n",
      "Saving: book2018-06-15_15S53S00.149782.pkl\n",
      "rm book2018-06-15_15S48S19.883809.pkl\n",
      "Processing batch 265 of 295\n",
      "Batch time 276.6362648010254 seconds.\n",
      "Saving: book2018-06-15_15S57S37.161852.pkl\n",
      "rm book2018-06-15_15S53S00.149782.pkl\n",
      "Processing batch 266 of 295\n",
      "Batch time 274.3792722225189 seconds.\n",
      "Saving: book2018-06-15_16S02S11.917743.pkl\n",
      "rm book2018-06-15_15S57S37.161852.pkl\n",
      "Processing batch 267 of 295\n",
      "Batch time 281.08893275260925 seconds.\n",
      "Saving: book2018-06-15_16S06S53.380038.pkl\n",
      "rm book2018-06-15_16S02S11.917743.pkl\n",
      "Processing batch 268 of 295\n",
      "Batch time 274.00515055656433 seconds.\n",
      "Saving: book2018-06-15_16S11S27.760772.pkl\n",
      "rm book2018-06-15_16S06S53.380038.pkl\n",
      "Processing batch 269 of 295\n",
      "Batch time 274.80588245391846 seconds.\n",
      "Saving: book2018-06-15_16S16S02.943908.pkl\n",
      "rm book2018-06-15_16S11S27.760772.pkl\n",
      "Processing batch 270 of 295\n",
      "Batch time 278.383957862854 seconds.\n",
      "Saving: book2018-06-15_16S20S41.703508.pkl\n",
      "rm book2018-06-15_16S16S02.943908.pkl\n",
      "Processing batch 271 of 295\n",
      "Batch time 283.18580389022827 seconds.\n",
      "Saving: book2018-06-15_16S25S25.263153.pkl\n",
      "rm book2018-06-15_16S20S41.703508.pkl\n",
      "Processing batch 272 of 295\n",
      "Batch time 274.63922905921936 seconds.\n",
      "Saving: book2018-06-15_16S30S00.276687.pkl\n",
      "rm book2018-06-15_16S25S25.263153.pkl\n",
      "Processing batch 273 of 295\n",
      "Batch time 287.72187328338623 seconds.\n",
      "Saving: book2018-06-15_16S34S48.375397.pkl\n",
      "rm book2018-06-15_16S30S00.276687.pkl\n",
      "Processing batch 274 of 295\n",
      "Batch time 276.5230836868286 seconds.\n",
      "Saving: book2018-06-15_16S39S25.272300.pkl\n",
      "rm book2018-06-15_16S34S48.375397.pkl\n",
      "Processing batch 275 of 295\n",
      "Batch time 272.60530281066895 seconds.\n",
      "Saving: book2018-06-15_16S43S58.250573.pkl\n",
      "rm book2018-06-15_16S39S25.272300.pkl\n",
      "Processing batch 276 of 295\n",
      "Batch time 267.7819504737854 seconds.\n",
      "Saving: book2018-06-15_16S48S26.399690.pkl\n",
      "rm book2018-06-15_16S43S58.250573.pkl\n",
      "Processing batch 277 of 295\n",
      "Batch time 282.70862078666687 seconds.\n",
      "Saving: book2018-06-15_16S53S09.474719.pkl\n",
      "rm book2018-06-15_16S48S26.399690.pkl\n",
      "Processing batch 278 of 295\n",
      "Batch time 270.92357087135315 seconds.\n",
      "Saving: book2018-06-15_16S57S40.772102.pkl\n",
      "rm book2018-06-15_16S53S09.474719.pkl\n",
      "Processing batch 279 of 295\n",
      "Batch time 275.3060026168823 seconds.\n",
      "Saving: book2018-06-15_17S02S16.446580.pkl\n",
      "rm book2018-06-15_16S57S40.772102.pkl\n",
      "Processing batch 280 of 295\n",
      "Batch time 277.9398512840271 seconds.\n",
      "Saving: book2018-06-15_17S06S54.761637.pkl\n",
      "rm book2018-06-15_17S02S16.446580.pkl\n",
      "Processing batch 281 of 295\n",
      "Batch time 269.61312341690063 seconds.\n",
      "Saving: book2018-06-15_17S11S24.749424.pkl\n",
      "rm book2018-06-15_17S06S54.761637.pkl\n",
      "Processing batch 282 of 295\n",
      "Batch time 277.00124192237854 seconds.\n",
      "Saving: book2018-06-15_17S16S02.112665.pkl\n",
      "rm book2018-06-15_17S11S24.749424.pkl\n",
      "Processing batch 283 of 295\n",
      "Batch time 276.13598251342773 seconds.\n",
      "Saving: book2018-06-15_17S20S38.621589.pkl\n",
      "rm book2018-06-15_17S16S02.112665.pkl\n",
      "Processing batch 284 of 295\n",
      "Batch time 277.2264471054077 seconds.\n",
      "Saving: book2018-06-15_17S25S16.223265.pkl\n",
      "rm book2018-06-15_17S20S38.621589.pkl\n",
      "Processing batch 285 of 295\n",
      "Batch time 271.12488627433777 seconds.\n",
      "Saving: book2018-06-15_17S29S47.724287.pkl\n",
      "rm book2018-06-15_17S25S16.223265.pkl\n",
      "Processing batch 286 of 295\n",
      "Batch time 270.3474488258362 seconds.\n",
      "Saving: book2018-06-15_17S34S18.435475.pkl\n",
      "rm book2018-06-15_17S29S47.724287.pkl\n",
      "Processing batch 287 of 295\n",
      "Batch time 279.993914604187 seconds.\n",
      "Saving: book2018-06-15_17S38S58.792202.pkl\n",
      "rm book2018-06-15_17S34S18.435475.pkl\n",
      "Processing batch 288 of 295\n",
      "Batch time 268.15843057632446 seconds.\n",
      "Saving: book2018-06-15_17S43S27.324006.pkl\n",
      "rm book2018-06-15_17S38S58.792202.pkl\n",
      "Processing batch 289 of 295\n",
      "Batch time 280.24793553352356 seconds.\n",
      "Saving: book2018-06-15_17S48S07.946172.pkl\n",
      "rm book2018-06-15_17S43S27.324006.pkl\n",
      "Processing batch 290 of 295\n",
      "Batch time 286.25369477272034 seconds.\n",
      "Saving: book2018-06-15_17S52S54.575605.pkl\n",
      "rm book2018-06-15_17S48S07.946172.pkl\n",
      "Processing batch 291 of 295\n",
      "Batch time 271.4519212245941 seconds.\n",
      "Saving: book2018-06-15_17S57S26.401566.pkl\n",
      "rm book2018-06-15_17S52S54.575605.pkl\n",
      "Processing batch 292 of 295\n",
      "Batch time 282.85311365127563 seconds.\n",
      "Saving: book2018-06-15_18S02S09.620409.pkl\n",
      "rm book2018-06-15_17S57S26.401566.pkl\n",
      "Processing batch 293 of 295\n",
      "Batch time 273.12650990486145 seconds.\n",
      "Saving: book2018-06-15_18S06S43.116914.pkl\n",
      "rm book2018-06-15_18S02S09.620409.pkl\n",
      "Processing batch 294 of 295\n",
      "Batch time 10.121852397918701 seconds.\n",
      "Saving: book2018-06-15_18S06S53.601854.pkl\n",
      "rm book2018-06-15_18S06S43.116914.pkl\n"
     ]
    }
   ],
   "source": [
    "num_processes = 4\n",
    "batch_size = 100\n",
    "batch_num_file = 'batch_num.txt'\n",
    "\n",
    "# Small test for debugging\n",
    "# matches = matches[:100]\n",
    "\n",
    "# Create or load the book\n",
    "book = b.load_latest_book(depth=depth)\n",
    "\n",
    "# Make some batches to save the results once in a while\n",
    "x = matches\n",
    "batches = [x[i*batch_size:(i+1)*batch_size] \n",
    "           for i in range(len(x) // batch_size + (len(x) % batch_size != 0))]\n",
    "\n",
    "# Get only the unprocessed batches\n",
    "if os.path.exists(batch_num_file):\n",
    "    with open(batch_num_file, 'r') as file:\n",
    "        last_batch = int(file.read())\n",
    "else:\n",
    "    last_batch = -1\n",
    "\n",
    "# Now fill the book!\n",
    "pool = Pool(num_processes)\n",
    "\n",
    "for batch_num in range(last_batch + 1, len(batches)):\n",
    "    tic = time.time()\n",
    "    batch = batches[batch_num]\n",
    "    print('Processing batch {} of {}'.format(batch_num, len(batches)))\n",
    "    for result in pool.imap_unordered(isolation.play, batch):\n",
    "        winner, game_history, match_id = result\n",
    "        # print('Results for match {}: {} wins.'.format(match_id, winner.name))\n",
    "        _, state, _, _ = matches[match_id]\n",
    "        if state.locs[1] is not None:\n",
    "            game_history.insert(0,state.locs[1])\n",
    "        if state.locs[0] is not None:\n",
    "            game_history.insert(0,state.locs[0])\n",
    "        root = isolation.isolation.Isolation()\n",
    "        b.process_game_history(root,\n",
    "                               game_history, \n",
    "                               book,\n",
    "                               agent_names.index(winner.name),\n",
    "                               active_player=state.ply_count % 2,\n",
    "                               depth=depth)\n",
    "    toc = time.time()\n",
    "    print('Batch time {} seconds.'.format((toc-tic)))\n",
    "    b.save_book(book)\n",
    "    with open(batch_num_file, 'w') as file:\n",
    "        file.write(str(batch_num))\n",
    "    b.remove_old_books()"
   ]
  },
  {
   "cell_type": "code",
   "execution_count": null,
   "metadata": {
    "collapsed": true
   },
   "outputs": [],
   "source": []
  },
  {
   "cell_type": "code",
   "execution_count": 4,
   "metadata": {
    "collapsed": false
   },
   "outputs": [
    {
     "data": {
      "text/plain": [
       "142391"
      ]
     },
     "execution_count": 4,
     "metadata": {},
     "output_type": "execute_result"
    }
   ],
   "source": [
    "sum(abs(value) for value in book.values())"
   ]
  },
  {
   "cell_type": "code",
   "execution_count": 5,
   "metadata": {
    "collapsed": false
   },
   "outputs": [
    {
     "data": {
      "text/plain": [
       "27.7695"
      ]
     },
     "execution_count": 5,
     "metadata": {},
     "output_type": "execute_result"
    }
   ],
   "source": [
    "29403*34 / (10*3600)  # Estimated time in hours"
   ]
  },
  {
   "cell_type": "code",
   "execution_count": 6,
   "metadata": {
    "collapsed": false
   },
   "outputs": [],
   "source": [
    "import pandas as pd\n",
    "\n",
    "v = pd.Series(list(book.values()))"
   ]
  },
  {
   "cell_type": "code",
   "execution_count": 7,
   "metadata": {
    "collapsed": false
   },
   "outputs": [
    {
     "data": {
      "text/plain": [
       "<matplotlib.axes._subplots.AxesSubplot at 0x7f9a1d28ea58>"
      ]
     },
     "execution_count": 7,
     "metadata": {},
     "output_type": "execute_result"
    },
    {
     "data": {
      "image/png": "[encoded data removed]",
      "text/plain": [
       "<matplotlib.figure.Figure at 0x7f9a485e2358>"
      ]
     },
     "metadata": {},
     "output_type": "display_data"
    }
   ],
   "source": [
    "v.hist(bins=50)"
   ]
  },
  {
   "cell_type": "code",
   "execution_count": 8,
   "metadata": {
    "collapsed": false
   },
   "outputs": [
    {
     "data": {
      "text/plain": [
       "count    374097.000000\n",
       "mean         -0.001997\n",
       "std           1.403731\n",
       "min        -124.000000\n",
       "25%           0.000000\n",
       "50%           0.000000\n",
       "75%           0.000000\n",
       "max          74.000000\n",
       "dtype: float64"
      ]
     },
     "execution_count": 8,
     "metadata": {},
     "output_type": "execute_result"
    }
   ],
   "source": [
    "v.describe()"
   ]
  },
  {
   "cell_type": "code",
   "execution_count": 9,
   "metadata": {
    "collapsed": false
   },
   "outputs": [
    {
     "data": {
      "text/plain": [
       "-124"
      ]
     },
     "execution_count": 9,
     "metadata": {},
     "output_type": "execute_result"
    }
   ],
   "source": [
    "v.min()"
   ]
  },
  {
   "cell_type": "code",
   "execution_count": 10,
   "metadata": {
    "collapsed": false
   },
   "outputs": [
    {
     "data": {
      "text/plain": [
       "(Isolation(board=41523161203939122082683632224299007, ply_count=0, locs=(None, None)),\n",
       " 57)"
      ]
     },
     "execution_count": 10,
     "metadata": {},
     "output_type": "execute_result"
    }
   ],
   "source": [
    "worst = min(((k, v) for k, v in book.items()), key=lambda x: x[1])\n",
    "worst[0]"
   ]
  },
  {
   "cell_type": "code",
   "execution_count": 26,
   "metadata": {
    "collapsed": false
   },
   "outputs": [
    {
     "name": "stdout",
     "output_type": "stream",
     "text": [
      "\n",
      "+ - + - + - + - + - + - + - + - + - + - + - +\n",
      "|   |   |   |   |   |   |   |   |   |   |   |\n",
      "+ - + - + - + - + - + - + - + - + - + - + - +\n",
      "|   |   |   |   |   |   |   |   |   |   |   |\n",
      "+ - + - + - + - + - + - + - + - + - + - + - +\n",
      "|   |   |   |   |   |   |   |   |   |   |   |\n",
      "+ - + - + - + - + - + - + - + - + - + - + - +\n",
      "|   |   |   |   |   |   |   |   |   |   |   |\n",
      "+ - + - + - + - + - + - + - + - + - + - + - +\n",
      "|   |   |   |   |   | 1 |   |   |   |   |   |\n",
      "+ - + - + - + - + - + - + - + - + - + - + - +\n",
      "|   |   |   |   |   |   |   |   |   |   |   |\n",
      "+ - + - + - + - + - + - + - + - + - + - + - +\n",
      "|   |   |   |   |   |   |   |   |   |   |   |\n",
      "+ - + - + - + - + - + - + - + - + - + - + - +\n",
      "|   |   |   |   |   |   |   |   |   |   |   |\n",
      "+ - + - + - + - + - + - + - + - + - + - + - +\n",
      "|   |   |   |   |   |   |   |   |   |   |   |\n",
      "+ - + - + - + - + - + - + - + - + - + - + - +\n",
      "\n"
     ]
    }
   ],
   "source": [
    "from isolation.isolation import Isolation\n",
    "state = Isolation(board=41523161203939122082683632224299007, ply_count=0, locs=(None, None))\n",
    "\n",
    "print(isolation.DebugState.from_state(state.result(57)))"
   ]
  },
  {
   "cell_type": "markdown",
   "metadata": {
    "collapsed": true
   },
   "source": [
    "What about the other symmetrical ones"
   ]
  },
  {
   "cell_type": "code",
   "execution_count": 27,
   "metadata": {
    "collapsed": true
   },
   "outputs": [],
   "source": [
    "s1 = (Isolation(board=41523161203939122082683632224299007, ply_count=0, locs=(None, None)), 56)\n",
    "s2 = (Isolation(board=41523161203939122082683632224299007, ply_count=0, locs=(None, None)), 58)\n",
    "s3 = (Isolation(board=41523161203939122082683632224299007, ply_count=0, locs=(None, None)), 70)\n",
    "s4 = (Isolation(board=41523161203939122082683632224299007, ply_count=0, locs=(None, None)), 44)"
   ]
  },
  {
   "cell_type": "code",
   "execution_count": 28,
   "metadata": {
    "collapsed": false
   },
   "outputs": [
    {
     "data": {
      "text/plain": [
       "-24"
      ]
     },
     "execution_count": 28,
     "metadata": {},
     "output_type": "execute_result"
    }
   ],
   "source": [
    "book[s1]"
   ]
  },
  {
   "cell_type": "code",
   "execution_count": 29,
   "metadata": {
    "collapsed": false
   },
   "outputs": [
    {
     "data": {
      "text/plain": [
       "-24"
      ]
     },
     "execution_count": 29,
     "metadata": {},
     "output_type": "execute_result"
    }
   ],
   "source": [
    "book[s2]"
   ]
  },
  {
   "cell_type": "code",
   "execution_count": 31,
   "metadata": {
    "collapsed": false
   },
   "outputs": [
    {
     "data": {
      "text/plain": [
       "52"
      ]
     },
     "execution_count": 31,
     "metadata": {},
     "output_type": "execute_result"
    }
   ],
   "source": [
    "book[s3]"
   ]
  },
  {
   "cell_type": "code",
   "execution_count": 32,
   "metadata": {
    "collapsed": false
   },
   "outputs": [
    {
     "data": {
      "text/plain": [
       "52"
      ]
     },
     "execution_count": 32,
     "metadata": {},
     "output_type": "execute_result"
    }
   ],
   "source": [
    "book[s4]"
   ]
  },
  {
   "cell_type": "markdown",
   "metadata": {},
   "source": [
    "### I think I have ply_count=1,2,3,4 in the book but not ply_count=0"
   ]
  },
  {
   "cell_type": "code",
   "execution_count": 57,
   "metadata": {
    "collapsed": false
   },
   "outputs": [
    {
     "data": {
      "text/plain": [
       "374097"
      ]
     },
     "execution_count": 57,
     "metadata": {},
     "output_type": "execute_result"
    }
   ],
   "source": [
    "len(book.items())"
   ]
  },
  {
   "cell_type": "markdown",
   "metadata": {},
   "source": [
    "### Idea: show a heat matrix for the initial move"
   ]
  },
  {
   "cell_type": "code",
   "execution_count": 21,
   "metadata": {
    "collapsed": false
   },
   "outputs": [],
   "source": [
    "first = {item:value for item, value in book.items() if item[0].ply_count==0}"
   ]
  },
  {
   "cell_type": "code",
   "execution_count": 22,
   "metadata": {
    "collapsed": false
   },
   "outputs": [
    {
     "data": {
      "text/plain": [
       "99"
      ]
     },
     "execution_count": 22,
     "metadata": {},
     "output_type": "execute_result"
    }
   ],
   "source": [
    "len(first)"
   ]
  },
  {
   "cell_type": "code",
   "execution_count": 37,
   "metadata": {
    "collapsed": false
   },
   "outputs": [
    {
     "data": {
      "text/plain": [
       "{(Isolation(board=41523161203939122082683632224299007, ply_count=0, locs=(None, None)),\n",
       "  0): -4,\n",
       " (Isolation(board=41523161203939122082683632224299007, ply_count=0, locs=(None, None)),\n",
       "  1): 50,\n",
       " (Isolation(board=41523161203939122082683632224299007, ply_count=0, locs=(None, None)),\n",
       "  2): -22,\n",
       " (Isolation(board=41523161203939122082683632224299007, ply_count=0, locs=(None, None)),\n",
       "  3): -13,\n",
       " (Isolation(board=41523161203939122082683632224299007, ply_count=0, locs=(None, None)),\n",
       "  4): -38,\n",
       " (Isolation(board=41523161203939122082683632224299007, ply_count=0, locs=(None, None)),\n",
       "  5): 42,\n",
       " (Isolation(board=41523161203939122082683632224299007, ply_count=0, locs=(None, None)),\n",
       "  6): -38,\n",
       " (Isolation(board=41523161203939122082683632224299007, ply_count=0, locs=(None, None)),\n",
       "  7): -13,\n",
       " (Isolation(board=41523161203939122082683632224299007, ply_count=0, locs=(None, None)),\n",
       "  8): -22,\n",
       " (Isolation(board=41523161203939122082683632224299007, ply_count=0, locs=(None, None)),\n",
       "  9): 50,\n",
       " (Isolation(board=41523161203939122082683632224299007, ply_count=0, locs=(None, None)),\n",
       "  10): -4,\n",
       " (Isolation(board=41523161203939122082683632224299007, ply_count=0, locs=(None, None)),\n",
       "  13): -8,\n",
       " (Isolation(board=41523161203939122082683632224299007, ply_count=0, locs=(None, None)),\n",
       "  14): 33,\n",
       " (Isolation(board=41523161203939122082683632224299007, ply_count=0, locs=(None, None)),\n",
       "  15): -16,\n",
       " (Isolation(board=41523161203939122082683632224299007, ply_count=0, locs=(None, None)),\n",
       "  16): 37,\n",
       " (Isolation(board=41523161203939122082683632224299007, ply_count=0, locs=(None, None)),\n",
       "  17): -78,\n",
       " (Isolation(board=41523161203939122082683632224299007, ply_count=0, locs=(None, None)),\n",
       "  18): 74,\n",
       " (Isolation(board=41523161203939122082683632224299007, ply_count=0, locs=(None, None)),\n",
       "  19): -78,\n",
       " (Isolation(board=41523161203939122082683632224299007, ply_count=0, locs=(None, None)),\n",
       "  20): 37,\n",
       " (Isolation(board=41523161203939122082683632224299007, ply_count=0, locs=(None, None)),\n",
       "  21): -16,\n",
       " (Isolation(board=41523161203939122082683632224299007, ply_count=0, locs=(None, None)),\n",
       "  22): 33,\n",
       " (Isolation(board=41523161203939122082683632224299007, ply_count=0, locs=(None, None)),\n",
       "  23): -8,\n",
       " (Isolation(board=41523161203939122082683632224299007, ply_count=0, locs=(None, None)),\n",
       "  26): -30,\n",
       " (Isolation(board=41523161203939122082683632224299007, ply_count=0, locs=(None, None)),\n",
       "  27): -10,\n",
       " (Isolation(board=41523161203939122082683632224299007, ply_count=0, locs=(None, None)),\n",
       "  28): 40,\n",
       " (Isolation(board=41523161203939122082683632224299007, ply_count=0, locs=(None, None)),\n",
       "  29): -14,\n",
       " (Isolation(board=41523161203939122082683632224299007, ply_count=0, locs=(None, None)),\n",
       "  30): -68,\n",
       " (Isolation(board=41523161203939122082683632224299007, ply_count=0, locs=(None, None)),\n",
       "  31): -72,\n",
       " (Isolation(board=41523161203939122082683632224299007, ply_count=0, locs=(None, None)),\n",
       "  32): -68,\n",
       " (Isolation(board=41523161203939122082683632224299007, ply_count=0, locs=(None, None)),\n",
       "  33): -14,\n",
       " (Isolation(board=41523161203939122082683632224299007, ply_count=0, locs=(None, None)),\n",
       "  34): 40,\n",
       " (Isolation(board=41523161203939122082683632224299007, ply_count=0, locs=(None, None)),\n",
       "  35): -10,\n",
       " (Isolation(board=41523161203939122082683632224299007, ply_count=0, locs=(None, None)),\n",
       "  36): -30,\n",
       " (Isolation(board=41523161203939122082683632224299007, ply_count=0, locs=(None, None)),\n",
       "  39): -52,\n",
       " (Isolation(board=41523161203939122082683632224299007, ply_count=0, locs=(None, None)),\n",
       "  40): -10,\n",
       " (Isolation(board=41523161203939122082683632224299007, ply_count=0, locs=(None, None)),\n",
       "  41): 31,\n",
       " (Isolation(board=41523161203939122082683632224299007, ply_count=0, locs=(None, None)),\n",
       "  42): -34,\n",
       " (Isolation(board=41523161203939122082683632224299007, ply_count=0, locs=(None, None)),\n",
       "  43): 15,\n",
       " (Isolation(board=41523161203939122082683632224299007, ply_count=0, locs=(None, None)),\n",
       "  44): 52,\n",
       " (Isolation(board=41523161203939122082683632224299007, ply_count=0, locs=(None, None)),\n",
       "  45): 15,\n",
       " (Isolation(board=41523161203939122082683632224299007, ply_count=0, locs=(None, None)),\n",
       "  46): -34,\n",
       " (Isolation(board=41523161203939122082683632224299007, ply_count=0, locs=(None, None)),\n",
       "  47): 31,\n",
       " (Isolation(board=41523161203939122082683632224299007, ply_count=0, locs=(None, None)),\n",
       "  48): -10,\n",
       " (Isolation(board=41523161203939122082683632224299007, ply_count=0, locs=(None, None)),\n",
       "  49): -52,\n",
       " (Isolation(board=41523161203939122082683632224299007, ply_count=0, locs=(None, None)),\n",
       "  52): -48,\n",
       " (Isolation(board=41523161203939122082683632224299007, ply_count=0, locs=(None, None)),\n",
       "  53): 4,\n",
       " (Isolation(board=41523161203939122082683632224299007, ply_count=0, locs=(None, None)),\n",
       "  54): -30,\n",
       " (Isolation(board=41523161203939122082683632224299007, ply_count=0, locs=(None, None)),\n",
       "  55): -52,\n",
       " (Isolation(board=41523161203939122082683632224299007, ply_count=0, locs=(None, None)),\n",
       "  56): -24,\n",
       " (Isolation(board=41523161203939122082683632224299007, ply_count=0, locs=(None, None)),\n",
       "  57): -124,\n",
       " (Isolation(board=41523161203939122082683632224299007, ply_count=0, locs=(None, None)),\n",
       "  58): -24,\n",
       " (Isolation(board=41523161203939122082683632224299007, ply_count=0, locs=(None, None)),\n",
       "  59): -52,\n",
       " (Isolation(board=41523161203939122082683632224299007, ply_count=0, locs=(None, None)),\n",
       "  60): -30,\n",
       " (Isolation(board=41523161203939122082683632224299007, ply_count=0, locs=(None, None)),\n",
       "  61): 4,\n",
       " (Isolation(board=41523161203939122082683632224299007, ply_count=0, locs=(None, None)),\n",
       "  62): -48,\n",
       " (Isolation(board=41523161203939122082683632224299007, ply_count=0, locs=(None, None)),\n",
       "  65): -52,\n",
       " (Isolation(board=41523161203939122082683632224299007, ply_count=0, locs=(None, None)),\n",
       "  66): -10,\n",
       " (Isolation(board=41523161203939122082683632224299007, ply_count=0, locs=(None, None)),\n",
       "  67): 31,\n",
       " (Isolation(board=41523161203939122082683632224299007, ply_count=0, locs=(None, None)),\n",
       "  68): -34,\n",
       " (Isolation(board=41523161203939122082683632224299007, ply_count=0, locs=(None, None)),\n",
       "  69): 15,\n",
       " (Isolation(board=41523161203939122082683632224299007, ply_count=0, locs=(None, None)),\n",
       "  70): 52,\n",
       " (Isolation(board=41523161203939122082683632224299007, ply_count=0, locs=(None, None)),\n",
       "  71): 15,\n",
       " (Isolation(board=41523161203939122082683632224299007, ply_count=0, locs=(None, None)),\n",
       "  72): -34,\n",
       " (Isolation(board=41523161203939122082683632224299007, ply_count=0, locs=(None, None)),\n",
       "  73): 31,\n",
       " (Isolation(board=41523161203939122082683632224299007, ply_count=0, locs=(None, None)),\n",
       "  74): -10,\n",
       " (Isolation(board=41523161203939122082683632224299007, ply_count=0, locs=(None, None)),\n",
       "  75): -52,\n",
       " (Isolation(board=41523161203939122082683632224299007, ply_count=0, locs=(None, None)),\n",
       "  78): -30,\n",
       " (Isolation(board=41523161203939122082683632224299007, ply_count=0, locs=(None, None)),\n",
       "  79): -10,\n",
       " (Isolation(board=41523161203939122082683632224299007, ply_count=0, locs=(None, None)),\n",
       "  80): 40,\n",
       " (Isolation(board=41523161203939122082683632224299007, ply_count=0, locs=(None, None)),\n",
       "  81): -14,\n",
       " (Isolation(board=41523161203939122082683632224299007, ply_count=0, locs=(None, None)),\n",
       "  82): -68,\n",
       " (Isolation(board=41523161203939122082683632224299007, ply_count=0, locs=(None, None)),\n",
       "  83): -72,\n",
       " (Isolation(board=41523161203939122082683632224299007, ply_count=0, locs=(None, None)),\n",
       "  84): -68,\n",
       " (Isolation(board=41523161203939122082683632224299007, ply_count=0, locs=(None, None)),\n",
       "  85): -14,\n",
       " (Isolation(board=41523161203939122082683632224299007, ply_count=0, locs=(None, None)),\n",
       "  86): 40,\n",
       " (Isolation(board=41523161203939122082683632224299007, ply_count=0, locs=(None, None)),\n",
       "  87): -10,\n",
       " (Isolation(board=41523161203939122082683632224299007, ply_count=0, locs=(None, None)),\n",
       "  88): -30,\n",
       " (Isolation(board=41523161203939122082683632224299007, ply_count=0, locs=(None, None)),\n",
       "  91): -8,\n",
       " (Isolation(board=41523161203939122082683632224299007, ply_count=0, locs=(None, None)),\n",
       "  92): 33,\n",
       " (Isolation(board=41523161203939122082683632224299007, ply_count=0, locs=(None, None)),\n",
       "  93): -16,\n",
       " (Isolation(board=41523161203939122082683632224299007, ply_count=0, locs=(None, None)),\n",
       "  94): 37,\n",
       " (Isolation(board=41523161203939122082683632224299007, ply_count=0, locs=(None, None)),\n",
       "  95): -78,\n",
       " (Isolation(board=41523161203939122082683632224299007, ply_count=0, locs=(None, None)),\n",
       "  96): 74,\n",
       " (Isolation(board=41523161203939122082683632224299007, ply_count=0, locs=(None, None)),\n",
       "  97): -78,\n",
       " (Isolation(board=41523161203939122082683632224299007, ply_count=0, locs=(None, None)),\n",
       "  98): 37,\n",
       " (Isolation(board=41523161203939122082683632224299007, ply_count=0, locs=(None, None)),\n",
       "  99): -16,\n",
       " (Isolation(board=41523161203939122082683632224299007, ply_count=0, locs=(None, None)),\n",
       "  100): 33,\n",
       " (Isolation(board=41523161203939122082683632224299007, ply_count=0, locs=(None, None)),\n",
       "  101): -8,\n",
       " (Isolation(board=41523161203939122082683632224299007, ply_count=0, locs=(None, None)),\n",
       "  104): -4,\n",
       " (Isolation(board=41523161203939122082683632224299007, ply_count=0, locs=(None, None)),\n",
       "  105): 50,\n",
       " (Isolation(board=41523161203939122082683632224299007, ply_count=0, locs=(None, None)),\n",
       "  106): -22,\n",
       " (Isolation(board=41523161203939122082683632224299007, ply_count=0, locs=(None, None)),\n",
       "  107): -13,\n",
       " (Isolation(board=41523161203939122082683632224299007, ply_count=0, locs=(None, None)),\n",
       "  108): -38,\n",
       " (Isolation(board=41523161203939122082683632224299007, ply_count=0, locs=(None, None)),\n",
       "  109): 42,\n",
       " (Isolation(board=41523161203939122082683632224299007, ply_count=0, locs=(None, None)),\n",
       "  110): -38,\n",
       " (Isolation(board=41523161203939122082683632224299007, ply_count=0, locs=(None, None)),\n",
       "  111): -13,\n",
       " (Isolation(board=41523161203939122082683632224299007, ply_count=0, locs=(None, None)),\n",
       "  112): -22,\n",
       " (Isolation(board=41523161203939122082683632224299007, ply_count=0, locs=(None, None)),\n",
       "  113): 50,\n",
       " (Isolation(board=41523161203939122082683632224299007, ply_count=0, locs=(None, None)),\n",
       "  114): -4}"
      ]
     },
     "execution_count": 37,
     "metadata": {},
     "output_type": "execute_result"
    }
   ],
   "source": [
    "first"
   ]
  },
  {
   "cell_type": "code",
   "execution_count": 41,
   "metadata": {
    "collapsed": false
   },
   "outputs": [
    {
     "data": {
      "text/plain": [
       "{0: -4,\n",
       " 1: 50,\n",
       " 2: -22,\n",
       " 3: -13,\n",
       " 4: -38,\n",
       " 5: 42,\n",
       " 6: -38,\n",
       " 7: -13,\n",
       " 8: -22,\n",
       " 9: 50,\n",
       " 10: -4,\n",
       " 13: -8,\n",
       " 14: 33,\n",
       " 15: -16,\n",
       " 16: 37,\n",
       " 17: -78,\n",
       " 18: 74,\n",
       " 19: -78,\n",
       " 20: 37,\n",
       " 21: -16,\n",
       " 22: 33,\n",
       " 23: -8,\n",
       " 26: -30,\n",
       " 27: -10,\n",
       " 28: 40,\n",
       " 29: -14,\n",
       " 30: -68,\n",
       " 31: -72,\n",
       " 32: -68,\n",
       " 33: -14,\n",
       " 34: 40,\n",
       " 35: -10,\n",
       " 36: -30,\n",
       " 39: -52,\n",
       " 40: -10,\n",
       " 41: 31,\n",
       " 42: -34,\n",
       " 43: 15,\n",
       " 44: 52,\n",
       " 45: 15,\n",
       " 46: -34,\n",
       " 47: 31,\n",
       " 48: -10,\n",
       " 49: -52,\n",
       " 52: -48,\n",
       " 53: 4,\n",
       " 54: -30,\n",
       " 55: -52,\n",
       " 56: -24,\n",
       " 57: -124,\n",
       " 58: -24,\n",
       " 59: -52,\n",
       " 60: -30,\n",
       " 61: 4,\n",
       " 62: -48,\n",
       " 65: -52,\n",
       " 66: -10,\n",
       " 67: 31,\n",
       " 68: -34,\n",
       " 69: 15,\n",
       " 70: 52,\n",
       " 71: 15,\n",
       " 72: -34,\n",
       " 73: 31,\n",
       " 74: -10,\n",
       " 75: -52,\n",
       " 78: -30,\n",
       " 79: -10,\n",
       " 80: 40,\n",
       " 81: -14,\n",
       " 82: -68,\n",
       " 83: -72,\n",
       " 84: -68,\n",
       " 85: -14,\n",
       " 86: 40,\n",
       " 87: -10,\n",
       " 88: -30,\n",
       " 91: -8,\n",
       " 92: 33,\n",
       " 93: -16,\n",
       " 94: 37,\n",
       " 95: -78,\n",
       " 96: 74,\n",
       " 97: -78,\n",
       " 98: 37,\n",
       " 99: -16,\n",
       " 100: 33,\n",
       " 101: -8,\n",
       " 104: -4,\n",
       " 105: 50,\n",
       " 106: -22,\n",
       " 107: -13,\n",
       " 108: -38,\n",
       " 109: 42,\n",
       " 110: -38,\n",
       " 111: -13,\n",
       " 112: -22,\n",
       " 113: 50,\n",
       " 114: -4}"
      ]
     },
     "execution_count": 41,
     "metadata": {},
     "output_type": "execute_result"
    }
   ],
   "source": [
    "pos_value = {key[1]:value for key,value in first.items()}\n",
    "pos_value"
   ]
  },
  {
   "cell_type": "code",
   "execution_count": 45,
   "metadata": {
    "collapsed": false
   },
   "outputs": [
    {
     "data": {
      "text/plain": [
       "{0: -4,\n",
       " 1: 50,\n",
       " 2: -22,\n",
       " 3: -13,\n",
       " 4: -38,\n",
       " 5: 42,\n",
       " 6: -38,\n",
       " 7: -13,\n",
       " 8: -22,\n",
       " 9: 50,\n",
       " 10: -4,\n",
       " 11: 0,\n",
       " 12: 0,\n",
       " 13: -8,\n",
       " 14: 33,\n",
       " 15: -16,\n",
       " 16: 37,\n",
       " 17: -78,\n",
       " 18: 74,\n",
       " 19: -78,\n",
       " 20: 37,\n",
       " 21: -16,\n",
       " 22: 33,\n",
       " 23: -8,\n",
       " 24: 0,\n",
       " 25: 0,\n",
       " 26: -30,\n",
       " 27: -10,\n",
       " 28: 40,\n",
       " 29: -14,\n",
       " 30: -68,\n",
       " 31: -72,\n",
       " 32: -68,\n",
       " 33: -14,\n",
       " 34: 40,\n",
       " 35: -10,\n",
       " 36: -30,\n",
       " 37: 0,\n",
       " 38: 0,\n",
       " 39: -52,\n",
       " 40: -10,\n",
       " 41: 31,\n",
       " 42: -34,\n",
       " 43: 15,\n",
       " 44: 52,\n",
       " 45: 15,\n",
       " 46: -34,\n",
       " 47: 31,\n",
       " 48: -10,\n",
       " 49: -52,\n",
       " 50: 0,\n",
       " 51: 0,\n",
       " 52: -48,\n",
       " 53: 4,\n",
       " 54: -30,\n",
       " 55: -52,\n",
       " 56: -24,\n",
       " 57: -124,\n",
       " 58: -24,\n",
       " 59: -52,\n",
       " 60: -30,\n",
       " 61: 4,\n",
       " 62: -48,\n",
       " 63: 0,\n",
       " 64: 0,\n",
       " 65: -52,\n",
       " 66: -10,\n",
       " 67: 31,\n",
       " 68: -34,\n",
       " 69: 15,\n",
       " 70: 52,\n",
       " 71: 15,\n",
       " 72: -34,\n",
       " 73: 31,\n",
       " 74: -10,\n",
       " 75: -52,\n",
       " 76: 0,\n",
       " 77: 0,\n",
       " 78: -30,\n",
       " 79: -10,\n",
       " 80: 40,\n",
       " 81: -14,\n",
       " 82: -68,\n",
       " 83: -72,\n",
       " 84: -68,\n",
       " 85: -14,\n",
       " 86: 40,\n",
       " 87: -10,\n",
       " 88: -30,\n",
       " 89: 0,\n",
       " 90: 0,\n",
       " 91: -8,\n",
       " 92: 33,\n",
       " 93: -16,\n",
       " 94: 37,\n",
       " 95: -78,\n",
       " 96: 74,\n",
       " 97: -78,\n",
       " 98: 37,\n",
       " 99: -16,\n",
       " 100: 33,\n",
       " 101: -8,\n",
       " 102: 0,\n",
       " 103: 0,\n",
       " 104: -4,\n",
       " 105: 50,\n",
       " 106: -22,\n",
       " 107: -13,\n",
       " 108: -38,\n",
       " 109: 42,\n",
       " 110: -38,\n",
       " 111: -13,\n",
       " 112: -22,\n",
       " 113: 50,\n",
       " 114: -4}"
      ]
     },
     "execution_count": 45,
     "metadata": {},
     "output_type": "execute_result"
    }
   ],
   "source": [
    "filled_vals = dict(zip(range(115),[0]*115))\n",
    "filled_vals.update(pos_value)\n",
    "filled_vals"
   ]
  },
  {
   "cell_type": "code",
   "execution_count": 50,
   "metadata": {
    "collapsed": false
   },
   "outputs": [],
   "source": [
    "W = 11\n",
    "x = list(filled_vals.values())\n",
    "rows = [x[i*(W+2):(i+1)*(W+2)] \n",
    "           for i in range(len(x) // (W+2) + (len(x) % (W+2) != 0))]"
   ]
  },
  {
   "cell_type": "code",
   "execution_count": 51,
   "metadata": {
    "collapsed": false
   },
   "outputs": [
    {
     "data": {
      "text/plain": [
       "[[-4, 50, -22, -13, -38, 42, -38, -13, -22, 50, -4, 0, 0],\n",
       " [-8, 33, -16, 37, -78, 74, -78, 37, -16, 33, -8, 0, 0],\n",
       " [-30, -10, 40, -14, -68, -72, -68, -14, 40, -10, -30, 0, 0],\n",
       " [-52, -10, 31, -34, 15, 52, 15, -34, 31, -10, -52, 0, 0],\n",
       " [-48, 4, -30, -52, -24, -124, -24, -52, -30, 4, -48, 0, 0],\n",
       " [-52, -10, 31, -34, 15, 52, 15, -34, 31, -10, -52, 0, 0],\n",
       " [-30, -10, 40, -14, -68, -72, -68, -14, 40, -10, -30, 0, 0],\n",
       " [-8, 33, -16, 37, -78, 74, -78, 37, -16, 33, -8, 0, 0],\n",
       " [-4, 50, -22, -13, -38, 42, -38, -13, -22, 50, -4]]"
      ]
     },
     "execution_count": 51,
     "metadata": {},
     "output_type": "execute_result"
    }
   ],
   "source": [
    "rows"
   ]
  },
  {
   "cell_type": "code",
   "execution_count": 52,
   "metadata": {
    "collapsed": false
   },
   "outputs": [
    {
     "data": {
      "text/plain": [
       "[[-4, 50, -22, -13, -38, 42, -38, -13, -22, 50, -4],\n",
       " [-8, 33, -16, 37, -78, 74, -78, 37, -16, 33, -8],\n",
       " [-30, -10, 40, -14, -68, -72, -68, -14, 40, -10, -30],\n",
       " [-52, -10, 31, -34, 15, 52, 15, -34, 31, -10, -52],\n",
       " [-48, 4, -30, -52, -24, -124, -24, -52, -30, 4, -48],\n",
       " [-52, -10, 31, -34, 15, 52, 15, -34, 31, -10, -52],\n",
       " [-30, -10, 40, -14, -68, -72, -68, -14, 40, -10, -30],\n",
       " [-8, 33, -16, 37, -78, 74, -78, 37, -16, 33, -8],\n",
       " [-4, 50, -22, -13, -38, 42, -38, -13, -22, 50, -4]]"
      ]
     },
     "execution_count": 52,
     "metadata": {},
     "output_type": "execute_result"
    }
   ],
   "source": [
    "for i in range(len(rows)-1):\n",
    "    rows[i] =rows[i][:-2]\n",
    "rows"
   ]
  },
  {
   "cell_type": "code",
   "execution_count": 54,
   "metadata": {
    "collapsed": false
   },
   "outputs": [
    {
     "data": {
      "text/plain": [
       "array([[  -4,   50,  -22,  -13,  -38,   42,  -38,  -13,  -22,   50,   -4],\n",
       "       [  -8,   33,  -16,   37,  -78,   74,  -78,   37,  -16,   33,   -8],\n",
       "       [ -30,  -10,   40,  -14,  -68,  -72,  -68,  -14,   40,  -10,  -30],\n",
       "       [ -52,  -10,   31,  -34,   15,   52,   15,  -34,   31,  -10,  -52],\n",
       "       [ -48,    4,  -30,  -52,  -24, -124,  -24,  -52,  -30,    4,  -48],\n",
       "       [ -52,  -10,   31,  -34,   15,   52,   15,  -34,   31,  -10,  -52],\n",
       "       [ -30,  -10,   40,  -14,  -68,  -72,  -68,  -14,   40,  -10,  -30],\n",
       "       [  -8,   33,  -16,   37,  -78,   74,  -78,   37,  -16,   33,   -8],\n",
       "       [  -4,   50,  -22,  -13,  -38,   42,  -38,  -13,  -22,   50,   -4]])"
      ]
     },
     "execution_count": 54,
     "metadata": {},
     "output_type": "execute_result"
    }
   ],
   "source": [
    "rows = np.array(rows)\n",
    "rows"
   ]
  },
  {
   "cell_type": "code",
   "execution_count": 56,
   "metadata": {
    "collapsed": false,
    "scrolled": true
   },
   "outputs": [
    {
     "data": {
      "text/plain": [
       "<matplotlib.axes._subplots.AxesSubplot at 0x7f99f4135438>"
      ]
     },
     "execution_count": 56,
     "metadata": {},
     "output_type": "execute_result"
    },
    {
     "data": {
      "image/png": "[encoded data removed]",
      "text/plain": [
       "<matplotlib.figure.Figure at 0x7f9a14049630>"
      ]
     },
     "metadata": {},
     "output_type": "display_data"
    }
   ],
   "source": [
    "import seaborn as sns\n",
    "sns.heatmap(rows)"
   ]
  },
  {
   "cell_type": "code",
   "execution_count": 66,
   "metadata": {
    "collapsed": true
   },
   "outputs": [],
   "source": [
    "second = {item:value for item, value in book.items() if item[0].ply_count==1}"
   ]
  },
  {
   "cell_type": "code",
   "execution_count": 67,
   "metadata": {
    "collapsed": false
   },
   "outputs": [
    {
     "data": {
      "text/plain": [
       "9702"
      ]
     },
     "execution_count": 67,
     "metadata": {},
     "output_type": "execute_result"
    }
   ],
   "source": [
    "len(second)"
   ]
  },
  {
   "cell_type": "code",
   "execution_count": 68,
   "metadata": {
    "collapsed": false
   },
   "outputs": [
    {
     "data": {
      "text/plain": [
       "count    9702.000000\n",
       "mean        0.102659\n",
       "std         5.652677\n",
       "min       -12.000000\n",
       "25%        -4.000000\n",
       "50%         0.000000\n",
       "75%         4.000000\n",
       "max        12.000000\n",
       "dtype: float64"
      ]
     },
     "execution_count": 68,
     "metadata": {},
     "output_type": "execute_result"
    }
   ],
   "source": [
    "pd.Series(list(second.values())).describe()"
   ]
  },
  {
   "cell_type": "code",
   "execution_count": 58,
   "metadata": {
    "collapsed": true
   },
   "outputs": [],
   "source": [
    "third = {item:value for item, value in book.items() if item[0].ply_count==2}"
   ]
  },
  {
   "cell_type": "code",
   "execution_count": 59,
   "metadata": {
    "collapsed": false
   },
   "outputs": [
    {
     "data": {
      "text/plain": [
       "55096"
      ]
     },
     "execution_count": 59,
     "metadata": {},
     "output_type": "execute_result"
    }
   ],
   "source": [
    "len(third)"
   ]
  },
  {
   "cell_type": "code",
   "execution_count": 65,
   "metadata": {
    "collapsed": false
   },
   "outputs": [
    {
     "data": {
      "text/plain": [
       "count    55096.000000\n",
       "mean        -0.018078\n",
       "std          1.967012\n",
       "min         -8.000000\n",
       "25%         -1.000000\n",
       "50%          0.000000\n",
       "75%          1.000000\n",
       "max          6.000000\n",
       "dtype: float64"
      ]
     },
     "execution_count": 65,
     "metadata": {},
     "output_type": "execute_result"
    }
   ],
   "source": [
    "pd.Series(list(third.values())).describe()"
   ]
  },
  {
   "cell_type": "code",
   "execution_count": 69,
   "metadata": {
    "collapsed": false
   },
   "outputs": [
    {
     "data": {
      "text/plain": [
       "309200"
      ]
     },
     "execution_count": 69,
     "metadata": {},
     "output_type": "execute_result"
    }
   ],
   "source": [
    "fourth = {item:value for item, value in book.items() if item[0].ply_count==3}\n",
    "len(fourth)"
   ]
  },
  {
   "cell_type": "code",
   "execution_count": 75,
   "metadata": {
    "collapsed": false
   },
   "outputs": [
    {
     "data": {
      "text/plain": [
       "count    309200.000000\n",
       "mean          0.000805\n",
       "std           0.406460\n",
       "min          -4.000000\n",
       "25%           0.000000\n",
       "50%           0.000000\n",
       "75%           0.000000\n",
       "max           4.000000\n",
       "dtype: float64"
      ]
     },
     "execution_count": 75,
     "metadata": {},
     "output_type": "execute_result"
    }
   ],
   "source": [
    "pd.Series(list(fourth.values())).describe()"
   ]
  },
  {
   "cell_type": "code",
   "execution_count": 76,
   "metadata": {
    "collapsed": false
   },
   "outputs": [
    {
     "data": {
      "text/plain": [
       "32372"
      ]
     },
     "execution_count": 76,
     "metadata": {},
     "output_type": "execute_result"
    }
   ],
   "source": [
    "sum(np.array(list(third.values())) != 0)"
   ]
  },
  {
   "cell_type": "code",
   "execution_count": 74,
   "metadata": {
    "collapsed": false
   },
   "outputs": [
    {
     "data": {
      "text/plain": [
       "9944"
      ]
     },
     "execution_count": 74,
     "metadata": {},
     "output_type": "execute_result"
    }
   ],
   "source": [
    "sum(np.array(list(fourth.values())) != 0)"
   ]
  },
  {
   "cell_type": "code",
   "execution_count": null,
   "metadata": {
    "collapsed": true
   },
   "outputs": [],
   "source": []
  }
 ],
 "metadata": {
  "kernelspec": {
   "display_name": "aind",
   "language": "python",
   "name": "aind"
  },
  "language_info": {
   "codemirror_mode": {
    "name": "ipython",
    "version": 3
   },
   "file_extension": ".py",
   "mimetype": "text/x-python",
   "name": "python",
   "nbconvert_exporter": "python",
   "pygments_lexer": "ipython3",
   "version": "3.5.4"
  }
 },
 "nbformat": 4,
 "nbformat_minor": 2
}
