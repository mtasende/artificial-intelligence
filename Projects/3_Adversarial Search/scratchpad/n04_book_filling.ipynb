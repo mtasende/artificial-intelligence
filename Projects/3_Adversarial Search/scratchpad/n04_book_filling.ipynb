{
 "cells": [
  {
   "cell_type": "code",
   "execution_count": 1,
   "metadata": {
    "collapsed": false
   },
   "outputs": [
    {
     "name": "stdout",
     "output_type": "stream",
     "text": [
      "Populating the interactive namespace from numpy and matplotlib\n"
     ]
    },
    {
     "name": "stderr",
     "output_type": "stream",
     "text": [
      "/home/miguel/anaconda3/envs/aind/lib/python3.5/site-packages/IPython/core/magics/pylab.py:160: UserWarning: pylab import has clobbered these variables: ['time']\n",
      "`%matplotlib` prevents importing * from pylab and numpy\n",
      "  \"\\n`%matplotlib` prevents importing * from pylab and numpy\"\n"
     ]
    }
   ],
   "source": [
    "import matplotlib.pyplot as plt\n",
    "import pandas as pd\n",
    "import numpy as np\n",
    "import sys\n",
    "from time import time\n",
    "import os\n",
    "\n",
    "%pylab inline\n",
    "pylab.rcParams['figure.figsize'] = (20.0, 10.0)\n",
    "\n",
    "%load_ext autoreload\n",
    "%autoreload 2\n",
    "\n",
    "sys.path.append('..')\n",
    "\n",
    "import isolation\n",
    "import sample_players\n",
    "import run_match\n",
    "import my_baseline_player as custom\n",
    "import book as b\n",
    "\n",
    "from multiprocessing.pool import ThreadPool as Pool"
   ]
  },
  {
   "cell_type": "code",
   "execution_count": 2,
   "metadata": {
    "collapsed": false
   },
   "outputs": [
    {
     "name": "stdout",
     "output_type": "stream",
     "text": [
      "Generated 29403 matches.\n"
     ]
    }
   ],
   "source": [
    "# Constant parameteres\n",
    "time_limit = 150\n",
    "depth = 4\n",
    "full_search_depth = 2\n",
    "matches_per_opening = 3\n",
    "\n",
    "# Create the agents that will play\n",
    "agent_names = ('CustomPlayer1', 'CustomPlayer2')\n",
    "agent1 = isolation.Agent(custom.CustomPlayer, agent_names[0])\n",
    "agent2 = isolation.Agent(custom.CustomPlayer, agent_names[1])\n",
    "agents = (agent1, agent2)\n",
    "\n",
    "# Get the initial states\n",
    "root = isolation.isolation.Isolation()\n",
    "opening_states = list(b.get_full_states(root, depth=full_search_depth))\n",
    "\n",
    "# Generate the matches\n",
    "matches = [(agents, state, time_limit, match_id) \n",
    "           for match_id, state in enumerate(opening_states)]\n",
    "matches = matches * 3\n",
    "print('Generated {} matches.'.format(len(matches)))"
   ]
  },
  {
   "cell_type": "code",
   "execution_count": 3,
<<<<<<< HEAD
   "metadata": {
    "collapsed": false
   },
=======
   "metadata": {},
>>>>>>> 0fe3727601970b6db579ba0843d14c11d1b67874
   "outputs": [
    {
     "name": "stdout",
     "output_type": "stream",
     "text": [
      "Processing batch 243 of 295\n",
      "Batch time 278.6398425102234 seconds.\n",
      "Saving: book2018-06-20_07S32S15.097174.pkl\n",
      "rm book2018-06-19_23S29S48.284381.pkl\n",
      "Processing batch 244 of 295\n",
      "Batch time 273.47703528404236 seconds.\n",
      "Saving: book2018-06-20_07S36S49.254472.pkl\n",
      "rm book2018-06-20_07S32S15.097174.pkl\n",
      "Processing batch 245 of 295\n",
      "Batch time 274.8106195926666 seconds.\n",
      "Saving: book2018-06-20_07S41S24.666917.pkl\n",
      "rm book2018-06-20_07S36S49.254472.pkl\n",
      "Processing batch 246 of 295\n",
      "Batch time 275.98363161087036 seconds.\n",
      "Saving: book2018-06-20_07S46S01.283919.pkl\n",
      "rm book2018-06-20_07S41S24.666917.pkl\n",
      "Processing batch 247 of 295\n",
      "Batch time 267.88091468811035 seconds.\n",
      "Saving: book2018-06-20_07S50S29.772492.pkl\n",
      "rm book2018-06-20_07S46S01.283919.pkl\n",
      "Processing batch 248 of 295\n",
      "Batch time 274.3075478076935 seconds.\n",
      "Saving: book2018-06-20_07S55S04.645943.pkl\n",
      "rm book2018-06-20_07S50S29.772492.pkl\n",
      "Processing batch 249 of 295\n",
      "Batch time 269.51369881629944 seconds.\n",
      "Saving: book2018-06-20_07S59S34.753640.pkl\n",
      "rm book2018-06-20_07S55S04.645943.pkl\n",
      "Processing batch 250 of 295\n",
      "Batch time 278.3875455856323 seconds.\n",
      "Saving: book2018-06-20_08S04S13.714880.pkl\n",
      "rm book2018-06-20_07S59S34.753640.pkl\n",
      "Processing batch 251 of 295\n",
      "Batch time 272.3478088378906 seconds.\n",
      "Saving: book2018-06-20_08S08S46.659127.pkl\n",
      "rm book2018-06-20_08S04S13.714880.pkl\n",
      "Processing batch 252 of 295\n",
      "Batch time 286.8205738067627 seconds.\n",
      "Saving: book2018-06-20_08S13S34.069938.pkl\n",
      "rm book2018-06-20_08S08S46.659127.pkl\n",
      "Processing batch 253 of 295\n",
      "Batch time 274.77910137176514 seconds.\n",
      "Saving: book2018-06-20_08S18S09.446953.pkl\n",
      "rm book2018-06-20_08S13S34.069938.pkl\n",
      "Processing batch 254 of 295\n",
      "Batch time 274.8938581943512 seconds.\n",
      "Saving: book2018-06-20_08S22S44.914617.pkl\n",
      "rm book2018-06-20_08S18S09.446953.pkl\n",
      "Processing batch 255 of 295\n",
      "Batch time 273.45258831977844 seconds.\n",
      "Saving: book2018-06-20_08S27S18.958317.pkl\n",
      "rm book2018-06-20_08S22S44.914617.pkl\n",
      "Processing batch 256 of 295\n",
      "Batch time 276.5440468788147 seconds.\n",
      "Saving: book2018-06-20_08S31S56.075442.pkl\n",
      "rm book2018-06-20_08S27S18.958317.pkl\n",
      "Processing batch 257 of 295\n",
      "Batch time 275.5763716697693 seconds.\n",
      "Saving: book2018-06-20_08S36S32.218036.pkl\n",
      "rm book2018-06-20_08S31S56.075442.pkl\n",
      "Processing batch 258 of 295\n",
      "Batch time 276.33995366096497 seconds.\n",
      "Saving: book2018-06-20_08S41S09.148773.pkl\n",
      "rm book2018-06-20_08S36S32.218036.pkl\n",
      "Processing batch 259 of 295\n",
      "Batch time 287.2334053516388 seconds.\n",
      "Saving: book2018-06-20_08S45S56.955801.pkl\n",
      "rm book2018-06-20_08S41S09.148773.pkl\n",
      "Processing batch 260 of 295\n",
      "Batch time 280.4076986312866 seconds.\n",
      "Saving: book2018-06-20_08S50S37.958782.pkl\n",
      "rm book2018-06-20_08S45S56.955801.pkl\n",
      "Processing batch 261 of 295\n",
      "Batch time 277.07029008865356 seconds.\n",
      "Saving: book2018-06-20_08S55S15.597068.pkl\n",
      "rm book2018-06-20_08S50S37.958782.pkl\n",
      "Processing batch 262 of 295\n",
      "Batch time 271.7642912864685 seconds.\n",
      "Saving: book2018-06-20_08S59S47.956062.pkl\n",
      "rm book2018-06-20_08S55S15.597068.pkl\n",
      "Processing batch 263 of 295\n",
      "Batch time 281.2433819770813 seconds.\n",
      "Saving: book2018-06-20_09S04S29.774438.pkl\n",
      "rm book2018-06-20_08S59S47.956062.pkl\n",
      "Processing batch 264 of 295\n",
      "Batch time 277.2353298664093 seconds.\n",
      "Saving: book2018-06-20_09S09S07.607313.pkl\n",
      "rm book2018-06-20_09S04S29.774438.pkl\n",
      "Processing batch 265 of 295\n",
      "Batch time 279.18062567710876 seconds.\n",
      "Saving: book2018-06-20_09S13S47.368708.pkl\n",
      "rm book2018-06-20_09S09S07.607313.pkl\n",
      "Processing batch 266 of 295\n",
      "Batch time 285.34014081954956 seconds.\n",
      "Saving: book2018-06-20_09S18S33.306716.pkl\n",
      "rm book2018-06-20_09S13S47.368708.pkl\n",
      "Processing batch 267 of 295\n",
      "Batch time 273.02638053894043 seconds.\n",
      "Saving: book2018-06-20_09S23S06.931109.pkl\n",
      "rm book2018-06-20_09S18S33.306716.pkl\n",
      "Processing batch 268 of 295\n",
      "Batch time 274.12635803222656 seconds.\n",
      "Saving: book2018-06-20_09S27S41.624270.pkl\n",
      "rm book2018-06-20_09S23S06.931109.pkl\n",
      "Processing batch 269 of 295\n",
      "Batch time 275.3226900100708 seconds.\n",
      "Saving: book2018-06-20_09S32S17.522788.pkl\n",
      "rm book2018-06-20_09S27S41.624270.pkl\n",
      "Processing batch 270 of 295\n",
      "Batch time 271.0670928955078 seconds.\n",
      "Saving: book2018-06-20_09S36S49.186262.pkl\n",
      "rm book2018-06-20_09S32S17.522788.pkl\n",
      "Processing batch 271 of 295\n",
      "Batch time 279.8462162017822 seconds.\n",
      "Saving: book2018-06-20_09S41S29.601359.pkl\n",
      "rm book2018-06-20_09S36S49.186262.pkl\n",
      "Processing batch 272 of 295\n",
      "Batch time 273.0634095668793 seconds.\n",
      "Saving: book2018-06-20_09S46S03.257869.pkl\n",
      "rm book2018-06-20_09S41S29.601359.pkl\n",
      "Processing batch 273 of 295\n",
      "Batch time 270.63951444625854 seconds.\n",
      "Saving: book2018-06-20_09S50S34.466587.pkl\n",
      "rm book2018-06-20_09S46S03.257869.pkl\n",
      "Processing batch 274 of 295\n",
      "Batch time 288.83028268814087 seconds.\n",
      "Saving: book2018-06-20_09S55S23.881496.pkl\n",
      "rm book2018-06-20_09S50S34.466587.pkl\n",
      "Processing batch 275 of 295\n",
      "Batch time 279.7257785797119 seconds.\n",
      "Saving: book2018-06-20_10S00S04.205349.pkl\n",
      "rm book2018-06-20_09S55S23.881496.pkl\n",
      "Processing batch 276 of 295\n",
      "Batch time 278.69209909439087 seconds.\n",
      "Saving: book2018-06-20_10S04S43.488272.pkl\n",
      "rm book2018-06-20_10S00S04.205349.pkl\n",
      "Processing batch 277 of 295\n",
      "Batch time 281.69478130340576 seconds.\n",
      "Saving: book2018-06-20_10S09S25.771286.pkl\n",
      "rm book2018-06-20_10S04S43.488272.pkl\n",
      "Processing batch 278 of 295\n",
      "Batch time 283.440726518631 seconds.\n",
      "Saving: book2018-06-20_10S14S09.794967.pkl\n",
      "rm book2018-06-20_10S09S25.771286.pkl\n",
      "Processing batch 279 of 295\n",
      "Batch time 284.1024227142334 seconds.\n",
      "Saving: book2018-06-20_10S18S54.490086.pkl\n",
      "rm book2018-06-20_10S14S09.794967.pkl\n",
      "Processing batch 280 of 295\n",
      "Batch time 280.1425108909607 seconds.\n",
      "Saving: book2018-06-20_10S23S35.216991.pkl\n",
      "rm book2018-06-20_10S18S54.490086.pkl\n",
      "Processing batch 281 of 295\n",
      "Batch time 278.5319490432739 seconds.\n",
      "Saving: book2018-06-20_10S28S14.337447.pkl\n",
      "rm book2018-06-20_10S23S35.216991.pkl\n",
      "Processing batch 282 of 295\n",
      "Batch time 274.38956093788147 seconds.\n",
      "Saving: book2018-06-20_10S32S49.307766.pkl\n",
      "rm book2018-06-20_10S28S14.337447.pkl\n",
      "Processing batch 283 of 295\n",
      "Batch time 277.63413667678833 seconds.\n",
      "Saving: book2018-06-20_10S37S27.506498.pkl\n",
      "rm book2018-06-20_10S32S49.307766.pkl\n",
      "Processing batch 284 of 295\n",
      "Batch time 273.0120234489441 seconds.\n",
      "Saving: book2018-06-20_10S42S01.111177.pkl\n",
      "rm book2018-06-20_10S37S27.506498.pkl\n",
      "Processing batch 285 of 295\n",
      "Batch time 289.0453989505768 seconds.\n",
      "Saving: book2018-06-20_10S46S50.714052.pkl\n",
      "rm book2018-06-20_10S42S01.111177.pkl\n",
      "Processing batch 286 of 295\n",
      "Batch time 277.37022137641907 seconds.\n",
      "Saving: book2018-06-20_10S51S28.674822.pkl\n",
      "rm book2018-06-20_10S46S50.714052.pkl\n",
      "Processing batch 287 of 295\n",
      "Batch time 269.9294240474701 seconds.\n",
      "Saving: book2018-06-20_10S55S59.188708.pkl\n",
      "rm book2018-06-20_10S51S28.674822.pkl\n",
      "Processing batch 288 of 295\n",
      "Batch time 274.2661488056183 seconds.\n",
      "Saving: book2018-06-20_11S00S34.037923.pkl\n",
      "rm book2018-06-20_10S55S59.188708.pkl\n",
      "Processing batch 289 of 295\n",
      "Batch time 274.76533365249634 seconds.\n",
      "Saving: book2018-06-20_11S05S09.377265.pkl\n",
      "rm book2018-06-20_11S00S34.037923.pkl\n",
      "Processing batch 290 of 295\n",
      "Batch time 273.59490156173706 seconds.\n",
      "Saving: book2018-06-20_11S09S43.551590.pkl\n",
      "rm book2018-06-20_11S05S09.377265.pkl\n",
      "Processing batch 291 of 295\n",
      "Batch time 279.88312673568726 seconds.\n",
      "Saving: book2018-06-20_11S14S24.009173.pkl\n",
      "rm book2018-06-20_11S09S43.551590.pkl\n",
      "Processing batch 292 of 295\n",
      "Batch time 285.2116241455078 seconds.\n",
      "Saving: book2018-06-20_11S19S09.809849.pkl\n",
      "rm book2018-06-20_11S14S24.009173.pkl\n",
      "Processing batch 293 of 295\n",
      "Batch time 276.98991537094116 seconds.\n",
      "Saving: book2018-06-20_11S23S47.388209.pkl\n",
      "rm book2018-06-20_11S19S09.809849.pkl\n",
      "Processing batch 294 of 295\n",
      "Batch time 14.98011040687561 seconds.\n",
      "Saving: book2018-06-20_11S24S02.949324.pkl\n",
      "rm book2018-06-20_11S23S47.388209.pkl\n"
     ]
    },
    {
     "name": "stderr",
     "output_type": "stream",
     "text": [
      "Process Process-146474:\n",
      "Traceback (most recent call last):\n",
      "  File \"/Users/antelinvestigacionydesarrollo/anaconda3/envs/aind/lib/python3.5/multiprocessing/process.py\", line 255, in _bootstrap\n",
      "    util._exit_function()\n",
      "  File \"/Users/antelinvestigacionydesarrollo/anaconda3/envs/aind/lib/python3.5/multiprocessing/util.py\", line 322, in _exit_function\n",
      "    _run_finalizers()\n",
      "  File \"/Users/antelinvestigacionydesarrollo/anaconda3/envs/aind/lib/python3.5/multiprocessing/util.py\", line 262, in _run_finalizers\n",
      "    finalizer()\n",
      "  File \"/Users/antelinvestigacionydesarrollo/anaconda3/envs/aind/lib/python3.5/multiprocessing/util.py\", line 186, in __call__\n",
      "    res = self._callback(*self._args, **self._kwargs)\n",
      "  File \"/Users/antelinvestigacionydesarrollo/anaconda3/envs/aind/lib/python3.5/multiprocessing/queues.py\", line 191, in _finalize_join\n",
      "    thread.join()\n",
      "  File \"/Users/antelinvestigacionydesarrollo/anaconda3/envs/aind/lib/python3.5/threading.py\", line 1054, in join\n",
      "    self._wait_for_tstate_lock()\n",
      "  File \"/Users/antelinvestigacionydesarrollo/anaconda3/envs/aind/lib/python3.5/threading.py\", line 1070, in _wait_for_tstate_lock\n",
      "    elif lock.acquire(block, timeout):\n",
      "KeyboardInterrupt\n"
     ]
    },
    {
     "ename": "KeyboardInterrupt",
     "evalue": "",
     "output_type": "error",
     "traceback": [
      "\u001b[0;31m---------------------------------------------------------------------------\u001b[0m",
      "\u001b[0;31mIndexError\u001b[0m                                Traceback (most recent call last)",
      "\u001b[0;32m~/anaconda3/envs/aind/lib/python3.5/multiprocessing/pool.py\u001b[0m in \u001b[0;36mnext\u001b[0;34m(self, timeout)\u001b[0m\n\u001b[1;32m    715\u001b[0m             \u001b[0;32mtry\u001b[0m\u001b[0;34m:\u001b[0m\u001b[0;34m\u001b[0m\u001b[0m\n\u001b[0;32m--> 716\u001b[0;31m                 \u001b[0mitem\u001b[0m \u001b[0;34m=\u001b[0m \u001b[0mself\u001b[0m\u001b[0;34m.\u001b[0m\u001b[0m_items\u001b[0m\u001b[0;34m.\u001b[0m\u001b[0mpopleft\u001b[0m\u001b[0;34m(\u001b[0m\u001b[0;34m)\u001b[0m\u001b[0;34m\u001b[0m\u001b[0m\n\u001b[0m\u001b[1;32m    717\u001b[0m             \u001b[0;32mexcept\u001b[0m \u001b[0mIndexError\u001b[0m\u001b[0;34m:\u001b[0m\u001b[0;34m\u001b[0m\u001b[0m\n",
      "\u001b[0;31mIndexError\u001b[0m: pop from an empty deque",
      "\nDuring handling of the above exception, another exception occurred:\n",
      "\u001b[0;31mKeyboardInterrupt\u001b[0m                         Traceback (most recent call last)",
      "\u001b[0;32m<ipython-input-3-d691c8be528a>\u001b[0m in \u001b[0;36m<module>\u001b[0;34m()\u001b[0m\n\u001b[1;32m     28\u001b[0m     \u001b[0mbatch\u001b[0m \u001b[0;34m=\u001b[0m \u001b[0mbatches\u001b[0m\u001b[0;34m[\u001b[0m\u001b[0mbatch_num\u001b[0m\u001b[0;34m]\u001b[0m\u001b[0;34m\u001b[0m\u001b[0m\n\u001b[1;32m     29\u001b[0m     \u001b[0mprint\u001b[0m\u001b[0;34m(\u001b[0m\u001b[0;34m'Processing batch {} of {}'\u001b[0m\u001b[0;34m.\u001b[0m\u001b[0mformat\u001b[0m\u001b[0;34m(\u001b[0m\u001b[0mbatch_num\u001b[0m\u001b[0;34m,\u001b[0m \u001b[0mlen\u001b[0m\u001b[0;34m(\u001b[0m\u001b[0mbatches\u001b[0m\u001b[0;34m)\u001b[0m\u001b[0;34m)\u001b[0m\u001b[0;34m)\u001b[0m\u001b[0;34m\u001b[0m\u001b[0m\n\u001b[0;32m---> 30\u001b[0;31m     \u001b[0;32mfor\u001b[0m \u001b[0mresult\u001b[0m \u001b[0;32min\u001b[0m \u001b[0mpool\u001b[0m\u001b[0;34m.\u001b[0m\u001b[0mimap_unordered\u001b[0m\u001b[0;34m(\u001b[0m\u001b[0misolation\u001b[0m\u001b[0;34m.\u001b[0m\u001b[0mplay\u001b[0m\u001b[0;34m,\u001b[0m \u001b[0mbatch\u001b[0m\u001b[0;34m)\u001b[0m\u001b[0;34m:\u001b[0m\u001b[0;34m\u001b[0m\u001b[0m\n\u001b[0m\u001b[1;32m     31\u001b[0m         \u001b[0mwinner\u001b[0m\u001b[0;34m,\u001b[0m \u001b[0mgame_history\u001b[0m\u001b[0;34m,\u001b[0m \u001b[0mmatch_id\u001b[0m \u001b[0;34m=\u001b[0m \u001b[0mresult\u001b[0m\u001b[0;34m\u001b[0m\u001b[0m\n\u001b[1;32m     32\u001b[0m         \u001b[0;31m# print('Results for match {}: {} wins.'.format(match_id, winner.name))\u001b[0m\u001b[0;34m\u001b[0m\u001b[0;34m\u001b[0m\u001b[0m\n",
      "\u001b[0;32m~/anaconda3/envs/aind/lib/python3.5/multiprocessing/pool.py\u001b[0m in \u001b[0;36mnext\u001b[0;34m(self, timeout)\u001b[0m\n\u001b[1;32m    718\u001b[0m                 \u001b[0;32mif\u001b[0m \u001b[0mself\u001b[0m\u001b[0;34m.\u001b[0m\u001b[0m_index\u001b[0m \u001b[0;34m==\u001b[0m \u001b[0mself\u001b[0m\u001b[0;34m.\u001b[0m\u001b[0m_length\u001b[0m\u001b[0;34m:\u001b[0m\u001b[0;34m\u001b[0m\u001b[0m\n\u001b[1;32m    719\u001b[0m                     \u001b[0;32mraise\u001b[0m \u001b[0mStopIteration\u001b[0m\u001b[0;34m\u001b[0m\u001b[0m\n\u001b[0;32m--> 720\u001b[0;31m                 \u001b[0mself\u001b[0m\u001b[0;34m.\u001b[0m\u001b[0m_cond\u001b[0m\u001b[0;34m.\u001b[0m\u001b[0mwait\u001b[0m\u001b[0;34m(\u001b[0m\u001b[0mtimeout\u001b[0m\u001b[0;34m)\u001b[0m\u001b[0;34m\u001b[0m\u001b[0m\n\u001b[0m\u001b[1;32m    721\u001b[0m                 \u001b[0;32mtry\u001b[0m\u001b[0;34m:\u001b[0m\u001b[0;34m\u001b[0m\u001b[0m\n\u001b[1;32m    722\u001b[0m                     \u001b[0mitem\u001b[0m \u001b[0;34m=\u001b[0m \u001b[0mself\u001b[0m\u001b[0;34m.\u001b[0m\u001b[0m_items\u001b[0m\u001b[0;34m.\u001b[0m\u001b[0mpopleft\u001b[0m\u001b[0;34m(\u001b[0m\u001b[0;34m)\u001b[0m\u001b[0;34m\u001b[0m\u001b[0m\n",
      "\u001b[0;32m~/anaconda3/envs/aind/lib/python3.5/threading.py\u001b[0m in \u001b[0;36mwait\u001b[0;34m(self, timeout)\u001b[0m\n\u001b[1;32m    291\u001b[0m         \u001b[0;32mtry\u001b[0m\u001b[0;34m:\u001b[0m    \u001b[0;31m# restore state no matter what (e.g., KeyboardInterrupt)\u001b[0m\u001b[0;34m\u001b[0m\u001b[0m\n\u001b[1;32m    292\u001b[0m             \u001b[0;32mif\u001b[0m \u001b[0mtimeout\u001b[0m \u001b[0;32mis\u001b[0m \u001b[0;32mNone\u001b[0m\u001b[0;34m:\u001b[0m\u001b[0;34m\u001b[0m\u001b[0m\n\u001b[0;32m--> 293\u001b[0;31m                 \u001b[0mwaiter\u001b[0m\u001b[0;34m.\u001b[0m\u001b[0macquire\u001b[0m\u001b[0;34m(\u001b[0m\u001b[0;34m)\u001b[0m\u001b[0;34m\u001b[0m\u001b[0m\n\u001b[0m\u001b[1;32m    294\u001b[0m                 \u001b[0mgotit\u001b[0m \u001b[0;34m=\u001b[0m \u001b[0;32mTrue\u001b[0m\u001b[0;34m\u001b[0m\u001b[0m\n\u001b[1;32m    295\u001b[0m             \u001b[0;32melse\u001b[0m\u001b[0;34m:\u001b[0m\u001b[0;34m\u001b[0m\u001b[0m\n",
      "\u001b[0;31mKeyboardInterrupt\u001b[0m: "
     ]
    }
   ],
   "source": [
    "num_processes = 4\n",
    "batch_size = 100\n",
    "batch_num_file = 'batch_num.txt'\n",
    "\n",
    "# Small test for debugging\n",
    "# matches = matches[:100]\n",
    "\n",
    "# Create or load the book\n",
    "book = b.load_latest_book(depth=depth)\n",
    "\n",
    "# Make some batches to save the results once in a while\n",
    "x = matches\n",
    "batches = [x[i*batch_size:(i+1)*batch_size] \n",
    "           for i in range(len(x) // batch_size + (len(x) % batch_size != 0))]\n",
    "\n",
    "# Get only the unprocessed batches\n",
    "if os.path.exists(batch_num_file):\n",
    "    with open(batch_num_file, 'r') as file:\n",
    "        last_batch = int(file.read())\n",
    "else:\n",
    "    last_batch = -1\n",
    "\n",
    "# Now fill the book!\n",
    "pool = Pool(num_processes)\n",
    "\n",
    "for batch_num in range(last_batch + 1, len(batches)):\n",
    "    tic = time.time()\n",
    "    batch = batches[batch_num]\n",
    "    print('Processing batch {} of {}'.format(batch_num, len(batches)))\n",
    "    for result in pool.imap_unordered(isolation.play, batch):\n",
    "        winner, game_history, match_id = result\n",
    "        # print('Results for match {}: {} wins.'.format(match_id, winner.name))\n",
    "        _, state, _, _ = matches[match_id]\n",
    "        if state.locs[1] is not None:\n",
    "            game_history.insert(0,state.locs[1])\n",
    "        if state.locs[0] is not None:\n",
    "            game_history.insert(0,state.locs[0])\n",
    "        root = isolation.isolation.Isolation()\n",
    "        b.process_game_history(root,\n",
    "                               game_history, \n",
    "                               book,\n",
    "                               agent_names.index(winner.name),\n",
    "                               active_player=state.ply_count % 2,\n",
    "                               depth=depth)\n",
    "    toc = time.time()\n",
    "    print('Batch time {} seconds.'.format((toc-tic)))\n",
    "    b.save_book(book)\n",
    "    with open(batch_num_file, 'w') as file:\n",
    "        file.write(str(batch_num))\n",
    "    b.remove_old_books()"
   ]
  },
  {
   "cell_type": "code",
   "execution_count": null,
   "metadata": {
    "collapsed": true
   },
   "outputs": [],
   "source": []
  },
  {
   "cell_type": "code",
   "execution_count": 4,
   "metadata": {
    "collapsed": false
   },
   "outputs": [
    {
     "data": {
      "text/plain": [
<<<<<<< HEAD
       "131645"
=======
       "19665"
>>>>>>> 0fe3727601970b6db579ba0843d14c11d1b67874
      ]
     },
     "execution_count": 4,
     "metadata": {},
     "output_type": "execute_result"
    }
   ],
   "source": [
    "sum(abs(value[0]) for value in book.values())"
   ]
  },
  {
   "cell_type": "code",
   "execution_count": 5,
   "metadata": {
    "collapsed": false
   },
   "outputs": [
    {
     "data": {
      "text/plain": [
<<<<<<< HEAD
       "382239"
=======
       "31187"
>>>>>>> 0fe3727601970b6db579ba0843d14c11d1b67874
      ]
     },
     "execution_count": 5,
     "metadata": {},
     "output_type": "execute_result"
    }
   ],
   "source": [
    "sum(abs(value[1]) for value in book.values())"
   ]
  },
  {
   "cell_type": "code",
   "execution_count": 6,
   "metadata": {
    "collapsed": false
   },
   "outputs": [
    {
     "data": {
      "text/plain": [
       "27.7695"
      ]
     },
     "execution_count": 6,
     "metadata": {},
     "output_type": "execute_result"
    }
   ],
   "source": [
    "29403*34 / (10*3600)  # Estimated time in hours"
   ]
  },
  {
   "cell_type": "code",
   "execution_count": 7,
   "metadata": {
    "collapsed": true
   },
   "outputs": [],
   "source": [
    "import pandas as pd\n",
    "\n",
    "v = pd.Series([v[0] for v in book.values()])"
   ]
  },
  {
   "cell_type": "code",
   "execution_count": 8,
   "metadata": {
    "collapsed": false
   },
   "outputs": [
    {
     "data": {
      "text/plain": [
<<<<<<< HEAD
       "<matplotlib.axes._subplots.AxesSubplot at 0x7f81f0530828>"
=======
       "<matplotlib.axes._subplots.AxesSubplot at 0x11a9a6518>"
>>>>>>> 0fe3727601970b6db579ba0843d14c11d1b67874
      ]
     },
     "execution_count": 8,
     "metadata": {},
     "output_type": "execute_result"
    },
    {
     "data": {
<<<<<<< HEAD
      "image/png": "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\n",
      "text/plain": [
       "<matplotlib.figure.Figure at 0x7f8218857b38>"
=======
      "image/png": "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\n",
      "text/plain": [
       "<matplotlib.figure.Figure at 0x11a9a6828>"
>>>>>>> 0fe3727601970b6db579ba0843d14c11d1b67874
      ]
     },
     "metadata": {},
     "output_type": "display_data"
    }
   ],
   "source": [
    "v.hist(bins=50)"
   ]
  },
  {
   "cell_type": "code",
   "execution_count": 9,
   "metadata": {
    "collapsed": false
   },
   "outputs": [
    {
     "data": {
      "text/plain": [
       "count    374097.000000\n",
<<<<<<< HEAD
       "mean         -0.000345\n",
       "std           1.359358\n",
       "min        -132.000000\n",
       "25%           0.000000\n",
       "50%           0.000000\n",
       "75%           0.000000\n",
       "max          82.000000\n",
=======
       "mean          0.000730\n",
       "std           0.306768\n",
       "min         -17.000000\n",
       "25%           0.000000\n",
       "50%           0.000000\n",
       "75%           0.000000\n",
       "max          28.000000\n",
>>>>>>> 0fe3727601970b6db579ba0843d14c11d1b67874
       "dtype: float64"
      ]
     },
     "execution_count": 9,
     "metadata": {},
     "output_type": "execute_result"
    }
   ],
   "source": [
    "v.describe()"
   ]
  },
  {
   "cell_type": "code",
   "execution_count": 10,
   "metadata": {
    "collapsed": false
   },
   "outputs": [
    {
     "data": {
      "text/plain": [
<<<<<<< HEAD
       "-132"
=======
       "-17"
>>>>>>> 0fe3727601970b6db579ba0843d14c11d1b67874
      ]
     },
     "execution_count": 10,
     "metadata": {},
     "output_type": "execute_result"
    }
   ],
   "source": [
    "v.min()"
   ]
  },
  {
   "cell_type": "code",
   "execution_count": 11,
   "metadata": {
    "collapsed": false
   },
   "outputs": [
    {
     "data": {
      "text/plain": [
       "(Isolation(board=41523161203939122082683632224299007, ply_count=0, locs=(None, None)),\n",
<<<<<<< HEAD
       " 57)"
=======
       " 48)"
>>>>>>> 0fe3727601970b6db579ba0843d14c11d1b67874
      ]
     },
     "execution_count": 11,
     "metadata": {},
     "output_type": "execute_result"
    }
   ],
   "source": [
    "worst = min(((k, v) for k, v in book.items()), key=lambda x: x[1][0])\n",
    "worst[0]"
   ]
  },
  {
   "cell_type": "code",
   "execution_count": 12,
   "metadata": {
    "collapsed": false
   },
   "outputs": [
    {
     "name": "stdout",
     "output_type": "stream",
     "text": [
      "\n",
      "+ - + - + - + - + - + - + - + - + - + - + - +\n",
      "|   |   |   |   |   |   |   |   |   |   |   |\n",
      "+ - + - + - + - + - + - + - + - + - + - + - +\n",
      "|   |   |   |   |   |   |   |   |   |   |   |\n",
      "+ - + - + - + - + - + - + - + - + - + - + - +\n",
      "|   |   |   |   |   |   |   |   |   |   |   |\n",
      "+ - + - + - + - + - + - + - + - + - + - + - +\n",
      "|   |   |   |   |   |   |   |   |   |   |   |\n",
      "+ - + - + - + - + - + - + - + - + - + - + - +\n",
      "|   |   |   |   |   | 1 |   |   |   |   |   |\n",
      "+ - + - + - + - + - + - + - + - + - + - + - +\n",
      "|   |   |   |   |   |   |   |   |   |   |   |\n",
      "+ - + - + - + - + - + - + - + - + - + - + - +\n",
      "|   |   |   |   |   |   |   |   |   |   |   |\n",
      "+ - + - + - + - + - + - + - + - + - + - + - +\n",
      "|   |   |   |   |   |   |   |   |   |   |   |\n",
      "+ - + - + - + - + - + - + - + - + - + - + - +\n",
      "|   |   |   |   |   |   |   |   |   |   |   |\n",
      "+ - + - + - + - + - + - + - + - + - + - + - +\n",
      "\n"
     ]
    }
   ],
   "source": [
    "from isolation.isolation import Isolation\n",
    "state = Isolation(board=41523161203939122082683632224299007, ply_count=0, locs=(None, None))\n",
    "\n",
    "print(isolation.DebugState.from_state(state.result(57)))"
   ]
  },
  {
   "cell_type": "markdown",
   "metadata": {
    "collapsed": true
   },
   "source": [
    "What about the other symmetrical ones"
   ]
  },
  {
   "cell_type": "code",
   "execution_count": 13,
   "metadata": {
    "collapsed": true
   },
   "outputs": [],
   "source": [
    "s1 = (Isolation(board=41523161203939122082683632224299007, ply_count=0, locs=(None, None)), 56)\n",
    "s2 = (Isolation(board=41523161203939122082683632224299007, ply_count=0, locs=(None, None)), 58)\n",
    "s3 = (Isolation(board=41523161203939122082683632224299007, ply_count=0, locs=(None, None)), 70)\n",
    "s4 = (Isolation(board=41523161203939122082683632224299007, ply_count=0, locs=(None, None)), 44)"
   ]
  },
  {
   "cell_type": "code",
   "execution_count": 14,
   "metadata": {
    "collapsed": false
   },
   "outputs": [
    {
     "data": {
      "text/plain": [
<<<<<<< HEAD
       "[-54, 1186]"
=======
       "[6, 118]"
>>>>>>> 0fe3727601970b6db579ba0843d14c11d1b67874
      ]
     },
     "execution_count": 14,
     "metadata": {},
     "output_type": "execute_result"
    }
   ],
   "source": [
    "book[s1]"
   ]
  },
  {
   "cell_type": "code",
   "execution_count": 15,
   "metadata": {
    "collapsed": false
   },
   "outputs": [
    {
     "data": {
      "text/plain": [
<<<<<<< HEAD
       "[-54, 1186]"
=======
       "[6, 118]"
>>>>>>> 0fe3727601970b6db579ba0843d14c11d1b67874
      ]
     },
     "execution_count": 15,
     "metadata": {},
     "output_type": "execute_result"
    }
   ],
   "source": [
    "book[s2]"
   ]
  },
  {
   "cell_type": "code",
   "execution_count": 16,
   "metadata": {
    "collapsed": false
   },
   "outputs": [
    {
     "data": {
      "text/plain": [
<<<<<<< HEAD
       "[82, 1190]"
=======
       "[-4, 92]"
>>>>>>> 0fe3727601970b6db579ba0843d14c11d1b67874
      ]
     },
     "execution_count": 16,
     "metadata": {},
     "output_type": "execute_result"
    }
   ],
   "source": [
    "book[s3]"
   ]
  },
  {
   "cell_type": "code",
   "execution_count": 17,
   "metadata": {
    "collapsed": false
   },
   "outputs": [
    {
     "data": {
      "text/plain": [
<<<<<<< HEAD
       "[82, 1190]"
=======
       "[-4, 92]"
>>>>>>> 0fe3727601970b6db579ba0843d14c11d1b67874
      ]
     },
     "execution_count": 17,
     "metadata": {},
     "output_type": "execute_result"
    }
   ],
   "source": [
    "book[s4]"
   ]
  },
  {
   "cell_type": "markdown",
   "metadata": {},
   "source": [
    "### I think I have ply_count=1,2,3,4 in the book but not ply_count=0"
   ]
  },
  {
   "cell_type": "code",
   "execution_count": 18,
   "metadata": {
    "collapsed": false
   },
   "outputs": [
    {
     "data": {
      "text/plain": [
       "374097"
      ]
     },
     "execution_count": 18,
     "metadata": {},
     "output_type": "execute_result"
    }
   ],
   "source": [
    "len(book.items())"
   ]
  },
  {
   "cell_type": "markdown",
   "metadata": {},
   "source": [
    "### Idea: show a heat matrix for the initial move"
   ]
  },
  {
   "cell_type": "code",
   "execution_count": 19,
   "metadata": {
    "collapsed": true
   },
   "outputs": [],
   "source": [
    "first = {item:value[0] for item, value in book.items() if item[0].ply_count==0}"
   ]
  },
  {
   "cell_type": "code",
   "execution_count": 20,
   "metadata": {
    "collapsed": false
   },
   "outputs": [
    {
     "data": {
      "text/plain": [
       "99"
      ]
     },
     "execution_count": 20,
     "metadata": {},
     "output_type": "execute_result"
    }
   ],
   "source": [
    "len(first)"
   ]
  },
  {
   "cell_type": "code",
   "execution_count": 21,
   "metadata": {
    "collapsed": false
   },
   "outputs": [
    {
     "data": {
      "text/plain": [
       "{(Isolation(board=41523161203939122082683632224299007, ply_count=0, locs=(None, None)),\n",
<<<<<<< HEAD
       "  0): 37,\n",
=======
       "  0): 3,\n",
>>>>>>> 0fe3727601970b6db579ba0843d14c11d1b67874
       " (Isolation(board=41523161203939122082683632224299007, ply_count=0, locs=(None, None)),\n",
       "  1): 2,\n",
       " (Isolation(board=41523161203939122082683632224299007, ply_count=0, locs=(None, None)),\n",
<<<<<<< HEAD
       "  2): -56,\n",
       " (Isolation(board=41523161203939122082683632224299007, ply_count=0, locs=(None, None)),\n",
       "  3): -19,\n",
       " (Isolation(board=41523161203939122082683632224299007, ply_count=0, locs=(None, None)),\n",
       "  4): -13,\n",
       " (Isolation(board=41523161203939122082683632224299007, ply_count=0, locs=(None, None)),\n",
       "  5): 32,\n",
       " (Isolation(board=41523161203939122082683632224299007, ply_count=0, locs=(None, None)),\n",
       "  6): -13,\n",
       " (Isolation(board=41523161203939122082683632224299007, ply_count=0, locs=(None, None)),\n",
       "  7): -19,\n",
       " (Isolation(board=41523161203939122082683632224299007, ply_count=0, locs=(None, None)),\n",
       "  8): -56,\n",
=======
       "  2): -5,\n",
       " (Isolation(board=41523161203939122082683632224299007, ply_count=0, locs=(None, None)),\n",
       "  3): 25,\n",
       " (Isolation(board=41523161203939122082683632224299007, ply_count=0, locs=(None, None)),\n",
       "  4): 16,\n",
       " (Isolation(board=41523161203939122082683632224299007, ply_count=0, locs=(None, None)),\n",
       "  5): -2,\n",
       " (Isolation(board=41523161203939122082683632224299007, ply_count=0, locs=(None, None)),\n",
       "  6): 16,\n",
       " (Isolation(board=41523161203939122082683632224299007, ply_count=0, locs=(None, None)),\n",
       "  7): 25,\n",
       " (Isolation(board=41523161203939122082683632224299007, ply_count=0, locs=(None, None)),\n",
       "  8): -5,\n",
>>>>>>> 0fe3727601970b6db579ba0843d14c11d1b67874
       " (Isolation(board=41523161203939122082683632224299007, ply_count=0, locs=(None, None)),\n",
       "  9): 2,\n",
       " (Isolation(board=41523161203939122082683632224299007, ply_count=0, locs=(None, None)),\n",
<<<<<<< HEAD
       "  10): 37,\n",
       " (Isolation(board=41523161203939122082683632224299007, ply_count=0, locs=(None, None)),\n",
       "  13): -1,\n",
       " (Isolation(board=41523161203939122082683632224299007, ply_count=0, locs=(None, None)),\n",
       "  14): 62,\n",
       " (Isolation(board=41523161203939122082683632224299007, ply_count=0, locs=(None, None)),\n",
       "  15): 9,\n",
=======
       "  10): 3,\n",
       " (Isolation(board=41523161203939122082683632224299007, ply_count=0, locs=(None, None)),\n",
       "  13): 9,\n",
       " (Isolation(board=41523161203939122082683632224299007, ply_count=0, locs=(None, None)),\n",
       "  14): 0,\n",
       " (Isolation(board=41523161203939122082683632224299007, ply_count=0, locs=(None, None)),\n",
       "  15): 0,\n",
>>>>>>> 0fe3727601970b6db579ba0843d14c11d1b67874
       " (Isolation(board=41523161203939122082683632224299007, ply_count=0, locs=(None, None)),\n",
       "  16): 17,\n",
       " (Isolation(board=41523161203939122082683632224299007, ply_count=0, locs=(None, None)),\n",
<<<<<<< HEAD
       "  17): -17,\n",
       " (Isolation(board=41523161203939122082683632224299007, ply_count=0, locs=(None, None)),\n",
       "  18): 42,\n",
       " (Isolation(board=41523161203939122082683632224299007, ply_count=0, locs=(None, None)),\n",
       "  19): -17,\n",
=======
       "  17): -14,\n",
       " (Isolation(board=41523161203939122082683632224299007, ply_count=0, locs=(None, None)),\n",
       "  18): 8,\n",
       " (Isolation(board=41523161203939122082683632224299007, ply_count=0, locs=(None, None)),\n",
       "  19): -14,\n",
>>>>>>> 0fe3727601970b6db579ba0843d14c11d1b67874
       " (Isolation(board=41523161203939122082683632224299007, ply_count=0, locs=(None, None)),\n",
       "  20): 17,\n",
       " (Isolation(board=41523161203939122082683632224299007, ply_count=0, locs=(None, None)),\n",
<<<<<<< HEAD
       "  21): 9,\n",
       " (Isolation(board=41523161203939122082683632224299007, ply_count=0, locs=(None, None)),\n",
       "  22): 62,\n",
       " (Isolation(board=41523161203939122082683632224299007, ply_count=0, locs=(None, None)),\n",
       "  23): -1,\n",
       " (Isolation(board=41523161203939122082683632224299007, ply_count=0, locs=(None, None)),\n",
       "  26): 23,\n",
       " (Isolation(board=41523161203939122082683632224299007, ply_count=0, locs=(None, None)),\n",
       "  27): -23,\n",
       " (Isolation(board=41523161203939122082683632224299007, ply_count=0, locs=(None, None)),\n",
       "  28): 12,\n",
       " (Isolation(board=41523161203939122082683632224299007, ply_count=0, locs=(None, None)),\n",
       "  29): 59,\n",
       " (Isolation(board=41523161203939122082683632224299007, ply_count=0, locs=(None, None)),\n",
       "  30): -85,\n",
       " (Isolation(board=41523161203939122082683632224299007, ply_count=0, locs=(None, None)),\n",
       "  31): -52,\n",
       " (Isolation(board=41523161203939122082683632224299007, ply_count=0, locs=(None, None)),\n",
       "  32): -85,\n",
       " (Isolation(board=41523161203939122082683632224299007, ply_count=0, locs=(None, None)),\n",
       "  33): 59,\n",
       " (Isolation(board=41523161203939122082683632224299007, ply_count=0, locs=(None, None)),\n",
       "  34): 12,\n",
       " (Isolation(board=41523161203939122082683632224299007, ply_count=0, locs=(None, None)),\n",
       "  35): -23,\n",
       " (Isolation(board=41523161203939122082683632224299007, ply_count=0, locs=(None, None)),\n",
       "  36): 23,\n",
       " (Isolation(board=41523161203939122082683632224299007, ply_count=0, locs=(None, None)),\n",
       "  39): -39,\n",
       " (Isolation(board=41523161203939122082683632224299007, ply_count=0, locs=(None, None)),\n",
       "  40): 30,\n",
       " (Isolation(board=41523161203939122082683632224299007, ply_count=0, locs=(None, None)),\n",
       "  41): 39,\n",
       " (Isolation(board=41523161203939122082683632224299007, ply_count=0, locs=(None, None)),\n",
       "  42): 20,\n",
       " (Isolation(board=41523161203939122082683632224299007, ply_count=0, locs=(None, None)),\n",
       "  43): -14,\n",
       " (Isolation(board=41523161203939122082683632224299007, ply_count=0, locs=(None, None)),\n",
       "  44): 82,\n",
       " (Isolation(board=41523161203939122082683632224299007, ply_count=0, locs=(None, None)),\n",
       "  45): -14,\n",
       " (Isolation(board=41523161203939122082683632224299007, ply_count=0, locs=(None, None)),\n",
       "  46): 20,\n",
       " (Isolation(board=41523161203939122082683632224299007, ply_count=0, locs=(None, None)),\n",
       "  47): 39,\n",
       " (Isolation(board=41523161203939122082683632224299007, ply_count=0, locs=(None, None)),\n",
       "  48): 30,\n",
       " (Isolation(board=41523161203939122082683632224299007, ply_count=0, locs=(None, None)),\n",
       "  49): -39,\n",
       " (Isolation(board=41523161203939122082683632224299007, ply_count=0, locs=(None, None)),\n",
       "  52): -98,\n",
       " (Isolation(board=41523161203939122082683632224299007, ply_count=0, locs=(None, None)),\n",
       "  53): 6,\n",
       " (Isolation(board=41523161203939122082683632224299007, ply_count=0, locs=(None, None)),\n",
       "  54): 30,\n",
       " (Isolation(board=41523161203939122082683632224299007, ply_count=0, locs=(None, None)),\n",
       "  55): -94,\n",
       " (Isolation(board=41523161203939122082683632224299007, ply_count=0, locs=(None, None)),\n",
       "  56): -54,\n",
       " (Isolation(board=41523161203939122082683632224299007, ply_count=0, locs=(None, None)),\n",
       "  57): -132,\n",
       " (Isolation(board=41523161203939122082683632224299007, ply_count=0, locs=(None, None)),\n",
       "  58): -54,\n",
       " (Isolation(board=41523161203939122082683632224299007, ply_count=0, locs=(None, None)),\n",
       "  59): -94,\n",
       " (Isolation(board=41523161203939122082683632224299007, ply_count=0, locs=(None, None)),\n",
       "  60): 30,\n",
       " (Isolation(board=41523161203939122082683632224299007, ply_count=0, locs=(None, None)),\n",
       "  61): 6,\n",
       " (Isolation(board=41523161203939122082683632224299007, ply_count=0, locs=(None, None)),\n",
       "  62): -98,\n",
       " (Isolation(board=41523161203939122082683632224299007, ply_count=0, locs=(None, None)),\n",
       "  65): -39,\n",
       " (Isolation(board=41523161203939122082683632224299007, ply_count=0, locs=(None, None)),\n",
       "  66): 30,\n",
       " (Isolation(board=41523161203939122082683632224299007, ply_count=0, locs=(None, None)),\n",
       "  67): 39,\n",
       " (Isolation(board=41523161203939122082683632224299007, ply_count=0, locs=(None, None)),\n",
       "  68): 20,\n",
       " (Isolation(board=41523161203939122082683632224299007, ply_count=0, locs=(None, None)),\n",
       "  69): -14,\n",
       " (Isolation(board=41523161203939122082683632224299007, ply_count=0, locs=(None, None)),\n",
       "  70): 82,\n",
       " (Isolation(board=41523161203939122082683632224299007, ply_count=0, locs=(None, None)),\n",
       "  71): -14,\n",
       " (Isolation(board=41523161203939122082683632224299007, ply_count=0, locs=(None, None)),\n",
       "  72): 20,\n",
       " (Isolation(board=41523161203939122082683632224299007, ply_count=0, locs=(None, None)),\n",
       "  73): 39,\n",
       " (Isolation(board=41523161203939122082683632224299007, ply_count=0, locs=(None, None)),\n",
       "  74): 30,\n",
       " (Isolation(board=41523161203939122082683632224299007, ply_count=0, locs=(None, None)),\n",
       "  75): -39,\n",
       " (Isolation(board=41523161203939122082683632224299007, ply_count=0, locs=(None, None)),\n",
       "  78): 23,\n",
       " (Isolation(board=41523161203939122082683632224299007, ply_count=0, locs=(None, None)),\n",
       "  79): -23,\n",
       " (Isolation(board=41523161203939122082683632224299007, ply_count=0, locs=(None, None)),\n",
       "  80): 12,\n",
       " (Isolation(board=41523161203939122082683632224299007, ply_count=0, locs=(None, None)),\n",
       "  81): 59,\n",
       " (Isolation(board=41523161203939122082683632224299007, ply_count=0, locs=(None, None)),\n",
       "  82): -85,\n",
       " (Isolation(board=41523161203939122082683632224299007, ply_count=0, locs=(None, None)),\n",
       "  83): -52,\n",
       " (Isolation(board=41523161203939122082683632224299007, ply_count=0, locs=(None, None)),\n",
       "  84): -85,\n",
       " (Isolation(board=41523161203939122082683632224299007, ply_count=0, locs=(None, None)),\n",
       "  85): 59,\n",
       " (Isolation(board=41523161203939122082683632224299007, ply_count=0, locs=(None, None)),\n",
       "  86): 12,\n",
       " (Isolation(board=41523161203939122082683632224299007, ply_count=0, locs=(None, None)),\n",
       "  87): -23,\n",
       " (Isolation(board=41523161203939122082683632224299007, ply_count=0, locs=(None, None)),\n",
       "  88): 23,\n",
       " (Isolation(board=41523161203939122082683632224299007, ply_count=0, locs=(None, None)),\n",
       "  91): -1,\n",
       " (Isolation(board=41523161203939122082683632224299007, ply_count=0, locs=(None, None)),\n",
       "  92): 62,\n",
       " (Isolation(board=41523161203939122082683632224299007, ply_count=0, locs=(None, None)),\n",
       "  93): 9,\n",
=======
       "  21): 0,\n",
       " (Isolation(board=41523161203939122082683632224299007, ply_count=0, locs=(None, None)),\n",
       "  22): 0,\n",
       " (Isolation(board=41523161203939122082683632224299007, ply_count=0, locs=(None, None)),\n",
       "  23): 9,\n",
       " (Isolation(board=41523161203939122082683632224299007, ply_count=0, locs=(None, None)),\n",
       "  26): 10,\n",
       " (Isolation(board=41523161203939122082683632224299007, ply_count=0, locs=(None, None)),\n",
       "  27): -12,\n",
       " (Isolation(board=41523161203939122082683632224299007, ply_count=0, locs=(None, None)),\n",
       "  28): 6,\n",
       " (Isolation(board=41523161203939122082683632224299007, ply_count=0, locs=(None, None)),\n",
       "  29): 10,\n",
       " (Isolation(board=41523161203939122082683632224299007, ply_count=0, locs=(None, None)),\n",
       "  30): 5,\n",
       " (Isolation(board=41523161203939122082683632224299007, ply_count=0, locs=(None, None)),\n",
       "  31): 18,\n",
       " (Isolation(board=41523161203939122082683632224299007, ply_count=0, locs=(None, None)),\n",
       "  32): 5,\n",
       " (Isolation(board=41523161203939122082683632224299007, ply_count=0, locs=(None, None)),\n",
       "  33): 10,\n",
       " (Isolation(board=41523161203939122082683632224299007, ply_count=0, locs=(None, None)),\n",
       "  34): 6,\n",
       " (Isolation(board=41523161203939122082683632224299007, ply_count=0, locs=(None, None)),\n",
       "  35): -12,\n",
       " (Isolation(board=41523161203939122082683632224299007, ply_count=0, locs=(None, None)),\n",
       "  36): 10,\n",
       " (Isolation(board=41523161203939122082683632224299007, ply_count=0, locs=(None, None)),\n",
       "  39): 19,\n",
       " (Isolation(board=41523161203939122082683632224299007, ply_count=0, locs=(None, None)),\n",
       "  40): -17,\n",
       " (Isolation(board=41523161203939122082683632224299007, ply_count=0, locs=(None, None)),\n",
       "  41): -3,\n",
       " (Isolation(board=41523161203939122082683632224299007, ply_count=0, locs=(None, None)),\n",
       "  42): -4,\n",
       " (Isolation(board=41523161203939122082683632224299007, ply_count=0, locs=(None, None)),\n",
       "  43): 11,\n",
       " (Isolation(board=41523161203939122082683632224299007, ply_count=0, locs=(None, None)),\n",
       "  44): -4,\n",
       " (Isolation(board=41523161203939122082683632224299007, ply_count=0, locs=(None, None)),\n",
       "  45): 11,\n",
       " (Isolation(board=41523161203939122082683632224299007, ply_count=0, locs=(None, None)),\n",
       "  46): -4,\n",
       " (Isolation(board=41523161203939122082683632224299007, ply_count=0, locs=(None, None)),\n",
       "  47): -3,\n",
       " (Isolation(board=41523161203939122082683632224299007, ply_count=0, locs=(None, None)),\n",
       "  48): -17,\n",
       " (Isolation(board=41523161203939122082683632224299007, ply_count=0, locs=(None, None)),\n",
       "  49): 19,\n",
       " (Isolation(board=41523161203939122082683632224299007, ply_count=0, locs=(None, None)),\n",
       "  52): -14,\n",
       " (Isolation(board=41523161203939122082683632224299007, ply_count=0, locs=(None, None)),\n",
       "  53): 28,\n",
       " (Isolation(board=41523161203939122082683632224299007, ply_count=0, locs=(None, None)),\n",
       "  54): 4,\n",
       " (Isolation(board=41523161203939122082683632224299007, ply_count=0, locs=(None, None)),\n",
       "  55): 16,\n",
       " (Isolation(board=41523161203939122082683632224299007, ply_count=0, locs=(None, None)),\n",
       "  56): 6,\n",
       " (Isolation(board=41523161203939122082683632224299007, ply_count=0, locs=(None, None)),\n",
       "  57): 8,\n",
       " (Isolation(board=41523161203939122082683632224299007, ply_count=0, locs=(None, None)),\n",
       "  58): 6,\n",
       " (Isolation(board=41523161203939122082683632224299007, ply_count=0, locs=(None, None)),\n",
       "  59): 16,\n",
       " (Isolation(board=41523161203939122082683632224299007, ply_count=0, locs=(None, None)),\n",
       "  60): 4,\n",
       " (Isolation(board=41523161203939122082683632224299007, ply_count=0, locs=(None, None)),\n",
       "  61): 28,\n",
       " (Isolation(board=41523161203939122082683632224299007, ply_count=0, locs=(None, None)),\n",
       "  62): -14,\n",
       " (Isolation(board=41523161203939122082683632224299007, ply_count=0, locs=(None, None)),\n",
       "  65): 19,\n",
       " (Isolation(board=41523161203939122082683632224299007, ply_count=0, locs=(None, None)),\n",
       "  66): -17,\n",
       " (Isolation(board=41523161203939122082683632224299007, ply_count=0, locs=(None, None)),\n",
       "  67): -3,\n",
       " (Isolation(board=41523161203939122082683632224299007, ply_count=0, locs=(None, None)),\n",
       "  68): -4,\n",
       " (Isolation(board=41523161203939122082683632224299007, ply_count=0, locs=(None, None)),\n",
       "  69): 11,\n",
       " (Isolation(board=41523161203939122082683632224299007, ply_count=0, locs=(None, None)),\n",
       "  70): -4,\n",
       " (Isolation(board=41523161203939122082683632224299007, ply_count=0, locs=(None, None)),\n",
       "  71): 11,\n",
       " (Isolation(board=41523161203939122082683632224299007, ply_count=0, locs=(None, None)),\n",
       "  72): -4,\n",
       " (Isolation(board=41523161203939122082683632224299007, ply_count=0, locs=(None, None)),\n",
       "  73): -3,\n",
       " (Isolation(board=41523161203939122082683632224299007, ply_count=0, locs=(None, None)),\n",
       "  74): -17,\n",
       " (Isolation(board=41523161203939122082683632224299007, ply_count=0, locs=(None, None)),\n",
       "  75): 19,\n",
       " (Isolation(board=41523161203939122082683632224299007, ply_count=0, locs=(None, None)),\n",
       "  78): 10,\n",
       " (Isolation(board=41523161203939122082683632224299007, ply_count=0, locs=(None, None)),\n",
       "  79): -12,\n",
       " (Isolation(board=41523161203939122082683632224299007, ply_count=0, locs=(None, None)),\n",
       "  80): 6,\n",
       " (Isolation(board=41523161203939122082683632224299007, ply_count=0, locs=(None, None)),\n",
       "  81): 10,\n",
       " (Isolation(board=41523161203939122082683632224299007, ply_count=0, locs=(None, None)),\n",
       "  82): 5,\n",
       " (Isolation(board=41523161203939122082683632224299007, ply_count=0, locs=(None, None)),\n",
       "  83): 18,\n",
       " (Isolation(board=41523161203939122082683632224299007, ply_count=0, locs=(None, None)),\n",
       "  84): 5,\n",
       " (Isolation(board=41523161203939122082683632224299007, ply_count=0, locs=(None, None)),\n",
       "  85): 10,\n",
       " (Isolation(board=41523161203939122082683632224299007, ply_count=0, locs=(None, None)),\n",
       "  86): 6,\n",
       " (Isolation(board=41523161203939122082683632224299007, ply_count=0, locs=(None, None)),\n",
       "  87): -12,\n",
       " (Isolation(board=41523161203939122082683632224299007, ply_count=0, locs=(None, None)),\n",
       "  88): 10,\n",
       " (Isolation(board=41523161203939122082683632224299007, ply_count=0, locs=(None, None)),\n",
       "  91): 9,\n",
       " (Isolation(board=41523161203939122082683632224299007, ply_count=0, locs=(None, None)),\n",
       "  92): 0,\n",
       " (Isolation(board=41523161203939122082683632224299007, ply_count=0, locs=(None, None)),\n",
       "  93): 0,\n",
>>>>>>> 0fe3727601970b6db579ba0843d14c11d1b67874
       " (Isolation(board=41523161203939122082683632224299007, ply_count=0, locs=(None, None)),\n",
       "  94): 17,\n",
       " (Isolation(board=41523161203939122082683632224299007, ply_count=0, locs=(None, None)),\n",
<<<<<<< HEAD
       "  95): -17,\n",
       " (Isolation(board=41523161203939122082683632224299007, ply_count=0, locs=(None, None)),\n",
       "  96): 42,\n",
       " (Isolation(board=41523161203939122082683632224299007, ply_count=0, locs=(None, None)),\n",
       "  97): -17,\n",
=======
       "  95): -14,\n",
       " (Isolation(board=41523161203939122082683632224299007, ply_count=0, locs=(None, None)),\n",
       "  96): 8,\n",
       " (Isolation(board=41523161203939122082683632224299007, ply_count=0, locs=(None, None)),\n",
       "  97): -14,\n",
>>>>>>> 0fe3727601970b6db579ba0843d14c11d1b67874
       " (Isolation(board=41523161203939122082683632224299007, ply_count=0, locs=(None, None)),\n",
       "  98): 17,\n",
       " (Isolation(board=41523161203939122082683632224299007, ply_count=0, locs=(None, None)),\n",
<<<<<<< HEAD
       "  99): 9,\n",
       " (Isolation(board=41523161203939122082683632224299007, ply_count=0, locs=(None, None)),\n",
       "  100): 62,\n",
       " (Isolation(board=41523161203939122082683632224299007, ply_count=0, locs=(None, None)),\n",
       "  101): -1,\n",
       " (Isolation(board=41523161203939122082683632224299007, ply_count=0, locs=(None, None)),\n",
       "  104): 37,\n",
=======
       "  99): 0,\n",
       " (Isolation(board=41523161203939122082683632224299007, ply_count=0, locs=(None, None)),\n",
       "  100): 0,\n",
       " (Isolation(board=41523161203939122082683632224299007, ply_count=0, locs=(None, None)),\n",
       "  101): 9,\n",
       " (Isolation(board=41523161203939122082683632224299007, ply_count=0, locs=(None, None)),\n",
       "  104): 3,\n",
>>>>>>> 0fe3727601970b6db579ba0843d14c11d1b67874
       " (Isolation(board=41523161203939122082683632224299007, ply_count=0, locs=(None, None)),\n",
       "  105): 2,\n",
       " (Isolation(board=41523161203939122082683632224299007, ply_count=0, locs=(None, None)),\n",
<<<<<<< HEAD
       "  106): -56,\n",
       " (Isolation(board=41523161203939122082683632224299007, ply_count=0, locs=(None, None)),\n",
       "  107): -19,\n",
       " (Isolation(board=41523161203939122082683632224299007, ply_count=0, locs=(None, None)),\n",
       "  108): -13,\n",
       " (Isolation(board=41523161203939122082683632224299007, ply_count=0, locs=(None, None)),\n",
       "  109): 32,\n",
       " (Isolation(board=41523161203939122082683632224299007, ply_count=0, locs=(None, None)),\n",
       "  110): -13,\n",
       " (Isolation(board=41523161203939122082683632224299007, ply_count=0, locs=(None, None)),\n",
       "  111): -19,\n",
       " (Isolation(board=41523161203939122082683632224299007, ply_count=0, locs=(None, None)),\n",
       "  112): -56,\n",
=======
       "  106): -5,\n",
       " (Isolation(board=41523161203939122082683632224299007, ply_count=0, locs=(None, None)),\n",
       "  107): 25,\n",
       " (Isolation(board=41523161203939122082683632224299007, ply_count=0, locs=(None, None)),\n",
       "  108): 16,\n",
       " (Isolation(board=41523161203939122082683632224299007, ply_count=0, locs=(None, None)),\n",
       "  109): -2,\n",
       " (Isolation(board=41523161203939122082683632224299007, ply_count=0, locs=(None, None)),\n",
       "  110): 16,\n",
       " (Isolation(board=41523161203939122082683632224299007, ply_count=0, locs=(None, None)),\n",
       "  111): 25,\n",
       " (Isolation(board=41523161203939122082683632224299007, ply_count=0, locs=(None, None)),\n",
       "  112): -5,\n",
>>>>>>> 0fe3727601970b6db579ba0843d14c11d1b67874
       " (Isolation(board=41523161203939122082683632224299007, ply_count=0, locs=(None, None)),\n",
       "  113): 2,\n",
       " (Isolation(board=41523161203939122082683632224299007, ply_count=0, locs=(None, None)),\n",
<<<<<<< HEAD
       "  114): 37}"
=======
       "  114): 3}"
>>>>>>> 0fe3727601970b6db579ba0843d14c11d1b67874
      ]
     },
     "execution_count": 21,
     "metadata": {},
     "output_type": "execute_result"
    }
   ],
   "source": [
    "first"
   ]
  },
  {
   "cell_type": "code",
   "execution_count": 22,
   "metadata": {
    "collapsed": false
   },
   "outputs": [
    {
     "data": {
      "text/plain": [
<<<<<<< HEAD
       "{0: 37,\n",
       " 1: 2,\n",
       " 2: -56,\n",
       " 3: -19,\n",
       " 4: -13,\n",
       " 5: 32,\n",
       " 6: -13,\n",
       " 7: -19,\n",
       " 8: -56,\n",
       " 9: 2,\n",
       " 10: 37,\n",
       " 13: -1,\n",
       " 14: 62,\n",
       " 15: 9,\n",
       " 16: 17,\n",
       " 17: -17,\n",
       " 18: 42,\n",
       " 19: -17,\n",
       " 20: 17,\n",
       " 21: 9,\n",
       " 22: 62,\n",
       " 23: -1,\n",
       " 26: 23,\n",
       " 27: -23,\n",
       " 28: 12,\n",
       " 29: 59,\n",
       " 30: -85,\n",
       " 31: -52,\n",
       " 32: -85,\n",
       " 33: 59,\n",
       " 34: 12,\n",
       " 35: -23,\n",
       " 36: 23,\n",
       " 39: -39,\n",
       " 40: 30,\n",
       " 41: 39,\n",
       " 42: 20,\n",
       " 43: -14,\n",
       " 44: 82,\n",
       " 45: -14,\n",
       " 46: 20,\n",
       " 47: 39,\n",
       " 48: 30,\n",
       " 49: -39,\n",
       " 52: -98,\n",
       " 53: 6,\n",
       " 54: 30,\n",
       " 55: -94,\n",
       " 56: -54,\n",
       " 57: -132,\n",
       " 58: -54,\n",
       " 59: -94,\n",
       " 60: 30,\n",
       " 61: 6,\n",
       " 62: -98,\n",
       " 65: -39,\n",
       " 66: 30,\n",
       " 67: 39,\n",
       " 68: 20,\n",
       " 69: -14,\n",
       " 70: 82,\n",
       " 71: -14,\n",
       " 72: 20,\n",
       " 73: 39,\n",
       " 74: 30,\n",
       " 75: -39,\n",
       " 78: 23,\n",
       " 79: -23,\n",
       " 80: 12,\n",
       " 81: 59,\n",
       " 82: -85,\n",
       " 83: -52,\n",
       " 84: -85,\n",
       " 85: 59,\n",
       " 86: 12,\n",
       " 87: -23,\n",
       " 88: 23,\n",
       " 91: -1,\n",
       " 92: 62,\n",
       " 93: 9,\n",
       " 94: 17,\n",
       " 95: -17,\n",
       " 96: 42,\n",
       " 97: -17,\n",
       " 98: 17,\n",
       " 99: 9,\n",
       " 100: 62,\n",
       " 101: -1,\n",
       " 104: 37,\n",
       " 105: 2,\n",
       " 106: -56,\n",
       " 107: -19,\n",
       " 108: -13,\n",
       " 109: 32,\n",
       " 110: -13,\n",
       " 111: -19,\n",
       " 112: -56,\n",
       " 113: 2,\n",
       " 114: 37}"
=======
       "{0: 3,\n",
       " 1: -3,\n",
       " 2: -5,\n",
       " 3: 25,\n",
       " 4: 16,\n",
       " 5: -2,\n",
       " 6: 16,\n",
       " 7: 25,\n",
       " 8: -5,\n",
       " 9: -3,\n",
       " 10: 3,\n",
       " 13: 9,\n",
       " 14: 0,\n",
       " 15: 0,\n",
       " 16: 3,\n",
       " 17: -14,\n",
       " 18: 8,\n",
       " 19: -14,\n",
       " 20: 3,\n",
       " 21: 0,\n",
       " 22: 0,\n",
       " 23: 9,\n",
       " 26: 10,\n",
       " 27: -12,\n",
       " 28: 6,\n",
       " 29: 10,\n",
       " 30: 5,\n",
       " 31: 18,\n",
       " 32: 5,\n",
       " 33: 10,\n",
       " 34: 6,\n",
       " 35: -12,\n",
       " 36: 10,\n",
       " 39: 19,\n",
       " 40: -17,\n",
       " 41: -3,\n",
       " 42: -4,\n",
       " 43: 11,\n",
       " 44: -4,\n",
       " 45: 11,\n",
       " 46: -4,\n",
       " 47: -3,\n",
       " 48: -17,\n",
       " 49: 19,\n",
       " 52: -14,\n",
       " 53: 28,\n",
       " 54: 4,\n",
       " 55: 16,\n",
       " 56: 6,\n",
       " 57: 8,\n",
       " 58: 6,\n",
       " 59: 16,\n",
       " 60: 4,\n",
       " 61: 28,\n",
       " 62: -14,\n",
       " 65: 19,\n",
       " 66: -17,\n",
       " 67: -3,\n",
       " 68: -4,\n",
       " 69: 11,\n",
       " 70: -4,\n",
       " 71: 11,\n",
       " 72: -4,\n",
       " 73: -3,\n",
       " 74: -17,\n",
       " 75: 19,\n",
       " 78: 10,\n",
       " 79: -12,\n",
       " 80: 6,\n",
       " 81: 10,\n",
       " 82: 5,\n",
       " 83: 18,\n",
       " 84: 5,\n",
       " 85: 10,\n",
       " 86: 6,\n",
       " 87: -12,\n",
       " 88: 10,\n",
       " 91: 9,\n",
       " 92: 0,\n",
       " 93: 0,\n",
       " 94: 3,\n",
       " 95: -14,\n",
       " 96: 8,\n",
       " 97: -14,\n",
       " 98: 3,\n",
       " 99: 0,\n",
       " 100: 0,\n",
       " 101: 9,\n",
       " 104: 3,\n",
       " 105: -3,\n",
       " 106: -5,\n",
       " 107: 25,\n",
       " 108: 16,\n",
       " 109: -2,\n",
       " 110: 16,\n",
       " 111: 25,\n",
       " 112: -5,\n",
       " 113: -3,\n",
       " 114: 3}"
>>>>>>> 0fe3727601970b6db579ba0843d14c11d1b67874
      ]
     },
     "execution_count": 22,
     "metadata": {},
     "output_type": "execute_result"
    }
   ],
   "source": [
    "pos_value = {key[1]:value for key,value in first.items()}\n",
    "pos_value"
   ]
  },
  {
   "cell_type": "code",
   "execution_count": 23,
   "metadata": {
    "collapsed": false
   },
   "outputs": [
    {
     "data": {
      "text/plain": [
<<<<<<< HEAD
       "{0: 37,\n",
       " 1: 2,\n",
       " 2: -56,\n",
       " 3: -19,\n",
       " 4: -13,\n",
       " 5: 32,\n",
       " 6: -13,\n",
       " 7: -19,\n",
       " 8: -56,\n",
       " 9: 2,\n",
       " 10: 37,\n",
       " 11: 0,\n",
       " 12: 0,\n",
       " 13: -1,\n",
       " 14: 62,\n",
       " 15: 9,\n",
       " 16: 17,\n",
       " 17: -17,\n",
       " 18: 42,\n",
       " 19: -17,\n",
       " 20: 17,\n",
       " 21: 9,\n",
       " 22: 62,\n",
       " 23: -1,\n",
       " 24: 0,\n",
       " 25: 0,\n",
       " 26: 23,\n",
       " 27: -23,\n",
       " 28: 12,\n",
       " 29: 59,\n",
       " 30: -85,\n",
       " 31: -52,\n",
       " 32: -85,\n",
       " 33: 59,\n",
       " 34: 12,\n",
       " 35: -23,\n",
       " 36: 23,\n",
       " 37: 0,\n",
       " 38: 0,\n",
       " 39: -39,\n",
       " 40: 30,\n",
       " 41: 39,\n",
       " 42: 20,\n",
       " 43: -14,\n",
       " 44: 82,\n",
       " 45: -14,\n",
       " 46: 20,\n",
       " 47: 39,\n",
       " 48: 30,\n",
       " 49: -39,\n",
       " 50: 0,\n",
       " 51: 0,\n",
       " 52: -98,\n",
       " 53: 6,\n",
       " 54: 30,\n",
       " 55: -94,\n",
       " 56: -54,\n",
       " 57: -132,\n",
       " 58: -54,\n",
       " 59: -94,\n",
       " 60: 30,\n",
       " 61: 6,\n",
       " 62: -98,\n",
       " 63: 0,\n",
       " 64: 0,\n",
       " 65: -39,\n",
       " 66: 30,\n",
       " 67: 39,\n",
       " 68: 20,\n",
       " 69: -14,\n",
       " 70: 82,\n",
       " 71: -14,\n",
       " 72: 20,\n",
       " 73: 39,\n",
       " 74: 30,\n",
       " 75: -39,\n",
       " 76: 0,\n",
       " 77: 0,\n",
       " 78: 23,\n",
       " 79: -23,\n",
       " 80: 12,\n",
       " 81: 59,\n",
       " 82: -85,\n",
       " 83: -52,\n",
       " 84: -85,\n",
       " 85: 59,\n",
       " 86: 12,\n",
       " 87: -23,\n",
       " 88: 23,\n",
       " 89: 0,\n",
       " 90: 0,\n",
       " 91: -1,\n",
       " 92: 62,\n",
       " 93: 9,\n",
       " 94: 17,\n",
       " 95: -17,\n",
       " 96: 42,\n",
       " 97: -17,\n",
       " 98: 17,\n",
       " 99: 9,\n",
       " 100: 62,\n",
       " 101: -1,\n",
       " 102: 0,\n",
       " 103: 0,\n",
       " 104: 37,\n",
       " 105: 2,\n",
       " 106: -56,\n",
       " 107: -19,\n",
       " 108: -13,\n",
       " 109: 32,\n",
       " 110: -13,\n",
       " 111: -19,\n",
       " 112: -56,\n",
       " 113: 2,\n",
       " 114: 37}"
=======
       "{0: 3,\n",
       " 1: -3,\n",
       " 2: -5,\n",
       " 3: 25,\n",
       " 4: 16,\n",
       " 5: -2,\n",
       " 6: 16,\n",
       " 7: 25,\n",
       " 8: -5,\n",
       " 9: -3,\n",
       " 10: 3,\n",
       " 11: 0,\n",
       " 12: 0,\n",
       " 13: 9,\n",
       " 14: 0,\n",
       " 15: 0,\n",
       " 16: 3,\n",
       " 17: -14,\n",
       " 18: 8,\n",
       " 19: -14,\n",
       " 20: 3,\n",
       " 21: 0,\n",
       " 22: 0,\n",
       " 23: 9,\n",
       " 24: 0,\n",
       " 25: 0,\n",
       " 26: 10,\n",
       " 27: -12,\n",
       " 28: 6,\n",
       " 29: 10,\n",
       " 30: 5,\n",
       " 31: 18,\n",
       " 32: 5,\n",
       " 33: 10,\n",
       " 34: 6,\n",
       " 35: -12,\n",
       " 36: 10,\n",
       " 37: 0,\n",
       " 38: 0,\n",
       " 39: 19,\n",
       " 40: -17,\n",
       " 41: -3,\n",
       " 42: -4,\n",
       " 43: 11,\n",
       " 44: -4,\n",
       " 45: 11,\n",
       " 46: -4,\n",
       " 47: -3,\n",
       " 48: -17,\n",
       " 49: 19,\n",
       " 50: 0,\n",
       " 51: 0,\n",
       " 52: -14,\n",
       " 53: 28,\n",
       " 54: 4,\n",
       " 55: 16,\n",
       " 56: 6,\n",
       " 57: 8,\n",
       " 58: 6,\n",
       " 59: 16,\n",
       " 60: 4,\n",
       " 61: 28,\n",
       " 62: -14,\n",
       " 63: 0,\n",
       " 64: 0,\n",
       " 65: 19,\n",
       " 66: -17,\n",
       " 67: -3,\n",
       " 68: -4,\n",
       " 69: 11,\n",
       " 70: -4,\n",
       " 71: 11,\n",
       " 72: -4,\n",
       " 73: -3,\n",
       " 74: -17,\n",
       " 75: 19,\n",
       " 76: 0,\n",
       " 77: 0,\n",
       " 78: 10,\n",
       " 79: -12,\n",
       " 80: 6,\n",
       " 81: 10,\n",
       " 82: 5,\n",
       " 83: 18,\n",
       " 84: 5,\n",
       " 85: 10,\n",
       " 86: 6,\n",
       " 87: -12,\n",
       " 88: 10,\n",
       " 89: 0,\n",
       " 90: 0,\n",
       " 91: 9,\n",
       " 92: 0,\n",
       " 93: 0,\n",
       " 94: 3,\n",
       " 95: -14,\n",
       " 96: 8,\n",
       " 97: -14,\n",
       " 98: 3,\n",
       " 99: 0,\n",
       " 100: 0,\n",
       " 101: 9,\n",
       " 102: 0,\n",
       " 103: 0,\n",
       " 104: 3,\n",
       " 105: -3,\n",
       " 106: -5,\n",
       " 107: 25,\n",
       " 108: 16,\n",
       " 109: -2,\n",
       " 110: 16,\n",
       " 111: 25,\n",
       " 112: -5,\n",
       " 113: -3,\n",
       " 114: 3}"
>>>>>>> 0fe3727601970b6db579ba0843d14c11d1b67874
      ]
     },
     "execution_count": 23,
     "metadata": {},
     "output_type": "execute_result"
    }
   ],
   "source": [
    "filled_vals = dict(zip(range(115),[0]*115))\n",
    "filled_vals.update(pos_value)\n",
    "filled_vals"
   ]
  },
  {
   "cell_type": "code",
   "execution_count": 24,
   "metadata": {
    "collapsed": true
   },
   "outputs": [],
   "source": [
    "W = 11\n",
    "x = list(filled_vals.values())\n",
    "rows = [x[i*(W+2):(i+1)*(W+2)] \n",
    "           for i in range(len(x) // (W+2) + (len(x) % (W+2) != 0))]"
   ]
  },
  {
   "cell_type": "code",
   "execution_count": 25,
   "metadata": {
    "collapsed": false
   },
   "outputs": [
    {
     "data": {
      "text/plain": [
<<<<<<< HEAD
       "[[37, 2, -56, -19, -13, 32, -13, -19, -56, 2, 37, 0, 0],\n",
       " [-1, 62, 9, 17, -17, 42, -17, 17, 9, 62, -1, 0, 0],\n",
       " [23, -23, 12, 59, -85, -52, -85, 59, 12, -23, 23, 0, 0],\n",
       " [-39, 30, 39, 20, -14, 82, -14, 20, 39, 30, -39, 0, 0],\n",
       " [-98, 6, 30, -94, -54, -132, -54, -94, 30, 6, -98, 0, 0],\n",
       " [-39, 30, 39, 20, -14, 82, -14, 20, 39, 30, -39, 0, 0],\n",
       " [23, -23, 12, 59, -85, -52, -85, 59, 12, -23, 23, 0, 0],\n",
       " [-1, 62, 9, 17, -17, 42, -17, 17, 9, 62, -1, 0, 0],\n",
       " [37, 2, -56, -19, -13, 32, -13, -19, -56, 2, 37]]"
=======
       "[[3, -3, -5, 25, 16, -2, 16, 25, -5, -3, 3, 0, 0],\n",
       " [9, 0, 0, 3, -14, 8, -14, 3, 0, 0, 9, 0, 0],\n",
       " [10, -12, 6, 10, 5, 18, 5, 10, 6, -12, 10, 0, 0],\n",
       " [19, -17, -3, -4, 11, -4, 11, -4, -3, -17, 19, 0, 0],\n",
       " [-14, 28, 4, 16, 6, 8, 6, 16, 4, 28, -14, 0, 0],\n",
       " [19, -17, -3, -4, 11, -4, 11, -4, -3, -17, 19, 0, 0],\n",
       " [10, -12, 6, 10, 5, 18, 5, 10, 6, -12, 10, 0, 0],\n",
       " [9, 0, 0, 3, -14, 8, -14, 3, 0, 0, 9, 0, 0],\n",
       " [3, -3, -5, 25, 16, -2, 16, 25, -5, -3, 3]]"
>>>>>>> 0fe3727601970b6db579ba0843d14c11d1b67874
      ]
     },
     "execution_count": 25,
     "metadata": {},
     "output_type": "execute_result"
    }
   ],
   "source": [
    "rows"
   ]
  },
  {
   "cell_type": "code",
   "execution_count": 26,
   "metadata": {
    "collapsed": false
   },
   "outputs": [
    {
     "data": {
      "text/plain": [
<<<<<<< HEAD
       "[[37, 2, -56, -19, -13, 32, -13, -19, -56, 2, 37],\n",
       " [-1, 62, 9, 17, -17, 42, -17, 17, 9, 62, -1],\n",
       " [23, -23, 12, 59, -85, -52, -85, 59, 12, -23, 23],\n",
       " [-39, 30, 39, 20, -14, 82, -14, 20, 39, 30, -39],\n",
       " [-98, 6, 30, -94, -54, -132, -54, -94, 30, 6, -98],\n",
       " [-39, 30, 39, 20, -14, 82, -14, 20, 39, 30, -39],\n",
       " [23, -23, 12, 59, -85, -52, -85, 59, 12, -23, 23],\n",
       " [-1, 62, 9, 17, -17, 42, -17, 17, 9, 62, -1],\n",
       " [37, 2, -56, -19, -13, 32, -13, -19, -56, 2, 37]]"
=======
       "[[3, -3, -5, 25, 16, -2, 16, 25, -5, -3, 3],\n",
       " [9, 0, 0, 3, -14, 8, -14, 3, 0, 0, 9],\n",
       " [10, -12, 6, 10, 5, 18, 5, 10, 6, -12, 10],\n",
       " [19, -17, -3, -4, 11, -4, 11, -4, -3, -17, 19],\n",
       " [-14, 28, 4, 16, 6, 8, 6, 16, 4, 28, -14],\n",
       " [19, -17, -3, -4, 11, -4, 11, -4, -3, -17, 19],\n",
       " [10, -12, 6, 10, 5, 18, 5, 10, 6, -12, 10],\n",
       " [9, 0, 0, 3, -14, 8, -14, 3, 0, 0, 9],\n",
       " [3, -3, -5, 25, 16, -2, 16, 25, -5, -3, 3]]"
>>>>>>> 0fe3727601970b6db579ba0843d14c11d1b67874
      ]
     },
     "execution_count": 26,
     "metadata": {},
     "output_type": "execute_result"
    }
   ],
   "source": [
    "for i in range(len(rows)-1):\n",
    "    rows[i] =rows[i][:-2]\n",
    "rows"
   ]
  },
  {
   "cell_type": "code",
   "execution_count": 27,
   "metadata": {
    "collapsed": false
   },
   "outputs": [
    {
     "data": {
      "text/plain": [
<<<<<<< HEAD
       "array([[  37,    2,  -56,  -19,  -13,   32,  -13,  -19,  -56,    2,   37],\n",
       "       [  -1,   62,    9,   17,  -17,   42,  -17,   17,    9,   62,   -1],\n",
       "       [  23,  -23,   12,   59,  -85,  -52,  -85,   59,   12,  -23,   23],\n",
       "       [ -39,   30,   39,   20,  -14,   82,  -14,   20,   39,   30,  -39],\n",
       "       [ -98,    6,   30,  -94,  -54, -132,  -54,  -94,   30,    6,  -98],\n",
       "       [ -39,   30,   39,   20,  -14,   82,  -14,   20,   39,   30,  -39],\n",
       "       [  23,  -23,   12,   59,  -85,  -52,  -85,   59,   12,  -23,   23],\n",
       "       [  -1,   62,    9,   17,  -17,   42,  -17,   17,    9,   62,   -1],\n",
       "       [  37,    2,  -56,  -19,  -13,   32,  -13,  -19,  -56,    2,   37]])"
=======
       "array([[  3,  -3,  -5,  25,  16,  -2,  16,  25,  -5,  -3,   3],\n",
       "       [  9,   0,   0,   3, -14,   8, -14,   3,   0,   0,   9],\n",
       "       [ 10, -12,   6,  10,   5,  18,   5,  10,   6, -12,  10],\n",
       "       [ 19, -17,  -3,  -4,  11,  -4,  11,  -4,  -3, -17,  19],\n",
       "       [-14,  28,   4,  16,   6,   8,   6,  16,   4,  28, -14],\n",
       "       [ 19, -17,  -3,  -4,  11,  -4,  11,  -4,  -3, -17,  19],\n",
       "       [ 10, -12,   6,  10,   5,  18,   5,  10,   6, -12,  10],\n",
       "       [  9,   0,   0,   3, -14,   8, -14,   3,   0,   0,   9],\n",
       "       [  3,  -3,  -5,  25,  16,  -2,  16,  25,  -5,  -3,   3]])"
>>>>>>> 0fe3727601970b6db579ba0843d14c11d1b67874
      ]
     },
     "execution_count": 27,
     "metadata": {},
     "output_type": "execute_result"
    }
   ],
   "source": [
    "rows = np.array(rows)\n",
    "rows"
   ]
  },
  {
   "cell_type": "code",
   "execution_count": 28,
   "metadata": {
    "collapsed": false,
    "scrolled": true
   },
   "outputs": [
    {
     "data": {
      "text/plain": [
<<<<<<< HEAD
       "<matplotlib.axes._subplots.AxesSubplot at 0x7f81ba9ae748>"
=======
       "<matplotlib.axes._subplots.AxesSubplot at 0x11ae5b9e8>"
>>>>>>> 0fe3727601970b6db579ba0843d14c11d1b67874
      ]
     },
     "execution_count": 28,
     "metadata": {},
     "output_type": "execute_result"
    },
    {
     "data": {
<<<<<<< HEAD
      "image/png": "iVBORw0KGgoAAAANSUhEUgAAAccAAAFKCAYAAABo0pS0AAAABHNCSVQICAgIfAhkiAAAAAlwSFlzAAALEgAACxIB0t1+/AAAADl0RVh0U29mdHdhcmUAbWF0cGxvdGxpYiB2ZXJzaW9uIDIuMS4xLCBodHRwOi8vbWF0cGxvdGxpYi5vcmcvAOZPmwAAHkdJREFUeJzt3XtwVfX57/HPTkK433LZgaDI7QAaBUOhFTCAJsjFX5ECkUwgVgfaUi4H/IlyERFFY2MZrS2gCAgl6kATWnVGepJ2BhDbGERqkVKkeKsGCAmBAkloTrLX+cNjfmSBG9hdl71X3q+ZNSWLuJ9nN7A/PN918xmGYQgAADSKcrsBAADCDeEIAIAJ4QgAgAnhCACACeEIAIAJ4QgAgEmM3QXqSrbbXSKowMCxrtaXpF+UHnO1/pSbu7haX5Jax7j777Ckz/e4Wr+8R5qr9SWptj7gav3CgydcrS9JC76X7Gr9qL/+H1frS1Ls0Mm2vfYsX4+Q/9uXjM+tasMStocjAKB5iPa53YF1WFYFAMCEyREAYIlon3dGR8IRAGAJLy2rEo4AAEswOQIAYMLkCACACZMjAAAmXpocuZQDAAATJkcAgCVYVgUAwMRLS5GEIwDAEs1ucqyurlZlZaV8Pp8SEhLUpk0bu/sCAEQYL52QEzQcP/roI61cuVJnz55VfHy8DMPQyZMnlZSUpOXLl6tfv35O9QkACHPNZnLMzc3VM888o969ezfZf+jQIT355JN67bXXbG0OAAA3BA1HwzAuCUZJuummm9TQ0GBbUwCAyNNsllUHDhyoWbNmKSMjQ3FxcZKkyspKFRUV6bvf/a4jDQIAIkOzWVZdsmSJ3n//fZWUlOjAgQMyDENJSUmaO3euUlNTneoRABABms3kKElDhgzRkCFDnOgFABDBms3kCADA1WpWkyMAAFfDS+Hopbv9AABgCSZHAIAlOOYIAICJl5ZVCUcAgCWYHAEAMGFyBADAhMkRAAATL02OXMoBAIAJkyMAwBIsqwIAYBLloXBkWRUAYAlftC/k7UqOHDmijIwMvfrqq5Kk48ePKycnR9nZ2Zo/f77q6uokSW+99ZYmT56szMxMFRYWhvxeCEcAgCWion0hb8HU1NRo5cqVGjp0aOO+X/7yl8rOztbrr7+ubt26qbCwUDU1NVqzZo02b96s/Px8bdiwQWfOnAnpvdi+rNqQerfdJYI6t3qRq/Ul6b9nLHG1flTtMVfrS9KXvmRX6zecOu5q/brrA67Wl6Qe/9fdPwf/fWtHV+tL0pm1S12t335unqv17eaLtmfeio2N1fr167V+/frGfaWlpXriiSckSenp6dq8ebN69uypW265Re3bt5ckDR48WPv379edd955zTU55ggAsMTVLI+GIiYmRjExTeOqtrZWsbGxkqTExERVVFSosrJScXFxjd+TkJCgioqKkGqyrAoAiDi+i07+MQyjyf9evN8X4klChCMAwBJ2HXO8nNatW+vChQuSpPLycvn9fiUlJamysrLxe06ePKnExMTQ3ktI/xUAACa+qKiQt2s1bNgwFRUVSZKKi4uVlpamgQMH6qOPPtLZs2dVXV2t/fv3a/DgwSG9F445AgAsEcoEeDUOHjyovLw8lZWVKSYmRkVFRVq1apUWL16sbdu2KTk5WRMnTlSLFi300EMPacaMGfL5fJozZ07jyTnXinAEAFjCrhNybr75ZuXn51+yf9OmTZfsGzt2rMaOHfsf1yQcAQCWsOtSDjcQjgAAS9i1rOoG78Q8AAAWYXIEAFjCF+WdyZFwBABYIopjjgAANGXX2apuCDkcz549qw4dOljZCwAggnkpHEOegefOnWtlHwCACBcVHRXyFm6CTo6vvfbat/5eeXm55c0AACKXlybHoOG4efNmDR06VH6//5Lfq6+vt60pAADcFDQc16xZo6eeekrLli1rfG7WN0pLS21tDAAQWaKay6Ucffv21bp16y55yKQkLV682LamAACRp1ndPq5169aX3Z+SkmJ5MwCAyOWl28dxnSMAwBLN5oQcAACuVrNaVgUA4Gp4aVnVOzEPAIBFmBwBAJbgqRwAAJiE423gQkU4AgAswdmqAACYcLYqAAAmvijCEQCAJrx0zNE77wQAAIswOQIALMExRwAATAjHaxB7/JDdJYKqnL7S1fqS1Ln+jKv1//XbDa7Wl6Sc6vGu1s8aMcrV+ls37nO1viS92XaHq/U7TJ3nan3J/c+DeJc/DyVJPQfZ9tKckAMAgIkvOtrtFixDOAIALMGyKgAAJlEeWlb1zjsBAMAiTI4AAEuwrAoAgAnhCACACZdyAABgwuQIAIAJ4QgAgAlP5QAAwMOYHAEAlmh2J+QYhiGfz9dk34kTJ9SlSxdbmgIARB4vHXMM+k7+8Ic/6I477tDQoUO1aNEinT9/vvH3HnnkEdubAwBEDl90VMhbuAna0csvv6zf/e53Kikp0aBBgzRjxgydO3dO0tfTJAAA3/BFRYW8hZugy6rR0dHq1KmTJGnq1KmKj4/XjBkz9NJLL12yzAoAaN6imssjqwYNGqSf/OQneuGFF9SqVStlZGSoZcuWuv/++3XmjLsP8AUAhJdwXB4NVdBwfOSRR1RaWqqWLVs27ktLS1Nqaqp27HD3qeIAANjlimerfu9737tkX7t27XTvvffa0hAAIDI1m8kRAICrFY4n1oSKcAQAWILJEQAAE7vC8eDBg5o9e7ZuuOEGSVLfvn01c+ZMPfLII2poaFBiYqJ+/vOfKzY21rKahCMAwBJ2LavW1NRozJgxevTRRxv3LVmyRNnZ2Ro3bpyeffZZFRYWKjs727Ka3pmBAQCu8kVFh7wFU11dfcm+0tJSpaenS5LS09NVUlJi6XthcgQAhLWamhp98MEHmjlzpmprazVv3jzV1tY2LqMmJiaqoqLC0pqEIwDAGleYAEPVv39/zZkzR+np6frss8/0wAMPqL6+vvH37bidKeEIALCGTccce/furd69e0uSevbsqYSEBB0/flwXLlxQq1atVF5eLr/fb2lNjjkCACzhi44OeQumsLBQW7ZskSRVVFTo1KlTmjRpkoqKiiRJxcXFSktLs/S9MDkCAKxh07Lq6NGjtXDhQhUVFamurk4rVqzQjTfeqEWLFmnbtm1KTk7WxIkTLa1JOAIArGFTOHbs2FHr16+/ZP+mTZtsqScRjgAAi3jp9nHeeScAAFjE9snx9xe62V0iqHHV77taX5IaTlt7/c216nTPfa7Wl6StbXu6Wv/0HHefIjNxzW9crS9JnaoTXK3fcPjPrtaXpH6dE12t//vom12tL0n/ZeeL27Ss6gaWVQEA1iAcAQBoykvHHAlHAIA1mBwBADAhHAEAaOpKd7qJJN5ZIAYAwCJMjgAAa3BCDgAAJhxzBACgKR/hCACACcuqAAA0xeQIAICZh8LxmmfgqqoqO/oAACBsBA3HXbt2acyYMbr//vt15MgRTZgwQTk5Obrzzju1e/dup3oEAESCqKjQtzATdFn1xRdf1KZNm3Ts2DHNmjVLa9euVf/+/VVZWalZs2Zp5MiRTvUJAAhzXrpDTtBwjI2NVXJyspKTk+X3+9W/f39JUkJCglq2bOlIgwCACNFcjjnGx8dr48aNkqStW7dKkk6cOKHc3Fx16dLF/u4AAJEjKjr0LcwEDcef/exn6tq1a5N9p06dUnJysnJzc21tDAAQWXxRUSFv4SbosmqrVq00fvz4JvtSUlKUkpJia1MAgAgUhhNgqMIvrgEAcBk3AQAAWMPnnXmLcAQAWINwBACgKYNwBADAhHAEAMDE53O7A8sQjgAAa4Th9Yqh8s47AQDAIkyOAABLcEIOAABmhCMAACaEIwAAJoQjAABNcczxGixav9fuEkGNXjHc1fqSFKO/uFr/Oy9+6Wp9SbpvXBtX6y8+7O7zR3/2t3JX60vSlt+7++fgg+xEV+tLUn33VFfrL1rxJ1frS9J/Pfd9+17cQ+HonXcCAIBFWFYFAFiDO+QAAGDioWVVwhEAYAlOyAEAwMxD91YlHAEA1mByBADAxEPh6J13AgCARZgcAQDW8NDkSDgCACzB2aoAAJgRjgAAmHjoDjnXFPMlJSV29QEAiHS+qNC3K8jNzdXUqVOVlZWlAwcO2P5WvnVyfOONN5p8bRiGXnzxRc2ePVuSNHHiRHs7AwBEFLuOOe7du1dffPGFtm3bpqNHj2rJkiUqKCiwpdY3vjUcV69erc6dO2vkyJGN+/7973/rq6++srUhAAAuVlJSooyMDElSnz59dPbsWZ0/f17t2rWzrea3huPbb7+ttWvX6uOPP9bixYvVrVs37dmzR3PnzrWtGQBABLNpcqysrFRKSkrj1/Hx8aqoqHAnHFu2bKkHH3xQn376qZ588kmlpqYqEAjY1ggAILIZNp2QYxjGJV/7bD7554ox36tXL61bt05dunTRddddZ2szAIDIZRihb8EkJSWpsrKy8euTJ08qISHB1vdy1TPwxIkT9fzzz9vZCwAgggUMI+QtmOHDh6uoqEiSdOjQIfn9fluXVCWucwQAWOQKA2DIBg0apJSUFGVlZcnn8+nxxx+3qdL/IBwBAJYI2JWOkhYuXGjfi1+Gd+71AwCARZgcAQCWMJ9VGskIRwCAJexcVnUa4QgAsISHspFwBABYg8kRAAATjjkCAGDipRuMcikHAAAmTI4AAEt4aFWVcAQAWIMTcgAAMOGEnGuQ96Pv2l0iqJh//sXV+pLUcLrC1fof/DTlyt9ks+Ntk1ytP7r/CVfrd05x9/1L0vweNa7Wb/j8b67Wl6QYuft54Pbnod28dEIOkyMAwBIeGhwJRwCANa70XMZIwqUcAACYMDkCACzhnbmRcAQAWIRLOQAAMPHQIUfCEQBgjYCHFlYJRwCAJbw0OXK2KgAAJkyOAABLcEIOAAAmXlpWJRwBAJbghBwAAEy8NDle0wk59fX1KisrU319vV39AAAiVMAwQt7CTdBwfOqppxp/XVpaqtGjR2vBggW66667tGfPHtubAwBEjoZA6Fu4Cbqs+vHHHzf+evXq1dq0aZN69OihiooKzZ07V2lpabY3CACA04KGo8/na/x169at1aNHD0lSYmKiWrRoYWtjAIDIEo7Lo6EKGo5ffPGFnnnmGRmGoVOnTmnnzp264447lJ+frzZt2jjVIwAgAjQ0l3Bcu3atampqVF1drVtvvVU33HCDJKlNmzZatWqVIw0CACJDs5kcU1JSLrt/8uTJtjQDAIhc4XhiTai4zhEAYIlmMzkCAHC1vHTMkadyAABgwuQIALAET+UAAMCkwUPpSDgCACzBCTkAAJg0eCcbCUcAgDWYHAEAMPHSMUcu5QAAwITJEQBgCZZVAQAw4YQcAABMmByvwbhWZXaXCOrj1kNcrS9J/yvpjKv1z2z7lav1JSmrery79f/3Glfrb13/vqv1JenNtjtcrd9h6jxX60vSxw2dXK0/rvaoq/W/lmTbKwc8dEIOkyMAwBIsqwIAYOLksmpRUZFWrVqlLl26SJKGDRumn/70pzp8+LBWrFghSerXr5+eeOKJkF6fcAQARJyamhpNmzZN999/f5P9Tz/9tJYuXaoBAwZo/vz52r17t0aOHHnNr891jgAASzQYRsjbtaqurr5kX11dncrKyjRgwABJUnp6ukpKSkJ6L0yOAABLOHlCTk1NjXbv3q133nlHhmFo0aJF6ty5szp06ND4PYmJiaqoqAjp9QlHAIAl7Dohp6CgQAUFBU32ZWRkaN68ebrtttu0b98+Pfzww9qwYUOT7zH+g2OghCMAwBJ2nZCTmZmpzMzMb/39wYMHq6qqSp07d9aZM/9z6Vx5ebn8fn9INTnmCACwhJPHHNesWaOioiJJ0pEjRxQXF6fY2Fj16tVL+/btkyQVFxcrLS0tpPfC5AgAsISTT+W45557tGTJEuXn56u+vl5PP/20JGnp0qVavny5AoGABg4cqGHDhoX0+oQjACDiXHfddcrPz79kf58+ffT666//x69POAIALOGl5zkSjgAASzTrcKyqqlJcXJwdvQAAIpiXwjHo2arvvPOOli9fLkkqKSnRHXfcofvuu0933nmndu3a5UR/AIAI0RAwQt7CTdDJ8YUXXtC6deskfX3a7JYtW3T99derqqpKs2bN0qhRo5zoEQAQAcIx5EIVNBzr6+vVtm1bSV/fhqdbt26SpLi4OLVs2dL+7gAAEaPZhOOMGTM0ceJEDR8+XB07dtScOXOUmpqq0tJSff/733eqRwAAHBU0HCdMmKARI0boz3/+s8rKypScnKyEhATl5uYqKcm+p0kDACJPs5kcJalTp04aP368E70AACJYswpHAACuBuEIAIBJPeEIAEBTTI4AAJh4KRx5niMAACZMjgAAS4Ty0OJwRTgCACzhpWVVwhEAYAnCEQAAE8IRAACThkDA7RYsQzgCACzhpcmRSzkAADBhcgQAWMJLk6Pt4VjX9Sa7SwSVsHqRq/UlyZixxNX6HSfNdLW+JOXHJrtaP/nDQlfr3z1jiqv1Jaljnbs/g0BMrKv1JSnh14+5Wr9ubp6r9SWptY2vzb1VAQAwYXIEAMCEcAQAwIRwBADAxEvhyKUcAACYMDkCACzhpcmRcAQAWMIgHAEAaCpAOAIA0JTBw44BAGiKZVUAAEy8tKzKpRwAAJgwOQIALGF451nHwSfHQYMGaeXKlTp16pRT/QAAIpRhGCFv4Sbo5JiSkqKxY8fqoYceUteuXTVp0iSlpqYqJoaBEwDQlJeOOQZNOZ/PpyFDhmjz5s366KOPVFBQoMcee0xt27ZVfHy8Xn75Zaf6BACEuWZzturFo+4tt9yiW265RZJ08uRJVVRU2NsZACCiNJtwvOeeey673+/3y+/329IQACAyBcLw2GGogp6QM2XKFKf6AAAgbHBmDQDAEs1mWRUAgKtFOAIAYNJsLuUAAOBqhePF/KEiHAEAlvDS7eMIRwCAJby0rMpTOQAAEWnv3r0aOnSodu7c2bjv8OHDysrKUlZWlh5//PHG/Rs2bNCUKVOUmZmp3bt3X/G1mRwBAJZw8mzVf/7zn9q0aZO+853vNNn/9NNPa+nSpRowYIDmz5+v3bt3q1evXtqxY4e2bt2q8+fPKysrS7fffruio6O/9fWZHAEAljACRsjbtUpMTNTq1avVrl27xn11dXUqKyvTgAEDJEnp6ekqKSlRaWmp0tLSFBsbq7i4OHXr1k1Hjx4N+vqEIwDAEgHDCHm7Vq1bt75k8jt9+rQ6dOjQ+HViYqIqKipUWVmpuLi4xv0JCQlXvD84y6oAAEvYtaxaUFCggoKCJvvmzZuntLS04P38/9A1X2JiGIZ8Pl/Q/5ZwBABYwq5wzMzMVGZm5hW/Ly4uTmfOnGn8ury8XH6/X0lJSfrss8+a7E9MTAz6WiyrAgAsEQgYIW9WaNGihXr16qV9+/ZJkoqLi5WWlqbbbrtNu3btUl1dncrLy3Xy5En16dMn6GvZPjlG/+Vtu0sE1WF2rqv1Jem50mOu1p9yc7Kr9SWpdbS7/w6Lju/qav1Yl9+/JH3ewt0/B4UfnnC1viQtcPnzIMrlz0NJ0tDJbndgiV27dmnjxo369NNP9be//U35+fl65ZVXtHTpUi1fvlyBQEADBw7UsGHDJEn33nuvpk+fLp/PpxUrVigqKvjfSZZVAQCWcPL2caNGjdKoUaMu2d+nTx+9/vrrl+zPyclRTk7OVb8+4QgAsARP5QAAwMRLt48jHAEAljACDW63YBnCEQBgCcIRAAATL4Wj++eXAwAQZpgcAQCWMBq8MzkSjgAAS3hpWZVwBABYgnAEAMCEcAQAwKRZh2MgELjiDVsBAM2Pl8IxaMq9++67GjdunKZNm6YDBw5oypQpGjlypMaOHau9e/c61SMAAI4KOjmuWbNGv/71r/Wvf/1LOTk52rx5s/r376+ysjI9/PDDl73zOQCgeQp4aHIMGo4xMTHy+/3y+/3q0KGD+vfvL0nq1q2boqOjHWkQABAZvLSsGjQcO3XqpOeff16nT59W9+7dtXz5cqWlpenDDz9UfHy8Uz0CACKAl8Ix6DHHvLw8+f1+3XbbbdqwYYMGDx6sP/3pT0pISFBurrtP1AYAhBejoSHkLdwEnRzbtGmjadOmNX49YcIETZgwwfamAACRx0uTI9c5AgAs4aVw5IJFAABMmBwBAJbw0uRIOAIALGEEAm63YBnCEQBgCSZHAABMCEcAAEyaze3jAAC4WuF4MX+ouJQDAAATJkcAgCU45ggAgAnhCACACeEIAICJl8LRZxiG4XYTAACEE85WBQDAhHAEAMCEcAQAwIRwBADAhHAEAMCEcAQAwCSswzE3N1dTp05VVlaWDhw44EoPR44cUUZGhl599VVX6j/77LOaOnWqJk+erOLiYkdr19bWav78+Zo+fboyMzO1c+dOR+tf7MKFC0pPT9dvf/tbR+sePHhQI0aMUE5OjnJycrRy5UpH63/jrbfe0oQJEzRp0iTt3r3b0doFBQWN7z8nJ0epqamO1pek6upqzZ07Vzk5OcrKytKePXscrR8IBPTYY48pKytLOTk5+uSTTxyrbf4MOn78uHJycpSdna358+errq7OsV6aFSNMlZaWGj/+8Y8NwzCMf/zjH8aUKVMc76G6utqYPn26sWzZMiM/P9/x+iUlJcbMmTMNwzCMqqoqY+TIkY7Wf/vtt42XX37ZMAzD+Oqrr4y77rrL0foXe+6554xJkyYZ27dvd7RuaWmp8dRTTzla06yqqsq46667jHPnzhnl5eXGsmXLXOultLTUWLFiheN18/PzjVWrVhmGYRgnTpwwxowZ42j94uJiY/78+YZhGMYXX3zR+Nlkt8t9Bi1evNjYsWOHYRiGkZeXZ7z22muO9NLchO3kWFJSooyMDElSnz59dPbsWZ0/f97RHmJjY7V+/Xr5/X5H635jyJAheuGFFyRJHTt2VG1trRocfCTM+PHj9aMf/UjS1/9aTUpKcqz2xT755BMdPXpUo0aNcrx2dXW14zXNSkpKNHToULVr105+v9+16VWS1qxZo9mzZztet3Pnzjpz5owk6ezZs+rcubOj9T///HMNGDBAktS9e3cdO3bMkb+Ll/sMKi0tVXp6uiQpPT1dJSUltvfRHIVtOFZWVjb5CxAfH6+KigpHe4iJiVGrVq0crXmx6OhotWnTRtLXS1sjRoxQdHS0431kZWVp4cKFWrp0qeO1JSkvL0+LFy92pXZNTY0++OADzZw5U9OmTdN7773neA9fffWVDMPQggULlJ2d7dqH4YEDB9S1a1clJiY6Xvvuu+/WsWPHNHr0aE2fPl2LFi1ytH7fvn317rvvqqGhQZ9++qm+/PJLnT592va6l/sMqq2tVWxsrCQpMTHR8c/F5iJs761qmO5qZxiGfD6fS924649//KMKCwv1yiuvuFJ/69at+vvf/66HH35Yb731lqM/hzfeeEO33nqrrr/+esdqXqx///6aM2eO0tPT9dlnn+mBBx5QcXFx44eTU8rLy7V69WodO3ZM9913n3bu3On434fCwkL94Ac/cLTmN958800lJydr48aNOnz4sB599FFt377dsfojR47U/v37NW3aNPXr10+9evW65DPKKRf/3N3qoTkI23BMSkpSZWVl49cnT55UQkKCix25Y8+ePXrppZe0YcMGtW/f3tHaBw8eVHx8vLp27aobb7xRDQ0NqqqqUnx8vGM97Nq1S19++aV27dqlEydOKDY2Vl26dNGwYcMcqd+7d2/17t1bktSzZ08lJCSovLzc0bCOj49XamqqYmJi1L17d7Vt29bxn4P09XLesmXLHK35jf379+v222+X9PU/WMrLy1VfX6+YGOc+wh588MHGX2dkZDj+//83WrdurQsXLqhVq1YqLy937bCP14Xtsurw4cNVVFQkSTp06JD8fr/atWvnclfOOnfunJ599lmtW7dOnTp1crz+vn37GqfVyspK1dTUOH6s5xe/+IW2b9+u3/zmN8rMzNTs2bMdC0bp62lpy5YtkqSKigqdOnXK8WOvt99+u9577z0FAgFVVVW58nMoLy9X27ZtHZ+Yv3HDDTfor3/9qySprKxMbdu2dTQYDx8+rCVLlkiS3nnnHd10002KinLn43PYsGGNn43FxcVKS0tzpQ+vC9vJcdCgQUpJSVFWVpZ8Pp8ef/xxx3s4ePCg8vLyVFZWppiYGBUVFelXv/qVY0G1Y8cOnT59WgsWLGjcl5eXp+TkZEfqZ2Vl6dFHH1V2drYuXLig5cuXu/aB4JbRo0dr4cKFKioqUl1dnVasWOF4QCQlJWnMmDH64Q9/qNraWi1btszxn0NFRYXi4uIcrXmxqVOnaunSpZo+fbrq6+u1YsUKR+v37dtXhmFo6tSpat++vfLy8hype7nPoFWrVmnx4sXatm2bkpOTNXHiREd6aW54ZBUAACbNawwAAOAqEI4AAJgQjgAAmBCOAACYEI4AAJgQjgAAmBCOAACYEI4AAJj8P/HLirQDpqRkAAAAAElFTkSuQmCC\n",
      "text/plain": [
       "<matplotlib.figure.Figure at 0x7f81ba99f940>"
=======
      "image/png": "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\n",
      "text/plain": [
       "<matplotlib.figure.Figure at 0x118e0c9e8>"
>>>>>>> 0fe3727601970b6db579ba0843d14c11d1b67874
      ]
     },
     "metadata": {},
     "output_type": "display_data"
    }
   ],
   "source": [
    "import seaborn as sns\n",
    "sns.heatmap(rows)"
   ]
  },
  {
   "cell_type": "code",
   "execution_count": 29,
   "metadata": {
    "collapsed": true
   },
   "outputs": [],
   "source": [
    "second = {item:value[0] for item, value in book.items() if item[0].ply_count==1}"
   ]
  },
  {
   "cell_type": "code",
   "execution_count": 30,
   "metadata": {
    "collapsed": false
   },
   "outputs": [
    {
     "data": {
      "text/plain": [
       "9702"
      ]
     },
     "execution_count": 30,
     "metadata": {},
     "output_type": "execute_result"
    }
   ],
   "source": [
    "len(second)"
   ]
  },
  {
   "cell_type": "code",
   "execution_count": 31,
   "metadata": {
    "collapsed": false
   },
   "outputs": [
    {
     "data": {
      "text/plain": [
       "count    9702.000000\n",
       "mean        0.017728\n",
       "std         5.311229\n",
       "min       -15.000000\n",
       "25%        -4.000000\n",
       "50%         0.000000\n",
       "75%         4.000000\n",
       "max        13.000000\n",
       "dtype: float64"
      ]
     },
     "execution_count": 31,
     "metadata": {},
     "output_type": "execute_result"
    }
   ],
   "source": [
    "pd.Series(list(second.values())).describe()"
   ]
  },
  {
   "cell_type": "code",
   "execution_count": 32,
   "metadata": {
    "collapsed": true
   },
   "outputs": [],
   "source": [
    "third = {item:value[0] for item, value in book.items() if item[0].ply_count==2}"
   ]
  },
  {
   "cell_type": "code",
   "execution_count": 33,
   "metadata": {
    "collapsed": false
   },
   "outputs": [
    {
     "data": {
      "text/plain": [
       "55096"
      ]
     },
     "execution_count": 33,
     "metadata": {},
     "output_type": "execute_result"
    }
   ],
   "source": [
    "len(third)"
   ]
  },
  {
   "cell_type": "code",
   "execution_count": 34,
   "metadata": {
    "collapsed": false
   },
   "outputs": [
    {
     "data": {
      "text/plain": [
       "count    55096.000000\n",
       "mean        -0.003122\n",
       "std          1.825351\n",
       "min         -8.000000\n",
       "25%         -1.000000\n",
       "50%          0.000000\n",
       "75%          1.000000\n",
       "max          6.000000\n",
       "dtype: float64"
      ]
     },
     "execution_count": 34,
     "metadata": {},
     "output_type": "execute_result"
    }
   ],
   "source": [
    "pd.Series(list(third.values())).describe()"
   ]
  },
  {
   "cell_type": "code",
   "execution_count": 35,
   "metadata": {
    "collapsed": false
   },
   "outputs": [
    {
     "data": {
      "text/plain": [
       "309200"
      ]
     },
     "execution_count": 35,
     "metadata": {},
     "output_type": "execute_result"
    }
   ],
   "source": [
    "fourth = {item:value[0] for item, value in book.items() if item[0].ply_count==3}\n",
    "len(fourth)"
   ]
  },
  {
   "cell_type": "code",
   "execution_count": 36,
   "metadata": {
    "collapsed": false
   },
   "outputs": [
    {
     "data": {
      "text/plain": [
       "count    309200.000000\n",
       "mean          0.000139\n",
       "std           0.375715\n",
       "min          -6.000000\n",
       "25%           0.000000\n",
       "50%           0.000000\n",
       "75%           0.000000\n",
       "max           6.000000\n",
       "dtype: float64"
      ]
     },
     "execution_count": 36,
     "metadata": {},
     "output_type": "execute_result"
    }
   ],
   "source": [
    "pd.Series(list(fourth.values())).describe()"
   ]
  },
  {
   "cell_type": "code",
   "execution_count": 37,
   "metadata": {
    "collapsed": false
   },
   "outputs": [
    {
     "data": {
      "text/plain": [
       "32520"
      ]
     },
     "execution_count": 37,
     "metadata": {},
     "output_type": "execute_result"
    }
   ],
   "source": [
    "sum(np.array(list(third.values())) != 0)"
   ]
  },
  {
   "cell_type": "code",
   "execution_count": 38,
   "metadata": {
    "collapsed": false
   },
   "outputs": [
    {
     "data": {
      "text/plain": [
       "10189"
      ]
     },
     "execution_count": 38,
     "metadata": {},
     "output_type": "execute_result"
    }
   ],
   "source": [
    "sum(np.array(list(fourth.values())) != 0)"
   ]
  },
  {
   "cell_type": "code",
   "execution_count": null,
   "metadata": {
    "collapsed": true
   },
   "outputs": [],
   "source": []
  },
  {
   "cell_type": "code",
   "execution_count": null,
   "metadata": {
    "collapsed": true
   },
   "outputs": [],
   "source": []
  }
 ],
 "metadata": {
  "kernelspec": {
   "display_name": "aind",
   "language": "python",
   "name": "aind"
  },
  "language_info": {
   "codemirror_mode": {
    "name": "ipython",
    "version": 3
   },
   "file_extension": ".py",
   "mimetype": "text/x-python",
   "name": "python",
   "nbconvert_exporter": "python",
   "pygments_lexer": "ipython3",
   "version": "3.5.4"
  }
 },
 "nbformat": 4,
 "nbformat_minor": 2
}
