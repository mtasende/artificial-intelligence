{
 "cells": [
  {
   "cell_type": "code",
   "execution_count": 1,
   "metadata": {
    "collapsed": false
   },
   "outputs": [
    {
     "name": "stdout",
     "output_type": "stream",
     "text": [
      "Populating the interactive namespace from numpy and matplotlib\n"
     ]
    },
    {
     "name": "stderr",
     "output_type": "stream",
     "text": [
      "/home/miguel/anaconda3/envs/aind/lib/python3.5/site-packages/IPython/core/magics/pylab.py:160: UserWarning: pylab import has clobbered these variables: ['time']\n",
      "`%matplotlib` prevents importing * from pylab and numpy\n",
      "  \"\\n`%matplotlib` prevents importing * from pylab and numpy\"\n"
     ]
    }
   ],
   "source": [
    "import matplotlib.pyplot as plt\n",
    "import pandas as pd\n",
    "import numpy as np\n",
    "import sys\n",
    "from time import time\n",
    "import os\n",
    "\n",
    "%pylab inline\n",
    "pylab.rcParams['figure.figsize'] = (20.0, 10.0)\n",
    "\n",
    "%load_ext autoreload\n",
    "%autoreload 2\n",
    "\n",
    "sys.path.append('..')\n",
    "\n",
    "import isolation\n",
    "import sample_players\n",
    "import run_match\n",
    "import my_baseline_player as custom\n",
    "import book as b\n",
    "\n",
    "from multiprocessing.pool import ThreadPool as Pool"
   ]
  },
  {
   "cell_type": "code",
   "execution_count": 2,
   "metadata": {
    "collapsed": false
   },
   "outputs": [
    {
     "name": "stdout",
     "output_type": "stream",
     "text": [
      "Generated 29403 matches.\n"
     ]
    }
   ],
   "source": [
    "# Constant parameteres\n",
    "time_limit = 150\n",
    "depth = 4\n",
    "full_search_depth = 2\n",
    "matches_per_opening = 3\n",
    "\n",
    "# Create the agents that will play\n",
    "agent_names = ('CustomPlayer1', 'CustomPlayer2')\n",
    "agent1 = isolation.Agent(custom.CustomPlayer, agent_names[0])\n",
    "agent2 = isolation.Agent(custom.CustomPlayer, agent_names[1])\n",
    "agents = (agent1, agent2)\n",
    "\n",
    "# Get the initial states\n",
    "root = isolation.isolation.Isolation()\n",
    "opening_states = list(b.get_full_states(root, depth=full_search_depth))\n",
    "\n",
    "# Generate the matches\n",
    "matches = [(agents, state, time_limit, match_id) \n",
    "           for match_id, state in enumerate(opening_states)]\n",
    "matches = matches * 3\n",
    "print('Generated {} matches.'.format(len(matches)))"
   ]
  },
  {
   "cell_type": "code",
   "execution_count": 3,
   "metadata": {
    "collapsed": false
   },
   "outputs": [
    {
     "name": "stdout",
     "output_type": "stream",
     "text": [
      "Processing batch 50 of 295\n",
      "Batch time 273.42882919311523 seconds.\n",
      "Saving: book2018-06-14_10S28S36.669105.pkl\n",
      "rm book2018-06-13_23S12S33.790879.pkl\n",
      "Processing batch 51 of 295\n",
      "Batch time 281.39559602737427 seconds.\n",
      "Saving: book2018-06-14_10S33S18.521569.pkl\n",
      "rm book2018-06-14_10S28S36.669105.pkl\n",
      "Processing batch 52 of 295\n",
      "Batch time 279.23094749450684 seconds.\n",
      "Saving: book2018-06-14_10S37S58.180333.pkl\n",
      "rm book2018-06-14_10S33S18.521569.pkl\n",
      "Processing batch 53 of 295\n",
      "Batch time 280.1992733478546 seconds.\n",
      "Saving: book2018-06-14_10S42S38.866531.pkl\n",
      "rm book2018-06-14_10S37S58.180333.pkl\n",
      "Processing batch 54 of 295\n",
      "Batch time 297.19778847694397 seconds.\n",
      "Saving: book2018-06-14_10S47S36.529465.pkl\n",
      "rm book2018-06-14_10S42S38.866531.pkl\n",
      "Processing batch 55 of 295\n",
      "Batch time 298.93795824050903 seconds.\n",
      "Saving: book2018-06-14_10S52S35.959086.pkl\n",
      "rm book2018-06-14_10S47S36.529465.pkl\n",
      "Processing batch 56 of 295\n",
      "Batch time 295.12753224372864 seconds.\n",
      "Saving: book2018-06-14_10S57S31.517046.pkl\n",
      "rm book2018-06-14_10S52S35.959086.pkl\n",
      "Processing batch 57 of 295\n",
      "Batch time 291.71545028686523 seconds.\n",
      "Saving: book2018-06-14_11S02S23.843448.pkl\n",
      "rm book2018-06-14_10S57S31.517046.pkl\n",
      "Processing batch 58 of 295\n",
      "Batch time 289.71688652038574 seconds.\n",
      "Saving: book2018-06-14_11S07S14.165220.pkl\n",
      "rm book2018-06-14_11S02S23.843448.pkl\n",
      "Processing batch 59 of 295\n",
      "Batch time 277.476350069046 seconds.\n",
      "Saving: book2018-06-14_11S11S52.084393.pkl\n",
      "rm book2018-06-14_11S07S14.165220.pkl\n",
      "Processing batch 60 of 295\n",
      "Batch time 275.9907896518707 seconds.\n",
      "Saving: book2018-06-14_11S16S28.485179.pkl\n",
      "rm book2018-06-14_11S11S52.084393.pkl\n",
      "Processing batch 61 of 295\n",
      "Batch time 271.84908294677734 seconds.\n",
      "Saving: book2018-06-14_11S21S00.761477.pkl\n",
      "rm book2018-06-14_11S16S28.485179.pkl\n",
      "Processing batch 62 of 295\n",
      "Batch time 280.4039578437805 seconds.\n",
      "Saving: book2018-06-14_11S25S41.584476.pkl\n",
      "rm book2018-06-14_11S21S00.761477.pkl\n",
      "Processing batch 63 of 295\n",
      "Batch time 282.7037625312805 seconds.\n",
      "Saving: book2018-06-14_11S30S24.761542.pkl\n",
      "rm book2018-06-14_11S25S41.584476.pkl\n",
      "Processing batch 64 of 295\n",
      "Batch time 283.2974262237549 seconds.\n",
      "Saving: book2018-06-14_11S35S08.668963.pkl\n",
      "rm book2018-06-14_11S30S24.761542.pkl\n",
      "Processing batch 65 of 295\n",
      "Batch time 285.7764353752136 seconds.\n",
      "Saving: book2018-06-14_11S39S54.837127.pkl\n",
      "rm book2018-06-14_11S35S08.668963.pkl\n",
      "Processing batch 66 of 295\n",
      "Batch time 282.7347013950348 seconds.\n",
      "Saving: book2018-06-14_11S44S37.972322.pkl\n",
      "rm book2018-06-14_11S39S54.837127.pkl\n",
      "Processing batch 67 of 295\n",
      "Batch time 279.2353549003601 seconds.\n",
      "Saving: book2018-06-14_11S49S17.634669.pkl\n",
      "rm book2018-06-14_11S44S37.972322.pkl\n",
      "Processing batch 68 of 295\n",
      "Batch time 285.2821388244629 seconds.\n",
      "Saving: book2018-06-14_11S54S03.538364.pkl\n",
      "rm book2018-06-14_11S49S17.634669.pkl\n",
      "Processing batch 69 of 295\n",
      "Batch time 283.4386339187622 seconds.\n",
      "Saving: book2018-06-14_11S58S47.414864.pkl\n",
      "rm book2018-06-14_11S54S03.538364.pkl\n",
      "Processing batch 70 of 295\n",
      "Batch time 284.46060037612915 seconds.\n",
      "Saving: book2018-06-14_12S03S32.301691.pkl\n",
      "rm book2018-06-14_11S58S47.414864.pkl\n",
      "Processing batch 71 of 295\n",
      "Batch time 286.3495545387268 seconds.\n",
      "Saving: book2018-06-14_12S08S19.093909.pkl\n",
      "rm book2018-06-14_12S03S32.301691.pkl\n",
      "Processing batch 72 of 295\n",
      "Batch time 279.42278480529785 seconds.\n",
      "Saving: book2018-06-14_12S12S58.986844.pkl\n",
      "rm book2018-06-14_12S08S19.093909.pkl\n",
      "Processing batch 73 of 295\n",
      "Batch time 286.4241645336151 seconds.\n",
      "Saving: book2018-06-14_12S17S45.847232.pkl\n",
      "rm book2018-06-14_12S12S58.986844.pkl\n",
      "Processing batch 74 of 295\n",
      "Batch time 292.0220742225647 seconds.\n",
      "Saving: book2018-06-14_12S22S38.360710.pkl\n",
      "rm book2018-06-14_12S17S45.847232.pkl\n",
      "Processing batch 75 of 295\n",
      "Batch time 290.1896686553955 seconds.\n",
      "Saving: book2018-06-14_12S27S29.161315.pkl\n",
      "rm book2018-06-14_12S22S38.360710.pkl\n",
      "Processing batch 76 of 295\n",
      "Batch time 289.4820306301117 seconds.\n",
      "Saving: book2018-06-14_12S32S19.181400.pkl\n",
      "rm book2018-06-14_12S27S29.161315.pkl\n",
      "Processing batch 77 of 295\n",
      "Batch time 303.9233248233795 seconds.\n",
      "Saving: book2018-06-14_12S37S23.654294.pkl\n",
      "rm book2018-06-14_12S32S19.181400.pkl\n",
      "Processing batch 78 of 295\n",
      "Batch time 284.0449290275574 seconds.\n",
      "Saving: book2018-06-14_12S42S08.352538.pkl\n",
      "rm book2018-06-14_12S37S23.654294.pkl\n",
      "Processing batch 79 of 295\n",
      "Batch time 277.72508788108826 seconds.\n",
      "Saving: book2018-06-14_12S46S46.514167.pkl\n",
      "rm book2018-06-14_12S42S08.352538.pkl\n",
      "Processing batch 80 of 295\n",
      "Batch time 278.1053640842438 seconds.\n",
      "Saving: book2018-06-14_12S51S25.094961.pkl\n",
      "rm book2018-06-14_12S46S46.514167.pkl\n",
      "Processing batch 81 of 295\n",
      "Batch time 287.288715839386 seconds.\n",
      "Saving: book2018-06-14_12S56S12.796073.pkl\n",
      "rm book2018-06-14_12S51S25.094961.pkl\n",
      "Processing batch 82 of 295\n",
      "Batch time 284.6450228691101 seconds.\n",
      "Saving: book2018-06-14_13S00S57.877216.pkl\n",
      "rm book2018-06-14_12S56S12.796073.pkl\n",
      "Processing batch 83 of 295\n",
      "Batch time 277.40538907051086 seconds.\n",
      "Saving: book2018-06-14_13S05S35.885847.pkl\n",
      "rm book2018-06-14_13S00S57.877216.pkl\n",
      "Processing batch 84 of 295\n",
      "Batch time 281.0066032409668 seconds.\n",
      "Saving: book2018-06-14_13S10S17.436411.pkl\n",
      "rm book2018-06-14_13S05S35.885847.pkl\n",
      "Processing batch 85 of 295\n",
      "Batch time 276.27215218544006 seconds.\n",
      "Saving: book2018-06-14_13S14S54.080694.pkl\n",
      "rm book2018-06-14_13S10S17.436411.pkl\n",
      "Processing batch 86 of 295\n",
      "Batch time 267.4244110584259 seconds.\n",
      "Saving: book2018-06-14_13S19S21.883942.pkl\n",
      "rm book2018-06-14_13S14S54.080694.pkl\n",
      "Processing batch 87 of 295\n",
      "Batch time 268.3560094833374 seconds.\n",
      "Saving: book2018-06-14_13S23S50.609984.pkl\n",
      "rm book2018-06-14_13S19S21.883942.pkl\n",
      "Processing batch 88 of 295\n",
      "Batch time 277.17527413368225 seconds.\n",
      "Saving: book2018-06-14_13S28S28.161828.pkl\n",
      "rm book2018-06-14_13S23S50.609984.pkl\n",
      "Processing batch 89 of 295\n",
      "Batch time 281.85593724250793 seconds.\n",
      "Saving: book2018-06-14_13S33S10.396334.pkl\n",
      "rm book2018-06-14_13S28S28.161828.pkl\n",
      "Processing batch 90 of 295\n",
      "Batch time 272.32418298721313 seconds.\n",
      "Saving: book2018-06-14_13S37S43.099062.pkl\n",
      "rm book2018-06-14_13S33S10.396334.pkl\n",
      "Processing batch 91 of 295\n",
      "Batch time 275.6142363548279 seconds.\n",
      "Saving: book2018-06-14_13S42S19.078659.pkl\n",
      "rm book2018-06-14_13S37S43.099062.pkl\n",
      "Processing batch 92 of 295\n",
      "Batch time 267.7747538089752 seconds.\n",
      "Saving: book2018-06-14_13S46S47.231546.pkl\n",
      "rm book2018-06-14_13S42S19.078659.pkl\n",
      "Processing batch 93 of 295\n",
      "Batch time 282.4961018562317 seconds.\n",
      "Saving: book2018-06-14_13S51S30.094257.pkl\n",
      "rm book2018-06-14_13S46S47.231546.pkl\n",
      "Processing batch 94 of 295\n",
      "Batch time 272.9592659473419 seconds.\n",
      "Saving: book2018-06-14_13S56S03.432532.pkl\n",
      "rm book2018-06-14_13S51S30.094257.pkl\n",
      "Processing batch 95 of 295\n",
      "Batch time 279.7390112876892 seconds.\n",
      "Saving: book2018-06-14_14S00S43.549120.pkl\n",
      "rm book2018-06-14_13S56S03.432532.pkl\n",
      "Processing batch 96 of 295\n",
      "Batch time 273.903457403183 seconds.\n",
      "Saving: book2018-06-14_14S05S17.833245.pkl\n",
      "rm book2018-06-14_14S00S43.549120.pkl\n",
      "Processing batch 97 of 295\n",
      "Batch time 276.82168340682983 seconds.\n",
      "Saving: book2018-06-14_14S09S55.031786.pkl\n",
      "rm book2018-06-14_14S05S17.833245.pkl\n",
      "Processing batch 98 of 295\n",
      "Batch time 281.10137724876404 seconds.\n",
      "Saving: book2018-06-14_14S14S36.511007.pkl\n",
      "rm book2018-06-14_14S09S55.031786.pkl\n",
      "Processing batch 99 of 295\n",
      "Batch time 270.7592091560364 seconds.\n",
      "Saving: book2018-06-14_14S19S07.647505.pkl\n",
      "rm book2018-06-14_14S14S36.511007.pkl\n",
      "Processing batch 100 of 295\n",
      "Batch time 267.02585530281067 seconds.\n",
      "Saving: book2018-06-14_14S23S35.051527.pkl\n",
      "rm book2018-06-14_14S19S07.647505.pkl\n",
      "Processing batch 101 of 295\n",
      "Batch time 277.1164858341217 seconds.\n",
      "Saving: book2018-06-14_14S28S12.537399.pkl\n",
      "rm book2018-06-14_14S23S35.051527.pkl\n",
      "Processing batch 102 of 295\n",
      "Batch time 286.42587971687317 seconds.\n",
      "Saving: book2018-06-14_14S32S59.340187.pkl\n",
      "rm book2018-06-14_14S28S12.537399.pkl\n",
      "Processing batch 103 of 295\n",
      "Batch time 272.6555700302124 seconds.\n",
      "Saving: book2018-06-14_14S37S32.372387.pkl\n",
      "rm book2018-06-14_14S32S59.340187.pkl\n",
      "Processing batch 104 of 295\n",
      "Batch time 274.2559018135071 seconds.\n",
      "Saving: book2018-06-14_14S42S07.006993.pkl\n",
      "rm book2018-06-14_14S37S32.372387.pkl\n",
      "Processing batch 105 of 295\n",
      "Batch time 280.16730189323425 seconds.\n",
      "Saving: book2018-06-14_14S46S47.598793.pkl\n",
      "rm book2018-06-14_14S42S07.006993.pkl\n",
      "Processing batch 106 of 295\n",
      "Batch time 286.1533691883087 seconds.\n",
      "Saving: book2018-06-14_14S51S34.588504.pkl\n",
      "rm book2018-06-14_14S46S47.598793.pkl\n",
      "Processing batch 107 of 295\n",
      "Batch time 285.89106702804565 seconds.\n",
      "Saving: book2018-06-14_14S56S21.038346.pkl\n",
      "rm book2018-06-14_14S51S34.588504.pkl\n",
      "Processing batch 108 of 295\n",
      "Batch time 286.1649124622345 seconds.\n",
      "Saving: book2018-06-14_15S01S07.733845.pkl\n",
      "rm book2018-06-14_14S56S21.038346.pkl\n",
      "Processing batch 109 of 295\n",
      "Batch time 287.82146549224854 seconds.\n",
      "Saving: book2018-06-14_15S05S56.111761.pkl\n",
      "rm book2018-06-14_15S01S07.733845.pkl\n",
      "Processing batch 110 of 295\n",
      "Batch time 286.4698028564453 seconds.\n",
      "Saving: book2018-06-14_15S10S43.080950.pkl\n",
      "rm book2018-06-14_15S05S56.111761.pkl\n",
      "Processing batch 111 of 295\n",
      "Batch time 279.7715709209442 seconds.\n",
      "Saving: book2018-06-14_15S15S23.368640.pkl\n",
      "rm book2018-06-14_15S10S43.080950.pkl\n",
      "Processing batch 112 of 295\n",
      "Batch time 292.94800877571106 seconds.\n",
      "Saving: book2018-06-14_15S20S16.804902.pkl\n",
      "rm book2018-06-14_15S15S23.368640.pkl\n",
      "Processing batch 113 of 295\n",
      "Batch time 279.2649142742157 seconds.\n",
      "Saving: book2018-06-14_15S24S56.568169.pkl\n",
      "rm book2018-06-14_15S20S16.804902.pkl\n",
      "Processing batch 114 of 295\n",
      "Batch time 286.7493326663971 seconds.\n",
      "Saving: book2018-06-14_15S29S43.810404.pkl\n",
      "rm book2018-06-14_15S24S56.568169.pkl\n",
      "Processing batch 115 of 295\n",
      "Batch time 285.67155027389526 seconds.\n",
      "Saving: book2018-06-14_15S34S30.002336.pkl\n",
      "rm book2018-06-14_15S29S43.810404.pkl\n",
      "Processing batch 116 of 295\n",
      "Batch time 292.7029559612274 seconds.\n",
      "Saving: book2018-06-14_15S39S23.198394.pkl\n",
      "rm book2018-06-14_15S34S30.002336.pkl\n",
      "Processing batch 117 of 295\n",
      "Batch time 278.89420986175537 seconds.\n",
      "Saving: book2018-06-14_15S44S02.598423.pkl\n",
      "rm book2018-06-14_15S39S23.198394.pkl\n",
      "Processing batch 118 of 295\n",
      "Batch time 291.7639980316162 seconds.\n",
      "Saving: book2018-06-14_15S48S54.855330.pkl\n",
      "rm book2018-06-14_15S44S02.598423.pkl\n",
      "Processing batch 119 of 295\n",
      "Batch time 287.70028352737427 seconds.\n",
      "Saving: book2018-06-14_15S53S43.060627.pkl\n",
      "rm book2018-06-14_15S48S54.855330.pkl\n",
      "Processing batch 120 of 295\n",
      "Batch time 284.75433707237244 seconds.\n",
      "Saving: book2018-06-14_15S58S28.309267.pkl\n",
      "rm book2018-06-14_15S53S43.060627.pkl\n",
      "Processing batch 121 of 295\n",
      "Batch time 286.71095514297485 seconds.\n",
      "Saving: book2018-06-14_16S03S15.489093.pkl\n",
      "rm book2018-06-14_15S58S28.309267.pkl\n",
      "Processing batch 122 of 295\n",
      "Batch time 289.13637232780457 seconds.\n",
      "Saving: book2018-06-14_16S08S05.127327.pkl\n",
      "rm book2018-06-14_16S03S15.489093.pkl\n",
      "Processing batch 123 of 295\n",
      "Batch time 278.6662893295288 seconds.\n",
      "Saving: book2018-06-14_16S12S44.214308.pkl\n",
      "rm book2018-06-14_16S08S05.127327.pkl\n",
      "Processing batch 124 of 295\n",
      "Batch time 287.24823236465454 seconds.\n",
      "Saving: book2018-06-14_16S17S31.833974.pkl\n",
      "rm book2018-06-14_16S12S44.214308.pkl\n",
      "Processing batch 125 of 295\n",
      "Batch time 281.65991592407227 seconds.\n",
      "Saving: book2018-06-14_16S22S13.865081.pkl\n",
      "rm book2018-06-14_16S17S31.833974.pkl\n",
      "Processing batch 126 of 295\n",
      "Batch time 275.24937629699707 seconds.\n",
      "Saving: book2018-06-14_16S26S49.492194.pkl\n",
      "rm book2018-06-14_16S22S13.865081.pkl\n",
      "Processing batch 127 of 295\n",
      "Batch time 282.0679655075073 seconds.\n",
      "Saving: book2018-06-14_16S31S31.927833.pkl\n",
      "rm book2018-06-14_16S26S49.492194.pkl\n",
      "Processing batch 128 of 295\n",
      "Batch time 283.5287733078003 seconds.\n",
      "Saving: book2018-06-14_16S36S15.830887.pkl\n",
      "rm book2018-06-14_16S31S31.927833.pkl\n",
      "Processing batch 129 of 295\n",
      "Batch time 267.88931250572205 seconds.\n",
      "Saving: book2018-06-14_16S40S44.093090.pkl\n",
      "rm book2018-06-14_16S36S15.830887.pkl\n",
      "Processing batch 130 of 295\n",
      "Batch time 274.2646851539612 seconds.\n",
      "Saving: book2018-06-14_16S45S18.722502.pkl\n",
      "rm book2018-06-14_16S40S44.093090.pkl\n",
      "Processing batch 131 of 295\n",
      "Batch time 276.1611568927765 seconds.\n",
      "Saving: book2018-06-14_16S49S55.245264.pkl\n",
      "rm book2018-06-14_16S45S18.722502.pkl\n",
      "Processing batch 132 of 295\n",
      "Batch time 276.1537871360779 seconds.\n",
      "Saving: book2018-06-14_16S54S31.770463.pkl\n",
      "rm book2018-06-14_16S49S55.245264.pkl\n",
      "Processing batch 133 of 295\n",
      "Batch time 278.79275488853455 seconds.\n",
      "Saving: book2018-06-14_16S59S10.939346.pkl\n",
      "rm book2018-06-14_16S54S31.770463.pkl\n",
      "Processing batch 134 of 295\n",
      "Batch time 281.7394666671753 seconds.\n",
      "Saving: book2018-06-14_17S03S53.051774.pkl\n",
      "rm book2018-06-14_16S59S10.939346.pkl\n",
      "Processing batch 135 of 295\n",
      "Batch time 285.18431758880615 seconds.\n",
      "Saving: book2018-06-14_17S08S38.609262.pkl\n",
      "rm book2018-06-14_17S03S53.051774.pkl\n",
      "Processing batch 136 of 295\n",
      "Batch time 276.57681012153625 seconds.\n",
      "Saving: book2018-06-14_17S13S15.559777.pkl\n",
      "rm book2018-06-14_17S08S38.609262.pkl\n",
      "Processing batch 137 of 295\n",
      "Batch time 271.1517128944397 seconds.\n",
      "Saving: book2018-06-14_17S17S47.085094.pkl\n",
      "rm book2018-06-14_17S13S15.559777.pkl\n",
      "Processing batch 138 of 295\n",
      "Batch time 284.0419342517853 seconds.\n",
      "Saving: book2018-06-14_17S22S31.494455.pkl\n",
      "rm book2018-06-14_17S17S47.085094.pkl\n",
      "Processing batch 139 of 295\n",
      "Batch time 277.0328118801117 seconds.\n",
      "Saving: book2018-06-14_17S27S08.905093.pkl\n",
      "rm book2018-06-14_17S22S31.494455.pkl\n",
      "Processing batch 140 of 295\n",
      "Batch time 277.9776816368103 seconds.\n",
      "Saving: book2018-06-14_17S31S47.259353.pkl\n",
      "rm book2018-06-14_17S27S08.905093.pkl\n",
      "Processing batch 141 of 295\n",
      "Batch time 285.8412311077118 seconds.\n",
      "Saving: book2018-06-14_17S36S33.474127.pkl\n",
      "rm book2018-06-14_17S31S47.259353.pkl\n",
      "Processing batch 142 of 295\n",
      "Batch time 272.7414491176605 seconds.\n",
      "Saving: book2018-06-14_17S41S06.592822.pkl\n",
      "rm book2018-06-14_17S36S33.474127.pkl\n",
      "Processing batch 143 of 295\n",
      "Batch time 284.4352512359619 seconds.\n",
      "Saving: book2018-06-14_17S45S51.402215.pkl\n",
      "rm book2018-06-14_17S41S06.592822.pkl\n",
      "Processing batch 144 of 295\n",
      "Batch time 270.516802072525 seconds.\n",
      "Saving: book2018-06-14_17S50S22.291123.pkl\n",
      "rm book2018-06-14_17S45S51.402215.pkl\n",
      "Processing batch 145 of 295\n",
      "Batch time 284.0523021221161 seconds.\n",
      "Saving: book2018-06-14_17S55S06.710164.pkl\n",
      "rm book2018-06-14_17S50S22.291123.pkl\n",
      "Processing batch 146 of 295\n",
      "Batch time 275.8194761276245 seconds.\n",
      "Saving: book2018-06-14_17S59S42.903794.pkl\n",
      "rm book2018-06-14_17S55S06.710164.pkl\n",
      "Processing batch 147 of 295\n",
      "Batch time 270.7294955253601 seconds.\n",
      "Saving: book2018-06-14_18S04S14.008481.pkl\n",
      "rm book2018-06-14_17S59S42.903794.pkl\n",
      "Processing batch 148 of 295\n",
      "Batch time 271.5967814922333 seconds.\n",
      "Saving: book2018-06-14_18S08S45.975216.pkl\n",
      "rm book2018-06-14_18S04S14.008481.pkl\n",
      "Processing batch 149 of 295\n",
      "Batch time 272.7107238769531 seconds.\n",
      "Saving: book2018-06-14_18S13S19.058929.pkl\n",
      "rm book2018-06-14_18S08S45.975216.pkl\n",
      "Processing batch 150 of 295\n",
      "Batch time 273.4690110683441 seconds.\n",
      "Saving: book2018-06-14_18S17S52.892371.pkl\n",
      "rm book2018-06-14_18S13S19.058929.pkl\n",
      "Processing batch 151 of 295\n",
      "Batch time 272.0173308849335 seconds.\n",
      "Saving: book2018-06-14_18S22S25.295167.pkl\n",
      "rm book2018-06-14_18S17S52.892371.pkl\n",
      "Processing batch 152 of 295\n",
      "Batch time 285.87190341949463 seconds.\n",
      "Saving: book2018-06-14_18S27S11.539529.pkl\n",
      "rm book2018-06-14_18S22S25.295167.pkl\n",
      "Processing batch 153 of 295\n",
      "Batch time 276.5967216491699 seconds.\n",
      "Saving: book2018-06-14_18S31S48.511451.pkl\n",
      "rm book2018-06-14_18S27S11.539529.pkl\n",
      "Processing batch 154 of 295\n",
      "Batch time 284.4085621833801 seconds.\n",
      "Saving: book2018-06-14_18S36S33.285009.pkl\n",
      "rm book2018-06-14_18S31S48.511451.pkl\n",
      "Processing batch 155 of 295\n",
      "Batch time 271.43431639671326 seconds.\n",
      "Saving: book2018-06-14_18S41S05.142280.pkl\n",
      "rm book2018-06-14_18S36S33.285009.pkl\n",
      "Processing batch 156 of 295\n",
      "Batch time 274.6239757537842 seconds.\n",
      "Saving: book2018-06-14_18S45S40.135593.pkl\n",
      "rm book2018-06-14_18S41S05.142280.pkl\n",
      "Processing batch 157 of 295\n",
      "Batch time 273.93862986564636 seconds.\n",
      "Saving: book2018-06-14_18S50S14.447809.pkl\n",
      "rm book2018-06-14_18S45S40.135593.pkl\n",
      "Processing batch 158 of 295\n",
      "Batch time 281.22990679740906 seconds.\n",
      "Saving: book2018-06-14_18S54S56.043103.pkl\n",
      "rm book2018-06-14_18S50S14.447809.pkl\n",
      "Processing batch 159 of 295\n",
      "Batch time 274.52461791038513 seconds.\n",
      "Saving: book2018-06-14_18S59S30.943439.pkl\n",
      "rm book2018-06-14_18S54S56.043103.pkl\n",
      "Processing batch 160 of 295\n",
      "Batch time 279.51309537887573 seconds.\n",
      "Saving: book2018-06-14_19S04S10.826506.pkl\n",
      "rm book2018-06-14_18S59S30.943439.pkl\n",
      "Processing batch 161 of 295\n",
      "Batch time 278.5873725414276 seconds.\n",
      "Saving: book2018-06-14_19S08S49.787580.pkl\n",
      "rm book2018-06-14_19S04S10.826506.pkl\n",
      "Processing batch 162 of 295\n",
      "Batch time 288.64974093437195 seconds.\n",
      "Saving: book2018-06-14_19S13S38.799745.pkl\n",
      "rm book2018-06-14_19S08S49.787580.pkl\n",
      "Processing batch 163 of 295\n"
     ]
    },
    {
     "name": "stderr",
     "output_type": "stream",
     "text": [
      "Process Process-716271:\n",
      "Process Process-716268:\n",
      "Process Process-716270:\n",
      "Traceback (most recent call last):\n",
      "Traceback (most recent call last):\n",
      "  File \"/home/miguel/anaconda3/envs/aind/lib/python3.5/multiprocessing/process.py\", line 252, in _bootstrap\n",
      "    self.run()\n",
      "Process Process-716269:\n",
      "Traceback (most recent call last):\n",
      "Traceback (most recent call last):\n",
      "  File \"/home/miguel/anaconda3/envs/aind/lib/python3.5/multiprocessing/process.py\", line 252, in _bootstrap\n",
      "    self.run()\n",
      "  File \"/home/miguel/anaconda3/envs/aind/lib/python3.5/multiprocessing/process.py\", line 252, in _bootstrap\n",
      "    self.run()\n",
      "  File \"/home/miguel/anaconda3/envs/aind/lib/python3.5/multiprocessing/process.py\", line 93, in run\n",
      "    self._target(*self._args, **self._kwargs)\n",
      "  File \"/home/miguel/anaconda3/envs/aind/lib/python3.5/multiprocessing/process.py\", line 252, in _bootstrap\n",
      "    self.run()\n",
      "  File \"/home/miguel/anaconda3/envs/aind/lib/python3.5/multiprocessing/process.py\", line 93, in run\n",
      "    self._target(*self._args, **self._kwargs)\n",
      "  File \"../isolation/__init__.py\", line 215, in _request_action\n",
      "    agent.get_action(game_state)\n",
      "  File \"../isolation/__init__.py\", line 215, in _request_action\n",
      "    agent.get_action(game_state)\n",
      "  File \"/home/miguel/anaconda3/envs/aind/lib/python3.5/multiprocessing/process.py\", line 93, in run\n",
      "    self._target(*self._args, **self._kwargs)\n",
      "  File \"/home/miguel/anaconda3/envs/aind/lib/python3.5/multiprocessing/process.py\", line 93, in run\n",
      "    self._target(*self._args, **self._kwargs)\n",
      "  File \"../isolation/__init__.py\", line 215, in _request_action\n",
      "    agent.get_action(game_state)\n",
      "  File \"../isolation/__init__.py\", line 192, in _func\n",
      "    return func(*args, **kwargs)\n",
      "  File \"../isolation/__init__.py\", line 192, in _func\n",
      "    return func(*args, **kwargs)\n",
      "  File \"../my_baseline_player.py\", line 114, in get_action\n",
      "    self.queue.put(self.alpha_beta_search(state, depth))\n",
      "  File \"../isolation/__init__.py\", line 192, in _func\n",
      "    return func(*args, **kwargs)\n",
      "  File \"../isolation/__init__.py\", line 192, in _func\n",
      "    return func(*args, **kwargs)\n",
      "  File \"../my_baseline_player.py\", line 106, in get_action\n",
      "    self.queue.put(random.choice(state.actions()))\n",
      "  File \"/home/miguel/anaconda3/envs/aind/lib/python3.5/multiprocessing/queues.py\", line 87, in put\n",
      "    self._start_thread()\n",
      "  File \"../isolation/__init__.py\", line 215, in _request_action\n",
      "    agent.get_action(game_state)\n",
      "  File \"../my_baseline_player.py\", line 47, in alpha_beta_search\n",
      "    v = self.min_value(state.result(a), alpha, beta, depth - 1)\n",
      "  File \"../my_baseline_player.py\", line 114, in get_action\n",
      "    self.queue.put(self.alpha_beta_search(state, depth))\n",
      "  File \"../isolation/__init__.py\", line 192, in _func\n",
      "    return func(*args, **kwargs)\n",
      "  File \"../isolation/__init__.py\", line 192, in _func\n",
      "    return func(*args, **kwargs)\n",
      "  File \"../isolation/__init__.py\", line 192, in _func\n",
      "    return func(*args, **kwargs)\n",
      "  File \"/home/miguel/anaconda3/envs/aind/lib/python3.5/multiprocessing/queues.py\", line 169, in _start_thread\n",
      "    self._thread.start()\n",
      "  File \"../my_baseline_player.py\", line 64, in min_value\n",
      "    v = min(v, self.max_value(state.result(a), alpha, beta, depth - 1))\n",
      "  File \"/home/miguel/anaconda3/envs/aind/lib/python3.5/threading.py\", line 849, in start\n",
      "    self._started.wait()\n",
      "  File \"/home/miguel/anaconda3/envs/aind/lib/python3.5/threading.py\", line 549, in wait\n",
      "    signaled = self._cond.wait(timeout)\n",
      "  File \"../my_baseline_player.py\", line 47, in alpha_beta_search\n",
      "    v = self.min_value(state.result(a), alpha, beta, depth - 1)\n",
      "  File \"../my_baseline_player.py\", line 114, in get_action\n",
      "    self.queue.put(self.alpha_beta_search(state, depth))\n",
      "  File \"../isolation/__init__.py\", line 192, in _func\n",
      "    return func(*args, **kwargs)\n",
      "  File \"../isolation/__init__.py\", line 192, in _func\n",
      "    return func(*args, **kwargs)\n",
      "  File \"../my_baseline_player.py\", line 83, in max_value\n",
      "    v = max(v, self.min_value(state.result(a), alpha, beta, depth - 1))\n",
      "  File \"../my_baseline_player.py\", line 47, in alpha_beta_search\n",
      "    v = self.min_value(state.result(a), alpha, beta, depth - 1)\n",
      "  File \"../my_baseline_player.py\", line 83, in max_value\n",
      "    v = max(v, self.min_value(state.result(a), alpha, beta, depth - 1))\n",
      "  File \"../isolation/__init__.py\", line 192, in _func\n",
      "    return func(*args, **kwargs)\n",
      "  File \"/home/miguel/anaconda3/envs/aind/lib/python3.5/threading.py\", line 293, in wait\n",
      "    waiter.acquire()\n",
      "  File \"../isolation/__init__.py\", line 192, in _func\n",
      "    return func(*args, **kwargs)\n",
      "  File \"../isolation/__init__.py\", line 192, in _func\n",
      "    return func(*args, **kwargs)\n",
      "  File \"../my_baseline_player.py\", line 64, in min_value\n",
      "    v = min(v, self.max_value(state.result(a), alpha, beta, depth - 1))\n",
      "  File \"../my_baseline_player.py\", line 64, in min_value\n",
      "    v = min(v, self.max_value(state.result(a), alpha, beta, depth - 1))\n",
      "KeyboardInterrupt\n",
      "  File \"../isolation/__init__.py\", line 192, in _func\n",
      "    return func(*args, **kwargs)\n",
      "  File \"../my_baseline_player.py\", line 64, in min_value\n",
      "    v = min(v, self.max_value(state.result(a), alpha, beta, depth - 1))\n",
      "  File \"../isolation/__init__.py\", line 192, in _func\n",
      "    return func(*args, **kwargs)\n",
      "  File \"../my_baseline_player.py\", line 83, in max_value\n",
      "    v = max(v, self.min_value(state.result(a), alpha, beta, depth - 1))\n",
      "  File \"../isolation/__init__.py\", line 192, in _func\n",
      "    return func(*args, **kwargs)\n",
      "  File \"../my_baseline_player.py\", line 64, in min_value\n",
      "    v = min(v, self.max_value(state.result(a), alpha, beta, depth - 1))\n",
      "  File \"../isolation/__init__.py\", line 192, in _func\n",
      "    return func(*args, **kwargs)\n",
      "  File \"../isolation/__init__.py\", line 192, in _func\n",
      "    return func(*args, **kwargs)\n",
      "  File \"../isolation/__init__.py\", line 192, in _func\n",
      "    return func(*args, **kwargs)\n",
      "  File \"../my_baseline_player.py\", line 70, in max_value\n",
      "    def max_value(self, state, alpha, beta, depth):\n",
      "  File \"../my_baseline_player.py\", line 64, in min_value\n",
      "    v = min(v, self.max_value(state.result(a), alpha, beta, depth - 1))\n",
      "  File \"../my_baseline_player.py\", line 83, in max_value\n",
      "    v = max(v, self.min_value(state.result(a), alpha, beta, depth - 1))\n",
      "  File \"../isolation/__init__.py\", line 192, in _func\n",
      "    return func(*args, **kwargs)\n",
      "  File \"../isolation/__init__.py\", line 192, in _func\n",
      "    return func(*args, **kwargs)\n",
      "  File \"../isolation/__init__.py\", line 192, in _func\n",
      "    return func(*args, **kwargs)\n",
      "  File \"../isolation/__init__.py\", line 192, in _func\n",
      "    return func(*args, **kwargs)\n",
      "  File \"../my_baseline_player.py\", line 64, in min_value\n",
      "    v = min(v, self.max_value(state.result(a), alpha, beta, depth - 1))\n",
      "  File \"../my_baseline_player.py\", line 83, in max_value\n",
      "    v = max(v, self.min_value(state.result(a), alpha, beta, depth - 1))\n",
      "  File \"../isolation/__init__.py\", line 192, in _func\n",
      "    return func(*args, **kwargs)\n",
      "  File \"../isolation/__init__.py\", line 192, in _func\n",
      "    return func(*args, **kwargs)\n",
      "  File \"../my_baseline_player.py\", line 83, in max_value\n",
      "    v = max(v, self.min_value(state.result(a), alpha, beta, depth - 1))\n",
      "  File \"../my_baseline_player.py\", line 64, in min_value\n",
      "    v = min(v, self.max_value(state.result(a), alpha, beta, depth - 1))\n",
      "  File \"../my_baseline_player.py\", line 64, in min_value\n",
      "    v = min(v, self.max_value(state.result(a), alpha, beta, depth - 1))\n",
      "  File \"../isolation/__init__.py\", line 192, in _func\n",
      "    return func(*args, **kwargs)\n",
      "  File \"../my_baseline_player.py\", line 83, in max_value\n",
      "    v = max(v, self.min_value(state.result(a), alpha, beta, depth - 1))\n",
      "  File \"../isolation/__init__.py\", line 192, in _func\n",
      "    return func(*args, **kwargs)\n",
      "KeyboardInterrupt\n",
      "  File \"../my_baseline_player.py\", line 83, in max_value\n",
      "    v = max(v, self.min_value(state.result(a), alpha, beta, depth - 1))\n",
      "KeyboardInterrupt\n",
      "  File \"../isolation/__init__.py\", line 192, in _func\n",
      "    return func(*args, **kwargs)\n",
      "  File \"../my_baseline_player.py\", line 64, in min_value\n",
      "    v = min(v, self.max_value(state.result(a), alpha, beta, depth - 1))\n",
      "  File \"../isolation/isolation.py\", line 112, in result\n",
      "    locs = (self.locs[0], player_location) if self.player() else (player_location, self.locs[1])\n",
      "  File \"../isolation/isolation.py\", line 83, in player\n",
      "    return self.ply_count % 2\n",
      "KeyboardInterrupt\n"
     ]
    },
    {
     "ename": "KeyboardInterrupt",
     "evalue": "",
     "output_type": "error",
     "traceback": [
      "\u001b[0;31m---------------------------------------------------------------------------\u001b[0m",
      "\u001b[0;31mIndexError\u001b[0m                                Traceback (most recent call last)",
      "\u001b[0;32m~/anaconda3/envs/aind/lib/python3.5/multiprocessing/pool.py\u001b[0m in \u001b[0;36mnext\u001b[0;34m(self, timeout)\u001b[0m\n\u001b[1;32m    715\u001b[0m             \u001b[0;32mtry\u001b[0m\u001b[0;34m:\u001b[0m\u001b[0;34m\u001b[0m\u001b[0m\n\u001b[0;32m--> 716\u001b[0;31m                 \u001b[0mitem\u001b[0m \u001b[0;34m=\u001b[0m \u001b[0mself\u001b[0m\u001b[0;34m.\u001b[0m\u001b[0m_items\u001b[0m\u001b[0;34m.\u001b[0m\u001b[0mpopleft\u001b[0m\u001b[0;34m(\u001b[0m\u001b[0;34m)\u001b[0m\u001b[0;34m\u001b[0m\u001b[0m\n\u001b[0m\u001b[1;32m    717\u001b[0m             \u001b[0;32mexcept\u001b[0m \u001b[0mIndexError\u001b[0m\u001b[0;34m:\u001b[0m\u001b[0;34m\u001b[0m\u001b[0m\n",
      "\u001b[0;31mIndexError\u001b[0m: pop from an empty deque",
      "\nDuring handling of the above exception, another exception occurred:\n",
      "\u001b[0;31mKeyboardInterrupt\u001b[0m                         Traceback (most recent call last)",
      "\u001b[0;32m<ipython-input-3-d691c8be528a>\u001b[0m in \u001b[0;36m<module>\u001b[0;34m()\u001b[0m\n\u001b[1;32m     28\u001b[0m     \u001b[0mbatch\u001b[0m \u001b[0;34m=\u001b[0m \u001b[0mbatches\u001b[0m\u001b[0;34m[\u001b[0m\u001b[0mbatch_num\u001b[0m\u001b[0;34m]\u001b[0m\u001b[0;34m\u001b[0m\u001b[0m\n\u001b[1;32m     29\u001b[0m     \u001b[0mprint\u001b[0m\u001b[0;34m(\u001b[0m\u001b[0;34m'Processing batch {} of {}'\u001b[0m\u001b[0;34m.\u001b[0m\u001b[0mformat\u001b[0m\u001b[0;34m(\u001b[0m\u001b[0mbatch_num\u001b[0m\u001b[0;34m,\u001b[0m \u001b[0mlen\u001b[0m\u001b[0;34m(\u001b[0m\u001b[0mbatches\u001b[0m\u001b[0;34m)\u001b[0m\u001b[0;34m)\u001b[0m\u001b[0;34m)\u001b[0m\u001b[0;34m\u001b[0m\u001b[0m\n\u001b[0;32m---> 30\u001b[0;31m     \u001b[0;32mfor\u001b[0m \u001b[0mresult\u001b[0m \u001b[0;32min\u001b[0m \u001b[0mpool\u001b[0m\u001b[0;34m.\u001b[0m\u001b[0mimap_unordered\u001b[0m\u001b[0;34m(\u001b[0m\u001b[0misolation\u001b[0m\u001b[0;34m.\u001b[0m\u001b[0mplay\u001b[0m\u001b[0;34m,\u001b[0m \u001b[0mbatch\u001b[0m\u001b[0;34m)\u001b[0m\u001b[0;34m:\u001b[0m\u001b[0;34m\u001b[0m\u001b[0m\n\u001b[0m\u001b[1;32m     31\u001b[0m         \u001b[0mwinner\u001b[0m\u001b[0;34m,\u001b[0m \u001b[0mgame_history\u001b[0m\u001b[0;34m,\u001b[0m \u001b[0mmatch_id\u001b[0m \u001b[0;34m=\u001b[0m \u001b[0mresult\u001b[0m\u001b[0;34m\u001b[0m\u001b[0m\n\u001b[1;32m     32\u001b[0m         \u001b[0;31m# print('Results for match {}: {} wins.'.format(match_id, winner.name))\u001b[0m\u001b[0;34m\u001b[0m\u001b[0;34m\u001b[0m\u001b[0m\n",
      "\u001b[0;32m~/anaconda3/envs/aind/lib/python3.5/multiprocessing/pool.py\u001b[0m in \u001b[0;36mnext\u001b[0;34m(self, timeout)\u001b[0m\n\u001b[1;32m    718\u001b[0m                 \u001b[0;32mif\u001b[0m \u001b[0mself\u001b[0m\u001b[0;34m.\u001b[0m\u001b[0m_index\u001b[0m \u001b[0;34m==\u001b[0m \u001b[0mself\u001b[0m\u001b[0;34m.\u001b[0m\u001b[0m_length\u001b[0m\u001b[0;34m:\u001b[0m\u001b[0;34m\u001b[0m\u001b[0m\n\u001b[1;32m    719\u001b[0m                     \u001b[0;32mraise\u001b[0m \u001b[0mStopIteration\u001b[0m\u001b[0;34m\u001b[0m\u001b[0m\n\u001b[0;32m--> 720\u001b[0;31m                 \u001b[0mself\u001b[0m\u001b[0;34m.\u001b[0m\u001b[0m_cond\u001b[0m\u001b[0;34m.\u001b[0m\u001b[0mwait\u001b[0m\u001b[0;34m(\u001b[0m\u001b[0mtimeout\u001b[0m\u001b[0;34m)\u001b[0m\u001b[0;34m\u001b[0m\u001b[0m\n\u001b[0m\u001b[1;32m    721\u001b[0m                 \u001b[0;32mtry\u001b[0m\u001b[0;34m:\u001b[0m\u001b[0;34m\u001b[0m\u001b[0m\n\u001b[1;32m    722\u001b[0m                     \u001b[0mitem\u001b[0m \u001b[0;34m=\u001b[0m \u001b[0mself\u001b[0m\u001b[0;34m.\u001b[0m\u001b[0m_items\u001b[0m\u001b[0;34m.\u001b[0m\u001b[0mpopleft\u001b[0m\u001b[0;34m(\u001b[0m\u001b[0;34m)\u001b[0m\u001b[0;34m\u001b[0m\u001b[0m\n",
      "\u001b[0;32m~/anaconda3/envs/aind/lib/python3.5/threading.py\u001b[0m in \u001b[0;36mwait\u001b[0;34m(self, timeout)\u001b[0m\n\u001b[1;32m    291\u001b[0m         \u001b[0;32mtry\u001b[0m\u001b[0;34m:\u001b[0m    \u001b[0;31m# restore state no matter what (e.g., KeyboardInterrupt)\u001b[0m\u001b[0;34m\u001b[0m\u001b[0m\n\u001b[1;32m    292\u001b[0m             \u001b[0;32mif\u001b[0m \u001b[0mtimeout\u001b[0m \u001b[0;32mis\u001b[0m \u001b[0;32mNone\u001b[0m\u001b[0;34m:\u001b[0m\u001b[0;34m\u001b[0m\u001b[0m\n\u001b[0;32m--> 293\u001b[0;31m                 \u001b[0mwaiter\u001b[0m\u001b[0;34m.\u001b[0m\u001b[0macquire\u001b[0m\u001b[0;34m(\u001b[0m\u001b[0;34m)\u001b[0m\u001b[0;34m\u001b[0m\u001b[0m\n\u001b[0m\u001b[1;32m    294\u001b[0m                 \u001b[0mgotit\u001b[0m \u001b[0;34m=\u001b[0m \u001b[0;32mTrue\u001b[0m\u001b[0;34m\u001b[0m\u001b[0m\n\u001b[1;32m    295\u001b[0m             \u001b[0;32melse\u001b[0m\u001b[0;34m:\u001b[0m\u001b[0;34m\u001b[0m\u001b[0m\n",
      "\u001b[0;31mKeyboardInterrupt\u001b[0m: "
     ]
    }
   ],
   "source": [
    "num_processes = 4\n",
    "batch_size = 100\n",
    "batch_num_file = 'batch_num.txt'\n",
    "\n",
    "# Small test for debugging\n",
    "# matches = matches[:100]\n",
    "\n",
    "# Create or load the book\n",
    "book = b.load_latest_book(depth=depth)\n",
    "\n",
    "# Make some batches to save the results once in a while\n",
    "x = matches\n",
    "batches = [x[i*batch_size:(i+1)*batch_size] \n",
    "           for i in range(len(x) // batch_size + (len(x) % batch_size != 0))]\n",
    "\n",
    "# Get only the unprocessed batches\n",
    "if os.path.exists(batch_num_file):\n",
    "    with open(batch_num_file, 'r') as file:\n",
    "        last_batch = int(file.read())\n",
    "else:\n",
    "    last_batch = -1\n",
    "\n",
    "# Now fill the book!\n",
    "pool = Pool(num_processes)\n",
    "\n",
    "for batch_num in range(last_batch + 1, len(batches)):\n",
    "    tic = time.time()\n",
    "    batch = batches[batch_num]\n",
    "    print('Processing batch {} of {}'.format(batch_num, len(batches)))\n",
    "    for result in pool.imap_unordered(isolation.play, batch):\n",
    "        winner, game_history, match_id = result\n",
    "        # print('Results for match {}: {} wins.'.format(match_id, winner.name))\n",
    "        _, state, _, _ = matches[match_id]\n",
    "        if state.locs[1] is not None:\n",
    "            game_history.insert(0,state.locs[1])\n",
    "        if state.locs[0] is not None:\n",
    "            game_history.insert(0,state.locs[0])\n",
    "        root = isolation.isolation.Isolation()\n",
    "        b.process_game_history(root,\n",
    "                               game_history, \n",
    "                               book,\n",
    "                               agent_names.index(winner.name),\n",
    "                               active_player=state.ply_count % 2,\n",
    "                               depth=depth)\n",
    "    toc = time.time()\n",
    "    print('Batch time {} seconds.'.format((toc-tic)))\n",
    "    b.save_book(book)\n",
    "    with open(batch_num_file, 'w') as file:\n",
    "        file.write(str(batch_num))\n",
    "    b.remove_old_books()"
   ]
  },
  {
   "cell_type": "code",
   "execution_count": null,
   "metadata": {
    "collapsed": true
   },
   "outputs": [],
   "source": []
  },
  {
   "cell_type": "code",
   "execution_count": 4,
   "metadata": {
    "collapsed": false
   },
   "outputs": [
    {
     "data": {
      "text/plain": [
       "83082"
      ]
     },
     "execution_count": 4,
     "metadata": {},
     "output_type": "execute_result"
    }
   ],
   "source": [
    "sum(abs(value) for value in book.values())"
   ]
  },
  {
   "cell_type": "code",
   "execution_count": null,
   "metadata": {
    "collapsed": false
   },
   "outputs": [],
   "source": [
    "29403*34 / (10*3600)  # Estimated time in hours"
   ]
  },
  {
   "cell_type": "code",
   "execution_count": 5,
   "metadata": {
    "collapsed": false
   },
   "outputs": [],
   "source": [
    "import pandas as pd\n",
    "\n",
    "v = pd.Series(list(book.values()))"
   ]
  },
  {
   "cell_type": "code",
   "execution_count": 6,
   "metadata": {
    "collapsed": false
   },
   "outputs": [
    {
     "data": {
      "text/plain": [
       "<matplotlib.axes._subplots.AxesSubplot at 0x7fabcc3e0668>"
      ]
     },
     "execution_count": 6,
     "metadata": {},
     "output_type": "execute_result"
    },
    {
     "data": {
      "image/png": "[encoded data removed]",
      "text/plain": [
       "<matplotlib.figure.Figure at 0x7fabcb8b6898>"
      ]
     },
     "metadata": {},
     "output_type": "display_data"
    }
   ],
   "source": [
    "v.hist(bins=50)"
   ]
  },
  {
   "cell_type": "code",
   "execution_count": 7,
   "metadata": {
    "collapsed": false
   },
   "outputs": [
    {
     "data": {
      "text/plain": [
       "count    374097.000000\n",
       "mean         -0.001844\n",
       "std           0.838411\n",
       "min         -50.000000\n",
       "25%           0.000000\n",
       "50%           0.000000\n",
       "75%           0.000000\n",
       "max          34.000000\n",
       "dtype: float64"
      ]
     },
     "execution_count": 7,
     "metadata": {},
     "output_type": "execute_result"
    }
   ],
   "source": [
    "v.describe()"
   ]
  },
  {
   "cell_type": "code",
   "execution_count": 8,
   "metadata": {
    "collapsed": false
   },
   "outputs": [
    {
     "data": {
      "text/plain": [
       "-50"
      ]
     },
     "execution_count": 8,
     "metadata": {},
     "output_type": "execute_result"
    }
   ],
   "source": [
    "v.min()"
   ]
  },
  {
   "cell_type": "code",
   "execution_count": 9,
   "metadata": {
    "collapsed": false
   },
   "outputs": [
    {
     "data": {
      "text/plain": [
       "(Isolation(board=41523161203939122082683632224299007, ply_count=0, locs=(None, None)),\n",
       " 55)"
      ]
     },
     "execution_count": 9,
     "metadata": {},
     "output_type": "execute_result"
    }
   ],
   "source": [
    "worst = min(((k, v) for k, v in book.items()), key=lambda x: x[1])\n",
    "worst[0]"
   ]
  },
  {
   "cell_type": "code",
   "execution_count": 11,
   "metadata": {
    "collapsed": false
   },
   "outputs": [
    {
     "name": "stdout",
     "output_type": "stream",
     "text": [
      "\n",
      "+ - + - + - + - + - + - + - + - + - + - + - +\n",
      "|   |   |   |   |   |   |   |   |   |   |   |\n",
      "+ - + - + - + - + - + - + - + - + - + - + - +\n",
      "|   |   |   |   |   |   |   |   |   |   |   |\n",
      "+ - + - + - + - + - + - + - + - + - + - + - +\n",
      "|   |   |   |   |   |   |   |   |   |   |   |\n",
      "+ - + - + - + - + - + - + - + - + - + - + - +\n",
      "|   |   |   |   |   |   |   |   |   |   |   |\n",
      "+ - + - + - + - + - + - + - + - + - + - + - +\n",
      "|   |   |   |   |   |   |   |   |   |   |   |\n",
      "+ - + - + - + - + - + - + - + - + - + - + - +\n",
      "|   |   |   |   |   | 1 |   |   |   |   |   |\n",
      "+ - + - + - + - + - + - + - + - + - + - + - +\n",
      "|   |   |   |   |   |   |   |   |   |   |   |\n",
      "+ - + - + - + - + - + - + - + - + - + - + - +\n",
      "|   |   |   |   |   |   |   |   |   |   |   |\n",
      "+ - + - + - + - + - + - + - + - + - + - + - +\n",
      "|   |   |   |   |   |   |   |   |   |   |   |\n",
      "+ - + - + - + - + - + - + - + - + - + - + - +\n",
      "\n"
     ]
    }
   ],
   "source": [
    "from isolation.isolation import Isolation\n",
    "state = Isolation(board=41523161203939122082683632224299007, ply_count=0, locs=(None, None))\n",
    "\n",
    "print(isolation.DebugState.from_state(state.result(44)))"
   ]
  },
  {
   "cell_type": "markdown",
   "metadata": {
    "collapsed": true
   },
   "source": [
    "What about the other symmetrical ones"
   ]
  },
  {
   "cell_type": "code",
   "execution_count": 12,
   "metadata": {
    "collapsed": true
   },
   "outputs": [],
   "source": [
    "s1 = (Isolation(board=41523161203939122082683632224299007, ply_count=0, locs=(None, None)), 65)\n",
    "s2 = (Isolation(board=41523161203939122082683632224299007, ply_count=0, locs=(None, None)), 67)\n",
    "s3 = (Isolation(board=41523161203939122082683632224299007, ply_count=0, locs=(None, None)), 77)"
   ]
  },
  {
   "cell_type": "code",
   "execution_count": 13,
   "metadata": {
    "collapsed": false
   },
   "outputs": [
    {
     "data": {
      "text/plain": [
       "-44"
      ]
     },
     "execution_count": 13,
     "metadata": {},
     "output_type": "execute_result"
    }
   ],
   "source": [
    "book[s1]"
   ]
  },
  {
   "cell_type": "code",
   "execution_count": 14,
   "metadata": {
    "collapsed": false
   },
   "outputs": [
    {
     "data": {
      "text/plain": [
       "2"
      ]
     },
     "execution_count": 14,
     "metadata": {},
     "output_type": "execute_result"
    }
   ],
   "source": [
    "book[s2]"
   ]
  },
  {
   "cell_type": "code",
   "execution_count": 17,
   "metadata": {
    "collapsed": false
   },
   "outputs": [
    {
     "ename": "KeyError",
     "evalue": "(Isolation(board=41523161203939122082683632224299007, ply_count=0, locs=(None, None)), 77)",
     "output_type": "error",
     "traceback": [
      "\u001b[0;31m---------------------------------------------------------------------------\u001b[0m",
      "\u001b[0;31mKeyError\u001b[0m                                  Traceback (most recent call last)",
      "\u001b[0;32m<ipython-input-17-24ec0a1f3d08>\u001b[0m in \u001b[0;36m<module>\u001b[0;34m()\u001b[0m\n\u001b[0;32m----> 1\u001b[0;31m \u001b[0mbook\u001b[0m\u001b[0;34m[\u001b[0m\u001b[0ms3\u001b[0m\u001b[0;34m]\u001b[0m\u001b[0;34m\u001b[0m\u001b[0m\n\u001b[0m",
      "\u001b[0;31mKeyError\u001b[0m: (Isolation(board=41523161203939122082683632224299007, ply_count=0, locs=(None, None)), 77)"
     ]
    }
   ],
   "source": [
    "book[s3]"
   ]
  },
  {
   "cell_type": "markdown",
   "metadata": {},
   "source": [
    "### I think I have ply_count=1,2,3,4 in the book but not ply_count=0"
   ]
  },
  {
   "cell_type": "code",
   "execution_count": 18,
   "metadata": {
    "collapsed": false
   },
   "outputs": [
    {
     "data": {
      "text/plain": [
       "374097"
      ]
     },
     "execution_count": 18,
     "metadata": {},
     "output_type": "execute_result"
    }
   ],
   "source": [
    "len(book.items())"
   ]
  },
  {
   "cell_type": "code",
   "execution_count": 16,
   "metadata": {
    "collapsed": false
   },
   "outputs": [
    {
     "data": {
      "text/plain": [
       "-50"
      ]
     },
     "execution_count": 16,
     "metadata": {},
     "output_type": "execute_result"
    }
   ],
   "source": [
    "s0 = (Isolation(board=41523161203939122082683632224299007, ply_count=0, locs=(None, None)), 55)\n",
    "book[s0]"
   ]
  },
  {
   "cell_type": "markdown",
   "metadata": {},
   "source": [
    "### Idea: show a heat matrix for the initial move"
   ]
  },
  {
   "cell_type": "code",
   "execution_count": null,
   "metadata": {
    "collapsed": true
   },
   "outputs": [],
   "source": []
  }
 ],
 "metadata": {
  "kernelspec": {
   "display_name": "aind",
   "language": "python",
   "name": "aind"
  },
  "language_info": {
   "codemirror_mode": {
    "name": "ipython",
    "version": 3
   },
   "file_extension": ".py",
   "mimetype": "text/x-python",
   "name": "python",
   "nbconvert_exporter": "python",
   "pygments_lexer": "ipython3",
   "version": "3.5.4"
  }
 },
 "nbformat": 4,
 "nbformat_minor": 2
}
