{
 "cells": [
  {
   "cell_type": "code",
   "execution_count": 1,
   "metadata": {
    "collapsed": true
   },
   "outputs": [],
   "source": [
    "import sys\n",
    "sys.path.append('..')\n",
    "\n",
    "from itertools import chain, combinations\n",
    "from aimacode.planning import Action\n",
    "from aimacode.utils import expr\n",
    "\n",
    "from layers import BaseActionLayer, BaseLiteralLayer, makeNoOp, make_node"
   ]
  },
  {
   "cell_type": "code",
   "execution_count": 2,
   "metadata": {
    "collapsed": true
   },
   "outputs": [],
   "source": [
    "class ActionLayer(BaseActionLayer):\n",
    "\n",
    "    def _inconsistent_effects(self, actionA, actionB):\n",
    "        \"\"\" Return True if an effect of one action negates an effect of the other\n",
    "\n",
    "        See Also\n",
    "        --------\n",
    "        layers.ActionNode\n",
    "        \"\"\"\n",
    "        # TODO: implement this function\n",
    "        raise NotImplementedError\n",
    "\n",
    "\n",
    "    def _interference(self, actionA, actionB):\n",
    "        \"\"\" Return True if the effects of either action negate the preconditions of the other \n",
    "        \n",
    "        See Also\n",
    "        --------\n",
    "        layers.ActionNode\n",
    "        \"\"\"\n",
    "        # TODO: implement this function\n",
    "        raise NotImplementedError\n",
    "\n",
    "    def _competing_needs(self, actionA, actionB):\n",
    "        \"\"\" Return True if any preconditions of the two actions are pairwise mutex in the parent layer\n",
    "        \n",
    "        See Also\n",
    "        --------\n",
    "        layers.ActionNode\n",
    "        layers.BaseLayer.parent_layer\n",
    "        \"\"\"\n",
    "        # TODO: implement this function\n",
    "        raise NotImplementedError"
   ]
  },
  {
   "cell_type": "code",
   "execution_count": 3,
   "metadata": {
    "collapsed": true
   },
   "outputs": [],
   "source": [
    "def _inconsistent_effects(self, actionA, actionB):\n",
    "        \"\"\" Return True if an effect of one action negates an effect of the other\n",
    "\n",
    "        See Also\n",
    "        --------\n",
    "        layers.ActionNode\n",
    "        \"\"\"\n",
    "        # TODO: implement this function\n",
    "        raise NotImplementedError"
   ]
  },
  {
   "cell_type": "code",
   "execution_count": 4,
   "metadata": {
    "collapsed": true
   },
   "outputs": [],
   "source": [
    "from layers import ActionNode"
   ]
  },
  {
   "cell_type": "code",
   "execution_count": 5,
   "metadata": {},
   "outputs": [
    {
     "name": "stdout",
     "output_type": "stream",
     "text": [
      " Efficient representation of Actions for planning graph\n",
      "\n",
      "    Attributes\n",
      "    ----------\n",
      "    expr : Expr\n",
      "        An instance of aimacode.utils.Expr (a string-based symbolic expression)\n",
      "\n",
      "    preconditions : set()\n",
      "        A set of mixed positive and negative literal aimacode.utils.Expr\n",
      "        expressions (symbolic representations like X, ~Y, etc.) that are\n",
      "        preconditions of this action\n",
      "        \n",
      "    effects : set()\n",
      "        A set of mixed positive and negative literal aimacode.utils.Expr\n",
      "        expressions (symbolic representations like X, ~Y, etc.) that are\n",
      "        results of applying this action\n",
      "\n",
      "    no_op : bool\n",
      "        A boolean flag indicating whether the instance is a no-op action\n",
      "        (used to serialize planning graphs)\n",
      "    \n"
     ]
    }
   ],
   "source": [
    "print(ActionNode.__doc__)"
   ]
  },
  {
   "cell_type": "code",
   "execution_count": 6,
   "metadata": {
    "collapsed": true
   },
   "outputs": [],
   "source": [
    "import example_have_cake as ex"
   ]
  },
  {
   "cell_type": "code",
   "execution_count": 7,
   "metadata": {
    "collapsed": true
   },
   "outputs": [],
   "source": [
    "cake_problem = ex.have_cake()"
   ]
  },
  {
   "cell_type": "code",
   "execution_count": 8,
   "metadata": {
    "collapsed": true
   },
   "outputs": [],
   "source": [
    "actions = cake_problem.get_actions()"
   ]
  },
  {
   "cell_type": "code",
   "execution_count": 9,
   "metadata": {},
   "outputs": [
    {
     "data": {
      "text/plain": [
       "aimacode.planning.Action"
      ]
     },
     "execution_count": 9,
     "metadata": {},
     "output_type": "execute_result"
    }
   ],
   "source": [
    "type(actions[0])"
   ]
  },
  {
   "cell_type": "code",
   "execution_count": 10,
   "metadata": {
    "collapsed": true
   },
   "outputs": [],
   "source": [
    "precond_pos = [expr(\"Have(Cake)\")]\n",
    "precond_neg = []\n",
    "effect_add = [expr(\"Eaten(Cake)\")]\n",
    "effect_rem = [expr(\"Have(Cake)\")]\n",
    "eat_action = Action(expr(\"Eat(Cake)\"),\n",
    "                    [precond_pos, precond_neg],\n",
    "                    [effect_add, effect_rem])"
   ]
  },
  {
   "cell_type": "code",
   "execution_count": 11,
   "metadata": {},
   "outputs": [
    {
     "data": {
      "text/plain": [
       "<aimacode.planning.Action at 0x10f524860>"
      ]
     },
     "execution_count": 11,
     "metadata": {},
     "output_type": "execute_result"
    }
   ],
   "source": [
    "eat_action"
   ]
  },
  {
   "cell_type": "code",
   "execution_count": 12,
   "metadata": {
    "collapsed": true
   },
   "outputs": [],
   "source": [
    "preconditions = {expr(\"Have(Cake)\")}\n",
    "symbol = expr(\"Eat(Cake)\")\n",
    "effects = {expr(\"Eaten(Cake)\"), expr(\"~Have(Cake)\")}\n",
    "a1 = ActionNode(symbol, preconditions, effects, no_op=False)"
   ]
  },
  {
   "cell_type": "code",
   "execution_count": 13,
   "metadata": {
    "collapsed": true
   },
   "outputs": [],
   "source": [
    "preconditions = {expr(\"~Have(Cake)\")}\n",
    "symbol = expr(\"Bake(Cake)\")\n",
    "effects = {expr(\"Have(Cake)\")}\n",
    "a2 = ActionNode(symbol, preconditions, effects, no_op=False)"
   ]
  },
  {
   "cell_type": "code",
   "execution_count": 14,
   "metadata": {},
   "outputs": [
    {
     "data": {
      "text/plain": [
       "Eat(Cake)"
      ]
     },
     "execution_count": 14,
     "metadata": {},
     "output_type": "execute_result"
    }
   ],
   "source": [
    "a1"
   ]
  },
  {
   "cell_type": "code",
   "execution_count": 15,
   "metadata": {},
   "outputs": [
    {
     "data": {
      "text/plain": [
       "Bake(Cake)"
      ]
     },
     "execution_count": 15,
     "metadata": {},
     "output_type": "execute_result"
    }
   ],
   "source": [
    "a2"
   ]
  },
  {
   "cell_type": "code",
   "execution_count": 16,
   "metadata": {},
   "outputs": [
    {
     "data": {
      "text/plain": [
       "{Eaten(Cake), ~Have(Cake)}"
      ]
     },
     "execution_count": 16,
     "metadata": {},
     "output_type": "execute_result"
    }
   ],
   "source": [
    "a1.effects"
   ]
  },
  {
   "cell_type": "code",
   "execution_count": 17,
   "metadata": {},
   "outputs": [
    {
     "data": {
      "text/plain": [
       "{Have(Cake)}"
      ]
     },
     "execution_count": 17,
     "metadata": {},
     "output_type": "execute_result"
    }
   ],
   "source": [
    "a2.effects"
   ]
  },
  {
   "cell_type": "code",
   "execution_count": 18,
   "metadata": {
    "collapsed": true
   },
   "outputs": [],
   "source": [
    "a1_iter = iter(a1.effects)\n",
    "e = next(a1_iter)"
   ]
  },
  {
   "cell_type": "code",
   "execution_count": 19,
   "metadata": {},
   "outputs": [
    {
     "data": {
      "text/plain": [
       "Have(Cake)"
      ]
     },
     "execution_count": 19,
     "metadata": {},
     "output_type": "execute_result"
    }
   ],
   "source": [
    "e.__invert__()"
   ]
  },
  {
   "cell_type": "code",
   "execution_count": 20,
   "metadata": {
    "collapsed": true
   },
   "outputs": [],
   "source": [
    "e2 = next(iter(a2.effects))"
   ]
  },
  {
   "cell_type": "code",
   "execution_count": 21,
   "metadata": {},
   "outputs": [
    {
     "data": {
      "text/plain": [
       "False"
      ]
     },
     "execution_count": 21,
     "metadata": {},
     "output_type": "execute_result"
    }
   ],
   "source": [
    "e.__eq__(e2)"
   ]
  },
  {
   "cell_type": "code",
   "execution_count": 22,
   "metadata": {
    "collapsed": true
   },
   "outputs": [],
   "source": [
    "e1 = next(a1_iter)"
   ]
  },
  {
   "cell_type": "code",
   "execution_count": 23,
   "metadata": {},
   "outputs": [
    {
     "data": {
      "text/plain": [
       "{Eaten(Cake), ~Have(Cake)}"
      ]
     },
     "execution_count": 23,
     "metadata": {},
     "output_type": "execute_result"
    }
   ],
   "source": [
    "a1.effects"
   ]
  },
  {
   "cell_type": "code",
   "execution_count": 24,
   "metadata": {},
   "outputs": [
    {
     "data": {
      "text/plain": [
       "False"
      ]
     },
     "execution_count": 24,
     "metadata": {},
     "output_type": "execute_result"
    }
   ],
   "source": [
    "e1.__eq__(e2.__invert__())"
   ]
  },
  {
   "cell_type": "code",
   "execution_count": 25,
   "metadata": {},
   "outputs": [
    {
     "data": {
      "text/plain": [
       "Eaten(Cake)"
      ]
     },
     "execution_count": 25,
     "metadata": {},
     "output_type": "execute_result"
    }
   ],
   "source": [
    "e1"
   ]
  },
  {
   "cell_type": "code",
   "execution_count": 26,
   "metadata": {},
   "outputs": [
    {
     "data": {
      "text/plain": [
       "Have(Cake)"
      ]
     },
     "execution_count": 26,
     "metadata": {},
     "output_type": "execute_result"
    }
   ],
   "source": [
    "e2"
   ]
  },
  {
   "cell_type": "code",
   "execution_count": 27,
   "metadata": {},
   "outputs": [
    {
     "data": {
      "text/plain": [
       "[(~Have(Cake), Have(Cake)), (Eaten(Cake), Have(Cake))]"
      ]
     },
     "execution_count": 27,
     "metadata": {},
     "output_type": "execute_result"
    }
   ],
   "source": [
    "from itertools import product\n",
    "\n",
    "list(product(a1.effects, a2.effects))"
   ]
  },
  {
   "cell_type": "code",
   "execution_count": 28,
   "metadata": {},
   "outputs": [
    {
     "data": {
      "text/plain": [
       "True"
      ]
     },
     "execution_count": 28,
     "metadata": {},
     "output_type": "execute_result"
    }
   ],
   "source": [
    "inconsistent = False\n",
    "for e1, e2 in product(a1.effects, a2.effects):\n",
    "    inconsistent = e1.__eq__(e2.__invert__())\n",
    "    if inconsistent:\n",
    "        break\n",
    "inconsistent"
   ]
  },
  {
   "cell_type": "code",
   "execution_count": 29,
   "metadata": {
    "collapsed": true
   },
   "outputs": [],
   "source": [
    "def _inconsistent_effects(self, actionA, actionB):\n",
    "    \"\"\" Return True if an effect of one action negates an effect of the other\n",
    "\n",
    "    See Also\n",
    "    --------\n",
    "    layers.ActionNode\n",
    "    \"\"\"\n",
    "    inconsistent = False\n",
    "    for e1, e2 in product(actionA.effects, actionB.effects):\n",
    "        inconsistent = e1.__eq__(e2.__invert__())\n",
    "        if inconsistent:\n",
    "            break\n",
    "    return inconsistent"
   ]
  },
  {
   "cell_type": "code",
   "execution_count": 30,
   "metadata": {},
   "outputs": [
    {
     "data": {
      "text/plain": [
       "True"
      ]
     },
     "execution_count": 30,
     "metadata": {},
     "output_type": "execute_result"
    }
   ],
   "source": [
    "_inconsistent_effects(None, a1, a2)"
   ]
  },
  {
   "cell_type": "markdown",
   "metadata": {
    "collapsed": true
   },
   "source": [
    "### Interference"
   ]
  },
  {
   "cell_type": "code",
   "execution_count": 33,
   "metadata": {},
   "outputs": [
    {
     "name": "stdout",
     "output_type": "stream",
     "text": [
      "{Have(Cake)}\n",
      "{~Have(Cake), Eaten(Cake)}\n"
     ]
    },
    {
     "data": {
      "text/plain": [
       "Eat(Cake)"
      ]
     },
     "execution_count": 33,
     "metadata": {},
     "output_type": "execute_result"
    }
   ],
   "source": [
    "print(a1.preconditions)\n",
    "print(a1.effects)\n",
    "a1"
   ]
  },
  {
   "cell_type": "code",
   "execution_count": 34,
   "metadata": {},
   "outputs": [
    {
     "name": "stdout",
     "output_type": "stream",
     "text": [
      "{~Have(Cake)}\n",
      "{Have(Cake)}\n"
     ]
    },
    {
     "data": {
      "text/plain": [
       "Bake(Cake)"
      ]
     },
     "execution_count": 34,
     "metadata": {},
     "output_type": "execute_result"
    }
   ],
   "source": [
    "print(a2.preconditions)\n",
    "print(a2.effects)\n",
    "a2"
   ]
  },
  {
   "cell_type": "markdown",
   "metadata": {},
   "source": [
    "a1 y a2 no interfieren, pero a2 interfiere consigo misma."
   ]
  },
  {
   "cell_type": "code",
   "execution_count": null,
   "metadata": {
    "collapsed": true
   },
   "outputs": [],
   "source": []
  },
  {
   "cell_type": "code",
   "execution_count": 35,
   "metadata": {
    "collapsed": true
   },
   "outputs": [],
   "source": [
    "    def _interference(self, actionA, actionB):\n",
    "        \"\"\" Return True if the effects of either action negate the preconditions of the other \n",
    "        \n",
    "        See Also\n",
    "        --------\n",
    "        layers.ActionNode\n",
    "        \"\"\"\n",
    "        inconsistent = False\n",
    "        for p1, e2 in product(actionA.preconditions, actionB.effects):\n",
    "            inconsistent = p1.__eq__(e2.__invert__())\n",
    "            if inconsistent:\n",
    "                return True\n",
    "        for e1, p2 in product(actionA.effects, actionB.preconditions):\n",
    "            inconsistent = e1.__eq__(p2.__invert__())\n",
    "            if inconsistent:\n",
    "                return True\n",
    "        return inconsistent"
   ]
  },
  {
   "cell_type": "code",
   "execution_count": 37,
   "metadata": {},
   "outputs": [
    {
     "data": {
      "text/plain": [
       "False"
      ]
     },
     "execution_count": 37,
     "metadata": {},
     "output_type": "execute_result"
    }
   ],
   "source": [
    "_interference(None, a1,a2)"
   ]
  },
  {
   "cell_type": "code",
   "execution_count": 38,
   "metadata": {},
   "outputs": [
    {
     "data": {
      "text/plain": [
       "True"
      ]
     },
     "execution_count": 38,
     "metadata": {},
     "output_type": "execute_result"
    }
   ],
   "source": [
    "_interference(None, a2, a2)"
   ]
  },
  {
   "cell_type": "markdown",
   "metadata": {},
   "source": [
    "### Competing needs"
   ]
  },
  {
   "cell_type": "markdown",
   "metadata": {},
   "source": [
    "I won't simulate this because it would require to build a 2-layers graph and I think I can solve this function without so much work. If the first approach doesn't work I may do the simulation."
   ]
  },
  {
   "cell_type": "code",
   "execution_count": 39,
   "metadata": {
    "collapsed": true
   },
   "outputs": [],
   "source": [
    "def _competing_needs(self, actionA, actionB):\n",
    "        \"\"\" Return True if any preconditions of the two actions are pairwise \n",
    "        mutex in the parent layer\n",
    "        \n",
    "        See Also\n",
    "        --------\n",
    "        layers.ActionNode\n",
    "        layers.BaseLayer.parent_layer\n",
    "        \"\"\"\n",
    "        return self.parent_layer.is_mutex(actionA, actionB)"
   ]
  },
  {
   "cell_type": "markdown",
   "metadata": {},
   "source": [
    "### The complete class"
   ]
  },
  {
   "cell_type": "code",
   "execution_count": 40,
   "metadata": {
    "collapsed": true
   },
   "outputs": [],
   "source": [
    "class ActionLayer(BaseActionLayer):\n",
    "\n",
    "    def _inconsistent_effects(self, actionA, actionB):\n",
    "        \"\"\" Return True if an effect of one action negates an effect of the other\n",
    "\n",
    "        See Also\n",
    "        --------\n",
    "        layers.ActionNode\n",
    "        \"\"\"\n",
    "        inconsistent = False\n",
    "        for e1, e2 in product(actionA.effects, actionB.effects):\n",
    "            inconsistent = e1.__eq__(e2.__invert__())\n",
    "            if inconsistent:\n",
    "                break\n",
    "        return inconsistent\n",
    "\n",
    "\n",
    "    def _interference(self, actionA, actionB):\n",
    "        \"\"\" Return True if the effects of either action negate the preconditions of the other \n",
    "        \n",
    "        See Also\n",
    "        --------\n",
    "        layers.ActionNode\n",
    "        \"\"\"\n",
    "        inconsistent = False\n",
    "        for p1, e2 in product(actionA.preconditions, actionB.effects):\n",
    "            inconsistent = p1.__eq__(e2.__invert__())\n",
    "            if inconsistent:\n",
    "                return True\n",
    "        for e1, p2 in product(actionA.effects, actionB.preconditions):\n",
    "            inconsistent = e1.__eq__(p2.__invert__())\n",
    "            if inconsistent:\n",
    "                return True\n",
    "        return inconsistent\n",
    "\n",
    "    def _competing_needs(self, actionA, actionB):\n",
    "        \"\"\" Return True if any preconditions of the two actions are pairwise mutex in the parent layer\n",
    "        \n",
    "        See Also\n",
    "        --------\n",
    "        layers.ActionNode\n",
    "        layers.BaseLayer.parent_layer\n",
    "        \"\"\"\n",
    "        return self.parent_layer.is_mutex(actionA, actionB)"
   ]
  },
  {
   "cell_type": "code",
   "execution_count": null,
   "metadata": {
    "collapsed": true
   },
   "outputs": [],
   "source": []
  }
 ],
 "metadata": {
  "kernelspec": {
   "display_name": "aind",
   "language": "python",
   "name": "aind"
  },
  "language_info": {
   "codemirror_mode": {
    "name": "ipython",
    "version": 3
   },
   "file_extension": ".py",
   "mimetype": "text/x-python",
   "name": "python",
   "nbconvert_exporter": "python",
   "pygments_lexer": "ipython3",
   "version": "3.5.4"
  }
 },
 "nbformat": 4,
 "nbformat_minor": 2
}
