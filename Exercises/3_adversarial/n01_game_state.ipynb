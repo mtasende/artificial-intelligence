{
 "cells": [
  {
   "cell_type": "code",
   "execution_count": 123,
   "metadata": {
    "collapsed": false
   },
   "outputs": [
    {
     "data": {
      "text/plain": [
       "[[True, True, True], [True, True, True]]"
      ]
     },
     "execution_count": 123,
     "metadata": {},
     "output_type": "execute_result"
    }
   ],
   "source": [
    "b = [[True]*3]*2\n",
    "b"
   ]
  },
  {
   "cell_type": "code",
   "execution_count": 124,
   "metadata": {
    "collapsed": false
   },
   "outputs": [
    {
     "data": {
      "text/plain": [
       "[True, True, True]"
      ]
     },
     "execution_count": 124,
     "metadata": {},
     "output_type": "execute_result"
    }
   ],
   "source": [
    "b[0]"
   ]
  },
  {
   "cell_type": "code",
   "execution_count": 125,
   "metadata": {
    "collapsed": false
   },
   "outputs": [],
   "source": [
    "b[0][1] = False"
   ]
  },
  {
   "cell_type": "code",
   "execution_count": 126,
   "metadata": {
    "collapsed": false
   },
   "outputs": [
    {
     "data": {
      "text/plain": [
       "[[True, False, True], [True, False, True]]"
      ]
     },
     "execution_count": 126,
     "metadata": {},
     "output_type": "execute_result"
    }
   ],
   "source": [
    "b"
   ]
  },
  {
   "cell_type": "code",
   "execution_count": 127,
   "metadata": {
    "collapsed": true
   },
   "outputs": [],
   "source": [
    "import numpy as np"
   ]
  },
  {
   "cell_type": "code",
   "execution_count": 128,
   "metadata": {
    "collapsed": true
   },
   "outputs": [],
   "source": [
    "b = [[True]*3]*2"
   ]
  },
  {
   "cell_type": "code",
   "execution_count": 129,
   "metadata": {
    "collapsed": false
   },
   "outputs": [],
   "source": [
    "ba = np.array(b)"
   ]
  },
  {
   "cell_type": "code",
   "execution_count": 130,
   "metadata": {
    "collapsed": false
   },
   "outputs": [],
   "source": [
    "ba[1,2] = False"
   ]
  },
  {
   "cell_type": "code",
   "execution_count": 131,
   "metadata": {
    "collapsed": false
   },
   "outputs": [
    {
     "data": {
      "text/plain": [
       "array([[ True,  True,  True],\n",
       "       [ True,  True, False]])"
      ]
     },
     "execution_count": 131,
     "metadata": {},
     "output_type": "execute_result"
    }
   ],
   "source": [
    "ba"
   ]
  },
  {
   "cell_type": "code",
   "execution_count": 132,
   "metadata": {
    "collapsed": true
   },
   "outputs": [],
   "source": [
    "\n",
    "# TODO: implement the __init__ class below by adding properties\n",
    "# that meet the three requirements specified\n",
    "import numpy as np\n",
    "\n",
    "WIDTH = 3\n",
    "HEIGHT = 2\n",
    "\n",
    "class GameState:\n",
    "\n",
    "    def __init__(self):\n",
    "        \"\"\"The GameState class constructor performs required\n",
    "        initializations when an instance is created. The class\n",
    "        should:\n",
    "        \n",
    "        1) Keep track of which cells are open/closed\n",
    "        2) Identify which player has initiative\n",
    "        3) Record the current location of each player\n",
    "        \n",
    "        Parameters\n",
    "        ----------\n",
    "        self:\n",
    "            instance methods automatically take \"self\" as an\n",
    "            argument in python\n",
    "        \n",
    "        Returns\n",
    "        -------\n",
    "        None\n",
    "        \"\"\"\n",
    "        # You can define attributes like this:\n",
    "        # self.value = 73  # an arbitrary number\n",
    "        # reassign it to a string (variable type is dynamic in Python)\n",
    "        # self.value = \"some string\"\n",
    "        # self.foo = []  # create an empty list\n",
    "        self.open_cells = np.array([[True]*WIDTH]*HEIGHT)\n",
    "        self.open_cells[1, 2] = False\n",
    "        self.current_player = 0\n",
    "        self.player_locations = [None, None]"
   ]
  },
  {
   "cell_type": "code",
   "execution_count": 133,
   "metadata": {
    "collapsed": true
   },
   "outputs": [],
   "source": [
    "game = GameState()"
   ]
  },
  {
   "cell_type": "code",
   "execution_count": 134,
   "metadata": {
    "collapsed": false
   },
   "outputs": [
    {
     "data": {
      "text/plain": [
       "array([[ True,  True,  True],\n",
       "       [ True,  True, False]])"
      ]
     },
     "execution_count": 134,
     "metadata": {},
     "output_type": "execute_result"
    }
   ],
   "source": [
    "game.open_cells"
   ]
  },
  {
   "cell_type": "markdown",
   "metadata": {},
   "source": [
    "## Fill some methods of GameState"
   ]
  },
  {
   "cell_type": "code",
   "execution_count": 135,
   "metadata": {
    "collapsed": false
   },
   "outputs": [],
   "source": [
    "import numpy as np\n",
    "import copy\n",
    "\n",
    "WIDTH = 3\n",
    "HEIGHT = 2\n",
    "\n",
    "class GameState:\n",
    "\n",
    "    def __init__(self):\n",
    "        self.open_cells = np.array([[True]*WIDTH]*HEIGHT)\n",
    "        self.open_cells[HEIGHT - 1, WIDTH - 1] = False\n",
    "        self.current_player = 0\n",
    "        self.player_locations = [None, None]\n",
    "        \n",
    "    def actions(self):\n",
    "        \"\"\" Return a list of legal actions for the active player \n",
    "        \n",
    "        You are free to choose any convention to represent actions,\n",
    "        but one option is to represent actions by the (row, column)\n",
    "        of the endpoint for the token. For example, if your token is\n",
    "        in (0, 0), and your opponent is in (1, 0) then the legal\n",
    "        actions could be encoded as (0, 1) and (0, 2).\n",
    "        \"\"\"\n",
    "        return [(x, y) for x in range(HEIGHT) for y in range(WIDTH) \n",
    "                if self.open_cells[x,y]]\n",
    "    \n",
    "    def player(self):\n",
    "        \"\"\" Return the id of the active player \n",
    "        \n",
    "        Hint: return 0 for the first player, and 1 for the second player\n",
    "        \"\"\"\n",
    "        return self.current_player\n",
    "    \n",
    "    def result(self, action):\n",
    "        \"\"\" Return a new state that results from applying the given\n",
    "        action in the current state\n",
    "        \n",
    "        Hint: Check out the deepcopy module--do NOT modify the\n",
    "        objects internal state in place\n",
    "        \"\"\"\n",
    "        assert action in self.actions()  # Check if the action is valid\n",
    "        new_state = copy.deepcopy(self)\n",
    "        new_state.open_cells[action] = False\n",
    "        new_state.player_locations[self.player()] = action\n",
    "        new_state.current_player = 0 if self.player() == 1 else 1\n",
    "        return new_state\n",
    "    \n",
    "    def terminal_test(self):\n",
    "        \"\"\" return True if the current state is terminal,\n",
    "        and False otherwise\n",
    "        \n",
    "        Hint: an Isolation state is terminal if _either_\n",
    "        player has no remaining liberties (even if the\n",
    "        player is not active in the current state)\n",
    "        \"\"\"\n",
    "        # TODO: Finish this function!\n",
    "        pass\n",
    "    \n",
    "    def liberties(self, loc):\n",
    "        \"\"\" Return a list of all open cells in the\n",
    "        neighborhood of the specified location.  The list \n",
    "        should include all open spaces in a straight line\n",
    "        along any row, column or diagonal from the current\n",
    "        position. (Tokens CANNOT move through obstacles\n",
    "        or blocked squares in queens Isolation.)\n",
    "        \n",
    "        Note: if loc is None, then return all empty cells\n",
    "        on the board\n",
    "        \"\"\"\n",
    "        if loc is None:\n",
    "            return self.actions()\n",
    "        return None"
   ]
  },
  {
   "cell_type": "code",
   "execution_count": 136,
   "metadata": {
    "collapsed": true
   },
   "outputs": [],
   "source": [
    "game = GameState()"
   ]
  },
  {
   "cell_type": "code",
   "execution_count": 137,
   "metadata": {
    "collapsed": false
   },
   "outputs": [
    {
     "data": {
      "text/plain": [
       "[(0, 0), (0, 1), (0, 2), (1, 0), (1, 1)]"
      ]
     },
     "execution_count": 137,
     "metadata": {},
     "output_type": "execute_result"
    }
   ],
   "source": [
    "game.actions()"
   ]
  },
  {
   "cell_type": "code",
   "execution_count": 138,
   "metadata": {
    "collapsed": false
   },
   "outputs": [
    {
     "data": {
      "text/plain": [
       "False"
      ]
     },
     "execution_count": 138,
     "metadata": {},
     "output_type": "execute_result"
    }
   ],
   "source": [
    "game.open_cells[(1,2)]"
   ]
  },
  {
   "cell_type": "code",
   "execution_count": 139,
   "metadata": {
    "collapsed": true
   },
   "outputs": [],
   "source": [
    "player = 0"
   ]
  },
  {
   "cell_type": "code",
   "execution_count": 140,
   "metadata": {
    "collapsed": false
   },
   "outputs": [
    {
     "data": {
      "text/plain": [
       "1"
      ]
     },
     "execution_count": 140,
     "metadata": {},
     "output_type": "execute_result"
    }
   ],
   "source": [
    "player = 0 if player == 1 else 1\n",
    "player"
   ]
  },
  {
   "cell_type": "code",
   "execution_count": 141,
   "metadata": {
    "collapsed": false
   },
   "outputs": [
    {
     "data": {
      "text/plain": [
       "array([[ True,  True,  True],\n",
       "       [ True,  True, False]])"
      ]
     },
     "execution_count": 141,
     "metadata": {},
     "output_type": "execute_result"
    }
   ],
   "source": [
    "game.open_cells"
   ]
  },
  {
   "cell_type": "code",
   "execution_count": 142,
   "metadata": {
    "collapsed": true
   },
   "outputs": [],
   "source": [
    "HEIGHT = 8\n",
    "WIDTH = 8\n",
    "game = GameState()"
   ]
  },
  {
   "cell_type": "code",
   "execution_count": 143,
   "metadata": {
    "collapsed": false
   },
   "outputs": [
    {
     "data": {
      "text/plain": [
       "array([[ True,  True,  True,  True,  True,  True,  True,  True],\n",
       "       [ True,  True,  True,  True,  True,  True,  True,  True],\n",
       "       [ True,  True,  True,  True,  True,  True,  True,  True],\n",
       "       [ True,  True,  True,  True,  True,  True,  True,  True],\n",
       "       [ True,  True,  True,  True,  True,  True,  True,  True],\n",
       "       [ True,  True,  True,  True,  True,  True,  True,  True],\n",
       "       [ True,  True,  True,  True,  True,  True,  True,  True],\n",
       "       [ True,  True,  True,  True,  True,  True,  True, False]])"
      ]
     },
     "execution_count": 143,
     "metadata": {},
     "output_type": "execute_result"
    }
   ],
   "source": [
    "game.open_cells"
   ]
  },
  {
   "cell_type": "code",
   "execution_count": 144,
   "metadata": {
    "collapsed": true
   },
   "outputs": [],
   "source": [
    "def horiz_next(loc):\n",
    "    if loc[1] + 1 < WIDTH:\n",
    "        return (loc[0], loc[1] + 1)\n",
    "    else:\n",
    "        return None\n",
    "\n",
    "def horiz_prev(loc):\n",
    "    if loc[1] - 1 >= 0:\n",
    "        return (loc[0], loc[1] - 1)\n",
    "    else:\n",
    "        return None\n",
    "\n",
    "def vert_next(loc):\n",
    "    if loc[0] + 1 < HEIGHT:\n",
    "        return (loc[0] + 1, loc[1])\n",
    "    else:\n",
    "        return None\n",
    "\n",
    "def vert_prev(loc):\n",
    "    if loc[0] - 1 >= 0:\n",
    "        return (loc[0] - 1, loc[1])\n",
    "    else:\n",
    "        return None\n",
    "\n",
    "def diag1_next(loc):\n",
    "    if (loc[0] + 1 < WIDTH) and (loc[1] + 1 < HEIGHT):\n",
    "        return (loc[0] + 1, loc[1] + 1)\n",
    "    else:\n",
    "        return None\n",
    "\n",
    "def diag1_prev(loc):\n",
    "    if (loc[0] - 1 >= 0) and (loc[1] - 1 >= 0):\n",
    "        return (loc[0] - 1, loc[1] - 1)\n",
    "    else:\n",
    "        return None\n",
    "\n",
    "def diag2_next(loc):\n",
    "    if (loc[0] + 1 < WIDTH) and (loc[1] - 1 >= 0):\n",
    "        return (loc[0] + 1, loc[1] - 1)\n",
    "    else:\n",
    "        return None\n",
    "\n",
    "def diag2_prev(loc):\n",
    "    if (loc[0] - 1 >= 0) and (loc[1] + 1 < HEIGHT):\n",
    "        return (loc[0] - 1, loc[1] + 1)\n",
    "    else:\n",
    "        return None"
   ]
  },
  {
   "cell_type": "code",
   "execution_count": 145,
   "metadata": {
    "collapsed": false
   },
   "outputs": [
    {
     "data": {
      "text/plain": [
       "array([[ True,  True,  True,  True,  True,  True,  True,  True],\n",
       "       [ True,  True,  True,  True,  True,  True,  True,  True],\n",
       "       [ True,  True,  True,  True,  True,  True,  True,  True],\n",
       "       [ True,  True,  True,  True,  True,  True,  True,  True],\n",
       "       [ True,  True,  True,  True,  True,  True,  True,  True],\n",
       "       [ True,  True,  True,  True,  True,  True,  True,  True],\n",
       "       [ True,  True,  True,  True,  True,  True,  True,  True],\n",
       "       [ True,  True,  True,  True,  True,  True,  True, False]])"
      ]
     },
     "execution_count": 145,
     "metadata": {},
     "output_type": "execute_result"
    }
   ],
   "source": [
    "game.open_cells"
   ]
  },
  {
   "cell_type": "code",
   "execution_count": 146,
   "metadata": {
    "collapsed": true
   },
   "outputs": [],
   "source": [
    "def show_points(points):\n",
    "    board = np.zeros((HEIGHT, WIDTH))\n",
    "    for p in points:\n",
    "        board[p] = 1\n",
    "    print(board)"
   ]
  },
  {
   "cell_type": "code",
   "execution_count": 147,
   "metadata": {
    "collapsed": false
   },
   "outputs": [
    {
     "data": {
      "text/plain": [
       "array([[0., 0., 0., 0., 0., 0., 0., 0.],\n",
       "       [0., 0., 1., 1., 1., 0., 0., 0.],\n",
       "       [0., 0., 0., 0., 0., 0., 0., 0.],\n",
       "       [0., 0., 0., 0., 0., 0., 0., 0.],\n",
       "       [0., 0., 0., 0., 0., 0., 0., 0.],\n",
       "       [0., 0., 0., 0., 0., 0., 0., 0.],\n",
       "       [0., 0., 0., 0., 0., 0., 0., 0.],\n",
       "       [0., 0., 0., 0., 0., 0., 0., 0.]])"
      ]
     },
     "execution_count": 147,
     "metadata": {},
     "output_type": "execute_result"
    }
   ],
   "source": [
    "u = np.zeros((HEIGHT, WIDTH))\n",
    "l = [(1,2), (1,3), (1,4)]\n",
    "for p in l:\n",
    "    u[p] = 1\n",
    "u"
   ]
  },
  {
   "cell_type": "code",
   "execution_count": 148,
   "metadata": {
    "collapsed": false
   },
   "outputs": [
    {
     "name": "stdout",
     "output_type": "stream",
     "text": [
      "[[0. 0. 0. 0. 0. 0. 0. 0.]\n",
      " [0. 0. 1. 1. 1. 0. 0. 0.]\n",
      " [0. 0. 0. 0. 0. 0. 0. 0.]\n",
      " [0. 0. 0. 0. 0. 0. 0. 0.]\n",
      " [0. 0. 0. 0. 0. 0. 0. 0.]\n",
      " [0. 0. 0. 0. 0. 0. 0. 0.]\n",
      " [0. 0. 0. 0. 0. 0. 0. 0.]\n",
      " [0. 0. 0. 0. 0. 0. 0. 0.]]\n"
     ]
    }
   ],
   "source": [
    "show_points(l)"
   ]
  },
  {
   "cell_type": "code",
   "execution_count": 149,
   "metadata": {
    "collapsed": false
   },
   "outputs": [
    {
     "name": "stdout",
     "output_type": "stream",
     "text": [
      "[[0. 0. 0. 0. 0. 0. 0. 0.]\n",
      " [0. 0. 0. 0. 0. 0. 0. 0.]\n",
      " [0. 0. 0. 0. 0. 0. 0. 0.]\n",
      " [0. 0. 0. 1. 0. 0. 0. 0.]\n",
      " [0. 0. 0. 0. 0. 0. 0. 0.]\n",
      " [0. 0. 0. 0. 0. 0. 0. 0.]\n",
      " [0. 0. 0. 0. 0. 0. 0. 0.]\n",
      " [0. 0. 0. 0. 0. 0. 0. 0.]]\n"
     ]
    }
   ],
   "source": [
    "loc = (3, 3)\n",
    "show_points([loc])"
   ]
  },
  {
   "cell_type": "code",
   "execution_count": 150,
   "metadata": {
    "collapsed": false
   },
   "outputs": [
    {
     "name": "stdout",
     "output_type": "stream",
     "text": [
      "[[0. 0. 0. 0. 0. 0. 0. 0.]\n",
      " [0. 0. 0. 0. 0. 0. 0. 0.]\n",
      " [0. 0. 0. 0. 0. 0. 0. 0.]\n",
      " [0. 0. 0. 0. 1. 1. 1. 1.]\n",
      " [0. 0. 0. 0. 0. 0. 0. 0.]\n",
      " [0. 0. 0. 0. 0. 0. 0. 0.]\n",
      " [0. 0. 0. 0. 0. 0. 0. 0.]\n",
      " [0. 0. 0. 0. 0. 0. 0. 0.]]\n"
     ]
    }
   ],
   "source": [
    "current = loc\n",
    "path = list()\n",
    "while current is not None:\n",
    "    current = horiz_next(current)\n",
    "    path.append(current)\n",
    "path = path[:-1]\n",
    "show_points(path)"
   ]
  },
  {
   "cell_type": "code",
   "execution_count": 151,
   "metadata": {
    "collapsed": false
   },
   "outputs": [
    {
     "name": "stdout",
     "output_type": "stream",
     "text": [
      "[[0. 0. 0. 0. 0. 0. 0. 0.]\n",
      " [0. 0. 0. 0. 0. 0. 0. 0.]\n",
      " [0. 0. 0. 0. 0. 0. 0. 0.]\n",
      " [1. 1. 1. 0. 0. 0. 0. 0.]\n",
      " [0. 0. 0. 0. 0. 0. 0. 0.]\n",
      " [0. 0. 0. 0. 0. 0. 0. 0.]\n",
      " [0. 0. 0. 0. 0. 0. 0. 0.]\n",
      " [0. 0. 0. 0. 0. 0. 0. 0.]]\n"
     ]
    }
   ],
   "source": [
    "current = loc\n",
    "path = list()\n",
    "while current is not None:\n",
    "    current = horiz_prev(current)\n",
    "    path.append(current)\n",
    "path = path[:-1]\n",
    "show_points(path)"
   ]
  },
  {
   "cell_type": "code",
   "execution_count": 152,
   "metadata": {
    "collapsed": false
   },
   "outputs": [
    {
     "name": "stdout",
     "output_type": "stream",
     "text": [
      "[[0. 0. 0. 0. 0. 0. 0. 0.]\n",
      " [0. 0. 0. 0. 0. 0. 0. 0.]\n",
      " [0. 0. 0. 0. 0. 0. 0. 0.]\n",
      " [0. 0. 0. 0. 0. 0. 0. 0.]\n",
      " [0. 0. 0. 1. 0. 0. 0. 0.]\n",
      " [0. 0. 0. 1. 0. 0. 0. 0.]\n",
      " [0. 0. 0. 1. 0. 0. 0. 0.]\n",
      " [0. 0. 0. 1. 0. 0. 0. 0.]]\n"
     ]
    }
   ],
   "source": [
    "current = loc\n",
    "path = list()\n",
    "while current is not None:\n",
    "    current = vert_next(current)\n",
    "    path.append(current)\n",
    "path = path[:-1]\n",
    "show_points(path)"
   ]
  },
  {
   "cell_type": "code",
   "execution_count": 153,
   "metadata": {
    "collapsed": false
   },
   "outputs": [
    {
     "name": "stdout",
     "output_type": "stream",
     "text": [
      "[[0. 0. 0. 1. 0. 0. 0. 0.]\n",
      " [0. 0. 0. 1. 0. 0. 0. 0.]\n",
      " [0. 0. 0. 1. 0. 0. 0. 0.]\n",
      " [0. 0. 0. 0. 0. 0. 0. 0.]\n",
      " [0. 0. 0. 0. 0. 0. 0. 0.]\n",
      " [0. 0. 0. 0. 0. 0. 0. 0.]\n",
      " [0. 0. 0. 0. 0. 0. 0. 0.]\n",
      " [0. 0. 0. 0. 0. 0. 0. 0.]]\n"
     ]
    }
   ],
   "source": [
    "current = loc\n",
    "path = list()\n",
    "while current is not None:\n",
    "    current = vert_prev(current)\n",
    "    path.append(current)\n",
    "path = path[:-1]\n",
    "show_points(path)"
   ]
  },
  {
   "cell_type": "code",
   "execution_count": 154,
   "metadata": {
    "collapsed": false
   },
   "outputs": [
    {
     "name": "stdout",
     "output_type": "stream",
     "text": [
      "[[0. 0. 0. 0. 0. 0. 0. 0.]\n",
      " [0. 0. 0. 0. 0. 0. 0. 0.]\n",
      " [0. 0. 0. 0. 0. 0. 0. 0.]\n",
      " [0. 0. 0. 0. 0. 0. 0. 0.]\n",
      " [0. 0. 0. 0. 1. 0. 0. 0.]\n",
      " [0. 0. 0. 0. 0. 1. 0. 0.]\n",
      " [0. 0. 0. 0. 0. 0. 1. 0.]\n",
      " [0. 0. 0. 0. 0. 0. 0. 1.]]\n"
     ]
    }
   ],
   "source": [
    "current = loc\n",
    "path = list()\n",
    "while current is not None:\n",
    "    current = diag1_next(current)\n",
    "    path.append(current)\n",
    "path = path[:-1]\n",
    "show_points(path)"
   ]
  },
  {
   "cell_type": "code",
   "execution_count": 155,
   "metadata": {
    "collapsed": false
   },
   "outputs": [
    {
     "name": "stdout",
     "output_type": "stream",
     "text": [
      "[[1. 0. 0. 0. 0. 0. 0. 0.]\n",
      " [0. 1. 0. 0. 0. 0. 0. 0.]\n",
      " [0. 0. 1. 0. 0. 0. 0. 0.]\n",
      " [0. 0. 0. 0. 0. 0. 0. 0.]\n",
      " [0. 0. 0. 0. 0. 0. 0. 0.]\n",
      " [0. 0. 0. 0. 0. 0. 0. 0.]\n",
      " [0. 0. 0. 0. 0. 0. 0. 0.]\n",
      " [0. 0. 0. 0. 0. 0. 0. 0.]]\n"
     ]
    }
   ],
   "source": [
    "current = loc\n",
    "path = list()\n",
    "while current is not None:\n",
    "    current = diag1_prev(current)\n",
    "    path.append(current)\n",
    "path = path[:-1]\n",
    "show_points(path)"
   ]
  },
  {
   "cell_type": "code",
   "execution_count": 156,
   "metadata": {
    "collapsed": false
   },
   "outputs": [
    {
     "name": "stdout",
     "output_type": "stream",
     "text": [
      "[[0. 0. 0. 0. 0. 0. 0. 0.]\n",
      " [0. 0. 0. 0. 0. 0. 0. 0.]\n",
      " [0. 0. 0. 0. 0. 0. 0. 0.]\n",
      " [0. 0. 0. 0. 0. 0. 0. 0.]\n",
      " [0. 0. 1. 0. 0. 0. 0. 0.]\n",
      " [0. 1. 0. 0. 0. 0. 0. 0.]\n",
      " [1. 0. 0. 0. 0. 0. 0. 0.]\n",
      " [0. 0. 0. 0. 0. 0. 0. 0.]]\n"
     ]
    }
   ],
   "source": [
    "current = loc\n",
    "path = list()\n",
    "while current is not None:\n",
    "    current = diag2_next(current)\n",
    "    path.append(current)\n",
    "path = path[:-1]\n",
    "show_points(path)"
   ]
  },
  {
   "cell_type": "code",
   "execution_count": 157,
   "metadata": {
    "collapsed": false
   },
   "outputs": [
    {
     "name": "stdout",
     "output_type": "stream",
     "text": [
      "[[0. 0. 0. 0. 0. 0. 1. 0.]\n",
      " [0. 0. 0. 0. 0. 1. 0. 0.]\n",
      " [0. 0. 0. 0. 1. 0. 0. 0.]\n",
      " [0. 0. 0. 0. 0. 0. 0. 0.]\n",
      " [0. 0. 0. 0. 0. 0. 0. 0.]\n",
      " [0. 0. 0. 0. 0. 0. 0. 0.]\n",
      " [0. 0. 0. 0. 0. 0. 0. 0.]\n",
      " [0. 0. 0. 0. 0. 0. 0. 0.]]\n"
     ]
    }
   ],
   "source": [
    "current = loc\n",
    "path = list()\n",
    "while current is not None:\n",
    "    current = diag2_prev(current)\n",
    "    path.append(current)\n",
    "path = path[:-1]\n",
    "show_points(path)"
   ]
  },
  {
   "cell_type": "code",
   "execution_count": 158,
   "metadata": {
    "collapsed": true
   },
   "outputs": [],
   "source": [
    "move_funcs = [\n",
    "    horiz_next,\n",
    "    horiz_prev,\n",
    "    vert_next,\n",
    "    vert_prev,\n",
    "    diag1_next,\n",
    "    diag1_prev,\n",
    "    diag2_next,\n",
    "    diag2_prev\n",
    "]"
   ]
  },
  {
   "cell_type": "code",
   "execution_count": 159,
   "metadata": {
    "collapsed": true
   },
   "outputs": [],
   "source": [
    "def liberties_in_dir(loc, move_fun, board):\n",
    "    current = loc\n",
    "    path = list()\n",
    "    while (current is not None) and board[current]:\n",
    "        current = move_fun(current)\n",
    "        path.append(current)\n",
    "    return path[:-1]"
   ]
  },
  {
   "cell_type": "code",
   "execution_count": 160,
   "metadata": {
    "collapsed": false
   },
   "outputs": [
    {
     "name": "stdout",
     "output_type": "stream",
     "text": [
      "[[0. 0. 0. 0. 0. 0. 0. 0.]\n",
      " [0. 0. 0. 1. 1. 1. 1. 1.]\n",
      " [0. 0. 0. 0. 0. 0. 0. 0.]\n",
      " [0. 0. 0. 0. 0. 0. 0. 0.]\n",
      " [0. 0. 0. 0. 0. 0. 0. 0.]\n",
      " [0. 0. 0. 0. 0. 0. 0. 0.]\n",
      " [0. 0. 0. 0. 0. 0. 0. 0.]\n",
      " [0. 0. 0. 0. 0. 0. 0. 0.]]\n"
     ]
    }
   ],
   "source": [
    "h_liberties = liberties_in_dir((1,2), horiz_next, game.open_cells)\n",
    "show_points(h_liberties)"
   ]
  },
  {
   "cell_type": "code",
   "execution_count": 161,
   "metadata": {
    "collapsed": false
   },
   "outputs": [
    {
     "name": "stdout",
     "output_type": "stream",
     "text": [
      "[[(1, 3), (1, 4), (1, 5), (1, 6), (1, 7)], [(1, 1), (1, 0)], [(2, 2), (3, 2), (4, 2), (5, 2), (6, 2), (7, 2)], [(0, 2)], [(2, 3), (3, 4), (4, 5), (5, 6), (6, 7)], [(0, 1)], [(2, 1), (3, 0)], [(0, 3)]]\n"
     ]
    }
   ],
   "source": [
    "liberties = [liberties_in_dir((1,2), move_fun, game.open_cells) for move_fun in move_funcs]\n",
    "print(liberties)"
   ]
  },
  {
   "cell_type": "code",
   "execution_count": 162,
   "metadata": {
    "collapsed": false
   },
   "outputs": [],
   "source": [
    "import itertools"
   ]
  },
  {
   "cell_type": "code",
   "execution_count": 163,
   "metadata": {
    "collapsed": false
   },
   "outputs": [
    {
     "data": {
      "text/plain": [
       "[(1, 3),\n",
       " (1, 4),\n",
       " (1, 5),\n",
       " (1, 6),\n",
       " (1, 7),\n",
       " (1, 1),\n",
       " (1, 0),\n",
       " (2, 2),\n",
       " (3, 2),\n",
       " (4, 2),\n",
       " (5, 2),\n",
       " (6, 2),\n",
       " (7, 2),\n",
       " (0, 2),\n",
       " (2, 3),\n",
       " (3, 4),\n",
       " (4, 5),\n",
       " (5, 6),\n",
       " (6, 7),\n",
       " (0, 1),\n",
       " (2, 1),\n",
       " (3, 0),\n",
       " (0, 3)]"
      ]
     },
     "execution_count": 163,
     "metadata": {},
     "output_type": "execute_result"
    }
   ],
   "source": [
    "list(itertools.chain(*liberties))"
   ]
  },
  {
   "cell_type": "code",
   "execution_count": 164,
   "metadata": {
    "collapsed": false
   },
   "outputs": [
    {
     "name": "stdout",
     "output_type": "stream",
     "text": [
      "[[0. 1. 1. 1. 0. 0. 0. 0.]\n",
      " [1. 1. 0. 1. 1. 1. 1. 1.]\n",
      " [0. 1. 1. 1. 0. 0. 0. 0.]\n",
      " [1. 0. 1. 0. 1. 0. 0. 0.]\n",
      " [0. 0. 1. 0. 0. 1. 0. 0.]\n",
      " [0. 0. 1. 0. 0. 0. 1. 0.]\n",
      " [0. 0. 1. 0. 0. 0. 0. 1.]\n",
      " [0. 0. 1. 0. 0. 0. 0. 0.]]\n"
     ]
    }
   ],
   "source": [
    "show_points(itertools.chain(*liberties))"
   ]
  },
  {
   "cell_type": "code",
   "execution_count": 171,
   "metadata": {
    "collapsed": true
   },
   "outputs": [],
   "source": [
    "import numpy as np\n",
    "import copy\n",
    "\n",
    "WIDTH = 3\n",
    "HEIGHT = 2\n",
    "move_funcs = [\n",
    "    horiz_next,\n",
    "    horiz_prev,\n",
    "    vert_next,\n",
    "    vert_prev,\n",
    "    diag1_next,\n",
    "    diag1_prev,\n",
    "    diag2_next,\n",
    "    diag2_prev\n",
    "]\n",
    "\n",
    "\n",
    "def liberties_in_dir(loc, move_fun, board):\n",
    "    current = loc\n",
    "    path = list()\n",
    "    while (current is not None) and board[current]:\n",
    "        current = move_fun(current)\n",
    "        path.append(current)\n",
    "    return path[:-1]\n",
    "\n",
    "\n",
    "class GameState:\n",
    "\n",
    "    def __init__(self):\n",
    "        self.open_cells = np.array([[True]*WIDTH]*HEIGHT)\n",
    "        self.open_cells[HEIGHT - 1, WIDTH - 1] = False\n",
    "        self.current_player = 0\n",
    "        self.player_locations = [None, None]\n",
    "        \n",
    "    def actions(self):\n",
    "        \"\"\" Return a list of legal actions for the active player \n",
    "        \n",
    "        You are free to choose any convention to represent actions,\n",
    "        but one option is to represent actions by the (row, column)\n",
    "        of the endpoint for the token. For example, if your token is\n",
    "        in (0, 0), and your opponent is in (1, 0) then the legal\n",
    "        actions could be encoded as (0, 1) and (0, 2).\n",
    "        \"\"\"\n",
    "        return [(x, y) for x in range(HEIGHT) for y in range(WIDTH) \n",
    "                if self.open_cells[x,y]]\n",
    "    \n",
    "    def player(self):\n",
    "        \"\"\" Return the id of the active player \n",
    "        \n",
    "        Hint: return 0 for the first player, and 1 for the second player\n",
    "        \"\"\"\n",
    "        return self.current_player\n",
    "    \n",
    "    def result(self, action):\n",
    "        \"\"\" Return a new state that results from applying the given\n",
    "        action in the current state\n",
    "        \n",
    "        Hint: Check out the deepcopy module--do NOT modify the\n",
    "        objects internal state in place\n",
    "        \"\"\"\n",
    "        assert action in self.actions()  # Check if the action is valid\n",
    "        new_state = copy.deepcopy(self)\n",
    "        new_state.open_cells[action] = False\n",
    "        new_state.player_locations[self.player()] = action\n",
    "        new_state.current_player = 0 if self.player() == 1 else 1\n",
    "        return new_state\n",
    "    \n",
    "    def terminal_test(self):\n",
    "        \"\"\" return True if the current state is terminal,\n",
    "        and False otherwise\n",
    "        \n",
    "        Hint: an Isolation state is terminal if _either_\n",
    "        player has no remaining liberties (even if the\n",
    "        player is not active in the current state)\n",
    "        \"\"\"\n",
    "        terminal = len(self.liberties(self.player_locations[0])) == 0\n",
    "        terminal = terminal or len(self.liberties(self.player_locations[1])) == 0\n",
    "        return terminal\n",
    "    \n",
    "    def liberties(self, loc):\n",
    "        \"\"\" Return a list of all open cells in the\n",
    "        neighborhood of the specified location.  The list \n",
    "        should include all open spaces in a straight line\n",
    "        along any row, column or diagonal from the current\n",
    "        position. (Tokens CANNOT move through obstacles\n",
    "        or blocked squares in queens Isolation.)\n",
    "        \n",
    "        Note: if loc is None, then return all empty cells\n",
    "        on the board\n",
    "        \"\"\"\n",
    "        if loc is None:\n",
    "            return self.actions()\n",
    "        liberties = [liberties_in_dir(loc, move_fun, self.open_cells) \n",
    "                     for move_fun in move_funcs]\n",
    "        return list(itertools.chain(*liberties))"
   ]
  },
  {
   "cell_type": "code",
   "execution_count": 172,
   "metadata": {
    "collapsed": true
   },
   "outputs": [],
   "source": [
    "game = GameState()"
   ]
  },
  {
   "cell_type": "code",
   "execution_count": 173,
   "metadata": {
    "collapsed": false
   },
   "outputs": [
    {
     "data": {
      "text/plain": [
       "array([[ True,  True,  True],\n",
       "       [ True,  True, False]])"
      ]
     },
     "execution_count": 173,
     "metadata": {},
     "output_type": "execute_result"
    }
   ],
   "source": [
    "game.open_cells"
   ]
  },
  {
   "cell_type": "code",
   "execution_count": 174,
   "metadata": {
    "collapsed": false
   },
   "outputs": [
    {
     "data": {
      "text/plain": [
       "[(0, 2), (0, 0), (1, 1), (1, 0)]"
      ]
     },
     "execution_count": 174,
     "metadata": {},
     "output_type": "execute_result"
    }
   ],
   "source": [
    "game.liberties((0,1))"
   ]
  },
  {
   "cell_type": "code",
   "execution_count": 175,
   "metadata": {
    "collapsed": true
   },
   "outputs": [],
   "source": [
    "def show_points(points):\n",
    "    board = np.zeros((HEIGHT, WIDTH))\n",
    "    for p in points:\n",
    "        board[p] = 1\n",
    "    print(board)"
   ]
  },
  {
   "cell_type": "code",
   "execution_count": 176,
   "metadata": {
    "collapsed": false
   },
   "outputs": [
    {
     "name": "stdout",
     "output_type": "stream",
     "text": [
      "[[1. 0. 1.]\n",
      " [1. 1. 0.]]\n"
     ]
    }
   ],
   "source": [
    "show_points(game.liberties((0,1)))"
   ]
  },
  {
   "cell_type": "code",
   "execution_count": null,
   "metadata": {
    "collapsed": true
   },
   "outputs": [],
   "source": []
  },
  {
   "cell_type": "code",
   "execution_count": null,
   "metadata": {
    "collapsed": true
   },
   "outputs": [],
   "source": []
  }
 ],
 "metadata": {
  "kernelspec": {
   "display_name": "aind",
   "language": "python",
   "name": "aind"
  },
  "language_info": {
   "codemirror_mode": {
    "name": "ipython",
    "version": 3
   },
   "file_extension": ".py",
   "mimetype": "text/x-python",
   "name": "python",
   "nbconvert_exporter": "python",
   "pygments_lexer": "ipython3",
   "version": "3.5.4"
  }
 },
 "nbformat": 4,
 "nbformat_minor": 2
}
