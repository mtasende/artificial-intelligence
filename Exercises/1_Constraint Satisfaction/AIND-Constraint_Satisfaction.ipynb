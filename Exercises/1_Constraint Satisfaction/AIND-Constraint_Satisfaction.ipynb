{
 "cells": [
  {
   "cell_type": "markdown",
   "metadata": {},
   "source": [
    "# Constraint Satisfaction Problems\n",
    "---\n",
    "Constraint satisfaction is a general problem solving technique for solving a class of combinatorial optimization problems by imposing limits on the values in the solution. The goal of this exercise is to practice formulating some classical example problems as CSPs, and then to explore using a powerful open source constraint satisfaction tool called [Z3](https://github.com/Z3Prover/z3) from Microsoft Research to solve them. Practicing with these simple problems will help you to recognize real-world problems that can be posed as CSPs; some solvers even have specialized utilities for specific types of problem (vehicle routing, planning, scheduling, etc.).\n",
    "\n",
    "There are many different kinds of CSP solvers available for CSPs. Z3 is a \"Satisfiability Modulo Theories\" (SMT) solver, which means that unlike the backtracking and variable assignment heuristics discussed in lecture, Z3 first converts CSPs to satisfiability problems then uses a SAT solver to determine feasibility. Z3 includes a number of efficient solver algorithms primarily developed to perform formal program verification, but it can also be used on general CSPs. Google's [OR tools](https://developers.google.com/optimization/) includes a CP solver using backtracking with specialized subroutines for some common CP domains.\n",
    "\n",
    "## I. The Road Ahead\n",
    "\n",
    "0. [Cryptarithmetic](#I.-Cryptarithmetic) - introducing the Z3 API with simple word puzzles\n",
    "0. [Map Coloring](#II.-Map-Coloring) - solving the map coloring problem from lectures\n",
    "0. [N-Queens](#III.-N-Queens) - experimenting with problems that scale\n",
    "0. [Revisiting Sudoku](#IV.-Revisiting-Sudoku) - revisit the sudoku project with the Z3 solver"
   ]
  },
  {
   "cell_type": "code",
   "execution_count": 1,
   "metadata": {
    "collapsed": true
   },
   "outputs": [],
   "source": [
    "%matplotlib inline"
   ]
  },
  {
   "cell_type": "code",
   "execution_count": 2,
   "metadata": {
    "collapsed": false
   },
   "outputs": [],
   "source": [
    "import matplotlib as mpl\n",
    "import matplotlib.pyplot as plt\n",
    "\n",
    "# from util import displayBoard\n",
    "from itertools import product\n",
    "from IPython.display import display\n",
    "from z3 import *"
   ]
  },
  {
   "cell_type": "markdown",
   "metadata": {},
   "source": [
    "---\n",
    "## I. Cryptarithmetic\n",
    "\n",
    "We'll start by exploring the Z3 module with a _very_ simple & classic CSP problem called cryptarithmetic. A cryptarithmetic puzzle is posed as an arithmetic equation made up of words where each letter represents a distinct digit in the range (0-9). (This problem has no practical significance in AI, but it is a useful illustration of the basic ideas of CSPs.) For example, consider the problem and one possible solution shown below:\n",
    "\n",
    "```\n",
    "  T W O  :    9 3 8\n",
    "+ T W O  :  + 9 3 8\n",
    "-------  :  -------\n",
    "F O U R  :  1 8 7 6\n",
    "```\n",
    "There are six distinct variables (F, O, R, T, U, W), and when we require each letter to represent a disctinct number (e.g., F != O, R != T, ..., etc.) and disallow leading zeros (i.e., T != 0 and F != 0) then one possible solution is (F=1, O=8, R=6, T=9, U=7, W=3). \n",
    "\n",
    "### IMPLEMENTATION: Declaring Variables\n",
    "For this problem we need a single variable for each distinct letter in the puzzle, and each variable will have an integer values between 0-9. (We will handle restricting the leading digits separately.) Complete the declarations in the next cell to create all of the remaining variables and constraint them to the range 0-9."
   ]
  },
  {
   "cell_type": "code",
   "execution_count": 3,
   "metadata": {
    "collapsed": true
   },
   "outputs": [],
   "source": [
    "ca_solver = Solver()  # create an instance of a Z3 CSP solver\n",
    "\n",
    "F = Int('F')  # create an z3.Int type variable instance called \"F\"\n",
    "ca_solver.add(0 <= F, F <= 9)  # add constraints to the solver: 0 <= F <= 9\n",
    "O = Int('O')\n",
    "ca_solver.add(0 <= O, O <= 9)\n",
    "R = Int('R')\n",
    "ca_solver.add(0 <= R, R <= 9)\n",
    "T = Int('T')\n",
    "ca_solver.add(0 <= T, T <= 9)\n",
    "U = Int('U')\n",
    "ca_solver.add(0 <= U, U <= 9)\n",
    "W = Int('W')\n",
    "ca_solver.add(0 <= W, W <= 9)\n",
    "# ...\n",
    "# TODO: Add all the missing letter variables"
   ]
  },
  {
   "cell_type": "markdown",
   "metadata": {},
   "source": [
    "### IMPLEMENTATION: Encoding Assumptions as Constraints\n",
    "We had two additional assumptions that need to be added as constraints: 1) leading digits cannot be zero, and 2) no two distinct letters represent the same digits. The first assumption can simply be added as a boolean statement like M != 0. And the second is a _very_ common CSP constraint (so common, in fact, that most libraries have a built in function to support it); z3 is no exception, with the Distinct(var_list) constraint function."
   ]
  },
  {
   "cell_type": "code",
   "execution_count": 4,
   "metadata": {
    "collapsed": true
   },
   "outputs": [],
   "source": [
    "# TODO: Add constraints prohibiting leading digits F & T from taking the value 0\n",
    "ca_solver.add(T != 0,  F != 0)\n",
    "\n",
    "# TODO: Add a Distinct constraint for all the variables\n",
    "ca_solver.add(Distinct([F,O,R,T,U,W]))"
   ]
  },
  {
   "cell_type": "markdown",
   "metadata": {},
   "source": [
    "### Choosing Problem Constraints\n",
    "There are often multiple ways to express the constraints for a problem. For example, in this case we could write a single large constraint combining all of the letters simultaneously $T\\times10^2 + W\\times10^1 + O\\times10^0 + T\\times10^2 + W\\times10^1 + O\\times10^0 = F\\times10^3 + O\\times10^2 + U\\times10^1 + R\\times10^0$. This kind of constraint works fine for some problems, but large constraints cannot usually be evaluated for satisfiability unless every variable is bound to a specific value. Expressing the problem with smaller constraints can sometimes allow the solver to finish faster.\n",
    "\n",
    "For example, we can break out each pair of digits in the summands and introduce a carry variable for each column: $(O + O)\\times10^0 = R\\times10^0 + carry_1\\times10^1$ This constraint can be evaluated as True/False with only four values assigned.\n",
    "\n",
    "The choice of encoding on this problem is unlikely to have any effect (because the problem is so small), however it is worth considering on more complex problems.\n",
    "\n",
    "### Implementation: Add the Problem Constraints\n",
    "Pick one of the possible encodings discussed above and add the required constraints into the solver in the next cell. "
   ]
  },
  {
   "cell_type": "code",
   "execution_count": 5,
   "metadata": {
    "collapsed": true
   },
   "outputs": [],
   "source": [
    "# TODO: add any required variables and/or constraints to solve the cryptarithmetic puzzle\n",
    "# Primary solution using single constraint for the cryptarithmetic equation\n",
    "carry1 = Int('carry1')\n",
    "ca_solver.add(0 <= carry1, carry1 <= 1)\n",
    "carry2 = Int('carry2')\n",
    "ca_solver.add(0 <= carry2, carry2 <= 1)\n",
    "carry3 = Int('carry3')\n",
    "ca_solver.add(0 <= carry3, carry3 <= 1)\n",
    "\n",
    "ca_solver.add(O + O == R + carry1*10)\n",
    "ca_solver.add(W + W + carry1 == U + carry2*10)\n",
    "ca_solver.add(T + T + carry2 == O + carry3*10)\n",
    "ca_solver.add(carry3 == F)"
   ]
  },
  {
   "cell_type": "code",
   "execution_count": 6,
   "metadata": {
    "collapsed": false
   },
   "outputs": [
    {
     "name": "stdout",
     "output_type": "stream",
     "text": [
      "  T W O  :    8 6 7\n",
      "+ T W O  :  + 8 6 7\n",
      "-------  :  -------\n",
      "F O U R  :  1 7 3 4\n"
     ]
    }
   ],
   "source": [
    "assert ca_solver.check() == sat, \"Uh oh...the solver did not find a solution. Check your constraints.\"\n",
    "print(\"  T W O  :    {} {} {}\".format(ca_solver.model()[T], ca_solver.model()[W], ca_solver.model()[O]))\n",
    "print(\"+ T W O  :  + {} {} {}\".format(ca_solver.model()[T], ca_solver.model()[W], ca_solver.model()[O]))\n",
    "print(\"-------  :  -------\")\n",
    "print(\"F O U R  :  {} {} {} {}\".format(ca_solver.model()[F], ca_solver.model()[O], ca_solver.model()[U], ca_solver.model()[R]))"
   ]
  },
  {
   "cell_type": "markdown",
   "metadata": {},
   "source": [
    "### Cryptarithmetic Challenges\n",
    "0. Search online for [more cryptarithmetic puzzles](https://www.reddit.com/r/dailyprogrammer/comments/7p5p2o/20180108_challenge_346_easy_cryptarithmetic_solver/) (or create your own). Come to office hours or join a discussion channel to chat with your peers about the trade-offs between monolithic constraints & splitting up the constraints. (Is one way or another easier to generalize or scale with new problems? Is one of them faster for large or small problems?)\n",
    "0. Can you extend the solution to handle complex puzzles (e.g., using multiplication WORD1 x WORD2 = OUTPUT)?"
   ]
  },
  {
   "cell_type": "markdown",
   "metadata": {},
   "source": [
    "---\n",
    "## II. Map Coloring\n",
    "\n",
    "[Map coloring](https://en.wikipedia.org/wiki/Map_coloring) is a classic example of CSPs. A map coloring problem is specified by a set of colors and a map showing the borders between distinct regions. A solution to a map coloring problem is an assignment of one color to each region of the map such that no pair of adjacent regions have the same color.\n",
    "\n",
    "Run the first cell below to declare the color palette and a solver. The color palette specifies a mapping from integer to color. We'll use integers to represent the values in each constraint; then we can decode the solution from Z3 to determine the color applied to each region in the map.\n",
    "\n",
    "![Map coloring is a classic example CSP](map.png)"
   ]
  },
  {
   "cell_type": "code",
   "execution_count": 7,
   "metadata": {
    "collapsed": true
   },
   "outputs": [],
   "source": [
    "# create instance of Z3 solver & declare color palette\n",
    "mc_solver = Solver()\n",
    "colors = {'0': \"Blue\", '1': \"Red\", '2': \"Green\"}"
   ]
  },
  {
   "cell_type": "markdown",
   "metadata": {},
   "source": [
    "### IMPLEMENTATION: Add Variables\n",
    "Add a variable to represent each region on the map above. Use the abbreviated name for the regions: WA=Western Australia, SA=Southern Australia, NT=Northern Territory, Q=Queensland, NSW=New South Wales, V=Victoria, T=Tasmania. Add constraints to each variable to restrict it to one of the available colors: 0=Blue, 1=Red, 2=Green."
   ]
  },
  {
   "cell_type": "code",
   "execution_count": 8,
   "metadata": {
    "collapsed": true
   },
   "outputs": [],
   "source": [
    "WA = Int('WA')\n",
    "mc_solver.add(0 <= WA, WA <= 2)\n",
    "SA = Int('SA')\n",
    "mc_solver.add(0 <= SA, SA <= 2)\n",
    "NT = Int('NT')\n",
    "mc_solver.add(0 <= NT, NT <= 2)\n",
    "Q = Int('Q')\n",
    "mc_solver.add(0 <= Q, Q <= 2)\n",
    "NSW = Int('NSW')\n",
    "mc_solver.add(0 <= NSW, NSW <= 2)\n",
    "V = Int('V')\n",
    "mc_solver.add(0 <= V, V <= 2)\n",
    "T = Int('T')\n",
    "mc_solver.add(0 <= T, T <= 2)\n",
    "# ...\n",
    "# TODO: add the remaining six regions and color constraints"
   ]
  },
  {
   "cell_type": "markdown",
   "metadata": {},
   "source": [
    "### IMPLEMENTATION: Distinct Adjacent Colors Constraints\n",
    "As in the previous example, there are many valid ways to add constraints that enforce assigning different colors to adjacent regions of the map. One way is to add boolean constraints for each pair of adjacent regions, e.g., WA != SA; WA != NT; etc.\n",
    "\n",
    "Another way is to use so-called pseudo-boolean cardinality constraint, which is a constraint of the form $ \\sum w_i l_i = k $. Constraints of this form can be created in Z3 using `PbEq(((booleanA, w_A), (booleanB, w_B), ...), k)`. Distinct neighbors can be written with k=0, and w_i = 1 for all values of i. (Note: Z3 also has `PbLe()` for $\\sum w_i l_i <= k $ and `PbGe()` for $\\sum w_i l_i >= k $)\n",
    "\n",
    "Choose one of the encodings discussed above and add the required constraints to the solver in the next cell."
   ]
  },
  {
   "cell_type": "code",
   "execution_count": 9,
   "metadata": {
    "collapsed": true
   },
   "outputs": [],
   "source": [
    "# TODO: add constraints to require adjacent regions to take distinct colors\n",
    "mc_solver.add(WA != NT)\n",
    "mc_solver.add(WA != SA)\n",
    "mc_solver.add(SA != NT)\n",
    "mc_solver.add(Q != NT)\n",
    "mc_solver.add(SA != Q)\n",
    "mc_solver.add(SA != NSW)\n",
    "mc_solver.add(SA != V)\n",
    "mc_solver.add(Q != NSW)\n",
    "mc_solver.add(NSW != V)"
   ]
  },
  {
   "cell_type": "code",
   "execution_count": 10,
   "metadata": {
    "collapsed": false
   },
   "outputs": [
    {
     "name": "stdout",
     "output_type": "stream",
     "text": [
      "WA=Red\n",
      "NT=Blue\n",
      "SA=Green\n",
      "Q=Red\n",
      "NSW=Blue\n",
      "V=Red\n",
      "T=Blue\n"
     ]
    }
   ],
   "source": [
    "assert mc_solver.check() == sat, \"Uh oh. The solver failed to find a solution. Check your constraints.\"\n",
    "print(\"WA={}\".format(colors[mc_solver.model()[WA].as_string()]))\n",
    "print(\"NT={}\".format(colors[mc_solver.model()[NT].as_string()]))\n",
    "print(\"SA={}\".format(colors[mc_solver.model()[SA].as_string()]))\n",
    "print(\"Q={}\".format(colors[mc_solver.model()[Q].as_string()]))\n",
    "print(\"NSW={}\".format(colors[mc_solver.model()[NSW].as_string()]))\n",
    "print(\"V={}\".format(colors[mc_solver.model()[V].as_string()]))\n",
    "print(\"T={}\".format(colors[mc_solver.model()[T].as_string()]))"
   ]
  },
  {
   "cell_type": "markdown",
   "metadata": {
    "collapsed": true
   },
   "source": [
    "#### Map Coloring Challenge Problems\n",
    "1. Generalize the procedure for this problem and try it on a larger map (countries in Africa, states in the USA, etc.)\n",
    "2. Extend your procedure to perform [graph coloring](https://en.wikipedia.org/wiki/Graph_coloring) (maps are planar graphs; extending to all graphs generalizes the concept of \"neighbors\" to any pair of connected nodes). (Note: graph coloring is [NP-hard](https://en.wikipedia.org/wiki/Graph_coloring#Computational_complexity), so it may take a very long time to color large graphs.)"
   ]
  },
  {
   "cell_type": "markdown",
   "metadata": {},
   "source": [
    "---\n",
    "## III. N-Queens\n",
    "\n",
    "In the next problem domain you'll solve the 8-queens puzzle, then use it to explore the complexity of solving CSPs. The 8-queens problem asks you to place 8 queens on a standard 8x8 chessboard such that none of the queens are in \"check\" (i.e., no two queens occupy the same row, column, or diagonal). The N-queens problem generalizes the puzzle to to any size square board.\n",
    "\n",
    "![The 8-queens problem is another classic CSP example](EightQueens.gif)\n",
    "\n",
    "There are many acceptable ways to represent the N-queens problem, but one convenient way is to recognize that one of the constraints (either the row or column constraint) can be enforced implicitly by the encoding.  If we represent a solution as an array with N elements, then each position in the array can represent a column of the board, and the value at each position can represent which row the queen is placed on.\n",
    "\n",
    "In this encoding, we only need a constraint to make sure that no two queens occupy the same row, and one to make sure that no two queens occupy the same diagonal.\n",
    "\n",
    "#### IMPLEMENTATION: N-Queens Solver\n",
    "Complete the function below to take an integer N >= 5 and return a Z3 solver instance with appropriate constraints to solve the N-Queens problem. NOTE: it may take a few minutes for the solver to complete the suggested sizes below."
   ]
  },
  {
   "cell_type": "code",
   "execution_count": 11,
   "metadata": {
    "collapsed": false
   },
   "outputs": [
    {
     "data": {
      "text/plain": [
       "[c0, c1, c2, c3, c4, c5, c6, c7]"
      ]
     },
     "execution_count": 11,
     "metadata": {},
     "output_type": "execute_result"
    }
   ],
   "source": [
    "N = 8\n",
    "cols = [Int('c' + str(i)) for i in range(N)]\n",
    "cols"
   ]
  },
  {
   "cell_type": "code",
   "execution_count": 12,
   "metadata": {
    "collapsed": false
   },
   "outputs": [
    {
     "data": {
      "text/plain": [
       "z3.z3.ArithRef"
      ]
     },
     "execution_count": 12,
     "metadata": {},
     "output_type": "execute_result"
    }
   ],
   "source": [
    "type(cols[0])"
   ]
  },
  {
   "cell_type": "code",
   "execution_count": 13,
   "metadata": {
    "collapsed": false
   },
   "outputs": [
    {
     "data": {
      "text/plain": [
       "[1, 2, 3, 4, 5, 6]"
      ]
     },
     "execution_count": 13,
     "metadata": {},
     "output_type": "execute_result"
    }
   ],
   "source": [
    "list(range(1,N-1))"
   ]
  },
  {
   "cell_type": "code",
   "execution_count": 14,
   "metadata": {
    "collapsed": true
   },
   "outputs": [],
   "source": [
    "def Abs(x):\n",
    "    return If(x >= 0, x, -x)\n",
    "\n",
    "def nqueens(N):\n",
    "    q_solver = Solver()\n",
    "    cols = [Int('c' + str(i)) for i in range(N)]  # In which column goes the queen for each row\n",
    "    for col in cols:\n",
    "        q_solver.add(0 <= col, col < N)\n",
    "    q_solver.add(Distinct(cols))\n",
    "    # Diagonals\n",
    "    for i in range(N):\n",
    "        for k in range(1, N-i):\n",
    "            q_solver.add(Abs(cols[i+k] - cols[i]) != k)\n",
    "    return q_solver"
   ]
  },
  {
   "cell_type": "code",
   "execution_count": 15,
   "metadata": {
    "collapsed": false
   },
   "outputs": [
    {
     "name": "stdout",
     "output_type": "stream",
     "text": [
      "8-queens: 15.72336000026553ms\n",
      "16-queens: 131.86332500117715ms\n",
      "32-queens: 2674.234804000662ms\n",
      "64-queens: 26475.73518900026ms\n"
     ]
    },
    {
     "data": {
      "text/plain": [
       "[<matplotlib.lines.Line2D at 0x7f6743683c50>]"
      ]
     },
     "execution_count": 15,
     "metadata": {},
     "output_type": "execute_result"
    },
    {
     "data": {
      "image/png": "[encoded data removed]",
      "text/plain": [
       "<matplotlib.figure.Figure at 0x7f6743683d30>"
      ]
     },
     "metadata": {},
     "output_type": "display_data"
    }
   ],
   "source": [
    "import time\n",
    "from itertools import chain\n",
    "\n",
    "runtimes = []\n",
    "solutions = []\n",
    "sizes = [8, 16, 32, 64]\n",
    "\n",
    "for N in sizes:\n",
    "    nq_solver = nqueens(N)\n",
    "    start = time.perf_counter()\n",
    "    assert nq_solver.check(), \"Uh oh...The solver failed to find a solution. Check your constraints.\"\n",
    "    end = time.perf_counter()\n",
    "    print(\"{}-queens: {}ms\".format(N, (end-start) * 1000))\n",
    "    runtimes.append((end - start) * 1000)\n",
    "    solutions.append(nq_solver)\n",
    "\n",
    "plt.plot(sizes, runtimes)"
   ]
  },
  {
   "cell_type": "markdown",
   "metadata": {},
   "source": [
    "### Queen Problem Challenges\n",
    "- Extend the loop to run several times and estimate the variance in the solver. How consistent is the solver timing between runs?\n",
    "- Read the `displayBoard()` function in the `util.py` module and use it to show your N-queens solution."
   ]
  },
  {
   "cell_type": "code",
   "execution_count": 16,
   "metadata": {
    "collapsed": true
   },
   "outputs": [],
   "source": [
    "N = 8\n",
    "cols = [Int('c' + str(i)) for i in range(N)]\n",
    "nq_solver = nqueens(N)\n",
    "assert nq_solver.check(), \"Uh oh...The solver failed to find a solution. Check your constraints.\""
   ]
  },
  {
   "cell_type": "code",
   "execution_count": 17,
   "metadata": {
    "collapsed": true
   },
   "outputs": [],
   "source": [
    "def print_line(q, N):\n",
    "    print('-  '*q + 'Q  ' + '-  '*(N-q-1))"
   ]
  },
  {
   "cell_type": "code",
   "execution_count": 18,
   "metadata": {
    "collapsed": false
   },
   "outputs": [
    {
     "name": "stdout",
     "output_type": "stream",
     "text": [
      "-  -  -  Q  -  -  -  -  \n"
     ]
    }
   ],
   "source": [
    "print_line(3,8)"
   ]
  },
  {
   "cell_type": "code",
   "execution_count": 19,
   "metadata": {
    "collapsed": false
   },
   "outputs": [],
   "source": [
    "def display(solver, cols):\n",
    "    for col in cols:\n",
    "        print_line(nq_solver.model()[col].as_long(), len(cols))"
   ]
  },
  {
   "cell_type": "code",
   "execution_count": 20,
   "metadata": {
    "collapsed": false
   },
   "outputs": [
    {
     "data": {
      "text/plain": [
       "int"
      ]
     },
     "execution_count": 20,
     "metadata": {},
     "output_type": "execute_result"
    }
   ],
   "source": [
    "type(nq_solver.model()[cols[0]].as_long())"
   ]
  },
  {
   "cell_type": "code",
   "execution_count": 21,
   "metadata": {
    "collapsed": false
   },
   "outputs": [
    {
     "name": "stdout",
     "output_type": "stream",
     "text": [
      "c0: 3\n",
      "c1: 1\n",
      "c2: 7\n",
      "c3: 5\n",
      "c4: 0\n",
      "c5: 2\n",
      "c6: 4\n",
      "c7: 6\n"
     ]
    }
   ],
   "source": [
    "for col in cols:\n",
    "        print('{}: {}'.format(col, nq_solver.model()[col].as_long()))"
   ]
  },
  {
   "cell_type": "code",
   "execution_count": 22,
   "metadata": {
    "collapsed": false
   },
   "outputs": [
    {
     "name": "stdout",
     "output_type": "stream",
     "text": [
      "-  -  -  Q  -  -  -  -  \n",
      "-  Q  -  -  -  -  -  -  \n",
      "-  -  -  -  -  -  -  Q  \n",
      "-  -  -  -  -  Q  -  -  \n",
      "Q  -  -  -  -  -  -  -  \n",
      "-  -  Q  -  -  -  -  -  \n",
      "-  -  -  -  Q  -  -  -  \n",
      "-  -  -  -  -  -  Q  -  \n"
     ]
    }
   ],
   "source": [
    "display(nq_solver, cols)"
   ]
  },
  {
   "cell_type": "code",
   "execution_count": 23,
   "metadata": {
    "collapsed": false
   },
   "outputs": [
    {
     "name": "stdout",
     "output_type": "stream",
     "text": [
      "-  Q  -  -  \n",
      "-  -  -  Q  \n",
      "Q  -  -  -  \n",
      "-  -  Q  -  \n"
     ]
    }
   ],
   "source": [
    "N = 4\n",
    "cols = [Int('c' + str(i)) for i in range(N)]\n",
    "nq_solver = nqueens(N)\n",
    "assert nq_solver.check(), \"Uh oh...The solver failed to find a solution. Check your constraints.\"\n",
    "display(nq_solver, cols)"
   ]
  },
  {
   "cell_type": "code",
   "execution_count": 24,
   "metadata": {
    "collapsed": false
   },
   "outputs": [
    {
     "name": "stdout",
     "output_type": "stream",
     "text": [
      "-  -  -  -  -  -  -  -  Q  -  -  -  -  -  -  -  \n",
      "-  -  -  Q  -  -  -  -  -  -  -  -  -  -  -  -  \n",
      "-  -  -  -  -  -  -  -  -  -  -  -  -  -  Q  -  \n",
      "-  -  -  -  -  -  -  -  -  -  -  -  Q  -  -  -  \n",
      "-  -  -  -  -  -  -  -  -  -  Q  -  -  -  -  -  \n",
      "-  Q  -  -  -  -  -  -  -  -  -  -  -  -  -  -  \n",
      "-  -  -  -  -  Q  -  -  -  -  -  -  -  -  -  -  \n",
      "Q  -  -  -  -  -  -  -  -  -  -  -  -  -  -  -  \n",
      "-  -  -  -  -  -  -  -  -  -  -  Q  -  -  -  -  \n",
      "-  -  -  -  -  -  -  -  -  -  -  -  -  Q  -  -  \n",
      "-  -  Q  -  -  -  -  -  -  -  -  -  -  -  -  -  \n",
      "-  -  -  -  -  -  Q  -  -  -  -  -  -  -  -  -  \n",
      "-  -  -  -  -  -  -  -  -  Q  -  -  -  -  -  -  \n",
      "-  -  -  -  -  -  -  Q  -  -  -  -  -  -  -  -  \n",
      "-  -  -  -  Q  -  -  -  -  -  -  -  -  -  -  -  \n",
      "-  -  -  -  -  -  -  -  -  -  -  -  -  -  -  Q  \n"
     ]
    }
   ],
   "source": [
    "N = 16\n",
    "cols = [Int('c' + str(i)) for i in range(N)]\n",
    "nq_solver = nqueens(N)\n",
    "assert nq_solver.check(), \"Uh oh...The solver failed to find a solution. Check your constraints.\"\n",
    "display(nq_solver, cols)"
   ]
  },
  {
   "cell_type": "code",
   "execution_count": 25,
   "metadata": {
    "collapsed": false
   },
   "outputs": [
    {
     "name": "stdout",
     "output_type": "stream",
     "text": [
      "-  -  -  -  -  -  -  -  -  -  -  -  -  -  -  -  -  -  -  -  -  -  -  -  -  -  -  -  -  Q  -  -  \n",
      "-  -  -  -  Q  -  -  -  -  -  -  -  -  -  -  -  -  -  -  -  -  -  -  -  -  -  -  -  -  -  -  -  \n",
      "-  -  -  -  -  -  -  -  -  -  -  -  -  -  -  -  -  -  Q  -  -  -  -  -  -  -  -  -  -  -  -  -  \n",
      "-  -  -  -  -  -  -  -  -  -  Q  -  -  -  -  -  -  -  -  -  -  -  -  -  -  -  -  -  -  -  -  -  \n",
      "-  -  -  -  -  -  -  -  -  -  -  -  -  -  -  -  -  -  -  -  -  -  -  Q  -  -  -  -  -  -  -  -  \n",
      "-  -  -  -  -  -  -  -  -  -  -  -  -  Q  -  -  -  -  -  -  -  -  -  -  -  -  -  -  -  -  -  -  \n",
      "-  -  -  -  -  -  -  -  -  -  -  -  -  -  -  -  Q  -  -  -  -  -  -  -  -  -  -  -  -  -  -  -  \n",
      "-  -  -  -  -  -  -  -  -  -  -  -  -  -  -  -  -  -  -  -  -  -  -  -  -  Q  -  -  -  -  -  -  \n",
      "-  -  -  -  -  -  -  -  -  -  -  -  -  -  -  -  -  Q  -  -  -  -  -  -  -  -  -  -  -  -  -  -  \n",
      "-  -  -  -  -  -  -  -  -  -  -  -  -  -  -  -  -  -  -  -  -  -  -  -  -  -  Q  -  -  -  -  -  \n",
      "-  -  Q  -  -  -  -  -  -  -  -  -  -  -  -  -  -  -  -  -  -  -  -  -  -  -  -  -  -  -  -  -  \n",
      "-  -  -  -  -  Q  -  -  -  -  -  -  -  -  -  -  -  -  -  -  -  -  -  -  -  -  -  -  -  -  -  -  \n",
      "-  -  -  -  -  -  -  -  -  Q  -  -  -  -  -  -  -  -  -  -  -  -  -  -  -  -  -  -  -  -  -  -  \n",
      "-  -  -  -  -  -  -  -  -  -  -  -  -  -  -  -  -  -  -  -  -  -  -  -  Q  -  -  -  -  -  -  -  \n",
      "-  Q  -  -  -  -  -  -  -  -  -  -  -  -  -  -  -  -  -  -  -  -  -  -  -  -  -  -  -  -  -  -  \n",
      "-  -  -  -  -  -  -  -  -  -  -  Q  -  -  -  -  -  -  -  -  -  -  -  -  -  -  -  -  -  -  -  -  \n",
      "-  -  -  -  -  -  -  -  -  -  -  -  -  -  -  -  -  -  -  -  -  -  -  -  -  -  -  -  Q  -  -  -  \n",
      "-  -  -  -  -  -  -  -  -  -  -  -  -  -  -  -  -  -  -  Q  -  -  -  -  -  -  -  -  -  -  -  -  \n",
      "-  -  -  -  -  -  -  -  -  -  -  -  -  -  -  -  -  -  -  -  -  -  Q  -  -  -  -  -  -  -  -  -  \n",
      "Q  -  -  -  -  -  -  -  -  -  -  -  -  -  -  -  -  -  -  -  -  -  -  -  -  -  -  -  -  -  -  -  \n",
      "-  -  -  Q  -  -  -  -  -  -  -  -  -  -  -  -  -  -  -  -  -  -  -  -  -  -  -  -  -  -  -  -  \n",
      "-  -  -  -  -  -  -  -  -  -  -  -  -  -  -  -  -  -  -  -  -  -  -  -  -  -  -  Q  -  -  -  -  \n",
      "-  -  -  -  -  -  Q  -  -  -  -  -  -  -  -  -  -  -  -  -  -  -  -  -  -  -  -  -  -  -  -  -  \n",
      "-  -  -  -  -  -  -  -  Q  -  -  -  -  -  -  -  -  -  -  -  -  -  -  -  -  -  -  -  -  -  -  -  \n",
      "-  -  -  -  -  -  -  -  -  -  -  -  -  -  Q  -  -  -  -  -  -  -  -  -  -  -  -  -  -  -  -  -  \n",
      "-  -  -  -  -  -  -  -  -  -  -  -  -  -  -  -  -  -  -  -  Q  -  -  -  -  -  -  -  -  -  -  -  \n",
      "-  -  -  -  -  -  -  -  -  -  -  -  -  -  -  Q  -  -  -  -  -  -  -  -  -  -  -  -  -  -  -  -  \n",
      "-  -  -  -  -  -  -  Q  -  -  -  -  -  -  -  -  -  -  -  -  -  -  -  -  -  -  -  -  -  -  -  -  \n",
      "-  -  -  -  -  -  -  -  -  -  -  -  -  -  -  -  -  -  -  -  -  Q  -  -  -  -  -  -  -  -  -  -  \n",
      "-  -  -  -  -  -  -  -  -  -  -  -  -  -  -  -  -  -  -  -  -  -  -  -  -  -  -  -  -  -  Q  -  \n",
      "-  -  -  -  -  -  -  -  -  -  -  -  Q  -  -  -  -  -  -  -  -  -  -  -  -  -  -  -  -  -  -  -  \n",
      "-  -  -  -  -  -  -  -  -  -  -  -  -  -  -  -  -  -  -  -  -  -  -  -  -  -  -  -  -  -  -  Q  \n"
     ]
    }
   ],
   "source": [
    "N = 32\n",
    "cols = [Int('c' + str(i)) for i in range(N)]\n",
    "nq_solver = nqueens(N)\n",
    "assert nq_solver.check(), \"Uh oh...The solver failed to find a solution. Check your constraints.\"\n",
    "display(nq_solver, cols)"
   ]
  },
  {
   "cell_type": "markdown",
   "metadata": {},
   "source": [
    "---\n",
    "## IV. Revisiting Sudoku\n",
    "For the last CSP we'll revisit Sudoku from the first project. You previously solved Sudoku using backtracking search with constraint propagation. This time you'll re-write your solver using Z3. The backtracking search solver relied on domain-specific heuristics to select assignments during search, and to apply constraint propagation strategies (like elimination, only-choice, naked twins, etc.). The Z3 solver does not incorporate any domain-specific information, but makes up for that by incorporating a more sophisticated and a compiled solver routine.\n",
    "\n",
    "![Example of an easy sudoku puzzle](sudoku.png)"
   ]
  },
  {
   "cell_type": "markdown",
   "metadata": {},
   "source": [
    "#### IMPLEMENTATION: General Constraints\n",
    "Add constraints for each of the following conditions:\n",
    "- Boxes can only have values between 1-9 (inclusive)\n",
    "- Each box in a row must have a distinct value\n",
    "- Each box in a column must have a distinct value\n",
    "- Each box in a 3x3 block must have a distinct value"
   ]
  },
  {
   "cell_type": "markdown",
   "metadata": {},
   "source": [
    "## First, some scratchpad coding"
   ]
  },
  {
   "cell_type": "code",
   "execution_count": 107,
   "metadata": {
    "collapsed": false
   },
   "outputs": [
    {
     "data": {
      "text/plain": [
       "[[A1, A2, A3, A4, A5, A6, A7, A8, A9],\n",
       " [B1, B2, B3, B4, B5, B6, B7, B8, B9],\n",
       " [C1, C2, C3, C4, C5, C6, C7, C8, C9],\n",
       " [D1, D2, D3, D4, D5, D6, D7, D8, D9],\n",
       " [E1, E2, E3, E4, E5, E6, E7, E8, E9],\n",
       " [F1, F2, F3, F4, F5, F6, F7, F8, F9],\n",
       " [G1, G2, G3, G4, G5, G6, G7, G8, G9],\n",
       " [H1, H2, H3, H4, H5, H6, H7, H8, H9],\n",
       " [I1, I2, I3, I4, I5, I6, I7, I8, I9]]"
      ]
     },
     "execution_count": 107,
     "metadata": {},
     "output_type": "execute_result"
    }
   ],
   "source": [
    "boxes"
   ]
  },
  {
   "cell_type": "code",
   "execution_count": 116,
   "metadata": {
    "collapsed": false
   },
   "outputs": [
    {
     "name": "stdout",
     "output_type": "stream",
     "text": [
      "[A1, A2, A3, A4, A5, A6, A7, A8, A9, B1, B2, B3, B4, B5, B6, B7, B8, B9, C1, C2, C3, C4, C5, C6, C7, C8, C9, D1, D2, D3, D4, D5, D6, D7, D8, D9, E1, E2, E3, E4, E5, E6, E7, E8, E9, F1, F2, F3, F4, F5, F6, F7, F8, F9, G1, G2, G3, G4, G5, G6, G7, G8, G9, H1, H2, H3, H4, H5, H6, H7, H8, H9, I1, I2, I3, I4, I5, I6, I7, I8, I9]\n"
     ]
    }
   ],
   "source": [
    "print(list(chain(*boxes)))"
   ]
  },
  {
   "cell_type": "code",
   "execution_count": 124,
   "metadata": {
    "collapsed": false
   },
   "outputs": [
    {
     "data": {
      "text/plain": [
       "[[A1, B1, C1, D1, E1, F1, G1, H1, I1],\n",
       " [A2, B2, C2, D2, E2, F2, G2, H2, I2],\n",
       " [A3, B3, C3, D3, E3, F3, G3, H3, I3],\n",
       " [A4, B4, C4, D4, E4, F4, G4, H4, I4],\n",
       " [A5, B5, C5, D5, E5, F5, G5, H5, I5],\n",
       " [A6, B6, C6, D6, E6, F6, G6, H6, I6],\n",
       " [A7, B7, C7, D7, E7, F7, G7, H7, I7],\n",
       " [A8, B8, C8, D8, E8, F8, G8, H8, I8],\n",
       " [A9, B9, C9, D9, E9, F9, G9, H9, I9]]"
      ]
     },
     "execution_count": 124,
     "metadata": {},
     "output_type": "execute_result"
    }
   ],
   "source": [
    "cols = [list(col) for col in zip(*boxes)]\n",
    "cols"
   ]
  },
  {
   "cell_type": "code",
   "execution_count": 134,
   "metadata": {
    "collapsed": false
   },
   "outputs": [
    {
     "data": {
      "text/plain": [
       "[([0, 1, 2], [0, 1, 2]),\n",
       " ([0, 1, 2], [3, 4, 5]),\n",
       " ([0, 1, 2], [6, 7, 8]),\n",
       " ([3, 4, 5], [0, 1, 2]),\n",
       " ([3, 4, 5], [3, 4, 5]),\n",
       " ([3, 4, 5], [6, 7, 8]),\n",
       " ([6, 7, 8], [0, 1, 2]),\n",
       " ([6, 7, 8], [3, 4, 5]),\n",
       " ([6, 7, 8], [6, 7, 8])]"
      ]
     },
     "execution_count": 134,
     "metadata": {},
     "output_type": "execute_result"
    }
   ],
   "source": [
    "from itertools import product\n",
    "groups_1d = [[0, 1, 2], [3, 4, 5], [6, 7, 8]]\n",
    "groups_2d = list(product(groups_1d, groups_1d))\n",
    "groups_2d"
   ]
  },
  {
   "cell_type": "code",
   "execution_count": 135,
   "metadata": {
    "collapsed": false
   },
   "outputs": [
    {
     "data": {
      "text/plain": [
       "([3, 4, 5], [3, 4, 5])"
      ]
     },
     "execution_count": 135,
     "metadata": {},
     "output_type": "execute_result"
    }
   ],
   "source": [
    "groups_2d[4]"
   ]
  },
  {
   "cell_type": "code",
   "execution_count": 37,
   "metadata": {
    "collapsed": false
   },
   "outputs": [
    {
     "data": {
      "text/plain": [
       "[[A1, A2, A3, B1, B2, B3, C1, C2, C3],\n",
       " [A4, A5, A6, B4, B5, B6, C4, C5, C6],\n",
       " [A7, A8, A9, B7, B8, B9, C7, C8, C9],\n",
       " [D1, D2, D3, E1, E2, E3, F1, F2, F3],\n",
       " [D4, D5, D6, E4, E5, E6, F4, F5, F6],\n",
       " [D7, D8, D9, E7, E8, E9, F7, F8, F9],\n",
       " [G1, G2, G3, H1, H2, H3, I1, I2, I3],\n",
       " [G4, G5, G6, H4, H5, H6, I4, I5, I6],\n",
       " [G7, G8, G9, H7, H8, H9, I7, I8, I9]]"
      ]
     },
     "execution_count": 37,
     "metadata": {},
     "output_type": "execute_result"
    }
   ],
   "source": [
    "blocks = [[boxes[row][col] for row in group[0] for col in group[1]] for group in groups_2d]\n",
    "blocks"
   ]
  },
  {
   "cell_type": "code",
   "execution_count": 39,
   "metadata": {
    "collapsed": false
   },
   "outputs": [
    {
     "data": {
      "text/plain": [
       "<bound method Solver.assertions of [Distinct(A1, A2, A3, A4, A5, A6, A7, A8, A9),\n",
       " Distinct(B1, B2, B3, B4, B5, B6, B7, B8, B9),\n",
       " Distinct(C1, C2, C3, C4, C5, C6, C7, C8, C9),\n",
       " Distinct(D1, D2, D3, D4, D5, D6, D7, D8, D9),\n",
       " Distinct(E1, E2, E3, E4, E5, E6, E7, E8, E9),\n",
       " Distinct(F1, F2, F3, F4, F5, F6, F7, F8, F9),\n",
       " Distinct(G1, G2, G3, G4, G5, G6, G7, G8, G9),\n",
       " Distinct(H1, H2, H3, H4, H5, H6, H7, H8, H9),\n",
       " Distinct(I1, I2, I3, I4, I5, I6, I7, I8, I9)]>"
      ]
     },
     "execution_count": 39,
     "metadata": {},
     "output_type": "execute_result"
    }
   ],
   "source": [
    "from itertools import chain  # flatten nested lists; chain(*[[a, b], [c, d], ...]) == [a, b, c, d, ...]\n",
    "rows = 'ABCDEFGHI'\n",
    "cols = '123456789'\n",
    "boxes = [[Int(\"{}{}\".format(r, c)) for c in cols] for r in rows]  # declare variables for each box in the puzzle\n",
    "s_solver = Solver()  # create a solver instance\n",
    "for row in boxes:\n",
    "    s_solver.add(Distinct(row))\n",
    "s_solver.assertions"
   ]
  },
  {
   "cell_type": "code",
   "execution_count": 40,
   "metadata": {
    "collapsed": false
   },
   "outputs": [
    {
     "data": {
      "text/plain": [
       "<bound method Solver.assertions of [Distinct(A1, B1, C1, D1, E1, F1, G1, H1, I1),\n",
       " Distinct(A2, B2, C2, D2, E2, F2, G2, H2, I2),\n",
       " Distinct(A3, B3, C3, D3, E3, F3, G3, H3, I3),\n",
       " Distinct(A4, B4, C4, D4, E4, F4, G4, H4, I4),\n",
       " Distinct(A5, B5, C5, D5, E5, F5, G5, H5, I5),\n",
       " Distinct(A6, B6, C6, D6, E6, F6, G6, H6, I6),\n",
       " Distinct(A7, B7, C7, D7, E7, F7, G7, H7, I7),\n",
       " Distinct(A8, B8, C8, D8, E8, F8, G8, H8, I8),\n",
       " Distinct(A9, B9, C9, D9, E9, F9, G9, H9, I9)]>"
      ]
     },
     "execution_count": 40,
     "metadata": {},
     "output_type": "execute_result"
    }
   ],
   "source": [
    "from itertools import chain, product  # flatten nested lists; chain(*[[a, b], [c, d], ...]) == [a, b, c, d, ...]\n",
    "rows = 'ABCDEFGHI'\n",
    "cols = '123456789'\n",
    "boxes = [[Int(\"{}{}\".format(r, c)) for c in cols] for r in rows]  # declare variables for each box in the puzzle\n",
    "s_solver = Solver()  # create a solver instance\n",
    "cols = [list(col) for col in zip(*boxes)]\n",
    "for col in cols:\n",
    "    s_solver.add(Distinct(col))\n",
    "s_solver.assertions"
   ]
  },
  {
   "cell_type": "code",
   "execution_count": 41,
   "metadata": {
    "collapsed": false
   },
   "outputs": [
    {
     "data": {
      "text/plain": [
       "<bound method Solver.assertions of [Distinct(A1, A2, A3, B1, B2, B3, C1, C2, C3),\n",
       " Distinct(A4, A5, A6, B4, B5, B6, C4, C5, C6),\n",
       " Distinct(A7, A8, A9, B7, B8, B9, C7, C8, C9),\n",
       " Distinct(D1, D2, D3, E1, E2, E3, F1, F2, F3),\n",
       " Distinct(D4, D5, D6, E4, E5, E6, F4, F5, F6),\n",
       " Distinct(D7, D8, D9, E7, E8, E9, F7, F8, F9),\n",
       " Distinct(G1, G2, G3, H1, H2, H3, I1, I2, I3),\n",
       " Distinct(G4, G5, G6, H4, H5, H6, I4, I5, I6),\n",
       " Distinct(G7, G8, G9, H7, H8, H9, I7, I8, I9)]>"
      ]
     },
     "execution_count": 41,
     "metadata": {},
     "output_type": "execute_result"
    }
   ],
   "source": [
    "from itertools import chain, product  # flatten nested lists; chain(*[[a, b], [c, d], ...]) == [a, b, c, d, ...]\n",
    "rows = 'ABCDEFGHI'\n",
    "cols = '123456789'\n",
    "boxes = [[Int(\"{}{}\".format(r, c)) for c in cols] for r in rows]  # declare variables for each box in the puzzle\n",
    "s_solver = Solver()  # create a solver instance\n",
    "groups_1d = [[0, 1, 2], [3, 4, 5], [6, 7, 8]]\n",
    "groups_2d = list(product(groups_1d, groups_1d))\n",
    "blocks = [[boxes[row][col] for row in group[0] for col in group[1]] for group in groups_2d]\n",
    "for block in blocks:\n",
    "    s_solver.add(Distinct(block))\n",
    "s_solver.assertions"
   ]
  },
  {
   "cell_type": "code",
   "execution_count": 49,
   "metadata": {
    "collapsed": false
   },
   "outputs": [
    {
     "name": "stdout",
     "output_type": "stream",
     "text": [
      "box: A1, value: 0\n",
      "box: A2, value: 0\n",
      "box: A3, value: 3\n",
      "box: A4, value: 0\n",
      "box: A5, value: 2\n",
      "box: A6, value: 0\n",
      "box: A7, value: 6\n",
      "box: A8, value: 0\n",
      "box: A9, value: 0\n",
      "box: B1, value: 9\n",
      "box: B2, value: 0\n",
      "box: B3, value: 0\n",
      "box: B4, value: 3\n",
      "box: B5, value: 0\n",
      "box: B6, value: 5\n",
      "box: B7, value: 0\n",
      "box: B8, value: 0\n",
      "box: B9, value: 1\n",
      "box: C1, value: 0\n",
      "box: C2, value: 0\n",
      "box: C3, value: 1\n",
      "box: C4, value: 8\n",
      "box: C5, value: 0\n",
      "box: C6, value: 6\n",
      "box: C7, value: 4\n",
      "box: C8, value: 0\n",
      "box: C9, value: 0\n",
      "box: D1, value: 0\n",
      "box: D2, value: 0\n",
      "box: D3, value: 8\n",
      "box: D4, value: 1\n",
      "box: D5, value: 0\n",
      "box: D6, value: 2\n",
      "box: D7, value: 9\n",
      "box: D8, value: 0\n",
      "box: D9, value: 0\n",
      "box: E1, value: 7\n",
      "box: E2, value: 0\n",
      "box: E3, value: 0\n",
      "box: E4, value: 0\n",
      "box: E5, value: 0\n",
      "box: E6, value: 0\n",
      "box: E7, value: 0\n",
      "box: E8, value: 0\n",
      "box: E9, value: 8\n",
      "box: F1, value: 0\n",
      "box: F2, value: 0\n",
      "box: F3, value: 6\n",
      "box: F4, value: 7\n",
      "box: F5, value: 0\n",
      "box: F6, value: 8\n",
      "box: F7, value: 2\n",
      "box: F8, value: 0\n",
      "box: F9, value: 0\n",
      "box: G1, value: 0\n",
      "box: G2, value: 0\n",
      "box: G3, value: 2\n",
      "box: G4, value: 6\n",
      "box: G5, value: 0\n",
      "box: G6, value: 9\n",
      "box: G7, value: 5\n",
      "box: G8, value: 0\n",
      "box: G9, value: 0\n",
      "box: H1, value: 8\n",
      "box: H2, value: 0\n",
      "box: H3, value: 0\n",
      "box: H4, value: 2\n",
      "box: H5, value: 0\n",
      "box: H6, value: 3\n",
      "box: H7, value: 0\n",
      "box: H8, value: 0\n",
      "box: H9, value: 9\n",
      "box: I1, value: 0\n",
      "box: I2, value: 0\n",
      "box: I3, value: 5\n",
      "box: I4, value: 0\n",
      "box: I5, value: 1\n",
      "box: I6, value: 0\n",
      "box: I7, value: 3\n",
      "box: I8, value: 0\n",
      "box: I9, value: 0\n"
     ]
    },
    {
     "data": {
      "text/plain": [
       "<bound method Solver.assertions of [A3 == 3,\n",
       " A5 == 2,\n",
       " A7 == 6,\n",
       " B1 == 9,\n",
       " B4 == 3,\n",
       " B6 == 5,\n",
       " B9 == 1,\n",
       " C3 == 1,\n",
       " C4 == 8,\n",
       " C6 == 6,\n",
       " C7 == 4,\n",
       " D3 == 8,\n",
       " D4 == 1,\n",
       " D6 == 2,\n",
       " D7 == 9,\n",
       " E1 == 7,\n",
       " E9 == 8,\n",
       " F3 == 6,\n",
       " F4 == 7,\n",
       " F6 == 8,\n",
       " F7 == 2,\n",
       " G3 == 2,\n",
       " G4 == 6,\n",
       " G6 == 9,\n",
       " G7 == 5,\n",
       " H1 == 8,\n",
       " H4 == 2,\n",
       " H6 == 3,\n",
       " H9 == 9,\n",
       " I3 == 5,\n",
       " I5 == 1,\n",
       " I7 == 3]>"
      ]
     },
     "execution_count": 49,
     "metadata": {},
     "output_type": "execute_result"
    }
   ],
   "source": [
    "from itertools import chain, product  # flatten nested lists; chain(*[[a, b], [c, d], ...]) == [a, b, c, d, ...]\n",
    "rows = 'ABCDEFGHI'\n",
    "cols = '123456789'\n",
    "boxes = [[Int(\"{}{}\".format(r, c)) for c in cols] for r in rows]  # declare variables for each box in the puzzle\n",
    "s_solver = Solver()  # create a solver instance\n",
    "\n",
    "# use the value 0 to indicate that a box does not have an assigned value\n",
    "board = ((0, 0, 3, 0, 2, 0, 6, 0, 0),\n",
    "         (9, 0, 0, 3, 0, 5, 0, 0, 1),\n",
    "         (0, 0, 1, 8, 0, 6, 4, 0, 0),\n",
    "         (0, 0, 8, 1, 0, 2, 9, 0, 0),\n",
    "         (7, 0, 0, 0, 0, 0, 0, 0, 8),\n",
    "         (0, 0, 6, 7, 0, 8, 2, 0, 0),\n",
    "         (0, 0, 2, 6, 0, 9, 5, 0, 0),\n",
    "         (8, 0, 0, 2, 0, 3, 0, 0, 9),\n",
    "         (0, 0, 5, 0, 1, 0, 3, 0, 0))\n",
    "\n",
    "# TODO: Add constraints boxes[i][j] == board[i][j] for each box where board[i][j] != 0\n",
    "for box, value in zip(chain(*boxes), chain(*board)):\n",
    "    print('box: {}, value: {}'.format(box, value))\n",
    "    if value != 0:\n",
    "        s_solver.add(box == value)\n",
    "s_solver.assertions"
   ]
  },
  {
   "cell_type": "markdown",
   "metadata": {},
   "source": [
    "## The real solution"
   ]
  },
  {
   "cell_type": "code",
   "execution_count": 45,
   "metadata": {
    "collapsed": true
   },
   "outputs": [],
   "source": [
    "from itertools import chain  # flatten nested lists; chain(*[[a, b], [c, d], ...]) == [a, b, c, d, ...]\n",
    "rows = 'ABCDEFGHI'\n",
    "cols = '123456789'\n",
    "boxes = [[Int(\"{}{}\".format(r, c)) for c in cols] for r in rows]  # declare variables for each box in the puzzle\n",
    "s_solver = Solver()  # create a solver instance"
   ]
  },
  {
   "cell_type": "code",
   "execution_count": 46,
   "metadata": {
    "collapsed": true
   },
   "outputs": [],
   "source": [
    "from itertools import product\n",
    "\n",
    "# TODO: Add constraints that every box has a value between 1-9 (inclusive)\n",
    "for box in chain(*boxes):\n",
    "    s_solver.add(1 <= box, box <= 9)\n",
    "\n",
    "# TODO: Add constraints that every box in a row has a distinct value\n",
    "for row in boxes:\n",
    "    s_solver.add(Distinct(row))\n",
    "\n",
    "# TODO: Add constraints that every box in a column has a distinct value\n",
    "cols = [list(col) for col in zip(*boxes)]\n",
    "for col in cols:\n",
    "    s_solver.add(Distinct(col))\n",
    "\n",
    "# TODO: Add constraints so that every box in a 3x3 block has a distinct value\n",
    "groups_1d = [[0, 1, 2], [3, 4, 5], [6, 7, 8]]\n",
    "groups_2d = list(product(groups_1d, groups_1d))\n",
    "blocks = [[boxes[row][col] for row in group[0] for col in group[1]] for group in groups_2d]\n",
    "for block in blocks:\n",
    "    s_solver.add(Distinct(block))"
   ]
  },
  {
   "cell_type": "markdown",
   "metadata": {},
   "source": [
    "#### IMPLMENTATION: Puzzle-Specific Constraints\n",
    "Given the hints provided in the initial puzzle layout, you must also add constraints binding the box values to the specified values. For example, to solve the example puzzle you must specify A3 == 3 and B1 == 9, etc. The cells with a value of zero in the board below are \"blank\", so you should **not** create any constraint with the associate box."
   ]
  },
  {
   "cell_type": "code",
   "execution_count": 47,
   "metadata": {
    "collapsed": true
   },
   "outputs": [],
   "source": [
    "# use the value 0 to indicate that a box does not have an assigned value\n",
    "board = ((0, 0, 3, 0, 2, 0, 6, 0, 0),\n",
    "         (9, 0, 0, 3, 0, 5, 0, 0, 1),\n",
    "         (0, 0, 1, 8, 0, 6, 4, 0, 0),\n",
    "         (0, 0, 8, 1, 0, 2, 9, 0, 0),\n",
    "         (7, 0, 0, 0, 0, 0, 0, 0, 8),\n",
    "         (0, 0, 6, 7, 0, 8, 2, 0, 0),\n",
    "         (0, 0, 2, 6, 0, 9, 5, 0, 0),\n",
    "         (8, 0, 0, 2, 0, 3, 0, 0, 9),\n",
    "         (0, 0, 5, 0, 1, 0, 3, 0, 0))\n",
    "\n",
    "# TODO: Add constraints boxes[i][j] == board[i][j] for each box where board[i][j] != 0\n",
    "for box, value in zip(chain(*boxes), chain(*board)):\n",
    "    if value != 0:\n",
    "        s_solver.add(box == value)"
   ]
  },
  {
   "cell_type": "code",
   "execution_count": 48,
   "metadata": {
    "collapsed": false
   },
   "outputs": [
    {
     "name": "stdout",
     "output_type": "stream",
     "text": [
      " 4  8  3 | 9  2  1 | 6  5  7 \n",
      " 9  6  7 | 3  4  5 | 8  2  1 \n",
      " 2  5  1 | 8  7  6 | 4  9  3 \n",
      "---------|---------|---------\n",
      " 5  4  8 | 1  3  2 | 9  7  6 \n",
      " 7  2  9 | 5  6  4 | 1  3  8 \n",
      " 1  3  6 | 7  9  8 | 2  4  5 \n",
      "---------|---------|---------\n",
      " 3  7  2 | 6  8  9 | 5  1  4 \n",
      " 8  1  4 | 2  5  3 | 7  6  9 \n",
      " 6  9  5 | 4  1  7 | 3  8  2 \n"
     ]
    }
   ],
   "source": [
    "assert s_solver.check() == sat, \"Uh oh. The solver didn't find a solution. Check your constraints.\"\n",
    "for row, _boxes in enumerate(boxes):\n",
    "    if row and row % 3 == 0:\n",
    "        print('-'*9+\"|\"+'-'*9+\"|\"+'-'*9)\n",
    "    for col, box in enumerate(_boxes):\n",
    "        if col and col % 3 == 0:\n",
    "            print('|', end='')\n",
    "        print(' {} '.format(s_solver.model()[box]), end='')\n",
    "    print()"
   ]
  },
  {
   "cell_type": "markdown",
   "metadata": {},
   "source": [
    "#### Sudoku Challenges\n",
    "1. Solve the \"[hardest sudoku puzzle](# https://www.telegraph.co.uk/news/science/science-news/9359579/Worlds-hardest-sudoku-can-you-crack-it.html)\"\n",
    "2. Search for \"3d Sudoku rules\", then extend your solver to handle 3d puzzles"
   ]
  },
  {
   "cell_type": "markdown",
   "metadata": {},
   "source": [
    "## The hardest sudoku puzzle"
   ]
  },
  {
   "cell_type": "code",
   "execution_count": 50,
   "metadata": {
    "collapsed": false
   },
   "outputs": [
    {
     "name": "stdout",
     "output_type": "stream",
     "text": [
      " 8  1  2 | 7  5  3 | 6  4  9 \n",
      " 9  4  3 | 6  8  2 | 1  7  5 \n",
      " 6  7  5 | 4  9  1 | 2  8  3 \n",
      "---------|---------|---------\n",
      " 1  5  4 | 2  3  7 | 8  9  6 \n",
      " 3  6  9 | 8  4  5 | 7  2  1 \n",
      " 2  8  7 | 1  6  9 | 5  3  4 \n",
      "---------|---------|---------\n",
      " 5  2  1 | 9  7  4 | 3  6  8 \n",
      " 4  3  8 | 5  2  6 | 9  1  7 \n",
      " 7  9  6 | 3  1  8 | 4  5  2 \n"
     ]
    }
   ],
   "source": [
    "from itertools import chain  # flatten nested lists; chain(*[[a, b], [c, d], ...]) == [a, b, c, d, ...]\n",
    "rows = 'ABCDEFGHI'\n",
    "cols = '123456789'\n",
    "boxes = [[Int(\"{}{}\".format(r, c)) for c in cols] for r in rows]  # declare variables for each box in the puzzle\n",
    "s_solver = Solver()  # create a solver instance\n",
    "\n",
    "from itertools import product\n",
    "\n",
    "# TODO: Add constraints that every box has a value between 1-9 (inclusive)\n",
    "for box in chain(*boxes):\n",
    "    s_solver.add(1 <= box, box <= 9)\n",
    "\n",
    "# TODO: Add constraints that every box in a row has a distinct value\n",
    "for row in boxes:\n",
    "    s_solver.add(Distinct(row))\n",
    "\n",
    "# TODO: Add constraints that every box in a column has a distinct value\n",
    "cols = [list(col) for col in zip(*boxes)]\n",
    "for col in cols:\n",
    "    s_solver.add(Distinct(col))\n",
    "\n",
    "# TODO: Add constraints so that every box in a 3x3 block has a distinct value\n",
    "groups_1d = [[0, 1, 2], [3, 4, 5], [6, 7, 8]]\n",
    "groups_2d = list(product(groups_1d, groups_1d))\n",
    "blocks = [[boxes[row][col] for row in group[0] for col in group[1]] for group in groups_2d]\n",
    "for block in blocks:\n",
    "    s_solver.add(Distinct(block))\n",
    "\n",
    "# use the value 0 to indicate that a box does not have an assigned value\n",
    "board = ((8, 0, 0, 0, 0, 0, 0, 0, 0),\n",
    "         (0, 0, 3, 6, 0, 0, 0, 0, 0),\n",
    "         (0, 7, 0, 0, 9, 0, 2, 0, 0),\n",
    "         (0, 5, 0, 0, 0, 7, 0, 0, 0),\n",
    "         (0, 0, 0, 0, 4, 5, 7, 0, 0),\n",
    "         (0, 0, 0, 1, 0, 0, 0, 3, 0),\n",
    "         (0, 0, 1, 0, 0, 0, 0, 6, 8),\n",
    "         (0, 0, 8, 5, 0, 0, 0, 1, 0),\n",
    "         (0, 9, 0, 0, 0, 0, 4, 0, 0))\n",
    "\n",
    "# TODO: Add constraints boxes[i][j] == board[i][j] for each box where board[i][j] != 0\n",
    "for box, value in zip(chain(*boxes), chain(*board)):\n",
    "    if value != 0:\n",
    "        s_solver.add(box == value)\n",
    "\n",
    "assert s_solver.check() == sat, \"Uh oh. The solver didn't find a solution. Check your constraints.\"\n",
    "for row, _boxes in enumerate(boxes):\n",
    "    if row and row % 3 == 0:\n",
    "        print('-'*9+\"|\"+'-'*9+\"|\"+'-'*9)\n",
    "    for col, box in enumerate(_boxes):\n",
    "        if col and col % 3 == 0:\n",
    "            print('|', end='')\n",
    "        print(' {} '.format(s_solver.model()[box]), end='')\n",
    "    print()"
   ]
  },
  {
   "cell_type": "code",
   "execution_count": null,
   "metadata": {
    "collapsed": true
   },
   "outputs": [],
   "source": []
  }
 ],
 "metadata": {
  "anaconda-cloud": {},
  "kernelspec": {
   "display_name": "aind",
   "language": "python",
   "name": "aind"
  },
  "language_info": {
   "codemirror_mode": {
    "name": "ipython",
    "version": 3
   },
   "file_extension": ".py",
   "mimetype": "text/x-python",
   "name": "python",
   "nbconvert_exporter": "python",
   "pygments_lexer": "ipython3",
   "version": "3.5.4"
  }
 },
 "nbformat": 4,
 "nbformat_minor": 1
}
